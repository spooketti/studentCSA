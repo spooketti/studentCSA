{
 "cells": [
  {
   "cell_type": "markdown",
   "metadata": {},
   "source": [
    "---\n",
    "title: Wine Homework\n",
    "comments: true\n",
    "layout: post\n",
    "toc: true\n",
    "description: csa's almost over\n",
    "type: ccc\n",
    "courses: { csa: {week: 37} }\n",
    "permalink: /skibidiaadithw\n",
    "---"
   ]
  },
  {
   "cell_type": "markdown",
   "metadata": {},
   "source": [
    "# Wine Quality Analysis - Homework Assignment 🍷📊\n",
    "\n",
    "In this homework, you'll analyze wine quality data and build machine learning models. You'll use Tablesaw for data analysis and both SMILE and Weka for machine learning.\n",
    "\n",
    "## Learning Objectives\n",
    "- Load and explore wine quality datasets\n",
    "- Create visualizations to understand data patterns\n",
    "- Build and compare machine learning models\n",
    "- Make predictions on wine quality\n",
    "\n",
    "## Setup\n",
    "Make sure you have the wine dataset at `~/wine-dataset/WineQT.csv`"
   ]
  },
  {
   "cell_type": "code",
   "execution_count": null,
   "metadata": {
    "vscode": {
     "languageId": "java"
    }
   },
   "outputs": [],
   "source": [
    "// Dependencies\n",
    "%maven tech.tablesaw:tablesaw-core:0.43.1\n",
    "%maven tech.tablesaw:tablesaw-jsplot:0.43.1\n",
    "%maven com.github.haifengl:smile-core:3.0.1\n",
    "%maven com.github.haifengl:smile-data:2.6.0\n",
    "%maven nz.ac.waikato.cms.weka:weka-stable:3.8.6\n",
    "\n",
    "// Imports\n",
    "import tech.tablesaw.api.*;\n",
    "import tech.tablesaw.io.csv.CsvReadOptions;\n",
    "import tech.tablesaw.plotly.api.*;\n",
    "import tech.tablesaw.plotly.components.Figure;\n",
    "import tech.tablesaw.aggregate.AggregateFunctions;\n",
    "import smile.classification.*;\n",
    "import smile.data.*;\n",
    "import smile.data.formula.Formula;\n",
    "import smile.data.vector.IntVector;\n",
    "import smile.math.MathEx;\n",
    "import smile.validation.metric.Accuracy;\n",
    "import weka.core.*;\n",
    "import weka.classifiers.trees.RandomForest;\n",
    "import weka.classifiers.Evaluation;\n",
    "import java.util.ArrayList;\n",
    "import java.util.stream.IntStream;\n",
    "import java.util.Arrays;\n",
    "\n",
    "// Load the wine dataset\n",
    "CsvReadOptions options = \n",
    "    CsvReadOptions.builder(System.getProperty(\"user.home\") + \"/wine-dataset/WineQT.csv\")\n",
    "        .separator(';')\n",
    "        .build();\n",
    "\n",
    "Table wine = Table.read().usingOptions(options);\n",
    "\n",
    "System.out.println(\"Dataset loaded: \" + wine.rowCount() + \" rows, \" + wine.columnCount() + \" columns\");\n",
    "System.out.println(\"First 5 rows:\");\n",
    "System.out.println(wine.first(5));"
   ]
  },
  {
   "cell_type": "markdown",
   "metadata": {},
   "source": [
    "## Question 1: Data Exploration (2 parts)\n",
    "Complete the code below to explore the wine dataset."
   ]
  },
  {
   "cell_type": "code",
   "execution_count": null,
   "metadata": {
    "vscode": {
     "languageId": "java"
    }
   },
   "outputs": [],
   "source": [
    "// Part A: TODO - Display summary statistics for the wine dataset\n",
    "\n",
    "Table wine = Table.read().csv(\"skibidi.csv\");\n",
    "\n",
    "System.out.println(\"Summary Statistics:\");\n",
    "System.out.println(wine.summary());\n",
    "\n",
    "// Part B: TODO - Create a histogram of wine quality distribution\n",
    "Figure qualityHist = Histogram.create(\"wine quality\",wine,\"quality\");\n",
    "Plot.show(qualityHist);\n",
    "\n",
    "// Part B continued: TODO - Create a scatter plot of alcohol vs quality\n",
    "Figure alcoholScatter = ScatterPlot.create(\"alcohol vs quality\",wine,\"alcohol\",\"quality\");\n",
    "Plot.show(alcoholScatter);\n",
    "\n",
    "// Provided: Group wines by quality level\n",
    "Table qualityGroups = wine.summarize(\n",
    "    \"alcohol\", AggregateFunctions.mean,\n",
    "    \"pH\", AggregateFunctions.mean,\n",
    "    \"volatile acidity\", AggregateFunctions.mean\n",
    ").by(\"quality\");\n",
    "System.out.println(\"\\nCharacteristics by quality level:\");\n",
    "System.out.println(qualityGroups);"
   ]
  },
  {
   "cell_type": "markdown",
   "metadata": {},
   "source": [
    "## Question 2: Machine Learning with SMILE (2 parts)\n",
    "Build a Random Forest model using the SMILE library to predict wine quality."
   ]
  },
  {
   "cell_type": "code",
   "execution_count": null,
   "metadata": {
    "vscode": {
     "languageId": "java"
    }
   },
   "outputs": [],
   "source": [
    "// Convert Tablesaw table to SMILE DataFrame\n",
    "String[] colNames = wine.columnNames().toArray(String[]::new);\n",
    "double[][] data = wine.as().doubleMatrix();\n",
    "DataFrame df = DataFrame.of(data, colNames);\n",
    "\n",
    "IntVector quality = IntVector.of(\"quality\", df.doubleVector(\"quality\").stream()\n",
    "    .mapToInt(d -> (int) d)\n",
    "    .toArray());\n",
    "df = df.drop(\"quality\").merge(quality);\n",
    "\n",
    "// Split data into training and test sets (80/20 split)\n",
    "int n = df.nrows();\n",
    "int[] indices = IntStream.range(0, n).toArray();\n",
    "MathEx.permutate(indices); \n",
    "int splitIndex = (int)(n * 0.8);\n",
    "\n",
    "DataFrame trainDf = df.slice(0, splitIndex);\n",
    "DataFrame testDf = df.slice(splitIndex, n);\n",
    "double[][] xquality = trainDf.drop(\"quality\").toArray();\n",
    "int[] yquality = trainDf.intVector(\"quality\").toIntArray();\n",
    "\n",
    "\n",
    "\n",
    "// Part A: TODO - Train a Random Forest model using SMILE\n",
    "smile.classification.RandomForest rf = new RandomForest(xTrain, yTrain, 52);\n",
    "\n",
    "// Part B: TODO - Calculate and display model accuracy\n",
    "\n",
    "double[][] skib = testDf.drop(\"quality\").toArray();\n",
    "int[] yTrue = testDf.stream().mapToInt(r -> r.getInt(\"quality\")).toArray();\n",
    "int[] yPred = new int[skib.length];\n",
    "for (int i = 0; i < xTest.length; i++) {\n",
    "            yPred[i] = rf.predict(xTest[i]);\n",
    "        }\n",
    " long amountRight = IntStream.range(0, yTrue.length)\n",
    "            .filter(i -> yTrue[i] == yPred[i])\n",
    "            .count();\n",
    "double accuracy = (double) amountRight / yTrue.length;\n",
    "System.out.printf(\"SMILE Random Forest Accuracy: %.2f%%\\n\", accuracy * 100);"
   ]
  },
  {
   "cell_type": "code",
   "execution_count": null,
   "metadata": {
    "vscode": {
     "languageId": "java"
    }
   },
   "outputs": [],
   "source": [
    "// Convert to Weka format\n",
    "ArrayList<Attribute> attributes = new ArrayList<>();\n",
    "for (String col : wine.columnNames()) {\n",
    "    if (!col.equals(\"quality\")) {\n",
    "        attributes.add(new Attribute(col));\n",
    "    }\n",
    "}\n",
    "\n",
    "IntColumn qualityCol = (IntColumn) wine.intColumn(\"quality\");\n",
    "int minQuality = (int) qualityCol.min();\n",
    "int maxQuality = (int) qualityCol.max();\n",
    "ArrayList<String> qualityVals = new ArrayList<>();\n",
    "for (int i = minQuality; i <= maxQuality; i++) {\n",
    "    qualityVals.add(String.valueOf(i));\n",
    "}\n",
    "attributes.add(new Attribute(\"quality\", qualityVals));\n",
    "\n",
    "Instances wData = new Instances(\"Wine\", attributes, wine.rowCount());\n",
    "wData.setClassIndex(wData.numAttributes() - 1);\n",
    "\n",
    "for (int i = 0; i < wine.rowCount(); i++) {\n",
    "    double[] vals = new double[wData.numAttributes()];\n",
    "    for (int j = 0; j < wine.columnCount() - 1; j++) {\n",
    "        vals[j] = ((NumberColumn<?,?>) wine.column(j)).getDouble(i);\n",
    "    }\n",
    "    vals[wData.numAttributes() - 1] = qualityVals.indexOf(String.valueOf(qualityCol.get(i)));\n",
    "    wData.add(new DenseInstance(1.0, vals));\n",
    "}\n",
    "\n",
    "// Split data\n",
    "int trainSize = (int) Math.round(wData.numInstances() * 0.8);\n",
    "Instances train = new Instances(wData, 0, trainSize);\n",
    "Instances test = new Instances(wData, trainSize, wData.numInstances() - trainSize);\n",
    "\n",
    "// TODO - Train Weka Random Forest and calculate accuracy\n",
    "RandomForest wekaRf = new RandomForest();\n",
    "try {\n",
    "    wekaRf.buildClassifier(train);\n",
    "    \n",
    "    Evaluation eval = new Evaluation(train);\n",
    "    eval.evaluateModel(wekaRf, test);\n",
    "    System.out.printf(\"Weka Random Forest Accuracy: %.2f%%\\n\", eval.pctCorrect());\n",
    "    System.out.println(\"\\nModel Comparison Complete!\");\n",
    "    System.out.println(\"Which model performed better? Analyze the results above.\");\n",
    "    \n",
    "} catch (Exception e) {\n",
    "    e.printStackTrace();\n",
    "}"
   ]
  }
 ],
 "metadata": {
  "language_info": {
   "name": "python"
  },
  "orig_nbformat": 4
 },
 "nbformat": 4,
 "nbformat_minor": 2
}
