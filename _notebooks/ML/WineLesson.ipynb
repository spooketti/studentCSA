{
 "cells": [
  {
   "cell_type": "markdown",
   "id": "c849aabf",
   "metadata": {
    "vscode": {
     "languageId": "plaintext"
    }
   },
   "source": [
    "# Using Tablesaw, Smile, and Weka to Drink Tasty Wine 🍷\n",
    "\n",
    "Many say that wine is very good. Some people make a profession out of tasting the best wine. But the objectivity of computers trumps the fickle and subjective nature of human taste buds. Let us now find what is objectively the best wine."
   ]
  },
  {
   "cell_type": "markdown",
   "id": "53e0fbd6",
   "metadata": {},
   "source": [
    "## Prerequisites"
   ]
  },
  {
   "cell_type": "markdown",
   "id": "2deb250a",
   "metadata": {},
   "source": [
    "### Dataset\n",
    "\n",
    "We first need to download our dataset. Run the following set of commands in your terminal, or run the Java code in the next code cell.\n",
    "```bash\n",
    "# Change these variables if you want!\n",
    "$DATA_DIR=~/wine-quality-dataset\n",
    "$WINE_ZIP_DOWNLOAD=/tmp/wine-quality-dataset.zip\n",
    "\n",
    "# Download and extract the wine dataset\n",
    "curl -L -o $WINE_ZIP_DOWNLOAD https://www.kaggle.com/api/v1/datasets/download/yasserh/wine-quality-dataset\n",
    "mkdir -p $DATA_DIR\n",
    "unzip -o $WINE_ZIP_DOWNLOAD -d $DATA_DIR\n",
    "```"
   ]
  },
  {
   "cell_type": "code",
   "execution_count": null,
   "id": "7dbb2924",
   "metadata": {
    "vscode": {
     "languageId": "java"
    }
   },
   "outputs": [],
   "source": [
    "import java.io.*;\n",
    "import java.net.*;\n",
    "import java.nio.file.*;\n",
    "import java.util.zip.*;\n",
    "\n",
    "public class DownloadWine {\n",
    "    public static void main(String[] args) {\n",
    "        // Change these variables if you want!\n",
    "        String wineDir = System.getProperty(\"user.home\") + \"/wine-dataset\";\n",
    "        String wineZipDownload = \"/tmp/wine.zip\";\n",
    "\n",
    "        try {\n",
    "            // Download and extract the Wine dataset\n",
    "            downloadFile(\"https://www.kaggle.com/api/v1/datasets/download/yasserh/wine-quality-dataset\", wineZipDownload);\n",
    "            Files.createDirectories(Paths.get(wineDir));\n",
    "            unzipFile(wineZipDownload, wineDir);\n",
    "        } catch (IOException e) {\n",
    "            e.printStackTrace();\n",
    "        }\n",
    "    }\n",
    "\n",
    "    private static void downloadFile(String urlStr, String dest) throws IOException {\n",
    "        URL url = new URL(urlStr);\n",
    "        HttpURLConnection httpConn = (HttpURLConnection) url.openConnection();\n",
    "        httpConn.setRequestProperty(\"User-Agent\", \"Mozilla/5.0\");\n",
    "        httpConn.setRequestMethod(\"GET\");\n",
    "\n",
    "        try (InputStream in = httpConn.getInputStream();\n",
    "             FileOutputStream out = new FileOutputStream(dest)) {\n",
    "            byte[] buffer = new byte[4096];\n",
    "            int bytesRead;\n",
    "\n",
    "            while ((bytesRead = in.read(buffer)) != -1) {\n",
    "                out.write(buffer, 0, bytesRead);\n",
    "            }\n",
    "        }\n",
    "    }\n",
    "\n",
    "    private static void unzipFile(String zipFilePath, String destDirectory) throws IOException {\n",
    "        try (ZipInputStream zipIn = new ZipInputStream(new FileInputStream(zipFilePath))) {\n",
    "            ZipEntry entry;\n",
    "\n",
    "            while ((entry = zipIn.getNextEntry()) != null) {\n",
    "                File filePath = new File(destDirectory, entry.getName());\n",
    "\n",
    "                if (entry.isDirectory()) {\n",
    "                    // Create directory if it doesn't exist\n",
    "                    if (!filePath.isDirectory() && !filePath.mkdirs()) {\n",
    "                        throw new IOException(\"Failed to create directory \" + filePath);\n",
    "                    }\n",
    "                } else {\n",
    "                    // Ensure parent directories exist\n",
    "                    File parent = filePath.getParentFile();\n",
    "                    if (parent != null && !parent.exists()) {\n",
    "                        if (!parent.mkdirs()) {\n",
    "                            throw new IOException(\"Failed to create directory \" + parent);\n",
    "                        }\n",
    "                    }\n",
    "\n",
    "                    // Write file content\n",
    "                    try (BufferedOutputStream bos = new BufferedOutputStream(new FileOutputStream(filePath))) {\n",
    "                        byte[] bytesIn = new byte[4096];\n",
    "                        int read;\n",
    "                        while ((read = zipIn.read(bytesIn)) != -1) {\n",
    "                            bos.write(bytesIn, 0, read);\n",
    "                        }\n",
    "                    }\n",
    "                }\n",
    "                zipIn.closeEntry();\n",
    "            }\n",
    "        }\n",
    "    }\n",
    "}\n",
    "\n",
    "DownloadWine.main(null);"
   ]
  },
  {
   "cell_type": "markdown",
   "id": "63e71f19",
   "metadata": {},
   "source": [
    "### Dependencies\n",
    "\n",
    "Let's start by installing the necessary dependencies (our three lovely libraries: tablesaw, smile, and weka).\n",
    "\n",
    "What do they do?\n",
    "- Tablesaw -> Loads and stores data as **dataframes** (comparable to the pandas library in Python)\n",
    "- SMILE -> Provides powerful **machine learning algorithms** and tools for data analysis in Java\n",
    "  - SMILE stands for Statistical Machine Intelligence and Learning Engine (crazy yap name) \n",
    "- Weka -> Another popular **machine learning toolkit** with a focus on easy-to-use interfaces and classic algorithms\n",
    "  - More high-level than smile and slightly less features but it's easier to use\n",
    "\n",
    "These let us load and analyze data in Java, and train ML models to predict data too."
   ]
  },
  {
   "cell_type": "code",
   "execution_count": null,
   "id": "9276f757",
   "metadata": {
    "vscode": {
     "languageId": "java"
    }
   },
   "outputs": [],
   "source": [
    "// Add Tablesaw (Java data analysis library)\n",
    "%maven tech.tablesaw:tablesaw-core:0.43.1\n",
    "%maven tech.tablesaw:tablesaw-jsplot:0.43.1"
   ]
  },
  {
   "cell_type": "code",
   "execution_count": null,
   "id": "923ab7f3",
   "metadata": {
    "vscode": {
     "languageId": "java"
    }
   },
   "outputs": [],
   "source": [
    "// Add Smile (because I want you to smile :))\n",
    "%maven com.github.haifengl:smile-core:3.0.1\n",
    "%maven com.github.haifengl:smile-data:2.6.0\n",
    "\n",
    "// Add Weka (machine learning library)\n",
    "%maven nz.ac.waikato.cms.weka:weka-stable:3.8.6"
   ]
  },
  {
   "cell_type": "markdown",
   "id": "28fd6f58",
   "metadata": {
    "vscode": {
     "languageId": "java"
    }
   },
   "source": [
    "## Time to Do Stuff\n",
    "\n",
    "### Tablesaw - Loading and Analyzing Data\n",
    "\n",
    "Let's start by using tablesaw to load our wine quality dataset and output some information about it. \n",
    "\n",
    "> Why use tablesaw? When you have **structured data** (basically just things where you know the format of the data beforehand), libraries like tablesaw make it super easy to work with the data. In this case, we have structured data because we have a specific set of properties of the wine every time, unlike in something like an image, which is **unstructured**."
   ]
  },
  {
   "cell_type": "code",
   "execution_count": null,
   "id": "56f3adb0",
   "metadata": {
    "vscode": {
     "languageId": "java"
    }
   },
   "outputs": [],
   "source": [
    "import tech.tablesaw.api.*;\n",
    "import tech.tablesaw.io.csv.CsvReadOptions;\n",
    "\n",
    "CsvReadOptions options = \n",
    "\tCsvReadOptions.builder(System.getProperty(\"user.home\") + \"/wine-dataset/WineQT.csv\")\n",
    "\t\t.separator(';')\n",
    "\t\t.build();\n",
    "\n",
    "Table wine = Table.read().usingOptions(options);\n",
    "\n",
    "System.out.println(wine.structure());\n",
    "System.out.println(wine.shape());\n",
    "wine.first(5);"
   ]
  },
  {
   "cell_type": "markdown",
   "id": "dcec6a43",
   "metadata": {},
   "source": [
    "In our code, we loaded the file at `~/wine-dataset/WineQT.csv` (open the file and see for yourself!) and we converted it to a **tablesaw table**.\n",
    "\n",
    "Tablesaw can output a lot of information about the table, as we saw above, like the structure and shape.\n",
    "\n",
    "We can also output some plots to show some information!"
   ]
  },
  {
   "cell_type": "code",
   "execution_count": null,
   "id": "2651df82",
   "metadata": {
    "vscode": {
     "languageId": "java"
    }
   },
   "outputs": [],
   "source": [
    "// Remove the second parameter if you want it to show directly rather than to a file, it doesn't work in WSL\n",
    "Figure hist = Histogram.create(\"Alcohol\", wine.numberColumn(\"alcohol\"));\n",
    "Figure scatter = ScatterPlot.create(\"Alcohol vs Quality\", wine, \"alcohol\", \"quality\");\n",
    "\n",
    "// uncomment to show directly in a GUI\n",
    "Plot.show(hist);\n",
    "Plot.show(scatter);"
   ]
  },
  {
   "cell_type": "markdown",
   "id": "159645ca",
   "metadata": {},
   "source": [
    "From these graphs, we can get a little information, like the fact that alcohol content doesn't seem to be the greatest predictor of wine quality."
   ]
  },
  {
   "cell_type": "markdown",
   "id": "b7b8c825",
   "metadata": {},
   "source": [
    "### Smile - Predicting Wine Quality from Wine Data\n",
    "\n",
    "Now we can solve the million dollar question - how can we ensure that we never have to taste terrible wine ever again?\n",
    "\n",
    "We can use SMILE to train a **random forest**, a type of machine learning model.\n",
    "\n",
    "However, SMILE doesn't take in tablesaw tables. It instead takes in its own class called DataFrame, so we need to first convert our data to that format.\n",
    "\n",
    "> Note: we'll call the information about the wine **features**, and we'll say that these would be along our x-axis. We can call the quality of the wine our **target**, since that is what we want to know about it."
   ]
  },
  {
   "cell_type": "code",
   "execution_count": null,
   "id": "f4bf73d9",
   "metadata": {
    "vscode": {
     "languageId": "java"
    }
   },
   "outputs": [],
   "source": [
    "import smile.classification.*;\n",
    "import smile.data.*;\n",
    "\n",
    "String[] featureNames = wine.columnNames().toArray(String[]::new);\n",
    "double[][] data = wine.as().doubleMatrix();\n",
    "DataFrame df = DataFrame.of(data, featureNames);\n",
    "\n",
    "// we want our quality to be an integer prediction for SMILE because it is a classification task\n",
    "IntVector quality = IntVector.of(\"quality\", df.doubleVector(\"quality\").stream()\n",
    "    .mapToInt(d -> (int) d)\n",
    "    .toArray());\n",
    "df = df.drop(\"quality\").merge(quality);"
   ]
  },
  {
   "cell_type": "markdown",
   "id": "cce820b0",
   "metadata": {},
   "source": [
    "Now, we need to split our dataset into two parts: one for training our model and one for testing our model. We'll set 80% of our data as training data and 20% as testing."
   ]
  },
  {
   "cell_type": "code",
   "execution_count": null,
   "id": "431b1723",
   "metadata": {
    "vscode": {
     "languageId": "java"
    }
   },
   "outputs": [],
   "source": [
    "int n = df.nrow();\n",
    "int[] indices = IntStream.range(0, n).toArray();\n",
    "MathEx.permutate(indices); \n",
    "\n",
    "int splitIndex = (int)(n * 0.75);\n",
    "int[] trainIdx = Arrays.copyOfRange(indices, 0, splitIndex);\n",
    "int[] testIdx = Arrays.copyOfRange(indices, splitIndex, n);\n",
    "\n",
    "DataFrame trainDf = df.select(trainIdx);\n",
    "DataFrame testDf = df.select(testIdx);"
   ]
  },
  {
   "cell_type": "markdown",
   "id": "10bcc196",
   "metadata": {},
   "source": [
    "Now we can finally train the model!"
   ]
  },
  {
   "cell_type": "code",
   "execution_count": null,
   "id": "e9678182",
   "metadata": {
    "vscode": {
     "languageId": "java"
    }
   },
   "outputs": [],
   "source": [
    "RandomForest rf = RandomForest.fit(Formula.lhs(\"quality\"), trainDf);"
   ]
  },
  {
   "cell_type": "markdown",
   "id": "97567989",
   "metadata": {},
   "source": [
    "Now let's test how accurate our model is!"
   ]
  },
  {
   "cell_type": "code",
   "execution_count": null,
   "id": "2ecd90d5",
   "metadata": {
    "vscode": {
     "languageId": "java"
    }
   },
   "outputs": [],
   "source": [
    "int[] yTrue = testDf.stream().mapToInt(r -> r.getInt(\"quality\")).toArray();\n",
    "int[] yPred = testDf.drop(\"quality\")\n",
    "    .stream()\n",
    "    .mapToInt(rf::predict)\n",
    "    .toArray();\n",
    "\n",
    "\n",
    "double accuracy = Accuracy.of(yTrue, yPred);\n",
    "System.out.printf(\"Model Accuracy: %.2f%%%n\", accuracy * 100);\n"
   ]
  },
  {
   "cell_type": "markdown",
   "id": "43f94b10",
   "metadata": {},
   "source": [
    "`yTrue` represents the actual qualities, while `yPred` represents our model's prediction of the wine quality."
   ]
  },
  {
   "cell_type": "markdown",
   "id": "3a8a1f64",
   "metadata": {},
   "source": [
    "### Weka - Another Way to Make Classification Models\n",
    "\n",
    "The weka library also allows us to make machine learning models. We ultimately do many of the same steps.\n",
    "\n",
    "Let's start by converting our Tablesaw `Table` to a Weka `Instance`, just like how we had converted `Table` to `DataFrame` earlier."
   ]
  },
  {
   "cell_type": "code",
   "execution_count": null,
   "id": "4d961e30",
   "metadata": {
    "vscode": {
     "languageId": "java"
    }
   },
   "outputs": [],
   "source": [
    "import weka.core.*;\n",
    "import weka.classifiers.trees.RandomForest;\n",
    "import weka.classifiers.Evaluation;\n",
    "import java.util.ArrayList;\n",
    "\n",
    "\n",
    "ArrayList<Attribute> attributes = new ArrayList<>();\n",
    "for (String col : wine.columnNames()) {\n",
    "    if (!col.equals(\"quality\")) {\n",
    "        attributes.add(new Attribute(col));\n",
    "    }\n",
    "}\n",
    "\n",
    "// we make an int column for the quality bc it is the classification\n",
    "IntColumn qualityCol = (IntColumn) wine.intColumn(\"quality\");\n",
    "int minQuality = qualityCol.min();\n",
    "int maxQuality = qualityCol.max();\n",
    "ArrayList<String> qualityVals = new ArrayList<>();\n",
    "for (int i = minQuality; i <= maxQuality; i++) {\n",
    "    qualityVals.add(String.valueOf(i));\n",
    "}\n",
    "attributes.add(new Attribute(\"quality\", qualityVals));\n",
    "\n",
    "Instances wData = new Instances(\"Wine\", attributes, wine.rowCount());\n",
    "wData.setClassIndex(wData.numAttributes() - 1); // ok so this sets the last attribute (quality) as the target variable during classification\n",
    "\n",
    "for (int i = 0; i < wine.rowCount(); i++) {\n",
    "    double[] vals = new double[wData.numAttributes()];\n",
    "    for (int j = 0; j < wine.columnCount() - 1; j++) {\n",
    "        vals[j] = wine.column(j).getDouble(i);\n",
    "    }\n",
    "    vals[wData.numAttributes() - 1] = qualityVals.indexOf(String.valueOf(qualityCol.get(i)));\n",
    "    wData.add(new DenseInstance(1.0, vals));\n",
    "}"
   ]
  },
  {
   "cell_type": "markdown",
   "id": "660d6c0b",
   "metadata": {},
   "source": [
    "This code does the same thing as before: converts the table into a different format and turns the quality column into a column of integers.\n",
    "\n",
    "Now, let's split the data into our training and testing data, just like last time."
   ]
  },
  {
   "cell_type": "code",
   "execution_count": null,
   "id": "7e4342fa",
   "metadata": {
    "vscode": {
     "languageId": "java"
    }
   },
   "outputs": [],
   "source": [
    "// same 80/20 split as before\n",
    "int trainSize = (int) Math.round(wData.numInstances() * 0.8);\n",
    "int testSize = wData.numInstances() - trainSize;\n",
    "Instances train = new Instances(wData, 0, trainSize);\n",
    "Instances test = new Instances(wData, trainSize, testSize);"
   ]
  },
  {
   "cell_type": "markdown",
   "id": "2e7b35e5",
   "metadata": {},
   "source": [
    "Now, let's finally train our random forest model, except this time it'll be using weka instead of smile.\n",
    "\n",
    "> Should you use Weka or SMILE? For the most part, this is just personal preference. You can create powerful ML models with both libraries, and for the most part, they have relatively similar features and work pretty similarly. Note that SMILE is also an application which can be used to train models more easily, and has some more features, but Weka is also pretty straightforward to use. For the most part just try using both and see which one you like better."
   ]
  },
  {
   "cell_type": "code",
   "execution_count": null,
   "id": "fa41c4d1",
   "metadata": {
    "vscode": {
     "languageId": "java"
    }
   },
   "outputs": [],
   "source": [
    "RandomForest wekaRf = new RandomForest();\n",
    "wekaRf.buildClassifier(train);"
   ]
  },
  {
   "cell_type": "markdown",
   "id": "1c73c584",
   "metadata": {},
   "source": [
    "Now, let's see how well our model did!"
   ]
  },
  {
   "cell_type": "code",
   "execution_count": null,
   "id": "f0ebcb21",
   "metadata": {
    "vscode": {
     "languageId": "java"
    }
   },
   "outputs": [],
   "source": [
    "Evaluation eval = new Evaluation(train);\n",
    "eval.evaluateModel(wekaRf, test);\n",
    "\n",
    "System.out.printf(\"Weka RandomForest Accuracy: %.2f%%%n\", eval.pctCorrect());"
   ]
  }
 ],
 "metadata": {
  "kernelspec": {
   "display_name": "java (IJava/j!)",
   "language": "java",
   "name": "jbang-ijava"
  },
  "language_info": {
   "codemirror_mode": "java",
   "file_extension": ".jshell",
   "mimetype": "text/x-java-source",
   "name": "Java",
   "pygments_lexer": "java",
   "version": "17.0.12+1-b1087.25"
  }
 },
 "nbformat": 4,
 "nbformat_minor": 5
}
