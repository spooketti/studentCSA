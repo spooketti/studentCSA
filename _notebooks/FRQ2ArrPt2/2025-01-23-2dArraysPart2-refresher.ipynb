{
 "cells": [
  {
   "cell_type": "markdown",
   "metadata": {},
   "source": [
    "---\n",
    "layout: post\n",
    "comments: true\n",
    "title: Period 3 2D Arrays Pt 2 - Refresher\n",
    "menu: nav/arrayp2.html\n",
    "permalink: csa/frqs/p3/2darrays2/refresher\n",
    "---"
   ]
  },
  {
   "cell_type": "markdown",
   "metadata": {},
   "source": [
    "# 2D Array Review\n",
    "\n",
    "This is a review of 2D Arrays. Please see part 1 of the lesson for more details."
   ]
  },
  {
   "cell_type": "markdown",
   "metadata": {},
   "source": [
    "## Creation of 2D Array\n",
    "\n",
    "2D arrays are simply arrays within arrays.\n",
    "```java\n",
    "// Declare a 2D array\n",
    "int[][] array = new int[3][4]; // 3 rows and 4 columns\n",
    "\n",
    "// Declare and initialize with values\n",
    "int[][] array = {\n",
    "    {1, 2, 3},\n",
    "    {4, 5, 6},\n",
    "    {7, 8, 9}\n",
    "};\n",
    "```\n"
   ]
  },
  {
   "cell_type": "markdown",
   "metadata": {},
   "source": [
    "## Indexing of 2D Array\n",
    "\n",
    "To index a 2D array, place the row number, followed by the column number.\n",
    "```java\n",
    "// Access elements in the array\n",
    "int value = array[0][1]; // Gets the number in the 1st row and 2nd column\n",
    "System.out.println(value); // Output: 2\n",
    "\n",
    "int value2 = array[1][2]; // Gets the number in the 2nd row and 3rd column\n",
    "System.out.println(value2); // Output: 6\n",
    "\n",
    "// Whoopsie daisies! Error! This is out of bounds\n",
    "int value3 = array[20][10];\n",
    "System.out.println(value3);\n",
    "```\n"
   ]
  },
  {
   "cell_type": "markdown",
   "metadata": {},
   "source": [
    "## Iteration of 2D Array\n",
    "\n",
    "To iterate through a 2D array:\n",
    "\n",
    "**Row-major order**\n",
    "```java\n",
    "// For loop: Add 5 to all elements of the array\n",
    "for (int row = 0; row < array.length; row++) {\n",
    "    for (int col = 0; col < array[row].length; col++) {\n",
    "        array[row][col] += 5; // Add 5 to each element\n",
    "    }\n",
    "}\n",
    "\n",
    "// Foreach loop: Output all elements of the array\n",
    "for (int[] row : array) {\n",
    "    for (int item : row) {\n",
    "        System.out.print(item + \" \");\n",
    "    }\n",
    "    System.out.println(); // Adds a newline after each row\n",
    "}\n",
    "```\n",
    "\n",
    "**Column-major order**\n",
    "```java\n",
    "for (int col = 0; col < array[0].length; col++) {\n",
    "    for (int row = 0; row < array.length; row++) {\n",
    "        System.out.print(array[row][col]);\n",
    "    }\n",
    "    System.out.println();\n",
    "}\n",
    "```\n"
   ]
  },
  {
   "cell_type": "markdown",
   "metadata": {},
   "source": [
    "## Popcorn Hack\n",
    "\n",
    "Farmer John has 7 cats. They all eat a certain amount of magical grass, measured in lbs, every day. The farmer makes a 2D array with information about how much grass each cat ate each day. Each row represents how many pounds each cat ate that day. Each column represents a single cat. Please return a 1D array, where each element is the total amount of grass the cat ate.\n",
    "\n",
    "**TL;DR:** Sum up the values within each column and return a 1D array.\n",
    "```java\n",
    "// Sample test case\n",
    "int[][] grassData = {\n",
    "    {2, 3, 1, 4, 3, 2, 5},\n",
    "    {1, 2, 3, 1, 4, 2, 3},\n",
    "    {3, 4, 2, 5, 1, 3, 2}\n",
    "};\n",
    "\n",
    "// Your Code Here\n",
    "\n",
    "// Expected Output: [6, 9, 6, 10, 8, 7, 10]\n",
    "```\n"
   ]
  }
 ],
 "metadata": {
  "kernelspec": {
   "display_name": "Java",
   "language": "java",
   "name": "java"
  },
  "language_info": {
   "codemirror_mode": "text/x-java",
   "file_extension": ".java",
   "mimetype": "text/x-java-source",
   "name": "java",
   "version": "17"
  }
 },
 "nbformat": 4,
 "nbformat_minor": 5
}
