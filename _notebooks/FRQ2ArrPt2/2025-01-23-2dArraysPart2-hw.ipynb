{
 "cells": [
  {
   "cell_type": "raw",
   "metadata": {
    "vscode": {
     "languageId": "raw"
    }
   },
   "source": [
    "---\n",
    "layout: post\n",
    "comments: true\n",
    "title: Period 3 2D Arrays Pt 2 - Homework\n",
    "menu: nav/arrayp2.html\n",
    "permalink: csa/frqs/p3/2darrays2/homework\n",
    "---"
   ]
  },
  {
   "cell_type": "markdown",
   "metadata": {},
   "source": [
    "# Problem\n",
    "\n",
    "Farmer John has a rectangular grass pasture with N rows and M columns for the cows to graze on. Each pasture has a certain tastiness value. However, the gen alpha Bessie has gotten quite picky with what she eats.\n",
    "\n",
    "Given a 2D array (template below) with size NxM, please write functions for the following:\n",
    "\n",
    "\n",
    "1. getTotalGrass()\n",
    "- Return total sum of all \"tastiness values\" from the pastures in the 2D array\n",
    "2.  maxSquare()\n",
    "- Because Bessie sometimes likes enjoying square grass patches, she wants to find the best one.\n",
    "- Returns the maximum sum of tastiness value of a square in the 2D array. (Square could be 1x1, 2x2, 3x3, etc.) \n",
    "3. maxSubarraySum()\n",
    "- Sometimes, Bessie enjoys eating grass in a line.\n",
    "- Return the maximum sum of a continuous subarray in this array if it was \"flattened\" to be a 1D array. In other words, make the 2D array into a 1D array by combining all rows and find the max subarray sum.\n",
    "\n",
    "For an example case, see below in the code.\n",
    "\n",
    "\n",
    "### Extra Credit Opportunities\n",
    "Extra Credit 1 (+0.01): What is the time complexity of your maxSquare code? Explain.\n",
    "\n",
    "Extra Credit 2 (+0.01): This is achieved if you get the optimal complexity for maxPatch.\n",
    "\n",
    "Extra Credit 3 (+0.01): What is the time complexity of your maxSubarraySum code? Explain.\n",
    "\n",
    "Extra Credit 4 (+0.01): This is achieved if you get the optimal complexity for maxSubarraySum."
   ]
  },
  {
   "cell_type": "code",
   "execution_count": null,
   "metadata": {
    "vscode": {
     "languageId": "java"
    }
   },
   "outputs": [],
   "source": [
    "public class GrassPasture {\n",
    "    /** The 2D grid of pasture tastineess values */\n",
    "    private int[][] pastures;\n",
    "\n",
    "    /** Constructor initializes the field */\n",
    "    public GrassPasture(int[][] pastures) {\n",
    "        this.pastures = pastures;\n",
    "    }\n",
    "\n",
    "    /**\n",
    "     * Returns sum of total tastiness for all values in 2D array\n",
    "     */\n",
    "    public int getTotalGrass() {\n",
    "        /* Code below */\n",
    "    }\n",
    "\n",
    "    /**\n",
    "     * Returns max sum of tastiness of a square in the 2D array (square can be 1x1, 2x2, etc.)\n",
    "     */\n",
    "    public int maxSquare() {\n",
    "        /* Code below */\n",
    "    }\n",
    "\n",
    "    /**\n",
    "     * Returns the maximum tastiness sum subarray in the flattened 2D grid\n",
    "     */\n",
    "    public int maxSubarraySum() {\n",
    "        /* Code below */\n",
    "    }\n",
    "}\n",
    "\n",
    "int[][] pastures = {\n",
    "    {-3, 6, -1},\n",
    "    {2, -1, 5},\n",
    "    {-9, 4, -1}\n",
    "};\n",
    "\n",
    "GrassPasture gp = new GrassPasture(pastures);\n",
    "\n",
    "System.out.println(\"Total Tastiness: \" + gp.getTotalGrass());\n",
    "// answer should be -2\n",
    "\n",
    "System.out.println(\"Max Square Sum: \" + gp.maxSquare());\n",
    "// answer should be 9\n",
    "\n",
    "System.out.println(\"Max Subarray Sum: \" + gp.maxSubarraySum());\n",
    "// answer should be 11\n",
    "\n",
    "\n",
    "// If you are interested in the extra credit, you can answer below:\n"
   ]
  }
 ],
 "metadata": {
  "language_info": {
   "name": "python"
  }
 },
 "nbformat": 4,
 "nbformat_minor": 2
}
