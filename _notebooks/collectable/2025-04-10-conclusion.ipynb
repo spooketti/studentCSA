{
 "cells": [
  {
   "cell_type": "code",
   "execution_count": null,
   "id": "8e09829f",
   "metadata": {
    "vscode": {
     "languageId": "yaml"
    }
   },
   "outputs": [],
   "source": [
    "---\n",
    "layout: post\n",
    "title: Collectables Summary #2 \n",
    "permalink: /collectablesToolkitConclusion\n",
    "authors: Tarun, Srini, Nitin\n",
    "menu: /nav/CSA_Units/ds_team_teaches/toolkit-collectables.html\n",
    "---"
   ]
  },
  {
   "cell_type": "markdown",
   "id": "b7a3c85d",
   "metadata": {},
   "source": [
    "## Summary Diagram\n",
    "\n",
    "![Image](https://github.com/user-attachments/assets/a21dbb2a-1f66-44b8-bc25-f08ac0718b6f)\n",
    "\n",
    "\n",
    "![Image2](https://github.com/user-attachments/assets/073aeab1-bcd4-425b-a8d7-726d92cb8912)"
   ]
  },
  {
   "cell_type": "markdown",
   "id": "84de7eb2",
   "metadata": {},
   "source": [
    "## Java Collections ***Homework*** (due the Wednesday After Spring break)\n",
    "\n",
    "### Objectives\n",
    "- Practice using **List**, **Set**, and **Deque**\n",
    "- Understand when and why to use each\n",
    "- Apply key methods from each collection type\n",
    "- Practice iteration and conditional logic with collections\n",
    "\n",
    "\n",
    "\n",
    "### Part 1: Working with Lists\n",
    "\n",
    "**Task:**  \n",
    "Create a method that takes a List<Integer> and returns a new list containing only the **even numbers**, in the same order.\n",
    "\n",
    "**Requirements:**\n",
    "- Use ArrayList\n",
    "- Use add, get, and size\n",
    "- Use a loop (not streams)\n",
    "\n",
    "\n",
    "\n",
    "### Part 2: Working with Sets\n",
    "\n",
    "**Task:**  \n",
    "Create a method that takes two Set<String> objects and returns a new Set<String> with only the **common elements** (i.e. the intersection).\n",
    "\n",
    "**Requirements:**\n",
    "- Use HashSet\n",
    "- Use contains, add, and iteration\n",
    "- Final result should have **no duplicates**\n",
    "\n",
    "\n",
    "\n",
    "### Part 3: Working with Deques\n",
    "\n",
    "**Task:**  \n",
    "Simulate a line of customers using a Deque<String>. Implement the following steps in order:\n",
    "\n",
    "1. Add 3 customers to the **end**\n",
    "2. Add 1 customer to the **front** (VIP)\n",
    "3. Remove the customer at the **front**\n",
    "4. Show the current front and back of the line\n",
    "5. Print the size of the line\n",
    "\n",
    "**Requirements:**\n",
    "- Use ArrayDeque\n",
    "- Use addFirst, addLast, removeFirst, peekFirst, peekLast, and size\n",
    "\n",
    "\n",
    "\n",
    "### Challenge Question (Bonus +0.01)\n",
    "\n",
    "**Question:**  \n",
    "You need to store a collection of student IDs where:\n",
    "- Order **doesn't matter**\n",
    "- You must prevent **duplicates**\n",
    "- You often need to **check if an ID exists**\n",
    "\n",
    "Which collection type would be most efficient to use and why?\n"
   ]
  }
 ],
 "metadata": {
  "language_info": {
   "name": "python"
  }
 },
 "nbformat": 4,
 "nbformat_minor": 5
}
