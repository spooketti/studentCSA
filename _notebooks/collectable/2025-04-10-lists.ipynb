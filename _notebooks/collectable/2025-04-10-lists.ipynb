{
 "cells": [
  {
   "cell_type": "code",
   "execution_count": null,
   "id": "e804ca43",
   "metadata": {
    "vscode": {
     "languageId": "yaml"
    }
   },
   "outputs": [],
   "source": [
    "---\n",
    "layout: post\n",
    "title: Collectables Lists\n",
    "permalink: /collectablesToolkitLists\n",
    "authors: Tarun, Srini, Nitin\n",
    "menu: /nav/CSA_Units/ds_team_teaches/toolkit-collectables.html\n",
    "---"
   ]
  },
  {
   "cell_type": "markdown",
   "id": "081cdfe9",
   "metadata": {},
   "source": [
    "## 1. Lists-Srini\n",
    "\n",
    "### What is a List?\n",
    "- **Ordered Collection**: Elements are stored in a specific sequence.\n",
    "- **Indexed Access**: Elements can be accessed via their index.\n",
    "- **Duplicates Allowed**: Lists can contain multiple instances of the same element.\n",
    "- **Insertion Order Preserved**: The order of insertion is maintained.\n",
    "\n",
    "---\n",
    "\n",
    "### Common Operations\n",
    "\n",
    "- **add(E e)**: Adds the element to the end of the list.\n",
    "- **add(int index, E element)**: Inserts the element at the specified index.\n",
    "- **get(int index)**: Retrieves the element at the specified index.\n",
    "- **set(int index, E element)**: Replaces the element at the specified index.\n",
    "- **remove(int index)**: Removes the element at the specified index.\n",
    "- **indexOf(Object o)**: Finds the first occurrence of the specified element.\n",
    "- **lastIndexOf(Object o)**: Finds the last occurrence of the specified element.\n",
    "- **subList(int fromIndex, int toIndex)**: Returns a sublist from the specified range of indices.\n"
   ]
  },
  {
   "cell_type": "markdown",
   "id": "cfe2750f",
   "metadata": {},
   "source": [
    "### Example: Basic List Operations"
   ]
  },
  {
   "cell_type": "code",
   "execution_count": null,
   "id": "d9047fde",
   "metadata": {
    "vscode": {
     "languageId": "java"
    }
   },
   "outputs": [
    {
     "name": "stdout",
     "output_type": "stream",
     "text": [
      "Fruits List: [Apple, Banana, Orange, Mango]\n",
      "First Fruit: Apple\n",
      "Updated List: [Apple, Blueberry, Orange, Mango]\n",
      "List After Removal: [Apple, Blueberry, Mango]\n",
      "Index of Mango: 2\n",
      "Size of List: 3\n",
      "List contains Apple: true\n",
      "Sublist: [Apple, Blueberry]\n"
     ]
    }
   ],
   "source": [
    "import java.util.ArrayList;\n",
    "import java.util.List;\n",
    "\n",
    "\n",
    "List<String> fruits = new ArrayList<>();\n",
    "\n",
    "fruits.add(\"Apple\");\n",
    "fruits.add(\"Banana\");\n",
    "fruits.add(\"Orange\");\n",
    "fruits.add(\"Mango\");\n",
    "\n",
    "System.out.println(\"Fruits List: \" + fruits);\n",
    "\n",
    "String firstFruit = fruits.get(0);\n",
    "System.out.println(\"First Fruit: \" + firstFruit);\n",
    "\n",
    "fruits.set(1, \"Blueberry\");\n",
    "System.out.println(\"Updated List: \" + fruits);\n",
    "\n",
    "fruits.remove(2);\n",
    "System.out.println(\"List After Removal: \" + fruits);\n",
    "\n",
    "int index = fruits.indexOf(\"Mango\");\n",
    "System.out.println(\"Index of Mango: \" + index);\n",
    "\n",
    "int size = fruits.size();\n",
    "System.out.println(\"Size of List: \" + size);\n",
    "\n",
    "boolean hasApple = fruits.contains(\"Apple\");\n",
    "System.out.println(\"List contains Apple: \" + hasApple);\n",
    "\n",
    "List<String> sublist = fruits.subList(0, 2);\n",
    "System.out.println(\"Sublist: \" + sublist);\n",
    "\n"
   ]
  },
  {
   "cell_type": "markdown",
   "id": "5f8f95a4",
   "metadata": {},
   "source": [
    "### Example: List Iteration"
   ]
  },
  {
   "cell_type": "code",
   "execution_count": null,
   "id": "22df09ea",
   "metadata": {
    "vscode": {
     "languageId": "java"
    }
   },
   "outputs": [
    {
     "name": "stdout",
     "output_type": "stream",
     "text": [
      "Using for-each loop:\n",
      "Apple\n",
      "Banana\n",
      "Orange\n",
      "Mango\n",
      "\n",
      "Using regular for loop:\n",
      "Apple\n",
      "Banana\n",
      "Orange\n",
      "Mango\n",
      "\n",
      "Using Java 8 forEach with Lambda:\n",
      "Apple\n",
      "Banana\n",
      "Orange\n",
      "Mango\n"
     ]
    }
   ],
   "source": [
    "import java.util.ArrayList;\n",
    "import java.util.List;\n",
    "\n",
    "List<String> fruits = new ArrayList<>();\n",
    "fruits.add(\"Apple\");\n",
    "fruits.add(\"Banana\");\n",
    "fruits.add(\"Orange\");\n",
    "fruits.add(\"Mango\");\n",
    "\n",
    "System.out.println(\"Using for-each loop:\");\n",
    "for (String fruit : fruits) { \n",
    "    System.out.println(fruit);\n",
    "}\n",
    "\n",
    "System.out.println(\"\\nUsing regular for loop:\");\n",
    "for (int i = 0; i < fruits.size(); i++) {\n",
    "    System.out.println(fruits.get(i));\n",
    "}\n",
    "\n",
    "System.out.println(\"\\nUsing Java 8 forEach with Lambda:\");\n",
    "fruits.forEach(fruit -> System.out.println(fruit));\n"
   ]
  },
  {
   "cell_type": "markdown",
   "id": "67612ae0",
   "metadata": {},
   "source": [
    "### How Extending Iterable Ties into Collection\n",
    "\n",
    "- The **Collection** interface extends **Iterable**, meaning all collections (like **List**, **Set**, etc.) can be iterated over.\n",
    "- By implementing the **Iterable** interface, collections provide the **iterator()** method, which is used in the enhanced for-loop (for-each loop).\n",
    "- This allows collections to be traversed without needing to manually manage the index, simplifying iteration.\n",
    "- The **forEach** method, introduced in Java 8, also leverages **Iterable** to iterate over elements using lambda expressions.\n"
   ]
  }
 ],
 "metadata": {
  "language_info": {
   "name": "python"
  }
 },
 "nbformat": 4,
 "nbformat_minor": 5
}
