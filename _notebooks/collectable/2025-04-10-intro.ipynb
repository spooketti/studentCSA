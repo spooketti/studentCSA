{
 "cells": [
  {
   "cell_type": "code",
   "execution_count": null,
   "id": "70d0fc10",
   "metadata": {
    "vscode": {
     "languageId": "yaml"
    }
   },
   "outputs": [],
   "source": [
    "---\n",
    "layout: post\n",
    "title: Collectables Intro (2)\n",
    "categories: [Java Spring]\n",
    "permalink: /collectablesToolkitIntro\n",
    "authors: Tarun, Srini, Nitin\n",
    "menu: /nav/CSA_Units/ds_team_teaches/toolkit-collectables.html\n",
    "---"
   ]
  },
  {
   "cell_type": "markdown",
   "id": "fe789793",
   "metadata": {},
   "source": [
    "## Introduction- Srini\n",
    "\n",
    "The **Java Collections Framework** provides a unified structure for working with groups of objects. At its core is the Collection<E> interface, which defines common behaviors for all standard collections.\n",
    "\n",
    "Since Collection<E> extends Iterable<E>, all collections can be looped through using a for-each loop. As an interface, Collection doesn't hold data—it defines a contract that classes like ArrayList, HashSet, and LinkedList follow.\n",
    "\n",
    "---\n",
    "\n",
    "### Key Benefits of Using Collections\n",
    "\n",
    "- Dynamic sizing (unlike arrays)\n",
    "- Works with any object type using generics\n",
    "- Common operations like add, remove, and contains\n",
    "- Allows flexible, reusable code through interfaces\n",
    "\n",
    "---\n",
    "\n",
    "### Core Java Collection Implementations\n",
    "\n",
    "- **ArrayList**\n",
    "  - **Implements:** List (which extends Collection)\n",
    "  - **Behavior:** Ordered, allows duplicates, fast random access\n",
    "  - **Example:** ArrayList\n",
    "\n",
    "- **HashSet**\n",
    "  - **Implements:** Set (which extends Collection)\n",
    "  - **Behavior:** Unordered, no duplicates, fast operations using hashing\n",
    "  - **Example:** HashSet\n",
    "\n",
    "- **LinkedList**\n",
    "  - **Implements:** List, Deque, Queue (all extend Collection)\n",
    "  - **Behavior:** Ordered, allows duplicates, efficient insert/remove\n",
    "  - **Example:** LinkedList\n",
    "\n"
   ]
  }
 ],
 "metadata": {
  "language_info": {
   "name": "python"
  }
 },
 "nbformat": 4,
 "nbformat_minor": 5
}
