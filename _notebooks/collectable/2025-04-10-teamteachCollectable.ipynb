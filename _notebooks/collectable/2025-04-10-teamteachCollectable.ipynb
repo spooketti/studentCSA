{
 "cells": [
  {
   "cell_type": "code",
   "execution_count": null,
   "metadata": {
    "vscode": {
     "languageId": "yaml"
    }
   },
   "outputs": [],
   "source": [
    "---\n",
    "layout: post\n",
    "title: Collectables Interfaces\n",
    "permalink: /collectablesToolkit\n",
    "authors: Tarun, Srini, Nitin\n",
    "menu: /nav/CSA_Units/ds_team_teaches/toolkit-collectables.html\n",
    "---"
   ]
  },
  {
   "cell_type": "markdown",
   "metadata": {},
   "source": [
    "# Java Collections Framework TeamTeach\n",
    "## Core Collection Interfaces"
   ]
  },
  {
   "cell_type": "markdown",
   "metadata": {},
   "source": [
    "## Introduction- Srini\n",
    "\n",
    "The **Java Collections Framework** provides a unified structure for working with groups of objects. At its core is the **Collection<E>** interface, which defines common behaviors for all standard collections.\n",
    "\n",
    "Since **Collection<E>** extends **Iterable<E>**, all collections can be looped through using a for-each loop. As an interface, **Collection** doesn't hold data—it defines a contract that classes like **ArrayList**, **HashSet**, and **LinkedList** follow.\n",
    "\n",
    "---\n",
    "\n",
    "### Key Benefits of Using Collections\n",
    "\n",
    "- Dynamic sizing (unlike arrays)\n",
    "- Works with any object type using generics\n",
    "- Common operations like add, remove, and contains\n",
    "- Allows flexible, reusable code through interfaces\n",
    "\n",
    "---\n",
    "\n",
    "### Core Java Collection Implementations\n",
    "\n",
    "- **ArrayList**\n",
    "  - **Implements:** List (which extends Collection)\n",
    "  - **Behavior:** Ordered, allows duplicates, fast random access\n",
    "  - **Example:** ArrayList\n",
    "\n",
    "- **HashSet**\n",
    "  - **Implements:** Set (which extends Collection)\n",
    "  - **Behavior:** Unordered, no duplicates, fast operations using hashing\n",
    "  - **Example:** HashSet\n",
    "\n",
    "- **LinkedList**\n",
    "  - **Implements:** List, Deque, Queue (all extend Collection)\n",
    "  - **Behavior:** Ordered, allows duplicates, efficient insert/remove\n",
    "  - **Example:** LinkedList\n",
    "\n",
    "- **HashMap**\n",
    "  - **Implements:** Map (not part of Collection)\n",
    "  - **Behavior:** Stores key-value pairs, no duplicate keys, fast lookup via hashing\n",
    "  - **Example:** HashMap\n"
   ]
  },
  {
   "cell_type": "markdown",
   "metadata": {},
   "source": [
    "![Image](https://github.com/user-attachments/assets/72331119-b8e1-46cf-a4d4-8739528bb384)"
   ]
  },
  {
   "cell_type": "markdown",
   "metadata": {},
   "source": [
    "## 1. Lists-Srini\n",
    "\n",
    "### What is a List?\n",
    "- **Ordered Collection**: Elements are stored in a specific sequence.\n",
    "- **Indexed Access**: Elements can be accessed via their index.\n",
    "- **Duplicates Allowed**: Lists can contain multiple instances of the same element.\n",
    "- **Insertion Order Preserved**: The order of insertion is maintained.\n",
    "\n",
    "---\n",
    "\n",
    "### Common Operations\n",
    "\n",
    "- **add(E e)**: Adds the element to the end of the list.\n",
    "- **add(int index, E element)**: Inserts the element at the specified index.\n",
    "- **get(int index)**: Retrieves the element at the specified index.\n",
    "- **set(int index, E element)**: Replaces the element at the specified index.\n",
    "- **remove(int index)**: Removes the element at the specified index.\n",
    "- **indexOf(Object o)**: Finds the first occurrence of the specified element.\n",
    "- **lastIndexOf(Object o)**: Finds the last occurrence of the specified element.\n",
    "- **subList(int fromIndex, int toIndex)**: Returns a sublist from the specified range of indices.\n"
   ]
  },
  {
   "cell_type": "markdown",
   "metadata": {},
   "source": [
    "### Example: Basic List Operations"
   ]
  },
  {
   "cell_type": "code",
   "execution_count": 2,
   "metadata": {
    "vscode": {
     "languageId": "java"
    }
   },
   "outputs": [
    {
     "name": "stdout",
     "output_type": "stream",
     "text": [
      "Fruits List: [Apple, Banana, Orange, Mango]\n",
      "First Fruit: Apple\n",
      "Updated List: [Apple, Blueberry, Orange, Mango]\n",
      "List After Removal: [Apple, Blueberry, Mango]\n",
      "Index of Mango: 2\n",
      "Size of List: 3\n",
      "List contains Apple: true\n",
      "Sublist: [Apple, Blueberry]\n"
     ]
    }
   ],
   "source": [
    "import java.util.ArrayList;\n",
    "import java.util.List;\n",
    "\n",
    "\n",
    "List<String> fruits = new ArrayList<>();\n",
    "\n",
    "fruits.add(\"Apple\");\n",
    "fruits.add(\"Banana\");\n",
    "fruits.add(\"Orange\");\n",
    "fruits.add(\"Mango\");\n",
    "\n",
    "System.out.println(\"Fruits List: \" + fruits);\n",
    "\n",
    "String firstFruit = fruits.get(0);\n",
    "System.out.println(\"First Fruit: \" + firstFruit);\n",
    "\n",
    "fruits.set(1, \"Blueberry\");\n",
    "System.out.println(\"Updated List: \" + fruits);\n",
    "\n",
    "fruits.remove(2);\n",
    "System.out.println(\"List After Removal: \" + fruits);\n",
    "\n",
    "int index = fruits.indexOf(\"Mango\");\n",
    "System.out.println(\"Index of Mango: \" + index);\n",
    "\n",
    "int size = fruits.size();\n",
    "System.out.println(\"Size of List: \" + size);\n",
    "\n",
    "boolean hasApple = fruits.contains(\"Apple\");\n",
    "System.out.println(\"List contains Apple: \" + hasApple);\n",
    "\n",
    "List<String> sublist = fruits.subList(0, 2);\n",
    "System.out.println(\"Sublist: \" + sublist);\n",
    "\n"
   ]
  },
  {
   "cell_type": "markdown",
   "metadata": {},
   "source": [
    "### Example: List Iteration"
   ]
  },
  {
   "cell_type": "code",
   "execution_count": 3,
   "metadata": {
    "vscode": {
     "languageId": "java"
    }
   },
   "outputs": [
    {
     "name": "stdout",
     "output_type": "stream",
     "text": [
      "Using for-each loop:\n",
      "Apple\n",
      "Banana\n",
      "Orange\n",
      "Mango\n",
      "\n",
      "Using regular for loop:\n",
      "Apple\n",
      "Banana\n",
      "Orange\n",
      "Mango\n",
      "\n",
      "Using Java 8 forEach with Lambda:\n",
      "Apple\n",
      "Banana\n",
      "Orange\n",
      "Mango\n"
     ]
    }
   ],
   "source": [
    "import java.util.ArrayList;\n",
    "import java.util.List;\n",
    "\n",
    "List<String> fruits = new ArrayList<>();\n",
    "fruits.add(\"Apple\");\n",
    "fruits.add(\"Banana\");\n",
    "fruits.add(\"Orange\");\n",
    "fruits.add(\"Mango\");\n",
    "\n",
    "System.out.println(\"Using for-each loop:\");\n",
    "for (String fruit : fruits) { \n",
    "    System.out.println(fruit);\n",
    "}\n",
    "\n",
    "System.out.println(\"\\nUsing regular for loop:\");\n",
    "for (int i = 0; i < fruits.size(); i++) {\n",
    "    System.out.println(fruits.get(i));\n",
    "}\n",
    "\n",
    "System.out.println(\"\\nUsing Java 8 forEach with Lambda:\");\n",
    "fruits.forEach(fruit -> System.out.println(fruit));\n"
   ]
  },
  {
   "cell_type": "markdown",
   "metadata": {},
   "source": [
    "### How Extending Iterable Ties into Collection\n",
    "\n",
    "- The **Collection** interface extends **Iterable**, meaning all collections (like **List**, **Set**, etc.) can be iterated over.\n",
    "- By implementing the **Iterable** interface, collections provide the **iterator()** method, which is used in the enhanced for-loop (for-each loop).\n",
    "- This allows collections to be traversed without needing to manually manage the index, simplifying iteration.\n",
    "- The **forEach** method, introduced in Java 8, also leverages **Iterable** to iterate over elements using lambda expressions.\n"
   ]
  },
  {
   "cell_type": "markdown",
   "metadata": {},
   "source": [
    "## 2. Sets- Nitin\n",
    "\n",
    "### What is a Set?\n",
    "- Collection that cannot contain duplicate elements\n",
    "- Models the mathematical set abstraction\n",
    "- No guarantees concerning the order of elements\n",
    "\n",
    "### Key Operations\n",
    "- **add(E e)**: Adds element to the set if not already present\n",
    "- **remove(Object o)**: Removes specified element if present\n",
    "- **contains(Object o)**: Returns true if set contains the specified element\n",
    "- **isEmpty()**: Returns true if set contains no elements\n",
    "- **size()**: Returns the number of elements in the set\n",
    "- **clear()**: Removes all elements from the set\n",
    "\n",
    "\n",
    "## Key takeaways\n",
    "- NO DUPLICATES\n",
    "- No ORDER\n",
    "- Operations generally in O(1) for many set implementations"
   ]
  },
  {
   "cell_type": "markdown",
   "metadata": {},
   "source": [
    "### Example: Basic Set Operations"
   ]
  },
  {
   "cell_type": "code",
   "execution_count": 5,
   "metadata": {
    "vscode": {
     "languageId": "java"
    }
   },
   "outputs": [
    {
     "name": "stdout",
     "output_type": "stream",
     "text": [
      "Set after adding elements: [Apple, Orange, Banana]\n",
      "Set after removing 'Banana': [Apple, Orange]\n",
      "Set contains 'Orange': true\n",
      "Size of Set: 2\n",
      "Is Set empty: false\n",
      "Set after clearing: []\n",
      "Is Set empty after clear: true\n"
     ]
    }
   ],
   "source": [
    "Set<String> fruits = new HashSet<>();\n",
    "        \n",
    "fruits.add(\"Apple\");\n",
    "fruits.add(\"Banana\");\n",
    "fruits.add(\"Orange\");\n",
    "fruits.add(\"Apple\");  // Duplicate, won't be added!!!\n",
    "System.out.println(\"Set after adding elements: \" + fruits);\n",
    "\n",
    "fruits.remove(\"Banana\");\n",
    "System.out.println(\"Set after removing 'Banana': \" + fruits);\n",
    "\n",
    "boolean containsOrange = fruits.contains(\"Orange\");\n",
    "System.out.println(\"Set contains 'Orange': \" + containsOrange);\n",
    "\n",
    "System.out.println(\"Size of Set: \" + fruits.size());\n",
    "\n",
    "System.out.println(\"Is Set empty: \" + fruits.isEmpty());\n",
    "\n",
    "fruits.clear();\n",
    "System.out.println(\"Set after clearing: \" + fruits);\n",
    "\n",
    "System.out.println(\"Is Set empty after clear: \" + fruits.isEmpty());"
   ]
  },
  {
   "cell_type": "markdown",
   "metadata": {},
   "source": [
    "## 3. Queues- Tarun\n",
    "\n",
    "### What is a Queue?\n",
    "- A collection designed for holding elements prior to processing.\n",
    "- Follows the **First-In-First-Out (FIFO)** principle: the first element added is the first one to be removed.\n",
    "- Useful in scenarios like scheduling( **QUEUE SYSTEM IN TOOLKIT FOR EXAMPLE** ), task processing, or handling events.\n",
    "\n",
    "### Key Operations\n",
    "- **add(E e)**: Adds an element to the queue. If the queue is full, it throws an exception.\n",
    "- **remove()**: Removes and returns the head (first element) of the queue. Throws an exception if the queue is empty.\n",
    "- **peek()**: Returns the head of the queue without removing it. Returns **null** if the queue is empty.\n",
    "- **isEmpty()**: Returns **true** if the queue contains no elements.\n",
    "- **size()**: Returns the number of elements in the queue.\n",
    "- **clear()**: Removes all elements from the queue."
   ]
  },
  {
   "cell_type": "markdown",
   "metadata": {},
   "source": [
    "### Example: Basic Queue Operations"
   ]
  },
  {
   "cell_type": "code",
   "execution_count": 6,
   "metadata": {
    "vscode": {
     "languageId": "java"
    }
   },
   "outputs": [
    {
     "name": "stdout",
     "output_type": "stream",
     "text": [
      "Queue after adding elements: [Apple, Banana, Orange]\n",
      "Removed element: Apple\n",
      "Queue after removing an element: [Banana, Orange]\n",
      "First element (peek): Banana\n",
      "Size of Queue: 2\n",
      "Is Queue empty: false\n",
      "Queue after clearing: []\n",
      "Is Queue empty after clear: true\n"
     ]
    }
   ],
   "source": [
    "Queue<String> queue = new LinkedList<>();\n",
    "\n",
    "queue.add(\"Apple\");\n",
    "queue.add(\"Banana\");\n",
    "queue.add(\"Orange\");\n",
    "System.out.println(\"Queue after adding elements: \" + queue);\n",
    "\n",
    "String removedElement = queue.remove();\n",
    "System.out.println(\"Removed element: \" + removedElement);\n",
    "System.out.println(\"Queue after removing an element: \" + queue);\n",
    "\n",
    "String firstElement = queue.peek();\n",
    "System.out.println(\"First element (peek): \" + firstElement);\n",
    "\n",
    "System.out.println(\"Size of Queue: \" + queue.size());\n",
    "\n",
    "System.out.println(\"Is Queue empty: \" + queue.isEmpty());\n",
    "\n",
    "queue.clear();\n",
    "System.out.println(\"Queue after clearing: \" + queue);\n",
    "\n",
    "System.out.println(\"Is Queue empty after clear: \" + queue.isEmpty());"
   ]
  },
  {
   "cell_type": "markdown",
   "metadata": {},
   "source": [
    "## 4. Deques- Tarun\n",
    "\n",
    "### What is a Deque?\n",
    "- A double-ended queue that allows insertion and removal of elements from both ends  \n",
    "- Supports both FIFO (queue) and LIFO (stack) operations  \n",
    "- More flexible than a standard queue  \n",
    "- Common in sliding window problems, undo features, and scheduling tasks  \n",
    "\n",
    "### Key Operations\n",
    "- **addFirst(E e)**: Inserts element at the front  \n",
    "- **addLast(E e)**: Inserts element at the back  \n",
    "- **removeFirst()**: Removes and returns the front element  \n",
    "- **removeLast()**: Removes and returns the back element  \n",
    "- **peekFirst()**: Returns (but does not remove) the front element  \n",
    "- **peekLast()**: Returns (but does not remove) the back element  \n",
    "- **isEmpty()**: Returns true if the deque is empty  \n",
    "- **size()**: Returns the number of elements  \n",
    "- **clear()**: Removes all elements from the deque  \n",
    "\n",
    "---\n",
    "\n",
    "## Key Takeaways\n",
    "- **Two-End Access**: Add or remove from both front and back  \n",
    "- **Stack + Queue Behavior**: Use it like either a stack or a queue  \n",
    "- **Flexible & Efficient**: Ideal for a variety of algorithmic patterns  \n",
    "- **Common Implementations**: ArrayDeque, LinkedList  \n",
    "- **O(1) Operations**: Most operations are constant time with ArrayDeque  \n"
   ]
  },
  {
   "cell_type": "markdown",
   "metadata": {},
   "source": [
    "### Example: Basic Deque Operations"
   ]
  },
  {
   "cell_type": "code",
   "execution_count": 11,
   "metadata": {
    "vscode": {
     "languageId": "java"
    }
   },
   "outputs": [
    {
     "name": "stdout",
     "output_type": "stream",
     "text": [
      "[A, B, C, D]\n",
      "A\n",
      "D\n",
      "B\n",
      "C\n",
      "false\n",
      "2\n",
      "true\n"
     ]
    }
   ],
   "source": [
    "import java.util.Deque;\n",
    "import java.util.ArrayDeque;\n",
    "\n",
    "\n",
    "Deque<String> deque = new ArrayDeque<>();\n",
    "\n",
    "deque.addFirst(\"B\");\n",
    "deque.addLast(\"C\");\n",
    "deque.addFirst(\"A\");\n",
    "deque.addLast(\"D\");\n",
    "\n",
    "System.out.println(deque);\n",
    "\n",
    "System.out.println(deque.removeFirst());\n",
    "System.out.println(deque.removeLast());\n",
    "\n",
    "System.out.println(deque.peekFirst());\n",
    "System.out.println(deque.peekLast());\n",
    "\n",
    "System.out.println(deque.isEmpty());\n",
    "System.out.println(deque.size());\n",
    "\n",
    "deque.clear();\n",
    "System.out.println(deque.isEmpty());\n"
   ]
  },
  {
   "cell_type": "markdown",
   "metadata": {},
   "source": [
    "## Summary Diagram\n",
    "\n",
    "![Image](https://github.com/user-attachments/assets/a21dbb2a-1f66-44b8-bc25-f08ac0718b6f)\n",
    "\n",
    "\n",
    "![Image2](https://github.com/user-attachments/assets/073aeab1-bcd4-425b-a8d7-726d92cb8912)"
   ]
  },
  {
   "cell_type": "markdown",
   "metadata": {},
   "source": [
    "## Java Collections ***Homework*** (due the Wednesday After Spring break)\n",
    "\n",
    "### Objectives\n",
    "- Practice using **List**, **Set**, and **Deque**\n",
    "- Understand when and why to use each\n",
    "- Apply key methods from each collection type\n",
    "- Practice iteration and conditional logic with collections\n",
    "\n",
    "\n",
    "\n",
    "### Part 1: Working with Lists\n",
    "\n",
    "**Task:**  \n",
    "Create a method that takes a List<Integer> and returns a new list containing only the **even numbers**, in the same order.\n",
    "\n",
    "**Requirements:**\n",
    "- Use ArrayList\n",
    "- Use add, get, and size\n",
    "- Use a loop (not streams)\n",
    "\n",
    "\n",
    "\n",
    "### Part 2: Working with Sets\n",
    "\n",
    "**Task:**  \n",
    "Create a method that takes two Set<String> objects and returns a new Set<String> with only the **common elements** (i.e. the intersection).\n",
    "\n",
    "**Requirements:**\n",
    "- Use HashSet\n",
    "- Use contains, add, and iteration\n",
    "- Final result should have **no duplicates**\n",
    "\n",
    "\n",
    "\n",
    "### Part 3: Working with Deques\n",
    "\n",
    "**Task:**  \n",
    "Simulate a line of customers using a Deque<String>. Implement the following steps in order:\n",
    "\n",
    "1. Add 3 customers to the **end**\n",
    "2. Add 1 customer to the **front** (VIP)\n",
    "3. Remove the customer at the **front**\n",
    "4. Show the current front and back of the line\n",
    "5. Print the size of the line\n",
    "\n",
    "**Requirements:**\n",
    "- Use ArrayDeque\n",
    "- Use addFirst, addLast, removeFirst, peekFirst, peekLast, and size\n",
    "\n",
    "\n",
    "\n",
    "### Challenge Question (Bonus +0.01)\n",
    "\n",
    "**Question:**  \n",
    "You need to store a collection of student IDs where:\n",
    "- Order **doesn't matter**\n",
    "- You must prevent **duplicates**\n",
    "- You often need to **check if an ID exists**\n",
    "\n",
    "Which collection type would be most efficient to use and why?\n"
   ]
  }
 ],
 "metadata": {
  "kernelspec": {
   "display_name": "Java",
   "language": "java",
   "name": "java"
  },
  "language_info": {
   "codemirror_mode": "java",
   "file_extension": ".jshell",
   "mimetype": "text/x-java-source",
   "name": "Java",
   "pygments_lexer": "java",
   "version": "17.0.14+0"
  }
 },
 "nbformat": 4,
 "nbformat_minor": 4
}
