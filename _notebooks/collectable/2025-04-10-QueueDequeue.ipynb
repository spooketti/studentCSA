{
 "cells": [
  {
   "cell_type": "code",
   "execution_count": null,
   "id": "864cb2d8",
   "metadata": {
    "vscode": {
     "languageId": "yaml"
    }
   },
   "outputs": [],
   "source": [
    "---\n",
    "layout: post\n",
    "title: Collectables Queue\n",
    "permalink: /collectablesToolkitQueueDequeue\n",
    "authors: Tarun, Srini, Nitin\n",
    "type: ccc\n",
    "menu: /nav/CSA_Units/ds_team_teaches/toolkit-collectables.html\n",
    "---"
   ]
  },
  {
   "cell_type": "markdown",
   "id": "ade2da91",
   "metadata": {},
   "source": [
    "## 3. Queues- Tarun\n",
    "\n",
    "### What is a Queue?\n",
    "- A collection designed for holding elements prior to processing.\n",
    "- Follows the **First-In-First-Out (FIFO)** principle: the first element added is the first one to be removed.\n",
    "- Useful in scenarios like scheduling( **QUEUE SYSTEM IN TOOLKIT FOR EXAMPLE** ), task processing, or handling events.\n",
    "\n",
    "### Key Operations\n",
    "- **add(E e)**: Adds an element to the queue. If the queue is full, it throws an exception.\n",
    "- **remove()**: Removes and returns the head (first element) of the queue. Throws an exception if the queue is empty.\n",
    "- **peek()**: Returns the head of the queue without removing it. Returns **null** if the queue is empty.\n",
    "- **isEmpty()**: Returns **true** if the queue contains no elements.\n",
    "- **size()**: Returns the number of elements in the queue.\n",
    "- **clear()**: Removes all elements from the queue."
   ]
  },
  {
   "cell_type": "markdown",
   "id": "5d7698cb",
   "metadata": {},
   "source": [
    "### Example: Basic Queue Operations"
   ]
  },
  {
   "cell_type": "code",
   "execution_count": null,
   "id": "da96bb04",
   "metadata": {
    "vscode": {
     "languageId": "java"
    }
   },
   "outputs": [
    {
     "name": "stdout",
     "output_type": "stream",
     "text": [
      "Queue after adding elements: [Apple, Banana, Orange]\n",
      "Removed element: Apple\n",
      "Queue after removing an element: [Banana, Orange]\n",
      "First element (peek): Banana\n",
      "Size of Queue: 2\n",
      "Is Queue empty: false\n",
      "Queue after clearing: []\n",
      "Is Queue empty after clear: true\n"
     ]
    }
   ],
   "source": [
    "Queue<String> queue = new LinkedList<>();\n",
    "\n",
    "queue.add(\"Apple\");\n",
    "queue.add(\"Banana\");\n",
    "queue.add(\"Orange\");\n",
    "System.out.println(\"Queue after adding elements: \" + queue);\n",
    "\n",
    "String removedElement = queue.remove();\n",
    "System.out.println(\"Removed element: \" + removedElement);\n",
    "System.out.println(\"Queue after removing an element: \" + queue);\n",
    "\n",
    "String firstElement = queue.peek();\n",
    "System.out.println(\"First element (peek): \" + firstElement);\n",
    "\n",
    "System.out.println(\"Size of Queue: \" + queue.size());\n",
    "\n",
    "System.out.println(\"Is Queue empty: \" + queue.isEmpty());\n",
    "\n",
    "queue.clear();\n",
    "System.out.println(\"Queue after clearing: \" + queue);\n",
    "\n",
    "System.out.println(\"Is Queue empty after clear: \" + queue.isEmpty());"
   ]
  },
  {
   "cell_type": "markdown",
   "id": "20747958",
   "metadata": {},
   "source": [
    "## 4. Deques- Tarun\n",
    "\n",
    "### What is a Deque?\n",
    "- A double-ended queue that allows insertion and removal of elements from both ends  \n",
    "- Supports both FIFO (queue) and LIFO (stack) operations  \n",
    "- More flexible than a standard queue  \n",
    "- Common in sliding window problems, undo features, and scheduling tasks  \n",
    "\n",
    "### Key Operations\n",
    "- **addFirst(E e)**: Inserts element at the front  \n",
    "- **addLast(E e)**: Inserts element at the back  \n",
    "- **removeFirst()**: Removes and returns the front element  \n",
    "- **removeLast()**: Removes and returns the back element  \n",
    "- **peekFirst()**: Returns (but does not remove) the front element  \n",
    "- **peekLast()**: Returns (but does not remove) the back element  \n",
    "- **isEmpty()**: Returns true if the deque is empty  \n",
    "- **size()**: Returns the number of elements  \n",
    "- **clear()**: Removes all elements from the deque  \n",
    "\n",
    "---\n",
    "\n",
    "## Key Takeaways\n",
    "- **Two-End Access**: Add or remove from both front and back  \n",
    "- **Stack + Queue Behavior**: Use it like either a stack or a queue  \n",
    "- **Flexible & Efficient**: Ideal for a variety of algorithmic patterns  \n",
    "- **Common Implementations**: ArrayDeque, LinkedList  \n",
    "- **O(1) Operations**: Most operations are constant time with ArrayDeque  \n"
   ]
  },
  {
   "cell_type": "markdown",
   "id": "ea022209",
   "metadata": {},
   "source": [
    "### Example: Basic Deque Operations"
   ]
  },
  {
   "cell_type": "code",
   "execution_count": null,
   "id": "65a35481",
   "metadata": {
    "vscode": {
     "languageId": "java"
    }
   },
   "outputs": [
    {
     "name": "stdout",
     "output_type": "stream",
     "text": [
      "[A, B, C, D]\n",
      "A\n",
      "D\n",
      "B\n",
      "C\n",
      "false\n",
      "2\n",
      "true\n"
     ]
    }
   ],
   "source": [
    "import java.util.Deque;\n",
    "import java.util.ArrayDeque;\n",
    "\n",
    "\n",
    "Deque<String> deque = new ArrayDeque<>();\n",
    "\n",
    "deque.addFirst(\"B\");\n",
    "deque.addLast(\"C\");\n",
    "deque.addFirst(\"A\");\n",
    "deque.addLast(\"D\");\n",
    "\n",
    "System.out.println(deque);\n",
    "\n",
    "System.out.println(deque.removeFirst());\n",
    "System.out.println(deque.removeLast());\n",
    "\n",
    "System.out.println(deque.peekFirst());\n",
    "System.out.println(deque.peekLast());\n",
    "\n",
    "System.out.println(deque.isEmpty());\n",
    "System.out.println(deque.size());\n",
    "\n",
    "deque.clear();\n",
    "System.out.println(deque.isEmpty());\n"
   ]
  },
  {
   "cell_type": "markdown",
   "id": "40072941",
   "metadata": {},
   "source": [
    "### Example: Basic Queue Operations"
   ]
  },
  {
   "cell_type": "code",
   "execution_count": null,
   "id": "a7739643",
   "metadata": {
    "vscode": {
     "languageId": "java"
    }
   },
   "outputs": [
    {
     "name": "stdout",
     "output_type": "stream",
     "text": [
      "Queue after adding elements: [Apple, Banana, Orange]\n",
      "Removed element: Apple\n",
      "Queue after removing an element: [Banana, Orange]\n",
      "First element (peek): Banana\n",
      "Size of Queue: 2\n",
      "Is Queue empty: false\n",
      "Queue after clearing: []\n",
      "Is Queue empty after clear: true\n"
     ]
    }
   ],
   "source": [
    "Queue<String> queue = new LinkedList<>();\n",
    "\n",
    "queue.add(\"Apple\");\n",
    "queue.add(\"Banana\");\n",
    "queue.add(\"Orange\");\n",
    "System.out.println(\"Queue after adding elements: \" + queue);\n",
    "\n",
    "String removedElement = queue.remove();\n",
    "System.out.println(\"Removed element: \" + removedElement);\n",
    "System.out.println(\"Queue after removing an element: \" + queue);\n",
    "\n",
    "String firstElement = queue.peek();\n",
    "System.out.println(\"First element (peek): \" + firstElement);\n",
    "\n",
    "System.out.println(\"Size of Queue: \" + queue.size());\n",
    "\n",
    "System.out.println(\"Is Queue empty: \" + queue.isEmpty());\n",
    "\n",
    "queue.clear();\n",
    "System.out.println(\"Queue after clearing: \" + queue);\n",
    "\n",
    "System.out.println(\"Is Queue empty after clear: \" + queue.isEmpty());"
   ]
  }
 ],
 "metadata": {
  "language_info": {
   "name": "python"
  }
 },
 "nbformat": 4,
 "nbformat_minor": 5
}
