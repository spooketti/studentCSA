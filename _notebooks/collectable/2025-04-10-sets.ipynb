{
 "cells": [
  {
   "cell_type": "code",
   "execution_count": null,
   "id": "2e952bf1",
   "metadata": {
    "vscode": {
     "languageId": "yaml"
    }
   },
   "outputs": [],
   "source": [
    "---\n",
    "layout: post\n",
    "title: Collectables Set\n",
    "permalink: /collectablesToolkitSets\n",
    "authors: Tarun, Srini, Nitin\n",
    "menu: /nav/CSA_Units/ds_team_teaches/toolkit-collectables.html\n",
    "---"
   ]
  },
  {
   "cell_type": "markdown",
   "id": "96d6e409",
   "metadata": {},
   "source": [
    "## 2. Sets- Nitin\n",
    "\n",
    "### What is a Set?\n",
    "- Collection that cannot contain duplicate elements\n",
    "- Models the mathematical set abstraction\n",
    "- No guarantees concerning the order of elements\n",
    "\n",
    "### Key Operations\n",
    "- **add(E e)**: Adds element to the set if not already present\n",
    "- **remove(Object o)**: Removes specified element if present\n",
    "- **contains(Object o)**: Returns true if set contains the specified element\n",
    "- **isEmpty()**: Returns true if set contains no elements\n",
    "- **size()**: Returns the number of elements in the set\n",
    "- **clear()**: Removes all elements from the set\n",
    "\n",
    "\n",
    "## Key takeaways\n",
    "- NO DUPLICATES\n",
    "- No ORDER\n",
    "- Operations generally in O(1) for many set implementations"
   ]
  },
  {
   "cell_type": "markdown",
   "id": "9a70731a",
   "metadata": {},
   "source": [
    "### Example: Basic Set Operations"
   ]
  },
  {
   "cell_type": "code",
   "execution_count": null,
   "id": "962c6fa9",
   "metadata": {
    "vscode": {
     "languageId": "java"
    }
   },
   "outputs": [
    {
     "name": "stdout",
     "output_type": "stream",
     "text": [
      "Set after adding elements: [Apple, Orange, Banana]\n",
      "Set after removing 'Banana': [Apple, Orange]\n",
      "Set contains 'Orange': true\n",
      "Size of Set: 2\n",
      "Is Set empty: false\n",
      "Set after clearing: []\n",
      "Is Set empty after clear: true\n"
     ]
    }
   ],
   "source": [
    "Set<String> fruits = new HashSet<>();\n",
    "        \n",
    "fruits.add(\"Apple\");\n",
    "fruits.add(\"Banana\");\n",
    "fruits.add(\"Orange\");\n",
    "fruits.add(\"Apple\");  // Duplicate, won't be added!!!\n",
    "System.out.println(\"Set after adding elements: \" + fruits);\n",
    "\n",
    "fruits.remove(\"Banana\");\n",
    "System.out.println(\"Set after removing 'Banana': \" + fruits);\n",
    "\n",
    "boolean containsOrange = fruits.contains(\"Orange\");\n",
    "System.out.println(\"Set contains 'Orange': \" + containsOrange);\n",
    "\n",
    "System.out.println(\"Size of Set: \" + fruits.size());\n",
    "\n",
    "System.out.println(\"Is Set empty: \" + fruits.isEmpty());\n",
    "\n",
    "fruits.clear();\n",
    "System.out.println(\"Set after clearing: \" + fruits);\n",
    "\n",
    "System.out.println(\"Is Set empty after clear: \" + fruits.isEmpty());"
   ]
  }
 ],
 "metadata": {
  "language_info": {
   "name": "python"
  }
 },
 "nbformat": 4,
 "nbformat_minor": 5
}
