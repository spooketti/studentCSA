{
 "cells": [
  {
   "cell_type": "markdown",
   "metadata": {},
   "source": [
    "---\n",
    "title: Calculator Enactment\n",
    "comments: true\n",
    "layout: post\n",
    "description: Continue with Classes, Queues, performing Sorts and BigO analysis on your algorithm(s).\n",
    "author: John Mortensen\n",
    "type: ccc\n",
    "courses: { csa: {week: 25} }\n",
    "---\n"
   ]
  },
  {
   "cell_type": "markdown",
   "metadata": {},
   "source": [
    "## Reverse Polish Notation (RPN) & Postfix Evaluation  \n",
    "\n",
    "### **Understanding Stacks and Queues**  \n",
    "- **Stack (LIFO - Last In, First Out)**: Think of stacking cards. The last one placed is the first one removed.  \n",
    "- **Queue (FIFO - First In, First Out)**: Think of a line at a store. The first one in is the first one out.  \n",
    "\n",
    "---\n",
    "\n",
    "### **What is Reverse Polish Notation (RPN)?**  \n",
    "- **Infix Notation**: Standard mathematical notation where operators are between operands. (e.g., `3 + 5 * 8`)  \n",
    "- **Postfix Notation (RPN)**: Operators come after the operands. (e.g., `35+8*` instead of `(3+5)*8`)  \n",
    "\n",
    "**Example Conversions:**  \n",
    "1. `3 * 5` → `35*`  \n",
    "2. `(3 + 5) * 8` → `35+8*`  \n",
    "\n",
    "---\n",
    "\n",
    "### **Postfix Expression Evaluation**  \n",
    "**Example:** Solve `8 9 + 10 3 * 8 *`  \n",
    "#### **Step-by-Step Calculation:**\n",
    "1. `8 9 +` → `17`\n",
    "2. `10 3 *` → `30`\n",
    "3. `30 8 *` → `240`\n",
    "4. Final result: `17 240` (Not combined yet, needs more context)  \n",
    "\n",
    "**Try this:** Solve `8 2 ^ 8 8 * +`  \n",
    "#### **Step-by-Step Calculation:**\n",
    "1. `8 2 ^` → `64` (Exponentiation: `8^2 = 64`)\n",
    "2. `8 8 *` → `64`\n",
    "3. `64 64 +` → `128` (Final result)  \n",
    "\n",
    "---\n",
    "\n",
    "### **Why Use Postfix Notation?**  \n",
    "- **Follows PEMDAS naturally** (Parentheses, Exponents, Multiplication/Division, Addition/Subtraction).  \n",
    "- **Operators go into a stack**, while **numerals go into a queue**.  \n",
    "- **Easier to evaluate expressions using stacks**, reducing complexity in parsing.  \n",
    "\n",
    "---\n",
    "\n",
    "### **Popcorn Hack - Convert to Infix!**  \n",
    "Convert the following **postfix expressions** into **infix notation**:\n",
    "\n",
    "1. `6 3 * 4 +`\n",
    "   (6*3) + 4\n",
    "   18 + 4\n",
    "   22\n",
    "\n",
    "2. `10 2 8 * + 3 -`\n",
    "   10+(2*8)-3\n",
    "   10+16-3\n",
    "   23\n",
    "\n",
    "3. `15 3 / 4 2 * +`\n",
    "    (15/3)+(4*2)\n",
    "    5+8\n",
    "    13\n",
    "\n",
    "4. `7 3 2 * + 5 -`\n",
    "    7+(3*2)-5\n",
    "    7+6-5\n",
    "    8\n",
    "\n",
    "5. `9 3 + 2 ^`\n",
    "    (9+3)^2\n",
    "    12^2\n",
    "    144\n"
   ]
  },
  {
   "cell_type": "markdown",
   "metadata": {},
   "source": [
    "### Answers Here for Popcorn Hack\n",
    "\n",
    "1. `6 3 * 4 +`\n",
    "   (6*3) + 4\n",
    "   18 + 4\n",
    "   22\n",
    "\n",
    "2. `10 2 8 * + 3 -`\n",
    "   10+(2*8)-3\n",
    "   10+16-3\n",
    "   23\n",
    "\n",
    "3. `15 3 / 4 2 * +`\n",
    "    (15/3)+(4*2)\n",
    "    5+8\n",
    "    13\n",
    "\n",
    "4. `7 3 2 * + 5 -`\n",
    "    7+(3*2)-5\n",
    "    7+6-5\n",
    "    8\n",
    "\n",
    "5. `9 3 + 2 ^`\n",
    "    (9+3)^2\n",
    "    12^2\n",
    "    144"
   ]
  },
  {
   "cell_type": "markdown",
   "metadata": {},
   "source": [
    "### Infix to RPN\n",
    "- For every “token” in infix\n",
    "[![824-E9-D4-F-D60-A-4941-B42-F-32-C730-BD9-DA5.png](https://i.postimg.cc/bJz03hkP/824-E9-D4-F-D60-A-4941-B42-F-32-C730-BD9-DA5.png)](https://postimg.cc/3ycDxztf)\n",
    "[![85-DC050-E-F993-400-D-8608-179-A68144-DC4.png](https://i.postimg.cc/VL3j2MnD/85-DC050-E-F993-400-D-8608-179-A68144-DC4.png)](https://postimg.cc/YhzGWvXW)\n",
    "  - If token is number: push into queue\n",
    "  - Else if token is operator \n",
    "    - While the stack isn't empty, and the operator at the top of the stack has greater or equal “precedence” to the current token, pop values from stack into the queue. \n",
    "    - Then push the “token” into the stack.\n",
    "  - Else if token is “(“\n",
    "    - Push token into stack\n",
    "  - Else if token is “)”\n",
    "    - Pop elements from stack to queue until you reach the “(“\n",
    "    - Remove “(“ from the stack\n",
    "[![99638-DD9-D95-C-48-B4-A8-E5-A406-EBA93-F44.png](https://i.postimg.cc/pTThmXKm/99638-DD9-D95-C-48-B4-A8-E5-A406-EBA93-F44.png)](https://postimg.cc/5HhNGJ7J)\n",
    "\n",
    "### Evaluate the RPN\n",
    "- Make new stack\n",
    "- For every token in queue\n",
    "  - If token is number: push into stack\n",
    "  - If token is operator:\n",
    "    - Take 2 nums from top of the stack\n",
    "    - Use the operator: [num1] (operator) [num2]\n",
    "    - Put result into stack\n",
    "- When stack only has 1 element, you have your answer!\n"
   ]
  },
  {
   "cell_type": "markdown",
   "metadata": {},
   "source": [
    "[![A117-BCA3-60-D8-41-F6-BFFD-FD10-C7453-D5-D.png](https://i.postimg.cc/Ls4BVSzp/A117-BCA3-60-D8-41-F6-BFFD-FD10-C7453-D5-D.png)](https://postimg.cc/bZMtzKCC)"
   ]
  },
  {
   "cell_type": "markdown",
   "metadata": {},
   "source": [
    "## Homework:\n",
    "* Instead of making a calculator using postfix, make a calculator that uses prefix (the operation goes before the numerals)\n",
    "* Prefix: 3*5 becomes *35, (7-5)*2 becomes *2-75"
   ]
  },
  {
   "cell_type": "markdown",
   "metadata": {
    "vscode": {
     "languageId": "plaintext"
    }
   },
   "source": [
    "# HW"
   ]
  },
  {
   "cell_type": "code",
   "execution_count": 5,
   "metadata": {
    "vscode": {
     "languageId": "java"
    }
   },
   "outputs": [
    {
     "name": "stdout",
     "output_type": "stream",
     "text": [
      "Enter prefix expression: + 3 * 5 2\n",
      "Result: 13.0\n"
     ]
    }
   ],
   "source": [
    "import java.util.*;\n",
    "\n",
    "public class PrefixCalculator {\n",
    "    public static void main(String[] args) {\n",
    "        Scanner scanner = new Scanner(System.in);\n",
    "        System.out.print(\"Enter prefix expression: \");\n",
    "        String expression = scanner.nextLine();\n",
    "        System.out.println(expression);\n",
    "        scanner.close();\n",
    "\n",
    "        try {\n",
    "            double result = evaluatePrefix(expression);\n",
    "            System.out.println(\"Result: \" + result);\n",
    "        } catch (Exception e) {\n",
    "            System.out.println(\"Invalid expression!\");\n",
    "        }\n",
    "    }\n",
    "\n",
    "    public static double evaluatePrefix(String expr) {\n",
    "        Stack<Double> stack = new Stack<>();\n",
    "        String[] tokens = expr.split(\"\\\\s+\");\n",
    "        List<String> operators = Arrays.asList(\"+\", \"-\", \"*\", \"/\", \"^\");\n",
    "\n",
    "        for (int i = tokens.length - 1; i >= 0; i--) {\n",
    "            String token = tokens[i];\n",
    "\n",
    "            if (!operators.contains(token)) {\n",
    "                stack.push(Double.parseDouble(token));\n",
    "            } else {\n",
    "                double operand1 = stack.pop();\n",
    "                double operand2 = stack.pop();\n",
    "\n",
    "                switch (token) {\n",
    "                    case \"+\": stack.push(operand1 + operand2); break;\n",
    "                    case \"-\": stack.push(operand1 - operand2); break;\n",
    "                    case \"*\": stack.push(operand1 * operand2); break;\n",
    "                    case \"/\": stack.push(operand1 / operand2); break;\n",
    "                    case \"^\": stack.push(Math.pow(operand1, operand2)); break;\n",
    "                    default: throw new IllegalArgumentException(\"Invalid operator: \" + token);\n",
    "                }\n",
    "            }\n",
    "        }\n",
    "\n",
    "        return stack.pop();\n",
    "    }\n",
    "}\n",
    "\n",
    "PrefixCalculator calc = new PrefixCalculator();\n",
    "calc.main(null);"
   ]
  }
 ],
 "metadata": {
  "kernelspec": {
   "display_name": "Java",
   "language": "java",
   "name": "java"
  },
  "language_info": {
   "codemirror_mode": "java",
   "file_extension": ".jshell",
   "mimetype": "text/x-java-source",
   "name": "Java",
   "pygments_lexer": "java",
   "version": "17.0.14+7-Ubuntu-122.04.1"
  }
 },
 "nbformat": 4,
 "nbformat_minor": 2
}
