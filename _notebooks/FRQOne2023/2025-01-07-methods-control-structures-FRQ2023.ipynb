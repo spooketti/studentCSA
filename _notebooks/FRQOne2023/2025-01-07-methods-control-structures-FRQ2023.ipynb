{
 "cells": [
  {
   "cell_type": "markdown",
   "metadata": {},
   "source": [
    "---\n",
    "layout: post\n",
    "title: 2023 FRQ Review\n",
    "categories: [AP CSA]\n",
    "permalink: /frq1_per3/frq_example\n",
    "menu: nav/FRQONE2023.html\n",
    "---"
   ]
  },
  {
   "cell_type": "markdown",
   "metadata": {},
   "source": [
    "# 2023 FRQ"
   ]
  },
  {
   "cell_type": "markdown",
   "metadata": {
    "vscode": {
     "languageId": "raw"
    }
   },
   "source": [
    "![image](https://github.com/user-attachments/assets/649677f2-64d7-4de1-91e8-300368053438)\n",
    "\n",
    "\n",
    "![image](https://github.com/user-attachments/assets/90c68b8e-329f-4941-b88e-0edbf78ca3cb)\n"
   ]
  },
  {
   "cell_type": "markdown",
   "metadata": {},
   "source": [
    "![image](https://github.com/user-attachments/assets/4413252d-bfd0-4e8d-a3c1-41af3054d1ff)"
   ]
  },
  {
   "cell_type": "markdown",
   "metadata": {},
   "source": [
    "## findFreeBlock\n",
    "\n",
    "\n",
    "This method finds the first block of consecutive free minutes in a given period, with a duration long enough for the requested appointment. If no such block exists, it returns -1.\n",
    "\n",
    "Key Steps:\n",
    "\n",
    "1. Loop through the period from minute 0 to 59.\n",
    "\n",
    "\n",
    "    - Track the count of consecutive free minutes using a variable (freeMinutes).\n",
    "    - Reset freeMinutes to 0 whenever a busy minute is encountered.\n",
    "\n",
    "\n",
    "2. Check each minute using the isMinuteFree(period, minute) helper method.\n",
    "\n",
    "\n",
    "    - Increment freeMinutes if the minute is free.\n",
    "    - Once freeMinutes matches the requested duration, return the starting minute of the block.\n",
    "\n",
    "\n",
    "3. If no valid block is found after checking all minutes, return -1."
   ]
  },
  {
   "cell_type": "code",
   "execution_count": null,
   "metadata": {
    "vscode": {
     "languageId": "java"
    }
   },
   "outputs": [],
   "source": [
    "public int findFreeBlock(int period, int duration) {\n",
    "    int freeMinutes = 0;\n",
    "\n",
    "    for (int minute = 0; minute <= 59; minute++) {\n",
    "        if (isMinuteFree(period, minute)) {\n",
    "            freeMinutes++;\n",
    "            if (freeMinutes == duration) {\n",
    "                return minute - duration + 1; // Start of the block\n",
    "            }\n",
    "        } else {\n",
    "        }\n",
    "    }\n",
    "\n",
    "    return -1; // No block found\n",
    "}\n"
   ]
  },
  {
   "cell_type": "markdown",
   "metadata": {},
   "source": [
    "## Explaination\n",
    "\n",
    "1. Tracks Consecutive Free Minutes:\n",
    "\n",
    "    - The freeMinutes variable keeps count of consecutive free minutes as it loops through the 60 minutes of the given period.\n",
    "\n",
    "\n",
    "2. Checks Free Minutes:\n",
    "\n",
    "    - Uses the helper method isMinuteFree(period, minute) to determine whether each minute is free.\n",
    "\n",
    "\n",
    "3. Finds the Start of the Block:\n",
    "\n",
    "    - When freeMinutes equals duration, it calculates and returns the starting minute of the block using the formula minute - duration + 1.\n",
    "\n",
    "\n",
    "4. Handles Resets:\n",
    "\n",
    "    - If a busy minute is encountered, freeMinutes resets to 0, ensuring only consecutive free minutes are counted.\n",
    "\n",
    "\n",
    "5. Returns -1 if No Block Found:\n",
    "\n",
    "    - If the loop completes without finding a suitable block, the method returns -1."
   ]
  },
  {
   "cell_type": "markdown",
   "metadata": {},
   "source": [
    "![image](https://github.com/user-attachments/assets/667903e7-5f69-48ab-92b2-6d287d353dcc)"
   ]
  },
  {
   "cell_type": "markdown",
   "metadata": {},
   "source": [
    "![image](https://github.com/user-attachments/assets/e7ba3a75-0b0a-4ff9-8297-6c5331cde18f)"
   ]
  },
  {
   "cell_type": "markdown",
   "metadata": {},
   "source": [
    "## makeAppointment\n",
    "\n",
    "This method searches multiple periods, from startPeriod to endPeriod, to find the earliest block of free minutes. If found, it reserves the block and returns true. Otherwise, it returns false.\n",
    "\n",
    "\n",
    "1. Loop through each period from startPeriod to endPeriod.\n",
    "\n",
    "    - Use findFreeBlock(period, duration) to check for an available block in the current period.\n",
    "\n",
    "\n",
    "2. If findFreeBlock returns a valid starting minute:\n",
    "    - Use reserveBlock(period, startMinute, duration) to reserve the block.\n",
    "\n",
    "\n",
    "3. Return true.\n",
    "    - If no block is found after checking all periods, return false.\n"
   ]
  },
  {
   "cell_type": "code",
   "execution_count": null,
   "metadata": {
    "vscode": {
     "languageId": "java"
    }
   },
   "outputs": [],
   "source": [
    "public boolean makeAppointment(int startPeriod, int endPeriod, int duration) {\n",
    "    for (int period = startPeriod; period <= endPeriod; period++) {\n",
    "        int startMinute = findFreeBlock(period, duration);\n",
    "        if (startMinute != -1) {\n",
    "            reserveBlock(period, startMinute, duration); // Reserve the block\n",
    "            return true;\n",
    "        }\n",
    "    }\n",
    "\n",
    "    return false; // No block found in any period\n",
    "}\n"
   ]
  },
  {
   "cell_type": "markdown",
   "metadata": {},
   "source": [
    "## Explaination\n",
    "\n",
    "\n",
    "1. Iterating through the periods from startPeriod to endPeriod.\n",
    "\n",
    "\n",
    "\n",
    "\n",
    "2. Using the findFreeBlock method to check for an available block of minutes in each period.\n",
    "\n",
    "\n",
    "\n",
    "\n",
    "3. Reserving the block with reserveBlock(period, startMinute, duration) when a valid block is found.\n",
    "\n",
    "\n",
    "\n",
    "\n",
    "4. Returning true upon successfully reserving a block or false if no suitable block is found."
   ]
  }
 ],
 "metadata": {
  "language_info": {
   "name": "python"
  }
 },
 "nbformat": 4,
 "nbformat_minor": 2
}
