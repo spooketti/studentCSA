{
 "cells": [
  {
   "cell_type": "markdown",
   "metadata": {},
   "source": [
    "---\n",
    "layout: post\n",
    "toc: true\n",
    "title: FRQ Teaching Classes\n",
    "description: Lesson for class FRQs\n",
    "categories: [AP CSA]\n",
    "courses: { csa: {week: 17} }\n",
    "type: ccc\n",
    "menu: nav/FRQONE2023.html\n",
    "author: Trystan, Jason, Bella\n",
    "permalink: /frq1_per3/classes\n",
    "---"
   ]
  },
  {
   "cell_type": "markdown",
   "metadata": {},
   "source": [
    "## **Introduction**\n",
    "\n",
    "The AP Computer Science A exam includes four main types of Free Response Questions (FRQs):  \n",
    "\n",
    "- **Methods and Control Structures**  \n",
    "- **Class**  \n",
    "- **Array/ArrayList**  \n",
    "- **2D Array**  \n",
    "\n",
    "Today, our focus is on attacking the **Classes FRQ**, which tests your understanding of **object-oriented programming (OOP)** concepts. This includes:  \n",
    "- Creating and manipulating **classes**  \n",
    "- Writing **constructors**  \n",
    "- Managing **instance variables**  \n",
    "- Implementing **methods**  \n",
    "- Understanding how objects **interact** in Java  \n",
    "\n"
   ]
  },
  {
   "cell_type": "markdown",
   "metadata": {},
   "source": [
    "## **Getting the first 4 points on ANY Classes FRQ**\n",
    "\n",
    "The key for tackling any classes frq, even if you don't know how to solve the problem, is to have the right \n",
    "1. **Instance Variables**  \n",
    "   - Attributes of an object (e.g., `name`, `age`).  \n",
    "\n",
    "2. **Constructors**  \n",
    "   - Initialize objects and set instance variables.\n",
    "\n",
    "3. **Methods**  \n",
    "   - **Getters/Setters:** Access and alter instance variables.  \n",
    "   - Perform actions or computations related to the object.\n",
    "\n",
    "![image]({{site.baseurl}}/images/rubric.png)\n",
    "\n",
    "Remembering  to use the proper names, types, and encapsulations are key to getting these 4 points EASILY. Trystan will cover these in  more detail  in the prompt.\n"
   ]
  }
 ],
 "metadata": {
  "language_info": {
   "name": "python"
  }
 },
 "nbformat": 4,
 "nbformat_minor": 2
}
