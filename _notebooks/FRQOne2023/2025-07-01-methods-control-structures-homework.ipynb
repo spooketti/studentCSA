{
 "cells": [
  {
   "cell_type": "markdown",
   "metadata": {
    "vscode": {
     "languageId": "raw"
    }
   },
   "source": [
    "---\n",
    "layout: post\n",
    "title: Homework\n",
    "categories: [AP CSA]\n",
    "permalink: /frq1_per3/homework\n",
    "menu: nav/FRQONE2023.html\n",
    "---"
   ]
  },
  {
   "cell_type": "markdown",
   "metadata": {},
   "source": [
    "# Team Teach Homework"
   ]
  },
  {
   "cell_type": "markdown",
   "metadata": {},
   "source": [
    "# **Maze Solver Problem**\n",
    "\n",
    "## **Instructions**\n",
    "\n",
    "\n",
    "Your task is to write a method `solveMaze(char[][] maze, int startX, int startY)` that determines whether a path exists from a starting point `(startX, startY)` in a 2D maze to the exit marked as `'E'`. Use recursion to explore the maze.\n",
    "\n",
    "---\n",
    "\n",
    "## **Requirements**\n",
    "\n",
    "### **Input**\n",
    "\n",
    "\n",
    "- A 2D array of characters (`char[][] maze`) representing the maze.  \n",
    "\n",
    "\n",
    "- An integer `startX` indicating the row index of the starting point.  \n",
    "\n",
    "\n",
    "- An integer `startY` indicating the column index of the starting point.\n",
    "\n",
    "### **Output**\n",
    "\n",
    "\n",
    "- Return `true` if there is a path from `(startX, startY)` to `'E'`.  \n",
    "\n",
    "\n",
    "- Return `false` if no such path exists.\n",
    "\n",
    "\n",
    "\n",
    "### **Maze Rules**\n",
    "\n",
    "\n",
    "- `' '` represents an open path (you can move here).  \n",
    "\n",
    "\n",
    "- `'#'` represents a wall (you cannot move here).  \n",
    "\n",
    "\n",
    "- `'E'` represents the exit (this is the destination).  \n",
    "\n",
    "### **Movement**\n",
    "\n",
    "\n",
    "- You can move **up**, **down**, **left**, or **right** to adjacent cells.  \n",
    "\n",
    "\n",
    "- You cannot move diagonally or leave the bounds of the maze.  \n",
    "\n",
    "\n",
    "### **Marking Visited Cells**\n",
    "\n",
    "\n",
    "- To avoid revisiting the same cells, mark visited cells as `'#'` temporarily during recursion. Restore them to `' '` after backtracking.\n",
    "\n",
    "---\n",
    "\n",
    "## **Steps to Solve**\n",
    "\n",
    "\n",
    "1. Check if the current position is valid:\n",
    "\n",
    "\n",
    "   - Is it within the bounds of the maze?\n",
    "\n",
    "\n",
    "   - Is it an open path or the exit?\n",
    "\n",
    "\n",
    "2. Check if the current position is `'E'`. If yes, return `true`.\n",
    "\n",
    "\n",
    "3. Mark the current cell as visited (change it to `'#'`).\n",
    "\n",
    "\n",
    "4. Recursively explore all possible directions (up, down, left, right).\n",
    "\n",
    "\n",
    "5. If any direction leads to the exit, return `true`.\n",
    "\n",
    "\n",
    "6. Restore the cell to `' '` after exploring (backtracking).\n",
    "\n",
    "\n",
    "7. If no paths lead to the exit, return `false`.\n",
    "\n",
    "---"
   ]
  },
  {
   "cell_type": "code",
   "execution_count": null,
   "metadata": {
    "vscode": {
     "languageId": "java"
    }
   },
   "outputs": [],
   "source": [
    "Test Case 2: Starting at the Exit\n",
    "\n",
    "\n",
    "char[][] maze = {\n",
    "    {'#', '#', '#', '#', '#'},\n",
    "    {'#', ' ', ' ', '#', 'E'},\n",
    "    {'#', ' ', '#', ' ', '#'},\n",
    "    {'#', ' ', ' ', ' ', '#'},\n",
    "    {'#', '#', '#', '#', '#'}\n",
    "};\n",
    "\n",
    "System.out.println(solveMaze(maze, 1, 4)); // Output: true"
   ]
  }
 ],
 "metadata": {
  "language_info": {
   "name": "python"
  }
 },
 "nbformat": 4,
 "nbformat_minor": 2
}
