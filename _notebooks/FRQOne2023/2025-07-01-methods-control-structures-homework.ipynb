{
 "cells": [
  {
   "cell_type": "markdown",
   "metadata": {
    "vscode": {
     "languageId": "raw"
    }
   },
   "source": [
    "---\n",
    "layout: post\n",
    "title: Homework\n",
    "categories: [AP CSA]\n",
    "permalink: /frq1_per3/homework\n",
    "menu: nav/FRQONE2023.html\n",
    "---"
   ]
  },
  {
   "cell_type": "markdown",
   "metadata": {},
   "source": [
    "# Team Teach Homework"
   ]
  },
  {
   "cell_type": "markdown",
   "metadata": {},
   "source": [
    "# **Maze Solver Problem**\n",
    "\n",
    "## **Instructions**\n",
    "\n",
    "\n",
    "Your task is to write a method `solveMaze(char[][] maze, int startX, int startY)` that determines whether a path exists from a starting point `(startX, startY)` in a 2D maze to the exit marked as `'E'`. Use recursion to explore the maze.\n",
    "\n",
    "---\n",
    "\n",
    "## **Requirements**\n",
    "\n",
    "### **Input**\n",
    "\n",
    "\n",
    "- A 2D array of characters (`char[][] maze`) representing the maze.  \n",
    "\n",
    "\n",
    "- An integer `startX` indicating the row index of the starting point.  \n",
    "\n",
    "\n",
    "- An integer `startY` indicating the column index of the starting point.\n",
    "\n",
    "### **Output**\n",
    "\n",
    "\n",
    "- Return `true` if there is a path from `(startX, startY)` to `'E'`.  \n",
    "\n",
    "\n",
    "- Return `false` if no such path exists.\n",
    "\n",
    "\n",
    "\n",
    "### **Maze Rules**\n",
    "\n",
    "\n",
    "- `' '` represents an open path (you can move here).  \n",
    "\n",
    "\n",
    "- `'#'` represents a wall (you cannot move here).  \n",
    "\n",
    "\n",
    "- `'E'` represents the exit (this is the destination).  \n",
    "\n",
    "### **Movement**\n",
    "\n",
    "\n",
    "- You can move **up**, **down**, **left**, or **right** to adjacent cells.  \n",
    "\n",
    "\n",
    "- You cannot move diagonally or leave the bounds of the maze.  \n",
    "\n",
    "\n",
    "### **Marking Visited Cells**\n",
    "\n",
    "\n",
    "- To avoid revisiting the same cells, mark visited cells as `'#'` temporarily during recursion. Restore them to `' '` after backtracking.\n",
    "\n",
    "---\n",
    "\n",
    "## **Steps to Solve**\n",
    "\n",
    "\n",
    "1. Check if the current position is valid:\n",
    "\n",
    "\n",
    "   - Is it within the bounds of the maze?\n",
    "\n",
    "\n",
    "   - Is it an open path or the exit?\n",
    "\n",
    "\n",
    "2. Check if the current position is `'E'`. If yes, return `true`.\n",
    "\n",
    "\n",
    "3. Mark the current cell as visited (change it to `'#'`).\n",
    "\n",
    "\n",
    "4. Recursively explore all possible directions (up, down, left, right).\n",
    "\n",
    "\n",
    "5. If any direction leads to the exit, return `true`.\n",
    "\n",
    "\n",
    "6. Restore the cell to `' '` after exploring (backtracking).\n",
    "\n",
    "\n",
    "7. If no paths lead to the exit, return `false`.\n",
    "\n",
    "---"
   ]
  },
  {
   "cell_type": "code",
   "execution_count": null,
   "metadata": {
    "vscode": {
     "languageId": "java"
    }
   },
   "outputs": [],
   "source": [
    "//Test Case 2: Starting at the Exit\n",
    "\n",
    "\n",
    "char[][] maze = {\n",
    "    {'#', '#', '#', '#', '#'},\n",
    "    {'#', ' ', ' ', '#', 'E'},\n",
    "    {'#', ' ', '#', ' ', '#'},\n",
    "    {'#', ' ', ' ', ' ', '#'},\n",
    "    {'#', '#', '#', '#', '#'}\n",
    "};\n",
    "\n",
    "System.out.println(solveMaze(maze, 1, 4)); // Output: true"
   ]
  },
  {
   "cell_type": "code",
   "execution_count": 16,
   "metadata": {
    "vscode": {
     "languageId": "java"
    }
   },
   "outputs": [
    {
     "name": "stdout",
     "output_type": "stream",
     "text": [
      "true\n"
     ]
    }
   ],
   "source": [
    "public class MazeSolver {\n",
    "\n",
    "    public static boolean canMove(char[][] maze, int x, int y) {\n",
    "        if (y < 0 || y >= maze.length || x < 0 || x >= maze[0].length) {\n",
    "            return false; // Out of bounds\n",
    "        }\n",
    "        return maze[y][x] == ' ' || maze[y][x] == 'E';\n",
    "    }\n",
    "\n",
    "    public static boolean solveMaze(char[][] maze, int x, int y) {\n",
    "        if (maze[y][x] == 'E') {\n",
    "            return true;\n",
    "        }\n",
    "\n",
    "        maze[y][x] = '#';\n",
    "\n",
    "        // Explore all 4 directions: right, left, down, up\n",
    "        if (canMove(maze, x + 1, y) && solveMaze(maze, x + 1, y)) { // Right\n",
    "            return true;\n",
    "        }\n",
    "        if (canMove(maze, x - 1, y) && solveMaze(maze, x - 1, y)) { // Left\n",
    "            return true;\n",
    "        }\n",
    "        if (canMove(maze, x, y + 1) && solveMaze(maze, x, y + 1)) { // Down\n",
    "            return true;\n",
    "        }\n",
    "        if (canMove(maze, x, y - 1) && solveMaze(maze, x, y - 1)) { // Up\n",
    "            return true;\n",
    "        }\n",
    "\n",
    "        // Backtrack\n",
    "        maze[y][x] = ' ';\n",
    "\n",
    "        return false;\n",
    "    }\n",
    "}\n",
    "\n",
    "char[][] maze = {\n",
    "    {'#', '#', '#', '#', '#'},\n",
    "    {'#', ' ', ' ', ' ', 'E'},\n",
    "    {'#', ' ', '#', '#', '#'},\n",
    "    {'#', ' ', '#', '#', '#'},\n",
    "    {'#', '#', '#', '#', '#'}\n",
    "};\n",
    "\n",
    "System.out.println(solveMaze(maze, 1, 1));"
   ]
  }
 ],
 "metadata": {
  "kernelspec": {
   "display_name": "Java",
   "language": "java",
   "name": "java"
  },
  "language_info": {
   "codemirror_mode": "java",
   "file_extension": ".jshell",
   "mimetype": "text/x-java-source",
   "name": "Java",
   "pygments_lexer": "java",
   "version": "17.0.13+11-Ubuntu-2ubuntu122.04"
  }
 },
 "nbformat": 4,
 "nbformat_minor": 2
}
