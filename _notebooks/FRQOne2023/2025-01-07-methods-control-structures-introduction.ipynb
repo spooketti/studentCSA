{
 "cells": [
  {
   "cell_type": "markdown",
   "metadata": {},
   "source": [
    "---\n",
    "layout: post\n",
    "title: Introduction to FRQ#1\n",
    "permalink: /frq1_per3/introduction\n",
    "toc: true\n",
    "description: CSA FRQ \n",
    "type: ccc\n",
    "courses: {csa: {week: 10}}\n",
    "comments: True\n",
    "menu: nav/FRQONE2023.html\n",
    "---"
   ]
  },
  {
   "cell_type": "markdown",
   "metadata": {
    "vscode": {
     "languageId": "plaintext"
    }
   },
   "source": [
    "##### **Question #1 on Exam - Methods + Control Structures**\n",
    "- Typical questions from this category require writing methods that satisfy specific requirements through the use of expressions, conditional statements, and iterative statements.\n",
    "- question typically consists of **2 parts**"
   ]
  },
  {
   "cell_type": "markdown",
   "metadata": {},
   "source": [
    "#### **What Is a Java Method?**\n",
    "- A method in Java is a reusable block of code that performs a specific task.\n",
    "- Consists of an access modifier (e.g., public or private), a return type (e.g., void if it doesn’t return a value), a method name, optional parameters enclosed in parentheses, and a method body enclosed in curly braces."
   ]
  },
  {
   "cell_type": "markdown",
   "metadata": {},
   "source": [
    "![Method](https://media.geeksforgeeks.org/wp-content/uploads/20240717150503/1.webp)"
   ]
  },
  {
   "cell_type": "markdown",
   "metadata": {},
   "source": [
    "\n",
    "##### **Part (a):**\n",
    "- this question usually requires you to write a certain method that fits the given test cases and \"rules\" provided by the problem \n",
    "- rules + test cases may be provided as a table or as example method calls\n",
    "- a **precondition**/**postcondition** may be provided by the problem. \n",
    "- a boilerplate segment containing a method declaration is also given"
   ]
  },
  {
   "cell_type": "markdown",
   "metadata": {},
   "source": [
    "##### **Common/General Penalties:**\n",
    "![image.png](https://i.ibb.co/yp2Nvt3/Image-1-7-25-at-12-33-PM.jpg)"
   ]
  },
  {
   "cell_type": "markdown",
   "metadata": {},
   "source": [
    "- some of the mistakes that do not have any penalties are mainly syntax + spelling issues (however, the code should be easily understood)\n",
    "\n"
   ]
  },
  {
   "cell_type": "markdown",
   "metadata": {},
   "source": [
    "\n",
    "##### **Satisfying the Rules:**\n",
    "The rules that need to be satisfied by the method typically require the use of one or more of the following categories: \n",
    "   1. **conditional statements**\n",
    "   2. **iterative statements**"
   ]
  },
  {
   "cell_type": "markdown",
   "metadata": {},
   "source": [
    "##### **Example of Conditional Statements:**\n",
    "**Example Question:**\n",
    "\n",
    "![Example](https://i.ibb.co/ZddYQsN/Image-1-7-25-at-2-47-PM.jpg)\n",
    "\n",
    "**Example Answer:**\n",
    "\n",
    "![Solution](https://i.ibb.co/bWW0x72/Image-1-8-25-at-11-52-AM.jpg)\n",
    "\n",
    "##### **Generalizations/Reminders:**\n",
    "- Points will not be given when parameters are included when they are not necessary. \n",
    "- Parameters have to be included in the method call. \n",
    "- There is a difference between the .equals method and the .compareTo method (.equals returns boolean values) while the .compareTo method returns an integer value (you will lose points if you use the return value of .compareTo as a boolean)"
   ]
  },
  {
   "cell_type": "markdown",
   "metadata": {},
   "source": [
    "\n",
    "##### **Example of Iterative Statements:**\n",
    "**Example Question:**\n",
    "![Problem Example](https://i.ibb.co/QQBfX5Z/Image-1-7-25-at-2-34-PM.jpg)\n",
    "\n",
    "**Example Answer:**\n",
    "\n",
    "![Problem Solution](https://i.ibb.co/dQBQW3q/Image-1-7-25-at-2-36-PM.jpg)\n",
    "\n",
    "##### **Generalizations/Reminders:**\n",
    "- All possible/needed iterations need to be accounted for precisely (no overlaps).\n",
    "- The '==' sign should not be used for comparison of strings; use the equals method instead.\n",
    "- Result variable has to be initialized at the start of the loop. \n",
    "- Incorrect parameter types and the order of parameters in the method declaration will not be given credit.\n",
    "- Be careful of the control flow of the loop. \n"
   ]
  },
  {
   "cell_type": "markdown",
   "metadata": {},
   "source": [
    "##### **Part (b):**\n",
    "- this part is similar to part (a) and typically asks you to write a method that satisfies the given set of rules.\n",
    "- it may build upon the method created in part (a) (when this is done, it allows you to assume that the method in part (a) works as intended)\n"
   ]
  },
  {
   "cell_type": "markdown",
   "metadata": {},
   "source": [
    "##### **Additional Resources**\n",
    "- [FRQ List Based on Type](https://frccompsci.weebly.com/uploads/6/0/1/9/60195103/apcsa_frq_released_questions_by_type.pdf)"
   ]
  }
 ],
 "metadata": {
  "language_info": {
   "name": "python"
  }
 },
 "nbformat": 4,
 "nbformat_minor": 2
}
