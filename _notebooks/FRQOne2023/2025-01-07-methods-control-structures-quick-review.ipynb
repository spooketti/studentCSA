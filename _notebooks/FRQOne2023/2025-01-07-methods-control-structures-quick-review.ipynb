{
 "cells": [
  {
   "cell_type": "markdown",
   "metadata": {},
   "source": [
    "---\n",
    "layout: post\n",
    "title: Quick Review\n",
    "categories: [AP CSA]\n",
    "permalink: /frq1_per3/quick_review\n",
    "menu: nav/FRQONE2023.html\n",
    "---"
   ]
  },
  {
   "cell_type": "markdown",
   "metadata": {},
   "source": [
    "### 1. Basic Java Syntax + Structure\n",
    "- The AP test focuses on **logic > syntax** (Should note that the reader needs to find these obvious mistakes)\n",
    "    - Variables don't have to be completely case sensitive (you can have spelling mistakes)\n",
    "    - Can use common math operators\n",
    "    - missing semi-colons, parentheses, etc.\n",
    "    - missing indentation\n",
    "- **Structure**\n",
    "    - Calling methods\n",
    "    - Writing methods\n",
    "    - Handling return values\n",
    "    - Method Parameters\n",
    "### 2. Arrays\n",
    "- **Use:** storing + acessing values\n",
    "- **Syntax:** int[] arr = new int[10]; for an integer array with 10 elements.\n",
    "- **Accessing Elements:** arr[0] accesses the first element.\n",
    "- **Looping through Arrays:** Use a for loop to iterate over arrays, e.g., for (int i = 0; i < arr.length; i++) {}.\n",
    "### 3. ArrayLists\n",
    "- Use: Dynamic Arrays (can grow and shrink dynamically)\n",
    "- **Syntax:** ArrayList<Type> list = new ArrayList<Type>(); where Type could be any object type (e.g., Integer, String).\n",
    "- **Adding Elements:** list.add(element);\n",
    "- **Size:** list.size();\n",
    "- **Removing Elements:** list.remove(index);\n",
    "### 4. String Handling:\n",
    "- **Comparing Strings:**: Use .equals() for content comparison (not == which checks reference equality)\n",
    "- **Concatenation:** Use + for simple concatenation or StringBuilder for more efficient concatenation in loops.\n",
    "### 5. Control Flow Structures:\n",
    "- **Conditionals:** if, else if, else\n",
    "### 6. Libraries + Reference\n",
    "- ![image](https://github.com/user-attachments/assets/34ea8dcc-6154-46e6-ad7e-b522a7bead08)\n",
    "- **Assume all classes are preimported and all methods are available.** The question should be able to be solved with these methods. (Remember these are not complex!)"
   ]
  }
 ],
 "metadata": {
  "language_info": {
   "name": "python"
  }
 },
 "nbformat": 4,
 "nbformat_minor": 2
}
