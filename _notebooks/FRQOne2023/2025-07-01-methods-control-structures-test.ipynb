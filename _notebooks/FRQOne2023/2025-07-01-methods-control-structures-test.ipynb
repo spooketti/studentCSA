{
 "cells": [
  {
   "cell_type": "markdown",
   "metadata": {
    "vscode": {
     "languageId": "raw"
    }
   },
   "source": [
    "---\n",
    "layout: post\n",
    "title: Feeder Class Simulation\n",
    "categories: [AP CSA]\n",
    "menu: nav/FRQONE2023.html\n",
    "permalink: /frq1_per3/tester\n",
    "---"
   ]
  },
  {
   "cell_type": "markdown",
   "metadata": {},
   "source": [
    "# AP CSA FRQ Tester: Feeder Class Simulation (2024)\n",
    "\n",
    "This notebook allows you to test your implementation of the `simulateOneDay` and `simulateManyDays` methods for the **Feeder** class.\n",
    "\n",
    "The test harness will:\n",
    "1. Append your code to a predefined test structure.\n",
    "2. Run several test cases.\n",
    "3. Display the results of the test cases.\n",
    "\n",
    "---\n",
    "\n",
    "## Instructions\n",
    "\n",
    "1. Add the code as per the FRQ instructions in the //YOUR CODE HERE\n",
    "2. Run both code cells to test your code for errors against provided test cases\n",
    "---\n",
    "\n"
   ]
  },
  {
   "cell_type": "code",
   "execution_count": null,
   "metadata": {
    "vscode": {
     "languageId": "java"
    }
   },
   "outputs": [],
   "source": [
    "// Your Implementation\n",
    "public class Feeder {\n",
    "    private int currentFood; // Amount of food in grams in the feeder\n",
    "\n",
    "    public Feeder(int initialFood) {\n",
    "        currentFood = initialFood;\n",
    "    }\n",
    "\n",
    "    /**\n",
    "     * Simulates one day with numBirds birds or possibly a bear at the feeder.\n",
    "     * Precondition: numBirds > 0\n",
    "     */\n",
    "    public void simulateOneDay(int numBirds) {\n",
    "        // YOUR CODE HERE\n",
    "    }\n",
    "\n",
    "    /**\n",
    "     * Simulates numDays of activity at the feeder with numBirds birds.\n",
    "     * Returns the number of days on which food was found in the feeder.\n",
    "     * Precondition: numBirds > 0, numDays > 0\n",
    "     */\n",
    "    public int simulateManyDays(int numBirds, int numDays) {\n",
    "        // YOUR CODE HERE\n",
    "        return 0; // Placeholder\n",
    "    }\n",
    "}\n"
   ]
  },
  {
   "cell_type": "code",
   "execution_count": null,
   "metadata": {
    "vscode": {
     "languageId": "java"
    }
   },
   "outputs": [],
   "source": [
    "public class FeederTest {\n",
    "    public static void main(String[] args) {\n",
    "        StringBuilder results = new StringBuilder();\n",
    "\n",
    "        // Test Case 1\n",
    "        Feeder feeder1 = new Feeder(2400);\n",
    "        feeder1.simulateOneDay(10);\n",
    "        results.append(\"Test Case 1: Current food after one day: \").append(feeder1.currentFood).append(\"\\n\");\n",
    "\n",
    "        // Test Case 2\n",
    "        Feeder feeder2 = new Feeder(250);\n",
    "        int daysWithFood2 = feeder2.simulateManyDays(10, 5);\n",
    "        results.append(\"Test Case 2: Days with food: \").append(daysWithFood2)\n",
    "               .append(\", Remaining food: \").append(feeder2.currentFood).append(\"\\n\");\n",
    "\n",
    "        // Test Case 3\n",
    "        Feeder feeder3 = new Feeder(0);\n",
    "        int daysWithFood3 = feeder3.simulateManyDays(5, 10);\n",
    "        results.append(\"Test Case 3: Days with food: \").append(daysWithFood3)\n",
    "               .append(\", Remaining food: \").append(feeder3.currentFood).append(\"\\n\");\n",
    "\n",
    "        // Print Results\n",
    "        System.out.println(results.toString());\n",
    "    }\n",
    "}\n",
    "\n",
    "// Run the Test Harness\n",
    "FeederTest.main(null);\n"
   ]
  }
 ],
 "metadata": {
  "language_info": {
   "name": "python"
  }
 },
 "nbformat": 4,
 "nbformat_minor": 2
}
