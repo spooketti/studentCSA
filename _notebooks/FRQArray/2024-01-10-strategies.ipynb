{
 "cells": [
  {
   "cell_type": "markdown",
   "metadata": {},
   "source": [
    "---\n",
    "layout: post\n",
    "toc: true\n",
    "title: Array/Strategies\n",
    "description: AP CSA FRQ Array/Arraylist Strategies\n",
    "courses: { csa: {week: 12} }\n",
    "type: ccc\n",
    "categories: [AP CSA]\n",
    "menu: nav/array.html\n",
    "permalink: /teamteach/array/strategies\n",
    "---"
   ]
  },
  {
   "cell_type": "markdown",
   "metadata": {},
   "source": [
    "# Array/Arraylist Review\n",
    "\n",
    "### Array\n",
    "- fixed sized\n",
    "- single *or* multidimensional\n",
    "\n",
    "![image](https://github.com/user-attachments/assets/b4cef2ae-4185-4f82-8df1-6545c06a9734)\n",
    "\n",
    "**How to Create Arrays:**\n",
    "1. Declare\n",
    "\n",
    "```java\n",
    "int[] arr1;\n",
    "int[] arr2;\n",
    "```\n",
    "2. Initialize\n",
    "\n",
    "```java\n",
    "//separating declare and initialize\n",
    "arr1 = new int[5];\n",
    "arr2 = new int[]{1,2,3};\n",
    "\n",
    "// declare and initialize at the same time\n",
    "int[] arr1 = new int[5];\n",
    "int[] arr2 = {1,2,3}; // an array literal\n",
    "```\n",
    "\n",
    "3. Access using `[]`\n",
    "\n",
    "```java\n",
    "arr2[0] // accesses the first element in the array\n",
    "```\n"
   ]
  },
  {
   "cell_type": "markdown",
   "metadata": {},
   "source": [
    "### Arraylist\n",
    "- resizable\n",
    "- uses *methods* to access and modify elements\n",
    "- typically stores objects\n",
    "\n",
    "**How to Create Arraylists:**\n",
    "1. Declare and Initialize\n",
    "\n",
    "```java\n",
    "ArrayList<String> al = new ArrayList<String>();\n",
    "```\n",
    "\n",
    "2. Basic Operations\n",
    "\n",
    "Insertion using `add()`\n",
    "```java\n",
    "al.add(\"apple\");\n",
    "al.add(\"orange\");\n",
    "al.add(\"banana\");\n",
    "```\n",
    "Access using `get()`\n",
    "```java\n",
    "al.get(0); \n",
    "```\n",
    "Deletion using `remove()`\n",
    "```java\n",
    "al.remove(\"orange\");\n",
    "```\n",
    "Update using `set()`\n",
    "```java\n",
    "al.set(0, \"kiwi\");\n",
    "```"
   ]
  },
  {
   "cell_type": "markdown",
   "metadata": {},
   "source": [
    "## Warmup\n",
    "Write a java program to sort an Arraylist"
   ]
  },
  {
   "cell_type": "code",
   "execution_count": 10,
   "metadata": {},
   "outputs": [
    {
     "name": "stdout",
     "output_type": "stream",
     "text": [
      "0\n",
      "5\n",
      "6\n",
      "8\n",
      "10\n",
      "16\n",
      "18\n"
     ]
    }
   ],
   "source": [
    "ArrayList<Integer> arr = new ArrayList<Integer>();\n",
    "arr.add(6);\n",
    "arr.add(16);\n",
    "arr.add(5);\n",
    "arr.add(18);\n",
    "arr.add(0);\n",
    "arr.add(10);\n",
    "arr.add(8);\n",
    "\n",
    "arr.sort(null);\n",
    "for(int i=0;i<arr.size();i++)\n",
    "{\n",
    "    System.out.println(arr.get(i));\n",
    "}"
   ]
  },
  {
   "cell_type": "markdown",
   "metadata": {
    "vscode": {
     "languageId": "plaintext"
    }
   },
   "source": [
    "***\n",
    "<!--i do not forgive you -->\n",
    "***"
   ]
  },
  {
   "cell_type": "markdown",
   "metadata": {
    "vscode": {
     "languageId": "plaintext"
    }
   },
   "source": [
    "# Checklist to Maximize Points ✅\n",
    "**Before Writing Code**\n",
    "- Understand the *method signature* (what the methods do, the return types, access modifier)\n",
    "- Paying attention to *input type* (e.g. array vs ArrayList)\n",
    "\n",
    "**Writing Code**\n",
    "- Use loops carefully (consider *bounds*)\n",
    "- Check for null/empty cases\n",
    "\n",
    "**Before Submitting Code**\n",
    "- Correct return type\n",
    "- Check whether syntax is used for array/ArrayList"
   ]
  },
  {
   "cell_type": "markdown",
   "metadata": {},
   "source": [
    "***\n",
    "<!-- well you're here: that's the thing\n",
    "i dont think being someone like you is legal in the state of california-->\n",
    "***"
   ]
  },
  {
   "cell_type": "markdown",
   "metadata": {},
   "source": [
    "# Common Mistakes to Avoid ❌\n",
    "\n",
    "### `[]` vs `get` Confusion (penalty)\n",
    "[]: used to access elements in **array**\n",
    "\n",
    "get: used to access elements in **ArrayList**"
   ]
  },
  {
   "cell_type": "code",
   "execution_count": null,
   "metadata": {},
   "outputs": [],
   "source": [
    "int[] arr = {1,2,3};\n",
    "System.out.println(arr[0]); \n",
    "\n",
    "ArrayList<String> al = new ArrayList<String>();\n",
    "al.add(\"sprite\");\n",
    "System.out.println(al.get(0));"
   ]
  },
  {
   "cell_type": "markdown",
   "metadata": {},
   "source": [
    "### `.length` vs `.size()` Confusion (no penalty)\n",
    "\n",
    ".length: property for length of a **array**\n",
    ".size(): method for length of an **Arraylist**"
   ]
  },
  {
   "cell_type": "code",
   "execution_count": null,
   "metadata": {},
   "outputs": [],
   "source": [
    "String[] colors;\n",
    "colors = new String[]{\"yellow\", \"purple\", \"blue\"};\n",
    "System.out.println(colors.length);\n",
    "\n",
    "ArrayList<Integer> nums = new ArrayList<Integer>();\n",
    "nums.add(12);\n",
    "nums.add(10); \n",
    "System.out.println(nums.size());"
   ]
  },
  {
   "cell_type": "markdown",
   "metadata": {},
   "source": [
    "### Traversing Arrays/ArrayLists \n",
    "- Ensure bounds are correct (applying the right comparison/logic)\n",
    "- Account for dynamic resizing of ArrayLists for `.add()` and `.remove()`"
   ]
  },
  {
   "cell_type": "code",
   "execution_count": null,
   "metadata": {},
   "outputs": [],
   "source": [
    "// starts at the last index (.size() - 1)\n",
    "// ends at the first index\n",
    "for (int i = temps.size() - 1; temps >= 0; i--) {\n",
    "    // insert code\n",
    "}"
   ]
  },
  {
   "cell_type": "markdown",
   "metadata": {},
   "source": [
    "***\n",
    "***"
   ]
  },
  {
   "cell_type": "markdown",
   "metadata": {},
   "source": [
    "# Scoring Criteria 📝\n",
    "<img width=\"557\" alt=\"image\" src=\"https://github.com/user-attachments/assets/e82542c0-aba5-4009-b5c2-ea741c85c4fa\" />\n"
   ]
  }
 ],
 "metadata": {
  "kernelspec": {
   "display_name": "Java",
   "language": "java",
   "name": "java"
  },
  "language_info": {
   "codemirror_mode": "java",
   "file_extension": ".jshell",
   "mimetype": "text/x-java-source",
   "name": "java",
   "pygments_lexer": "java",
   "version": "17.0.13+11-Ubuntu-2ubuntu122.04"
  }
 },
 "nbformat": 4,
 "nbformat_minor": 2
}
