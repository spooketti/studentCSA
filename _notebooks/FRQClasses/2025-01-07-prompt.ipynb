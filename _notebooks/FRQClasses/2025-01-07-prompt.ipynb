{
 "cells": [
  {
   "cell_type": "markdown",
   "metadata": {},
   "source": [
    "---\n",
    "layout: post\n",
    "title:  Classes\n",
    "description:  Team Teach for Classes\n",
    "permalink: /classesprompt\n",
    "comments: true\n",
    "menu: nav/classesperiod3.html\n",
    "sticky_rank: 1\n",
    "toc: false\n",
    "---"
   ]
  },
  {
   "cell_type": "markdown",
   "metadata": {},
   "source": [
    "## Prompt:\n",
    "![Prompt]({{site.baseurl}}/images/signs.png)\n",
    "\n",
    "The prompt describes a Sign class with a constructor that takes a message (string) and a width (integer) as parameters. The class includes two methods:\n",
    "\n",
    "numberOfLines: Returns the number of lines required to display the message.\n",
    "getLines: Returns the message split into lines separated by semicolons  or null if the message is empty.\n"
   ]
  },
  {
   "cell_type": "markdown",
   "metadata": {},
   "source": [
    "# Classes: **Class Headers**, **Constuctors**, and **Instance Variables** (Trystan)\n",
    "\n",
    "## Class headers\n",
    "The Class header is the class declaration. This declaration should be public unless the question states otherwise. The 2023 and 2024 scoring guides marks down the declaration if it is anything other than public.\n",
    "\n",
    "- \"Declares class header: ```class Sign```. Responses will **not** earn the point if they\n",
    "• declare the class as **something other than public**\" ([2023 FRQ Scoring Guide](https://apcentral.collegeboard.org/media/pdf/ap23-sg-computer-science-a.pdf), [2024 FRQ Scoring Guide](https://apcentral.collegeboard.org/media/pdf/ap24-sg-computer-science-a.pdf)).\n",
    "\n",
    "### General Formatting for the Class Header\n",
    "This should be pretty straight forward:\n",
    "``` public class ClassNameHere```\n",
    "\n",
    "### Inheritance and Implementation\n",
    "- If you are *inheriting* classes you must **extends** the **parent class**.\n",
    "- If you are *structuring* classes with interfaces you must **implements** the **interface**.\n",
    "- read [this article](https://techdifferences.com/difference-between-interface-and-inheritance.html) if you want more info.\n",
    "\n",
    "## Constuctor\n",
    "The Constuctor is used to initalize the Instance Variables in your class. The Scoping of the constuctor **must** mach the Scoping of the Class header, *usually public*. You are allowed to calcuate and store values that your methods will return as long as the parameter types are correct.\n",
    "\n",
    "### Constuctor header\n",
    "- **must** match the scoping of the Class Header, *ususally public*\n",
    "- if the question tells you to create a constuctors with certain parameters, just do it\n",
    "- Formatted as ```public ClassNameHere(ParamType ParamName, ...)```\n",
    "\n",
    "### Initalizing Instance Variables\n",
    "- instance variables must be initalized from withing the header.\n",
    "- you may calculate and store values as long as they can still answer all the questions. *(see the [2023 FRQ Scoring Guide](https://apcentral.collegeboard.org/media/pdf/ap23-sg-computer-science-a.pdf))*\n",
    "- generally Formatted as \n",
    "``` \n",
    "public ClassNameHere(ParamType ParamName){\n",
    "    this.ParameterInstanceName = ParamName;\n",
    "}\n",
    "```\n",
    "\n",
    "## Instance Variables\n",
    "These are the variables stored within the class for use in methods. They are initalized by the Constructor. Must be **private** and contained withing the class.\n",
    "\n",
    "- \"Declares appropriate ```private``` instance variable(s) **and** constructor initializes instance variables using appropriate parameters. Responses **will not** earn the point if they • declare the variable **outside the class**, or in the class **within a method or constructor**\" - ([2023 FRQ Scoring Guide](https://apcentral.collegeboard.org/media/pdf/ap23-sg-computer-science-a.pdf))\n",
    "- Do not make the instance variables static.\n",
    "- Formatted as ```private VariableType VariableName;```\n",
    "\n",
    "## 2023 FRQ\n",
    "```\n",
    "public class Sign\n",
    "{\n",
    "    private String message;\n",
    "    private int width;\n",
    "    public Sign(String m, int w)\n",
    "    {\n",
    "        message = m;\n",
    "        width = w;\n",
    "    }\n",
    "```\n",
    "- **Class header**: ```public Class Sign```\n",
    "- **Instance Variables**: ```private String message;``` and ```private int width;```\n",
    "- **Constuctor header**: ```public Book(String m, int w)```\n",
    "- **Initialize Instance Variables**: ```messages = m;``` and ```width = w```\n",
    "\n"
   ]
  },
  {
   "cell_type": "markdown",
   "metadata": {},
   "source": [
    "----------"
   ]
  },
  {
   "cell_type": "markdown",
   "metadata": {},
   "source": [
    "## Popcorn Hack\n",
    "We are creating a new Class called **Cat**. The cat class will have the Instance variable of **sound** which is a **String**. The Constructor should have the parameter **noise** of type **String** which should be used to initalize the instance variable of sound.\n",
    "\n",
    "### Create the Class Header, the Constuctor, and the Instance Variables."
   ]
  },
  {
   "cell_type": "markdown",
   "metadata": {},
   "source": [
    "----------"
   ]
  },
  {
   "cell_type": "code",
   "execution_count": null,
   "metadata": {},
   "outputs": [],
   "source": [
    "public class Cat\n",
    "{\n",
    "    private String sound;\n",
    "\n",
    "    public Cat(String noise)\n",
    "    {\n",
    "        sound = noise;\n",
    "    }\n",
    "}"
   ]
  },
  {
   "cell_type": "markdown",
   "metadata": {},
   "source": [
    "# **Adding Methods** (Trystan)\n",
    "\n",
    "## Method headers\n",
    "The methods that are needed are generally given withing the question. When declaring methods that will accessed outside of the class, they should be public. If the question asks you to create a method with a certain name, create that method.\n",
    "\n",
    "- \"Declares method headers: ```public int numberOfLines()``` and ```public String getLines()```. Responses will not earn the point if they • omit either method • omit public or declare the method as something other than public\" - ([2023 FRQ Scoring Guide](https://apcentral.collegeboard.org/media/pdf/ap23-sg-computer-science-a.pdf))\n",
    "- Formatted as ```public ReturnType MethodName(ParamType ParamName, ...)```\n",
    "- If the method doesn't return anything, the return type is **void**\n",
    "\n",
    "## Method content\n",
    "The content of the method should match what the method is named. Generally the questions will tell you what a method should be doing/returning, and you need to create the content yourself.\n",
    "The Content **must** return the same type as the Method header.\n",
    "\n",
    "- This is where usually around half of the question is weighted, the class skeleton is the other half.\n",
    "\n",
    "### Tips\n",
    "- Watch for **null** cases, they are ususally easy to implement and give some free points.\n",
    "- If you don't know exactly what to do, try to think of what steps get you closer to a solution.\n",
    "- Finally, don't stress too much on one question. Get the easy points then come back to the question later.\n",
    "\n",
    "## 2023 FRQ\n",
    "```\n",
    "public int numberOfLines()\n",
    "{\n",
    " int len = message.length();\n",
    " if (len % width == 0)\n",
    "    {\n",
    "        return len / width;\n",
    "    }\n",
    "    else\n",
    "    {\n",
    "        return len / width + 1;\n",
    "    }\n",
    "}\n",
    "public String getLines()\n",
    "{\n",
    "    int linesNeeded = numberOfLines();\n",
    "    if (linesNeeded == 0)\n",
    "    {\n",
    "        return null;\n",
    "    }\n",
    "\n",
    "    String signLines = \"\";\n",
    "    for (int i = 1; i < linesNeeded; i++)\n",
    "    {\n",
    "        signLines += message.substring((i – 1) * width, i * width) + \";\";\n",
    "    }\n",
    "    return signLines + message.substring((linesNeeded – 1) * width);\n",
    "}\n",
    "```\n",
    "\n",
    "### The Easy Points\n",
    "- **Method headers**: ```public int numberOfLines()``` and ```public String getLines()```\n",
    "- **Null Case**: if the lines needed is 0, that is to say if the message is empty or null, or something else went wrong, return null\n",
    "\n",
    "### The Harder Points\n",
    "- **NumberOfLines()**\n",
    "    - every path returns an int\n",
    "    - first major step: you will need the length of the message, so use the *message.length()* to find it\n",
    "    - from there you have some options College Board decided if there was any remaining characters after each line is split at the width. If there was, they returned 1 extra line, otherwise they returned the number of characters devided by the line length.\n",
    "- **getLines()**\n",
    "    - every path returns a String, *(in this case null is a string without a memory address)*\n",
    "    - first they check for the null case\n",
    "    - next they created an empty string to build onto\n",
    "    - third they created a for loop with steps equalivant to the number of lines\n",
    "    - at each step in the for loop, they concatenate the **signLines** with the substring of the line and a semicolon to signify the end of the line.\n",
    "    - finally, after the for loop, they concatenate the **signLines** with the remaining characters in the message."
   ]
  },
  {
   "cell_type": "markdown",
   "metadata": {},
   "source": [
    "--------"
   ]
  },
  {
   "cell_type": "markdown",
   "metadata": {},
   "source": [
    "## Popcorn Hack (Jason)\n",
    "The Cat class has 2 methods. The first method **makeQuietNoise** should return a fully lowercase string of the *noise instance variable*. The second method **makeReverseNoise** should return the *noise instance variable* but the order of the characters is reversed. These methods should return **null** if there is an empty string.\n",
    "\n",
    "### Create the 2 methods within the Cat class. Write out the full cat class."
   ]
  },
  {
   "cell_type": "code",
   "execution_count": 2,
   "metadata": {},
   "outputs": [
    {
     "name": "stdout",
     "output_type": "stream",
     "text": [
      "Sigma!\n",
      "sigma!\n",
      "!amgiS\n"
     ]
    }
   ],
   "source": [
    "import java.io.*;\n",
    "public class Cat\n",
    "{\n",
    "    public String sound;\n",
    "    public Cat(String noise)\n",
    "    {\n",
    "        sound = noise;\n",
    "    }\n",
    "\n",
    "    public String makeQuietNoise()\n",
    "    {\n",
    "        return sound.toLowerCase();\n",
    "    }\n",
    "\n",
    "    public String makeReverseNoise()\n",
    "    {\n",
    "        StringBuilder sb = new StringBuilder();\n",
    "        return sb.append(sound).reverse().toString();\n",
    "    }\n",
    "}\n",
    "\n",
    "Cat cat = new Cat(\"Sigma!\");\n",
    "System.out.println(cat.sound);\n",
    "System.out.println(cat.makeQuietNoise());\n",
    "System.out.println(cat.makeReverseNoise());"
   ]
  },
  {
   "cell_type": "markdown",
   "metadata": {},
   "source": [
    "--------"
   ]
  },
  {
   "cell_type": "markdown",
   "metadata": {},
   "source": [
    "Here is an image to summarize everything in the last 2 sections:\n",
    "\n",
    "![classStructures]({{site.baseurl}}/images/classStructures.png)"
   ]
  }
 ],
 "metadata": {
  "kernelspec": {
   "display_name": "Java",
   "language": "java",
   "name": "java"
  },
  "language_info": {
   "codemirror_mode": "java",
   "file_extension": ".jshell",
   "mimetype": "text/x-java-source",
   "name": "java",
   "pygments_lexer": "java",
   "version": "17.0.13+11-Ubuntu-2ubuntu122.04"
  }
 },
 "nbformat": 4,
 "nbformat_minor": 2
}
