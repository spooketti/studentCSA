{
 "cells": [
  {
   "cell_type": "markdown",
   "metadata": {},
   "source": [
    "---\n",
    "layout: post\n",
    "comments: true\n",
    "title: 2D Arrays - intro to frq's\n",
    "categories: [AP CSA]\n",
    "courses: { csa: {week: 13} }\n",
    "type: ccc\n",
    "toc: true\n",
    "menu: nav/2darray.html\n",
    "permalink: /csa/p3-2darrays2\n",
    "---"
   ]
  },
  {
   "cell_type": "markdown",
   "metadata": {},
   "source": [
    "# Introduction to 2D Array Questions on AP CSA FRQs\n",
    "\n",
    "## Overview\n",
    "2D Arrays are a common topic in the AP Computer Science A exam, appearing frequently in the Free-Response Question (FRQ) section. These questions test your ability to manipulate nested data structures and demonstrate core concepts of iteration, indexing, and logical problem-solving. \n",
    "\n",
    "2D Arrays represent grid-like data structures (like tables or matrices) and are widely used to solve problems related to game boards, seating charts, or pixel manipulation in images.\n",
    "\n",
    "---\n",
    "\n",
    "## Demographics of 2D Array Questions\n",
    "\n",
    "### Frequency\n",
    "- Typically, **one FRQ per year** focuses heavily on 2D arrays or uses them as part of the solution.\n",
    "- Recent FRQs (from 2019–2023) include 2D array questions testing nested loops and problem-solving within a grid structure.\n",
    "\n",
    "### Scoring Patterns\n",
    "- Students often secure **basic setup points** (e.g., correctly declaring/initializing a 2D array or accessing elements).\n",
    "- The most missed points are in **loop logic**, particularly handling **boundary conditions** (e.g., avoiding `ArrayIndexOutOfBoundsException`).\n",
    "\n",
    "### Common Student Errors\n",
    "1. Misusing row and column indices (`array[row][col]` vs. `array[col][row]`).\n",
    "2. Forgetting that a 2D array is an array of arrays, leading to confusion about its length (`array.length` for rows, `array[0].length` for columns).\n",
    "\n",
    "---\n",
    "\n",
    "## How 2D Array FRQs Are Typically Formatted\n",
    "\n",
    "### Part (a): Basic Access and Manipulation\n",
    "- **Common Tasks**:\n",
    "  - Traverse the array using nested loops.\n",
    "  - Return a value from a specific row/column or based on conditions (e.g., count all `true` values).\n",
    "- **Tips to Ensure Points**:\n",
    "  - Properly initialize variables.\n",
    "  - Use correct indexing: `array[i][j]`.\n",
    "  - Ensure loops iterate through the correct dimensions (`row` and `column` lengths).\n"
   ]
  },
  {
   "cell_type": "code",
   "execution_count": 1,
   "metadata": {
    "vscode": {
     "languageId": "java"
    }
   },
   "outputs": [
    {
     "name": "stdout",
     "output_type": "stream",
     "text": [
      "1 2 3 \n",
      "4 5 6 \n",
      "7 8 9 \n"
     ]
    }
   ],
   "source": [
    "// Example: Traversing a 2D Array\n",
    "int[][] array = {\n",
    "    {1, 2, 3},\n",
    "    {4, 5, 6},\n",
    "    {7, 8, 9}\n",
    "};\n",
    "\n",
    "for (int row = 0; row < array.length; row++) {\n",
    "    for (int col = 0; col < array[row].length; col++) {\n",
    "        System.out.print(array[row][col] + \" \");\n",
    "    }\n",
    "    System.out.println(); // Print a new line after each row\n",
    "}\n"
   ]
  },
  {
   "cell_type": "markdown",
   "metadata": {},
   "source": [
    "### Part (b): Logical Computation\n",
    "- **Common Tasks**:\n",
    "  - Calculate a sum, average, or count of specific elements.\n",
    "  - Identify patterns or relationships in the grid (e.g., maximum value in a row/column).\n",
    "- **Tips to Ensure Points**:\n",
    "  - Check all required elements in the grid.\n",
    "  - Return the correct data type and value.\n"
   ]
  },
  {
   "cell_type": "code",
   "execution_count": 2,
   "metadata": {
    "vscode": {
     "languageId": "java"
    }
   },
   "outputs": [
    {
     "name": "stdout",
     "output_type": "stream",
     "text": [
      "Total Sum: 45\n"
     ]
    }
   ],
   "source": [
    "// Example: Summing All Elements in a 2D Array\n",
    "int sum = 0;\n",
    "for (int row = 0; row < array.length; row++) {\n",
    "    for (int col = 0; col < array[row].length; col++) {\n",
    "        sum += array[row][col];\n",
    "    }\n",
    "}\n",
    "System.out.println(\"Total Sum: \" + sum);\n"
   ]
  },
  {
   "cell_type": "markdown",
   "metadata": {},
   "source": [
    "### Part (c): Modifications\n",
    "- **Common Tasks**:\n",
    "  - Change specific elements based on a condition (e.g., replace negative numbers with `0`).\n",
    "  - Create a new 2D array derived from the original (e.g., transpose a matrix or reflect rows).\n",
    "- **Tips to Ensure Points**:\n",
    "  - Carefully follow transformation logic.\n",
    "  - Avoid overwriting original data unless specified.\n"
   ]
  },
  {
   "cell_type": "code",
   "execution_count": 3,
   "metadata": {
    "vscode": {
     "languageId": "java"
    }
   },
   "outputs": [
    {
     "name": "stdout",
     "output_type": "stream",
     "text": [
      "1 4 7 \n",
      "2 5 8 \n",
      "3 6 9 \n"
     ]
    }
   ],
   "source": [
    "// Example: Creating a Transposed 2D Array\n",
    "int[][] transposed = new int[array[0].length][array.length];\n",
    "for (int row = 0; row < array.length; row++) {\n",
    "    for (int col = 0; col < array[row].length; col++) {\n",
    "        transposed[col][row] = array[row][col];\n",
    "    }\n",
    "}\n",
    "\n",
    "// Printing the transposed array\n",
    "for (int row = 0; row < transposed.length; row++) {\n",
    "    for (int col = 0; col < transposed[row].length; col++) {\n",
    "        System.out.print(transposed[row][col] + \" \");\n",
    "    }\n",
    "    System.out.println();\n",
    "}\n"
   ]
  },
  {
   "cell_type": "markdown",
   "metadata": {},
   "source": [
    "---\n",
    "\n",
    "## Key Concepts for Securing Points\n",
    "\n",
    "### Traversing a 2D Array\n",
    "Use **nested loops** for row-column traversal.\n",
    "\n",
    "### Boundary Conditions\n",
    "- Always validate row and column indices:\n",
    "  - `row >= 0 && row < array.length`\n",
    "  - `col >= 0 && col < array[row].length`\n",
    "\n",
    "---\n",
    "\n",
    "## Practice Strategy\n",
    "\n",
    "### Prioritize Loop Structure\n",
    "Start with writing the loop skeleton before implementing logic.\n",
    "\n",
    "### Work Incrementally\n",
    "- Solve small parts of the problem first (e.g., correctly accessing elements) and build toward the final solution.\n",
    "\n",
    "### Check for Required Outputs\n",
    "- Ensure that the method signature matches the problem’s requirements.\n",
    "- Return the correct data type and structure.\n",
    "\n",
    "\n"
   ]
  }
 ],
 "metadata": {
  "kernelspec": {
   "display_name": "Java",
   "language": "java",
   "name": "java"
  },
  "language_info": {
   "codemirror_mode": "java",
   "file_extension": ".jshell",
   "mimetype": "text/x-java-source",
   "name": "Java",
   "pygments_lexer": "java",
   "version": "17.0.12+7"
  }
 },
 "nbformat": 4,
 "nbformat_minor": 2
}
