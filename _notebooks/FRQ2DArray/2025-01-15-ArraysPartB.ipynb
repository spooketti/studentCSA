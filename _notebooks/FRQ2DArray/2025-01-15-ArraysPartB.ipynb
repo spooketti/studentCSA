{
 "cells": [
  {
   "cell_type": "markdown",
   "metadata": {},
   "source": [
    "---\n",
    "layout: post\n",
    "comments: true\n",
    "title: 2D Arrays\n",
    "categories: [AP CSA]\n",
    "courses: { csa: {week: 17} }\n",
    "menu: nav/2darray.html\n",
    "permalink: /csa/p3-2darrays4\n",
    "---"
   ]
  },
  {
   "cell_type": "markdown",
   "metadata": {},
   "source": [
    "# Explanation of the 2018 AP CSA FRQ - Question 4 (Part B)"
   ]
  },
  {
   "cell_type": "markdown",
   "metadata": {},
   "source": [
    "## Prior Knowledge \n",
    "\n",
    "1.\tHelper Methods in the Problem\n",
    "\n",
    "\t•\tgetColumn(int[][] arr2D, int c): Returns an array containing all elements in column c of a 2D array.\n",
    "\n",
    "\t•\tcontainsDuplicates(int[] arr): Returns true if the array contains duplicate values.\n",
    "\n",
    "\t•\thasAllValues(int[] arr1, int[] arr2): Returns true if all elements in arr1 are present in arr2.\n",
    "\n",
    "2.\tLatin Square Definition\n",
    "\n",
    "\t•\tThe first row has no duplicate values.\n",
    "\n",
    "\t•\tAll values in the first row appear in every row of the square.\n",
    "\n",
    "\t•\tAll values in the first row appear in every column of the square.\n",
    "\n",
    "3. \tPreconditions\n",
    "\n",
    "\t•\tThe input array is guaranteed to be square (equal number of rows and columns).\n",
    "\t\n",
    "\t•\tAt least one row exists in the array."
   ]
  },
  {
   "cell_type": "markdown",
   "metadata": {},
   "source": [
    "## Solution \n",
    "\n",
    "```java\n",
    "\n",
    "public static boolean isLatin(int[][] square)\n",
    "{\n",
    "    if (containsDuplicates(square[0]))\n",
    "    {\n",
    "      return false;\n",
    "    }\n",
    "    for (int r = 1; r < square.length; r++)\n",
    "    {\n",
    "      if (!hasAllValues(square[0], square[r]))\n",
    "      {\n",
    "        return false;\n",
    "      }\n",
    "    }   \n",
    "    for (int c = 0; c < square[0].length; c++)\n",
    "    {\n",
    "        if (!hasAllValues(square[0], getColumn(square, c)))\n",
    "        {\n",
    "            return false;\n",
    "        }\n",
    "\n",
    "    }\n",
    "    return true;\n",
    "\n",
    "}"
   ]
  },
  {
   "cell_type": "markdown",
   "metadata": {},
   "source": [
    "## Explanation of the Solution\n",
    "\n",
    "1.\tChecking the First Row for Duplicates\n",
    "\n",
    "\t•\tThe method starts by using containsDuplicates(square[0]) to ensure that the first row contains no duplicate values. If duplicates are found, the square cannot be a Latin square.\n",
    "2.\tValidating Rows and Columns Against the First Row\n",
    "\n",
    "\t•\tThe method checks that all the values in the first row appear in every other row and column. It uses hasAllValues(square[0], square[i]) for rows and hasAllValues(square[0], getColumn(square, i)) for columns to verify this.\n",
    "3.  Returning the Final Result\n",
    "\n",
    "\t•\tIf all checks pass, the method returns true, meaning the input is a Latin square. If any check fails, it returns false."
   ]
  },
  {
   "cell_type": "markdown",
   "metadata": {},
   "source": [
    "## Meets the Latin Square Requirement\n",
    "\n",
    "\t•\tNo duplicates in the first row.\n",
    "\n",
    "\t•\tAll rows contain the same values as the first row.\n",
    "    \n",
    "\t•\tAll columns contain the same values as the first row."
   ]
  },
  {
   "cell_type": "markdown",
   "metadata": {},
   "source": [
    "[Scoring Guidelines](https://github.com/user-attachments/assets/f360a2cd-605d-47f4-868f-a1aacf71f375)"
   ]
  }
 ],
 "metadata": {
  "kernelspec": {
   "display_name": "venv",
   "language": "python",
   "name": "python3"
  },
  "language_info": {
   "name": "python",
   "version": "3.12.0"
  }
 },
 "nbformat": 4,
 "nbformat_minor": 2
}
