{
 "cells": [
  {
   "cell_type": "markdown",
   "metadata": {},
   "source": [
    "---\n",
    "layout: post\n",
    "title: Sprint 1 - Frontend Hacks\n",
    "description:  Frontend Hacks\n",
    "type: collab \n",
    "comments: true\n",
    "toc: true\n",
    "courses: {'csa': {'week': 4}}\n",
    "---"
   ]
  },
  {
   "cell_type": "markdown",
   "metadata": {
    "vscode": {
     "languageId": "plaintext"
    }
   },
   "source": [
    "# Frontend Hack\n",
    "Inside of web development the main design most commonly used is a \"front end\" or the website in which the user interacts with. Then there is a \"back end\" or a webserver that is communicating to the website to upload and download data. One example could be a login system in where the website shows a login page, and the data put into the website is sent over the internet to the backend server which then loads their account onto the website.\n",
    "\n",
    "This hack will be focusing on the front end side, utilizing HTML, JavaScript, and CSS"
   ]
  },
  {
   "cell_type": "markdown",
   "metadata": {},
   "source": [
    "# HTML vs Markdown\n",
    "\n",
    "For markdown we can write  a heading like \n",
    "## This\n",
    "and a paragraph\n",
    "\n",
    "like this\n",
    "\n",
    "\n",
    "In HTML,\n",
    "we can make a heading like\n",
    "<h3>This</h3>\n",
    "<p>And a paragraph like this</p>"
   ]
  },
  {
   "cell_type": "markdown",
   "metadata": {},
   "source": [
    "# Attributes\n",
    "\n",
    "In HTML tags, the fields after the first identifying tag are attributes or properties that can be modified about the tag\n",
    "This is most commonly used in anchor tags to change what address they link to\n",
    "\n",
    "<a href=\"google.com\">Link 1</a>\n",
    "<a href=\"youtube.com\">Link 2</a>\n",
    "\n",
    "and in Markdown and HTML, the property could be for the image itself\n",
    "\n",
    "Markdown:\n",
    "![Cool Image](https://github.githubassets.com/assets/GitHub-Mark-ea2971cee799.png)\n",
    "\n",
    "HTML:\n",
    "<img src=\"https://github.githubassets.com/assets/GitHub-Mark-ea2971cee799.png\">"
   ]
  },
  {
   "cell_type": "markdown",
   "metadata": {},
   "source": [
    "# HTML Hack: A wireframe representation\n",
    "\n",
    "<style>\n",
    "    p\n",
    "    {\n",
    "        color:red;\n",
    "        border:red 1px solid;\n",
    "        display:flex;\n",
    "        justify-content:center;\n",
    "    }\n",
    "\n",
    "    a\n",
    "    {\n",
    "        color:blue;\n",
    "        border:blue 1px solid;\n",
    "        display:flex;\n",
    "        justify-content:center;\n",
    "    }\n",
    "\n",
    "    div\n",
    "    {\n",
    "        color:black;\n",
    "        border: black 5px solid;\n",
    "    }\n",
    "\n",
    "    button\n",
    "    {\n",
    "        color:green;\n",
    "        border:1px solid green;\n",
    "        background-color:transparent;\n",
    "        display:flex;\n",
    "        justify-content:center;\n",
    "    }\n",
    "</style>\n",
    "<div>\n",
    "<p>Paragraph Tag: used for text</p>\n",
    "<button>Button Tag: clickable with JavaScript functionality</button>\n",
    "Div Tag for dividing data\n",
    "</div>\n",
    "<br>\n",
    "<div>\n",
    "<a>Anchor Tag: Link to a new page</a>\n",
    "<a>Anchor Tag: Link to a new page</a>\n",
    "Div Tag\n",
    "<p>Paragraph Tag</p>\n",
    "</div>\n",
    "\n",
    "<img src=\"https://nighthawkcoders.github.io/portfolio_2025/images/wireframe.png\">"
   ]
  }
 ],
 "metadata": {
  "kernelspec": {
   "display_name": "Python 3",
   "language": "python",
   "name": "python3"
  },
  "language_info": {
   "codemirror_mode": {
    "name": "ipython",
    "version": 3
   },
   "file_extension": ".py",
   "mimetype": "text/x-python",
   "name": "python",
   "nbconvert_exporter": "python",
   "pygments_lexer": "ipython3",
   "version": "3.10.11"
  }
 },
 "nbformat": 4,
 "nbformat_minor": 2
}
