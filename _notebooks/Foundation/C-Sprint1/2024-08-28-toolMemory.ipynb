{
 "cells": [
  {
   "cell_type": "markdown",
   "metadata": {},
   "source": [
    "---\n",
    "layout: post\n",
    "title: Sprint 1 - Tool Memories\n",
    "description: My memories from the tool setup phase of CSA\n",
    "type: collab\n",
    "courses: {'csa': {'week': 4}}\n",
    "comments: True\n",
    "---\n",
    "\n"
   ]
  },
  {
   "cell_type": "markdown",
   "metadata": {},
   "source": [
    "# Tool Memories\n"
   ]
  },
  {
   "cell_type": "code",
   "execution_count": 1,
   "metadata": {},
   "outputs": [
    {
     "name": "stdout",
     "output_type": "stream",
     "text": [
      "ruby 3.0.2p107 (2021-07-07 revision 0db68f0233) [x86_64-linux-gnu]\n",
      "Bundler version 2.4.19\n",
      "Python 3.10.12\n",
      "Selected Jupyter core packages...\n",
      "IPython          : 7.31.1\n",
      "ipykernel        : 6.29.5\n",
      "ipywidgets       : 6.0.0\n",
      "jupyter_client   : 8.6.2\n",
      "jupyter_core     : 5.7.2\n",
      "jupyter_server   : 2.14.2\n",
      "jupyterlab       : 4.2.4\n",
      "nbclient         : 0.5.6\n",
      "nbconvert        : 7.16.4\n",
      "nbformat         : 5.10.4\n",
      "notebook         : 7.2.1\n",
      "qtconsole        : 5.5.2\n",
      "traitlets        : 5.14.3\n",
      "openjdk 17.0.12 2024-07-16\n",
      "OpenJDK Runtime Environment (build 17.0.12+7-Ubuntu-1ubuntu222.04)\n",
      "OpenJDK 64-Bit Server VM (build 17.0.12+7-Ubuntu-1ubuntu222.04, mixed mode, sharing)\n",
      "user.email=jonliu168@gmail.com\n",
      "user.name=spooketti\n",
      "Project dir: \n",
      "Project: \n",
      "Repo: \n"
     ]
    }
   ],
   "source": [
    "%%script bash\n",
    "\n",
    "ruby -v\n",
    "bundle -v\n",
    "python --version\n",
    "jupyter --version\n",
    "java --version\n",
    "git config --global --list\n",
    "\n",
    "cat <<EOF > /tmp/variables.sh\n",
    "export project_dirM=$HOME/studentCSA  # change nighthawk to different name to test your git clone\n",
    "export project=\\$project_dirM/studentCSA  # change portfolio_2025 to name of project from git clone\n",
    "export project_repoM=\"https://github.com/spooketti/studentCSA.git\"  # change to project you created from portfolio_2025 template \n",
    "EOF\n",
    "\n",
    "echo \"Project dir: $project_dirM\"\n",
    "echo \"Project: $projectM\"\n",
    "echo \"Repo: $project_repoM\""
   ]
  },
  {
   "cell_type": "code",
   "execution_count": 4,
   "metadata": {},
   "outputs": [
    {
     "data": {
      "text/plain": [
       "{'USER': 'spooketti',\n",
       " 'VSCODE_WSL_EXT_LOCATION': '/mnt/c/Users/Jonli/.vscode/extensions/ms-vscode-remote.remote-wsl-0.88.2',\n",
       " 'SHLVL': '0',\n",
       " 'HOME': '/home/spooketti',\n",
       " 'DBUS_SESSION_BUS_ADDRESS': 'unix:path=/run/user/1000/bus',\n",
       " 'WSL_DISTRO_NAME': 'Ubuntu',\n",
       " 'WAYLAND_DISPLAY': 'wayland-0',\n",
       " 'LOGNAME': 'spooketti',\n",
       " 'NAME': 'JonsComputer',\n",
       " 'WSL_INTEROP': '/run/WSL/385_interop',\n",
       " 'PULSE_SERVER': 'unix:/mnt/wslg/PulseServer',\n",
       " '_': '/home/spooketti/.vscode-server/bin/fee1edb8d6d72a0ddff41e5f71a671c23ed924b9/node',\n",
       " 'TERM': 'xterm-color',\n",
       " 'PATH': '/home/spooketti/.vscode-server/bin/fee1edb8d6d72a0ddff41e5f71a671c23ed924b9/bin/remote-cli:/home/spooketti/.local/bin:/home/spooketti/gems/bin:/opt/gradle/gradle-8.1.1/bin:/home/spooketti/gems/bin:/home/spooketti/gems/bin:/home/spooketti/gems/bin:/usr/local/sbin:/usr/local/bin:/usr/sbin:/usr/bin:/sbin:/bin:/usr/games:/usr/local/games:/usr/lib/wsl/lib:/mnt/c/Program Files/Common Files/Oracle/Java/javapath:/mnt/c/Program Files (x86)/VMware/VMware Player/bin/:/mnt/c/Program Files/National Instruments/Shared/OpenVINO/:/mnt/c/windows/system32:/mnt/c/windows:/mnt/c/windows/System32/Wbem:/mnt/c/windows/System32/WindowsPowerShell/v1.0/:/mnt/c/windows/System32/OpenSSH/:/mnt/c/Program Files/Git/cmd:/mnt/c/Program Files/dotnet/:/mnt/c/Program Files (x86)/ZeroTier/One/:/mnt/c/Program Files/Docker/Docker/resources/bin:/mnt/c/Program Files/nodejs/:/mnt/c/Users/Jonli/AppData/Local/Programs/Python/Python38:/mnt/c/Program Files/HP/HP One Agent:/mnt/c/Users/Jonli/AppData/Local/Programs/Eclipse Adoptium/jdk-21.0.4.7-hotspot/bin:/mnt/c/Users/Jonli/AppData/Local/Microsoft/WindowsApps:/mnt/c/Users/Jonli/AppData/Local/Programs/Microsoft VS Code/bin:/mnt/c/Users/Jonli/AppData/Local/GitHubDesktop/bin:/mnt/c/Users/Jonli/.dotnet/tools:/mnt/c/Users/Jonli/AppData/Roaming/npm:/mnt/c/Users/Jonli/.aftman/bin:/mnt/c/Users/Jonli/AppData/Local/Programs/Python/Python38:/snap/bin',\n",
       " 'XDG_RUNTIME_DIR': '/run/user/1000/',\n",
       " 'DISPLAY': ':0',\n",
       " 'LANG': 'C.UTF-8',\n",
       " 'SHELL': '/bin/bash',\n",
       " 'PWD': '/mnt/c/Users/Jonli/AppData/Local/Programs/Microsoft VS Code',\n",
       " 'WSL2_GUI_APPS_ENABLED': '1',\n",
       " 'HOSTTYPE': 'x86_64',\n",
       " 'WSLENV': 'VSCODE_WSL_EXT_LOCATION/up',\n",
       " 'VSCODE_CWD': '/mnt/c/Users/Jonli/AppData/Local/Programs/Microsoft VS Code',\n",
       " 'VSCODE_NLS_CONFIG': '{\"userLocale\":\"en\",\"osLocale\":\"en\",\"resolvedLanguage\":\"en\",\"defaultMessagesFile\":\"/home/spooketti/.vscode-server/bin/fee1edb8d6d72a0ddff41e5f71a671c23ed924b9/out/nls.messages.json\",\"locale\":\"en\",\"availableLanguages\":{}}',\n",
       " 'VSCODE_HANDLES_SIGPIPE': 'true',\n",
       " 'MOTD_SHOWN': 'update-motd',\n",
       " 'LS_COLORS': 'rs=0:di=01;34:ln=01;36:mh=00:pi=40;33:so=01;35:do=01;35:bd=40;33;01:cd=40;33;01:or=40;31;01:mi=00:su=37;41:sg=30;43:ca=30;41:tw=30;42:ow=34;42:st=37;44:ex=01;32:*.tar=01;31:*.tgz=01;31:*.arc=01;31:*.arj=01;31:*.taz=01;31:*.lha=01;31:*.lz4=01;31:*.lzh=01;31:*.lzma=01;31:*.tlz=01;31:*.txz=01;31:*.tzo=01;31:*.t7z=01;31:*.zip=01;31:*.z=01;31:*.dz=01;31:*.gz=01;31:*.lrz=01;31:*.lz=01;31:*.lzo=01;31:*.xz=01;31:*.zst=01;31:*.tzst=01;31:*.bz2=01;31:*.bz=01;31:*.tbz=01;31:*.tbz2=01;31:*.tz=01;31:*.deb=01;31:*.rpm=01;31:*.jar=01;31:*.war=01;31:*.ear=01;31:*.sar=01;31:*.rar=01;31:*.alz=01;31:*.ace=01;31:*.zoo=01;31:*.cpio=01;31:*.7z=01;31:*.rz=01;31:*.cab=01;31:*.wim=01;31:*.swm=01;31:*.dwm=01;31:*.esd=01;31:*.jpg=01;35:*.jpeg=01;35:*.mjpg=01;35:*.mjpeg=01;35:*.gif=01;35:*.bmp=01;35:*.pbm=01;35:*.pgm=01;35:*.ppm=01;35:*.tga=01;35:*.xbm=01;35:*.xpm=01;35:*.tif=01;35:*.tiff=01;35:*.png=01;35:*.svg=01;35:*.svgz=01;35:*.mng=01;35:*.pcx=01;35:*.mov=01;35:*.mpg=01;35:*.mpeg=01;35:*.m2v=01;35:*.mkv=01;35:*.webm=01;35:*.webp=01;35:*.ogm=01;35:*.mp4=01;35:*.m4v=01;35:*.mp4v=01;35:*.vob=01;35:*.qt=01;35:*.nuv=01;35:*.wmv=01;35:*.asf=01;35:*.rm=01;35:*.rmvb=01;35:*.flc=01;35:*.avi=01;35:*.fli=01;35:*.flv=01;35:*.gl=01;35:*.dl=01;35:*.xcf=01;35:*.xwd=01;35:*.yuv=01;35:*.cgm=01;35:*.emf=01;35:*.ogv=01;35:*.ogx=01;35:*.aac=00;36:*.au=00;36:*.flac=00;36:*.m4a=00;36:*.mid=00;36:*.midi=00;36:*.mka=00;36:*.mp3=00;36:*.mpc=00;36:*.ogg=00;36:*.ra=00;36:*.wav=00;36:*.oga=00;36:*.opus=00;36:*.spx=00;36:*.xspf=00;36:',\n",
       " 'GEM_HOME': '/home/spooketti/gems',\n",
       " 'LESSCLOSE': '/usr/bin/lesspipe %s %s',\n",
       " 'LESSOPEN': '| /usr/bin/lesspipe %s',\n",
       " 'XDG_DATA_DIRS': '/usr/local/share:/usr/share:/var/lib/snapd/desktop',\n",
       " 'VSCODE_AMD_ENTRYPOINT': 'vs/workbench/api/node/extensionHostProcess',\n",
       " 'VSCODE_HANDLES_UNCAUGHT_ERRORS': 'true',\n",
       " 'ELECTRON_RUN_AS_NODE': '1',\n",
       " 'VSCODE_IPC_HOOK_CLI': '/run/user/1000/vscode-ipc-f4b4d72b-9981-466d-a83a-66b58493c33b.sock',\n",
       " 'VSCODE_L10N_BUNDLE_LOCATION': '',\n",
       " 'PYDEVD_IPYTHON_COMPATIBLE_DEBUGGING': '1',\n",
       " 'PYTHONUNBUFFERED': '1',\n",
       " 'PYTHONIOENCODING': 'utf-8',\n",
       " 'PYTHON_FROZEN_MODULES': 'on',\n",
       " 'PYDEVD_USE_FRAME_EVAL': 'NO',\n",
       " 'CLICOLOR': '1',\n",
       " 'FORCE_COLOR': '1',\n",
       " 'CLICOLOR_FORCE': '1',\n",
       " 'PAGER': 'cat',\n",
       " 'GIT_PAGER': 'cat',\n",
       " 'MPLBACKEND': 'module://matplotlib_inline.backend_inline'}"
      ]
     },
     "execution_count": 4,
     "metadata": {},
     "output_type": "execute_result"
    }
   ],
   "source": [
    "env"
   ]
  },
  {
   "cell_type": "code",
   "execution_count": 1,
   "metadata": {},
   "outputs": [
    {
     "name": "stdout",
     "output_type": "stream",
     "text": [
      "0\n",
      "1\n",
      "2\n",
      "3\n",
      "4\n"
     ]
    }
   ],
   "source": [
    "for(int i=0;i<5;i++)\n",
    "{\n",
    " System.out.println(i);\n",
    "}"
   ]
  }
 ],
 "metadata": {
  "kernelspec": {
   "display_name": "Python 3 (ipykernel)",
   "language": "python",
   "name": "python3"
  }
 },
 "nbformat": 4,
 "nbformat_minor": 2
}
