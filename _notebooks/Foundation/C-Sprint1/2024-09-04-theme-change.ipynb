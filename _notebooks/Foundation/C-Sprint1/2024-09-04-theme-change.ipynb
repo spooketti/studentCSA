{
 "cells": [
  {
   "cell_type": "markdown",
   "metadata": {},
   "source": [
    "---\n",
    "layout: post\n",
    "title: Sprint 1 - Dynamic Blog Themes\n",
    "description: Changing the style with _config.yml\n",
    "type: collab\n",
    "courses: {'csa': {'week': 4}}\n",
    "comments: True\n",
    "---"
   ]
  },
  {
   "cell_type": "markdown",
   "metadata": {},
   "source": [
    "# Dynamic Blog Themes\n",
    "\n",
    "The default theme, minimal is the default theme that I will be working with on the website.\n",
    "However, I thought to explore an alternative theme\n",
    "\n",
    "# Midnight Theme\n",
    "<img src=\"{{site.baseurl}}/images/notebooks/foundation/blogThemes/mignight.png\" class=\"fullSizeIMG\">\n",
    "\n",
    "This theme works quite well on the timebox page but not on the home page\n",
    "\n"
   ]
  }
 ],
 "metadata": {
  "language_info": {
   "name": "python"
  }
 },
 "nbformat": 4,
 "nbformat_minor": 2
}
