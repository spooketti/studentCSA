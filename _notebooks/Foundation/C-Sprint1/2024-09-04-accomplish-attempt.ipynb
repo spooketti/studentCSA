{
 "cells": [
  {
   "cell_type": "markdown",
   "metadata": {},
   "source": [
    "---\n",
    "layout: post\n",
    "title: Sprint 1 - Accomplished VS Attempted\n",
    "description: What was attempted and what is accomplished\n",
    "type: collab\n",
    "courses: {'csa': {'week': 4}}\n",
    "comments: True\n",
    "---"
   ]
  },
  {
   "cell_type": "markdown",
   "metadata": {},
   "source": [
    "# So far I have attempted\n",
    "\n",
    "- To make a home page\n",
    "- reinstate the previous timebox page \n",
    "- change the theme of the website\n",
    "- install the Java Kernel\n",
    "- finish all the hacks\n",
    "- clean up the website, make it something I'm proud of\n",
    "\n",
    "# So far I have accomplished\n",
    "- Home page, but could be cleaned up a little\n",
    "- Timebox page\n",
    "- Theme change (kind of)\n",
    "- Java Kernel"
   ]
  },
  {
   "cell_type": "code",
   "execution_count": 8,
   "metadata": {},
   "outputs": [
    {
     "name": "stdout",
     "output_type": "stream",
     "text": [
      "720\n"
     ]
    }
   ],
   "source": [
    "int factorial(int x)\n",
    "{\n",
    "    int sum = 1;\n",
    "    for(int i=1;i<=x;i++)\n",
    "    {\n",
    "        sum *= i;\n",
    "    }\n",
    "    return sum;\n",
    "}\n",
    "\n",
    "System.out.println(factorial(6));\n",
    "\n",
    "/*\n",
    "\n",
    "js implementation \n",
    "\n",
    "function factorial(x)\n",
    "{\n",
    "    let sum = 1;\n",
    "    for(let i=1;i<=x;i++)\n",
    "    {\n",
    "        sum *= i;\n",
    "    }\n",
    "    return sum;\n",
    "}\n",
    "\n",
    "console.log(factorial(6));\n",
    "*/"
   ]
  }
 ],
 "metadata": {
  "kernelspec": {
   "display_name": "Java",
   "language": "java",
   "name": "java"
  },
  "language_info": {
   "codemirror_mode": "java",
   "file_extension": ".jshell",
   "mimetype": "text/x-java-source",
   "name": "java",
   "pygments_lexer": "java",
   "version": "22.0.2+9-70"
  }
 },
 "nbformat": 4,
 "nbformat_minor": 2
}
