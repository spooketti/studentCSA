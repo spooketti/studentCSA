{
 "cells": [
  {
   "cell_type": "markdown",
   "metadata": {},
   "source": [
    "---\n",
    "layout: post\n",
    "title: Sprint 1 - Checklist Sprint One\n",
    "description: Sprint One's Hacks\n",
    "type: collab\n",
    "courses: {'csa': {'week': 5}}\n",
    "comments: True\n",
    "---"
   ]
  },
  {
   "cell_type": "markdown",
   "metadata": {},
   "source": [
    "# Sprint 1 Hacks\n",
    "\n",
    "# Hacks Tools and Equipment Play\n",
    "<a href=\"https://spooketti.github.io/studentCSA//2024/08/28/toolMemory_IPYNB_2_.html\">Tool Hacks</a>\n",
    "This has documentation of my installations such as Python libraries, my GitHub accuont, other dependencies, and proof of the IJava Kernel.\n",
    "\n",
    "# Github Pages Hack\n",
    "<a href=\"https://spooketti.github.io/studentCSA//2024/09/04/theme-change_IPYNB_2_.html\">Theme Hack</a>\n",
    "Also has changed about me and home page\n",
    "\n",
    "# SASS Hacks\n",
    "<a href=\"https://spooketti.github.io/studentCSA//2024/08/22/frontend_IPYNB_2_.html\">Frontend Hacks</a>\n",
    "This shows wireframe designs of HTML and examples of how SCSS properties such as nesting work\n",
    "\n",
    "# Jupyter Notebook Hacks\n",
    "<a href=\"https://spooketti.github.io/studentCSA//2024/09/08/notebookHack_IPYNB_2_.html\">Notebook Hacks</a>\n",
    "\n",
    "# Collab Hacks\n",
    "<a href=\"https://spooketti.github.io/VoiceNote\">Link to Website</a>\n",
    "<a href=\"https://github.com/spooketti/VoiceNote\">Link to Frontend</a>\n",
    "<a href=\"https://github.com/spooketti/VoiceNoteServer\">Link to Server</a>\n",
    "\n"
   ]
  }
 ],
 "metadata": {
  "language_info": {
   "name": "python"
  }
 },
 "nbformat": 4,
 "nbformat_minor": 2
}
