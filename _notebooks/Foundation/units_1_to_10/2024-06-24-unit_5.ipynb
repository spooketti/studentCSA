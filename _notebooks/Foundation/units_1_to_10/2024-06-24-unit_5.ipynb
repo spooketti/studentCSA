{
 "cells": [
  {
   "cell_type": "raw",
   "metadata": {
    "vscode": {
     "languageId": "raw"
    }
   },
   "source": [
    "---\n",
    "layout: post\n",
    "toc: true\n",
    "title: Unit 5 - Writing Classes\n",
    "description: Writing Classes\n",
    "authors: Aniket Chakradeo, Soham Kamat\n",
    "categories: [AP CSA]\n",
    "courses: { csa: {week: 5} }\n",
    "type: ccc\n",
    "---"
   ]
  },
  {
   "cell_type": "markdown",
   "metadata": {},
   "source": [
    "## Introduction\n",
    "\n",
    "A class serves as a blueprint for creating objects in programming. It encapsulates data and methods that operate on that data. To define a class, specify its access level (public or private), use the `class` keyword, and provide a name. Inside the class, you define variables to hold data and methods to perform operations. For instance, in the `AreaCalculator` class, you can define instance variables and methods to calculate areas of various shapes, illustrating how classes structure and manage data and functionality."
   ]
  },
  {
   "cell_type": "markdown",
   "metadata": {},
   "source": [
    "## Anatomy of a Class\n",
    "\n",
    "A class is a blueprint for creating objects, containing variables and methods to manage data and perform actions. To define a class, specify its access level (public or private), use the `class` keyword, and provide a name. Enclose the class contents within curly braces `{}`. For example, the `AreaCalculator` class can be defined as follows:"
   ]
  },
  {
   "cell_type": "code",
   "execution_count": 1,
   "metadata": {
    "vscode": {
     "languageId": "java"
    }
   },
   "outputs": [],
   "source": [
    "public class AreaCalculator {}"
   ]
  },
  {
   "cell_type": "markdown",
   "metadata": {},
   "source": [
    "Inside the curly braces, you can declare instance variables to store data and methods to perform operations. For instance, an `AreaCalculator` class might include an instance variable to track the number of shapes processed:"
   ]
  },
  {
   "cell_type": "code",
   "execution_count": null,
   "metadata": {
    "vscode": {
     "languageId": "java"
    }
   },
   "outputs": [],
   "source": [
    "public class AreaCalculator {\n",
    "    private int numShapes;\n",
    "}"
   ]
  },
  {
   "cell_type": "markdown",
   "metadata": {},
   "source": [
    "The `numShapes` variable is private to restrict access from other classes, ensuring it is only accessible within the `AreaCalculator` class."
   ]
  },
  {
   "cell_type": "markdown",
   "metadata": {},
   "source": [
    "## Constructors\n",
    "\n",
    "Constructors are special methods used to initialize objects of a class. They have the same name as the class and no return type. Every class must have at least one constructor, and if none is provided, a default constructor is created. Constructors should be public so that objects can be instantiated from other classes.\n",
    "\n",
    "For example, the `AreaCalculator` class includes a constructor to initialize the `numShapes` variable:"
   ]
  },
  {
   "cell_type": "code",
   "execution_count": null,
   "metadata": {
    "vscode": {
     "languageId": "java"
    }
   },
   "outputs": [],
   "source": [
    "public class AreaCalculator {\n",
    "    private int numShapes;\n",
    "\n",
    "    public AreaCalculator() {\n",
    "        numShapes = 0;\n",
    "    }\n",
    "}"
   ]
  },
  {
   "cell_type": "markdown",
   "metadata": {},
   "source": [
    "Constructors can also take parameters to initialize instance variables with specific values. For example, the `Car` class has a parameterized constructor:"
   ]
  },
  {
   "cell_type": "code",
   "execution_count": null,
   "metadata": {
    "vscode": {
     "languageId": "java"
    }
   },
   "outputs": [],
   "source": [
    "public class Car {\n",
    "    private String brand;\n",
    "    private String model;\n",
    "    private int year;\n",
    "\n",
    "    public Car(String make, String carModel, int yearMade) {\n",
    "        brand = make;\n",
    "        model = carModel;\n",
    "        year = yearMade;\n",
    "    }\n",
    "}"
   ]
  },
  {
   "cell_type": "markdown",
   "metadata": {},
   "source": [
    "In this case, constructor parameters are used to set the initial values of `brand`, `model`, and `year`."
   ]
  },
  {
   "cell_type": "markdown",
   "metadata": {},
   "source": [
    "## Accessor Methods\n",
    "\n",
    "Accessor methods, also known as getters, are used to retrieve the value of private instance variables from outside the class. They are public methods that return the value of a variable without modifying it.\n",
    "\n",
    "For example, to access the `numShapes` variable in the `AreaCalculator` class, you can create an accessor method like this:"
   ]
  },
  {
   "cell_type": "code",
   "execution_count": null,
   "metadata": {
    "vscode": {
     "languageId": "java"
    }
   },
   "outputs": [],
   "source": [
    "public class AreaCalculator {\n",
    "    private int numShapes;\n",
    "\n",
    "    // Accessor method for numShapes\n",
    "    public int getNumShapes() {\n",
    "        return numShapes;\n",
    "    }\n",
    "}"
   ]
  },
  {
   "cell_type": "markdown",
   "metadata": {},
   "source": [
    "Accessor methods typically have a return type matching the variable's type and usually consist of a single line that returns the value of the variable."
   ]
  },
  {
   "cell_type": "markdown",
   "metadata": {},
   "source": [
    "## Mutator Methods\n",
    "\n",
    "Mutator methods, also known as setters, are used to modify the value of private instance variables. They are public methods that typically have a `void` return type and accept parameters to update the variable.\n",
    "\n",
    "For example, in the `Car` class, a mutator method for the `year` variable might look like this:"
   ]
  },
  {
   "cell_type": "code",
   "execution_count": null,
   "metadata": {
    "vscode": {
     "languageId": "java"
    }
   },
   "outputs": [],
   "source": [
    "public class Car {\n",
    "    private int year;\n",
    "\n",
    "    // Mutator method for year\n",
    "    public void setYear(int newYear) {\n",
    "        year = newYear;\n",
    "    }\n",
    "}"
   ]
  },
  {
   "cell_type": "markdown",
   "metadata": {},
   "source": [
    "Mutator methods allow you to change the value of instance variables after an object has been created, providing a controlled way to modify data."
   ]
  },
  {
   "cell_type": "markdown",
   "metadata": {},
   "source": [
    "## Writing Methods\n",
    "\n",
    "Methods are used to perform actions and compute values within a class. They can take parameters and return values. For instance, in the `AreaCalculator` class, you might write methods to calculate the area of different shapes. When writing methods, remember that primitive types are passed by value, meaning changes to parameters do not affect the original variables. Objects are passed by reference, so changes to an object's attributes inside a method will affect the original object.\n",
    "\n",
    "Here are examples of methods for calculating areas in the `AreaCalculator` class:"
   ]
  },
  {
   "cell_type": "code",
   "execution_count": null,
   "metadata": {
    "vscode": {
     "languageId": "java"
    }
   },
   "outputs": [],
   "source": [
    "public class AreaCalculator {\n",
    "    private int numShapes;\n",
    "\n",
    "    // Method to calculate the area of a triangle\n",
    "    public double triangleArea(double base, double height) {\n",
    "        double area = (base * height) / 2;\n",
    "        numShapes++;\n",
    "        return area;\n",
    "    }\n",
    "\n",
    "    // Method to calculate the area of a rectangle\n",
    "    public double rectangleArea(double length, double width) {\n",
    "        double area = length * width;\n",
    "        numShapes++;\n",
    "        return area;\n",
    "    }\n",
    "\n",
    "    // Method to calculate the area of a trapezoid\n",
    "    public double trapezoidArea(double base1, double base2, double height) {\n",
    "        double area = (base1 + base2) * height / 2;\n",
    "        numShapes++;\n",
    "        return area;\n",
    "    }\n",
    "}"
   ]
  },
  {
   "cell_type": "markdown",
   "metadata": {},
   "source": [
    "Each method performs a calculation and updates the `numShapes` variable to reflect that a shape's area has been calculated."
   ]
  },
  {
   "cell_type": "markdown",
   "metadata": {},
   "source": [
    "## Static Variables and Methods\n",
    "\n",
    "Static variables and methods belong to the class rather than to any specific object. They are shared across all instances of the class and can be accessed without creating an object. To define a static variable or method, use the `static` keyword.\n",
    "\n",
    "For example, in the `AreaCalculator` class, you can make `numShapes` and the area calculation methods static:"
   ]
  },
  {
   "cell_type": "code",
   "execution_count": null,
   "metadata": {
    "vscode": {
     "languageId": "java"
    }
   },
   "outputs": [],
   "source": [
    "public class AreaCalculator {\n",
    "    private static int numShapes;\n",
    "\n",
    "    // Static method to calculate the area of a rectangle\n",
    "    public static double rectangleArea(double length, double width) {\n",
    "        double area = length * width;\n",
    "        numShapes++;\n",
    "        return area;\n",
    "    }\n",
    "\n",
    "    // Static method to calculate the area of a triangle\n",
    "    public static double triangleArea(double base, double height) {\n",
    "        double area = (base * height) / 2;\n",
    "        numShapes++;\n",
    "        return area;\n",
    "    }\n",
    "\n",
    "    // Static method to calculate the area of a trapezoid\n",
    "    public static double trapezoidArea(double base1, double base2, double height) {\n",
    "        double area = (base1 + base2) * height / 2;\n",
    "        numShapes++;\n",
    "        return area;\n",
    "    }\n",
    "\n",
    "    // Static method to get the number of shapes calculated\n",
    "    public static int getNumShapes() {\n",
    "        return numShapes;\n",
    "    }\n",
    "}"
   ]
  },
  {
   "cell_type": "markdown",
   "metadata": {},
   "source": [
    "Static methods and variables are accessed using the class name, like `AreaCalculator.rectangleArea(5.0, 3.0)`, without needing to instantiate an `AreaCalculator` object."
   ]
  },
  {
   "cell_type": "markdown",
   "metadata": {},
   "source": [
    "## Scope and Access\n",
    "\n",
    "Scope refers to the visibility and accessibility of variables, methods, and other elements within a program. In Java, there are two main types of scope:\n",
    "\n",
    "1. **Global Scope**: Variables and methods with global scope are accessible from anywhere within the class. For example, instance variables defined outside of methods but inside the class have global scope within that class.\n",
    "\n",
    "2. **Local Scope**: Variables with local scope are accessible only within the block of code in which they are defined, such as within a method. For example, variables declared inside a method exist only during the execution of that method and are not accessible outside of it.\n",
    "\n",
    "In the `AreaCalculator` class, the `numShapes` variable has global scope within the class, while the `area` variable used in methods like `triangleArea` has local scope:"
   ]
  },
  {
   "cell_type": "code",
   "execution_count": null,
   "metadata": {
    "vscode": {
     "languageId": "java"
    }
   },
   "outputs": [],
   "source": [
    "public class AreaCalculator {\n",
    "    private int numShapes; // Global scope within the class\n",
    "\n",
    "    public double triangleArea(double base, double height) {\n",
    "        double area = (base * height) / 2; // Local scope within this method\n",
    "        numShapes++;\n",
    "        return area;\n",
    "    }\n",
    "}"
   ]
  },
  {
   "cell_type": "markdown",
   "metadata": {},
   "source": [
    "Understanding scope helps in managing variable visibility and avoiding conflicts, leading to more organized and efficient code."
   ]
  },
  {
   "cell_type": "markdown",
   "metadata": {},
   "source": [
    "## This Keyword\n",
    "\n",
    "In Java, the `this` keyword refers to the current instance of a class. It is used within an object's methods to access its fields and methods. It helps to distinguish between instance variables and parameters or local variables with the same name and can also be used to pass the current object as a parameter to another method.\n",
    "\n",
    "Here’s how you can use the `this` keyword:\n",
    "\n",
    "1. **Accessing Instance Variables**: To refer to the current object's instance variables."
   ]
  },
  {
   "cell_type": "code",
   "execution_count": null,
   "metadata": {
    "vscode": {
     "languageId": "java"
    }
   },
   "outputs": [],
   "source": [
    "public class MyClass {\n",
    "    int x;\n",
    "\n",
    "    public void setX(int x) {\n",
    "        this.x = x; // Refers to the instance variable\n",
    "    }\n",
    "}"
   ]
  },
  {
   "cell_type": "markdown",
   "metadata": {},
   "source": [
    "2. **Passing the Current Object**: To pass the current instance to another method or constructor."
   ]
  },
  {
   "cell_type": "code",
   "execution_count": null,
   "metadata": {
    "vscode": {
     "languageId": "java"
    }
   },
   "outputs": [],
   "source": [
    "public class MyClass {\n",
    "    int x;\n",
    "\n",
    "    public void setX(int x) {\n",
    "        this.x = x;\n",
    "    }\n",
    "\n",
    "    public void updateX(MyClass obj) {\n",
    "        obj.setX(this.x); // Passing the current object as an argument\n",
    "    }\n",
    "}"
   ]
  },
  {
   "cell_type": "markdown",
   "metadata": {},
   "source": [
    "\n",
    "Using `this` helps to clarify which variables or methods are being accessed and ensures the correct context for operations on object data."
   ]
  },
  {
   "cell_type": "markdown",
   "metadata": {},
   "source": [
    "\n",
    "Additional Resources:\n",
    "\n",
    "[Quizlet](https://quizlet.com/468453689/lecture-11-writing-classes-in-java-flash-cards/)<br>\n",
    "[Runestone Academy](https://runestone.academy/ns/books/published/csjava/Unit6-Writing-Classes/toctree.html)"
   ]
  },
  {
   "cell_type": "markdown",
   "metadata": {},
   "source": [
    "## Hacks\n",
    "### Part 1"
   ]
  },
  {
   "cell_type": "code",
   "execution_count": null,
   "metadata": {
    "vscode": {
     "languageId": "java"
    }
   },
   "outputs": [],
   "source": [
    "public class Rectangle {\n",
    "    private double length;\n",
    "    private double width;\n",
    "\n",
    "    public Rectangle(double length, double width) {\n",
    "        this.length = length;\n",
    "        this.width = width;\n",
    "    }\n",
    "\n",
    "    public double getLength() {\n",
    "        return length;\n",
    "    }\n",
    "\n",
    "    public double getWidth() {\n",
    "        return width;\n",
    "    }\n",
    "\n",
    "    public void setLength(double length) {\n",
    "        this.length = length;\n",
    "    }\n",
    "\n",
    "    public void setWidth(double width) {\n",
    "        this.width = width;\n",
    "    }\n",
    "\n",
    "    public double calculateArea() {\n",
    "        return length * width;\n",
    "    }\n",
    "}\n",
    "\n",
    "public class Main {\n",
    "    public static void main(String[] args) {\n",
    "        Rectangle rect1 = new Rectangle(5.0, 3.0);\n",
    "        Rectangle rect2 = rect1;\n",
    "        rect2.setWidth(4.0);\n",
    "        System.out.println(\"Area of rect1: \" + rect1.calculateArea());\n",
    "    }\n",
    "}"
   ]
  },
  {
   "cell_type": "markdown",
   "metadata": {},
   "source": [
    "Answer the following questions based on the code above:\n",
    "* a) What is the output of the `System.out.println(\"Area of rect1: \" + rect1.calculateArea())` statement? Explain why.\n",
    "* Answer: \n",
    "* b) Do `rect1` and `rect2` refer to the same memory location? Explain your answer.\n",
    "* Answer: "
   ]
  },
  {
   "cell_type": "markdown",
   "metadata": {},
   "source": [
    "### Part 2\n",
    "Situation: You are designing a system to manage employee records in a company. You need to create a class `Employee` and another class `Company` to manage multiple employees.\n",
    "\n",
    "(a) Write a class `Employee` with private instance variables for `name`, `id`, and `salary`. Include a constructor to initialize these variables, accessor methods to retrieve their values, and mutator methods to update them.\n",
    "\n",
    "(b) Explain how encapsulation is achieved in the `Employee` class. What is the role of accessor and mutator methods in achieving encapsulation?\n",
    "\n",
    "(c) Code:\n",
    "\n",
    "Create a class `Company` that contains an array of `Employee` objects. Include a method `addEmployee(Employee newEmployee)` to add a new employee to the array. Write the method signature and implementation, including comments to explain your code."
   ]
  }
 ],
 "metadata": {
  "kernelspec": {
   "display_name": "Java",
   "language": "java",
   "name": "java"
  },
  "language_info": {
   "codemirror_mode": "java",
   "file_extension": ".jshell",
   "mimetype": "text/x-java-source",
   "name": "Java",
   "pygments_lexer": "java",
   "version": "19.0.2+7-44"
  }
 },
 "nbformat": 4,
 "nbformat_minor": 2
}
