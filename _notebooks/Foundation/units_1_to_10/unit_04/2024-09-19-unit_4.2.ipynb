{
 "cells": [
  {
   "cell_type": "markdown",
   "metadata": {},
   "source": [
    "---\n",
    "layout: post\n",
    "type: collab\n",
    "title: Unit 4.2 - For Loops\n",
    "description: Unit 4 Team Teach\n",
    "comments: true\n",
    "permalink: /csa/unit4-p1/unit4-2\n",
    "author: hanlun, saaras, arthur, miheer, eshaan, beijan\n",
    "---"
   ]
  },
  {
   "cell_type": "markdown",
   "metadata": {},
   "source": [
    "<style>\n",
    "    .unitHold\n",
    "    {\n",
    "    position: fixed;\n",
    "    top: 64px;\n",
    "    width: 100%;\n",
    "    height: 43px;\n",
    "    background-color: #353543;\n",
    "    left: 0px;\n",
    "    display: flex;\n",
    "    flex-direction: row;\n",
    "    flex-wrap: nowrap;\n",
    "    justify-content: space-evenly;\n",
    "    align-items: center;\n",
    "    }\n",
    "\n",
    "    .unitHold a\n",
    "    {\n",
    "    text-decoration: none;\n",
    "    color: #fabe28;\n",
    "    border-left: #fabe28 6px double;\n",
    "    border-right: #fabe28 6px double;\n",
    "    height: 100%;\n",
    "    display: flex;\n",
    "    align-items: center;\n",
    "    justify-content: center;\n",
    "    transition:all 1s;\n",
    "    }\n",
    "\n",
    "    .unitHold a:hover\n",
    "    {\n",
    "        padding-left:5px;\n",
    "        padding-right:5px;\n",
    "    }\n",
    "\n",
    "\n",
    "</style>\n",
    "\n",
    "<div class=\"unitHold\">\n",
    "<a href=\"{{site.baseurl}}/csa/unit4-p1/\">Unit 4 Intro</a>\n",
    "<a href=\"{{site.baseurl}}/csa/unit4-p1/unit4-1\">Unit 4.1</a>\n",
    "<a href=\"{{site.baseurl}}/csa/unit4-p1/unit4-2\">Unit 4.2</a>\n",
    "<a href=\"{{site.baseurl}}/csa/unit4-p1/unit4-3\">Unit 4.3</a>\n",
    "<a href=\"{{site.baseurl}}/csa/unit4-p1/unit4-4\">Unit 4.4</a>\n",
    "<a href=\"{{site.baseurl}}/csa/unit4-p1/unit4-hwquiz\">Unit 4 HW</a>\n",
    "</div>"
   ]
  },
  {
   "cell_type": "markdown",
   "metadata": {},
   "source": [
    "## 4.2 For Loops\n",
    "Similar to while loops, for loops run until a condition is false. Format of for loop below: "
   ]
  },
  {
   "cell_type": "code",
   "execution_count": 9,
   "metadata": {
    "vscode": {
     "languageId": "java"
    }
   },
   "outputs": [
    {
     "name": "stdout",
     "output_type": "stream",
     "text": [
      "0\n",
      "1\n",
      "2\n",
      "3\n",
      "4\n"
     ]
    }
   ],
   "source": [
    "for (int i = 0; i < 5; i++) {\n",
    "    System.out.println(i);\n",
    "}"
   ]
  },
  {
   "cell_type": "markdown",
   "metadata": {},
   "source": [
    "## Explanation\n",
    "- in the above for loop: \n",
    "    - int i = 0 defines the iterating variable\n",
    "    - i < 5 is the condition (once i < 5 is false, this loop breaks)\n",
    "    - i++ is the incrementation of the iterating variable\n",
    "    - System.out.println(i); is the body code that runs every time the loop iterates"
   ]
  },
  {
   "cell_type": "markdown",
   "metadata": {},
   "source": [
    "## For Each Loops:\n",
    "- Apart from iterating using an incrementing variable, you can also iterate through items in a list.\n",
    "### Example of For Each loop below"
   ]
  },
  {
   "cell_type": "code",
   "execution_count": null,
   "metadata": {
    "vscode": {
     "languageId": "java"
    }
   },
   "outputs": [
    {
     "name": "stdout",
     "output_type": "stream",
     "text": [
      "0\n",
      "1\n",
      "2\n",
      "3\n",
      "4\n"
     ]
    }
   ],
   "source": [
    "int[] list = {1, 2, 3, 4, 5}; // any list\n",
    "for (int item : list) { // for each item in the list, execute the body\n",
    "    System.out.println(item); // body code\n",
    "}"
   ]
  },
  {
   "cell_type": "code",
   "execution_count": null,
   "metadata": {
    "vscode": {
     "languageId": "java"
    }
   },
   "outputs": [],
   "source": [
    "#python version\n",
    "array=[1, 2, 3, 4, 5]\n",
    "for i in array:\n",
    "    print(i)"
   ]
  },
  {
   "cell_type": "markdown",
   "metadata": {},
   "source": [
    "## Explanation:\n",
    "- in the above loop:\n",
    "    - int item : list - this line is saying that for each item in the list, execute code below\n",
    "    - System.out.println(num); - this line is the body code."
   ]
  },
  {
   "cell_type": "markdown",
   "metadata": {},
   "source": [
    "### Fun For Loop Hack:\n",
    "Create a program that iterates through a list of numbers (int_list = {0, 4, 51, 83, 92, 10, 123, 145}) using both a for loop and a for each loop, then split the numbers in the list into even/odd lists, and output them.\n"
   ]
  },
  {
   "cell_type": "code",
   "execution_count": 5,
   "metadata": {
    "vscode": {
     "languageId": "java"
    }
   },
   "outputs": [
    {
     "name": "stdout",
     "output_type": "stream",
     "text": [
      "Even [0, 4, 92, 10]\n",
      "Odd [51, 83, 123, 145]\n",
      "Even [0, 4, 92, 10]\n",
      "Odd [51, 83, 123, 145]\n"
     ]
    }
   ],
   "source": [
    "import java.util.ArrayList;\n",
    "int[] int_list = {0, 4, 51, 83, 92, 10, 123, 145};\n",
    "ArrayList<Integer> even = new ArrayList<>();\n",
    "ArrayList<Integer> odd = new ArrayList<>();\n",
    "\n",
    "private static void isEven(int num)\n",
    "{\n",
    "    switch (num%2)\n",
    "    {\n",
    "        case 0:\n",
    "            even.add(num);\n",
    "        break;\n",
    "\n",
    "        default:\n",
    "            odd.add(num);\n",
    "        break;\n",
    "    }\n",
    "}\n",
    "\n",
    "for(int i=0;i<int_list.length;i++)\n",
    "{\n",
    "    isEven(int_list[i]);\n",
    "}\n",
    "System.out.println(\"Even \" + even);\n",
    "System.out.println(\"Odd \" + odd);\n",
    "\n",
    "even.clear();\n",
    "odd.clear();\n",
    "\n",
    "for(int value : int_list)\n",
    "{\n",
    "    isEven(value);\n",
    "}\n",
    "System.out.println(\"Even \" + even);\n",
    "System.out.println(\"Odd \" + odd);"
   ]
  },
  {
   "cell_type": "markdown",
   "metadata": {},
   "source": [
    "<div style=\"position:fixed; bottom:10px; right:10px; width:100px; height:100px;\">\n",
    "    <canvas id=\"animationCanvas\" width=\"100\" height=\"100\" style=\"border:1px solid black;\"></canvas>\n",
    "</div>\n",
    "\n",
    "<!-- Controls for adjusting speed, size, and pause/play -->\n",
    "<div style=\"position:fixed; bottom:120px; right:10px; font-family: Arial, sans-serif;\">\n",
    "    <label for=\"speedControl\">Adjust Speed:</label>\n",
    "    <input type=\"range\" id=\"speedControl\" min=\"0.5\" max=\"5\" step=\"0.1\" value=\"2\">\n",
    "    <span id=\"speedValue\">2</span><br>\n",
    "    \n",
    "    <label for=\"sizeControl\">Adjust Size:</label>\n",
    "    <input type=\"range\" id=\"sizeControl\" min=\"5\" max=\"30\" step=\"1\" value=\"15\">\n",
    "    <span id=\"sizeValue\">15</span><br>\n",
    "\n",
    "    <button id=\"togglePause\">Pause</button><br>\n",
    "    <button id=\"resetBall\">Reset Ball</button><br>\n",
    "    \n",
    "    <p>Iteration: <span id=\"iterationCount\">0</span></p>\n",
    "    <p>Current Velocity: <span id=\"velocityDisplay\">2, 2</span></p>\n",
    "</div>\n",
    "\n",
    "<script>\n",
    "    let canvas = document.getElementById('animationCanvas');\n",
    "    let ctx = canvas.getContext('2d');\n",
    "    let ball = { x: 50, y: 50, radius: 15, dx: 2, dy: 2 };\n",
    "    let iteration = 0;\n",
    "    let isPaused = false;\n",
    "\n",
    "    function getRandomColor() {\n",
    "        const letters = '0123456789ABCDEF';\n",
    "        let color = '#';\n",
    "        for (let i = 0; i < 6; i++) {\n",
    "            color += letters[Math.floor(Math.random() * 16)];\n",
    "        }\n",
    "        return color;\n",
    "    }\n",
    "\n",
    "    function drawBall() {\n",
    "        ctx.clearRect(0, 0, canvas.width, canvas.height);\n",
    "        ctx.beginPath();\n",
    "        ctx.arc(ball.x, ball.y, ball.radius, 0, Math.PI * 2);\n",
    "        ctx.fillStyle = getRandomColor();\n",
    "        ctx.fill();\n",
    "        ctx.closePath();\n",
    "    }\n",
    "\n",
    "    function updateBallPosition() {\n",
    "        ball.x += ball.dx;\n",
    "        ball.y += ball.dy;\n",
    "\n",
    "        // Ball collision detection for left/right edges\n",
    "        if (ball.x + ball.radius > canvas.width || ball.x - ball.radius < 0) {\n",
    "            ball.dx = -ball.dx;\n",
    "        }\n",
    "        // Ball collision detection for top/bottom edges\n",
    "        if (ball.y + ball.radius > canvas.height || ball.y - ball.radius < 0) {\n",
    "            ball.dy = -ball.dy;\n",
    "        }\n",
    "    }\n",
    "\n",
    "    function updateIterationCount() {\n",
    "        document.getElementById(\"iterationCount\").innerText = iteration;\n",
    "        document.getElementById(\"velocityDisplay\").innerText = `${ball.dx.toFixed(2)}, ${ball.dy.toFixed(2)}`;\n",
    "        iteration++;\n",
    "    }\n",
    "\n",
    "    function animate() {\n",
    "        if (!isPaused) {\n",
    "            updateBallPosition();\n",
    "            drawBall();\n",
    "            updateIterationCount();\n",
    "        }\n",
    "        requestAnimationFrame(animate);\n",
    "    }\n",
    "\n",
    "    // Event listener to adjust speed dynamically\n",
    "    document.getElementById('speedControl').addEventListener('input', function() {\n",
    "        let speed = parseFloat(this.value);\n",
    "        ball.dx = (ball.dx > 0 ? speed : -speed); // Maintain direction\n",
    "        ball.dy = (ball.dy > 0 ? speed : -speed); // Maintain direction\n",
    "        document.getElementById(\"speedValue\").innerText = speed;\n",
    "    });\n",
    "\n",
    "    // Event listener to adjust size dynamically\n",
    "    document.getElementById('sizeControl').addEventListener('input', function() {\n",
    "        let newSize = parseInt(this.value);\n",
    "        ball.radius = newSize;\n",
    "        document.getElementById(\"sizeValue\").innerText = newSize;\n",
    "    });\n",
    "\n",
    "    // Toggle pause/play\n",
    "    document.getElementById('togglePause').addEventListener('click', function() {\n",
    "        isPaused = !isPaused;\n",
    "        this.innerText = isPaused ? 'Play' : 'Pause';\n",
    "    });\n",
    "\n",
    "    // Reset the ball's position and speed when the reset button is clicked\n",
    "    document.getElementById('resetBall').addEventListener('click', function() {\n",
    "        ball.x = 50;\n",
    "        ball.y = 50;\n",
    "        ball.dx = 2;\n",
    "        ball.dy = 2;\n",
    "        ball.radius = 15;\n",
    "        iteration = 0;\n",
    "        document.getElementById(\"sizeControl\").value = 15;\n",
    "        document.getElementById(\"sizeValue\").innerText = 15;\n",
    "    });\n",
    "\n",
    "    animate();\n",
    "</script>\n"
   ]
  }
 ],
 "metadata": {
  "kernelspec": {
   "display_name": "Java",
   "language": "java",
   "name": "java"
  },
  "language_info": {
   "codemirror_mode": "java",
   "file_extension": ".jshell",
   "mimetype": "text/x-java-source",
   "name": "Java",
   "pygments_lexer": "java",
   "version": "17.0.12+7-Ubuntu-1ubuntu222.04"
  }
 },
 "nbformat": 4,
 "nbformat_minor": 2
}
