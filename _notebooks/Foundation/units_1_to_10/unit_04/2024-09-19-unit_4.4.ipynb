{
 "cells": [
  {
   "cell_type": "markdown",
   "metadata": {},
   "source": [
    "---\n",
    "layout: post\n",
    "type: collab\n",
    "title: Unit 4.4 - Nested Iteration\n",
    "description: Unit 4 Team Teach\n",
    "comments: true\n",
    "permalink: /csa/unit4-p1/unit4-4\n",
    "author: hanlun, saaras, arthur, miheer, eshaan, beijan\n",
    "---"
   ]
  },
  {
   "cell_type": "markdown",
   "metadata": {},
   "source": [
    "<style>\n",
    "    .unitHold\n",
    "    {\n",
    "    position: fixed;\n",
    "    top: 64px;\n",
    "    width: 100%;\n",
    "    height: 43px;\n",
    "    background-color: #353543;\n",
    "    left: 0px;\n",
    "    display: flex;\n",
    "    flex-direction: row;\n",
    "    flex-wrap: nowrap;\n",
    "    justify-content: space-evenly;\n",
    "    align-items: center;\n",
    "    }\n",
    "\n",
    "    .unitHold a\n",
    "    {\n",
    "    text-decoration: none;\n",
    "    color: #fabe28;\n",
    "    border-left: #fabe28 6px double;\n",
    "    border-right: #fabe28 6px double;\n",
    "    height: 100%;\n",
    "    display: flex;\n",
    "    align-items: center;\n",
    "    justify-content: center;\n",
    "    transition:all 1s;\n",
    "    }\n",
    "\n",
    "    .unitHold a:hover\n",
    "    {\n",
    "        padding-left:5px;\n",
    "        padding-right:5px;\n",
    "    }\n",
    "\n",
    "\n",
    "</style>\n",
    "\n",
    "<div class=\"unitHold\">\n",
    "<a href=\"{{site.baseurl}}/csa/unit4-p1/\">Unit 4 Intro</a>\n",
    "<a href=\"{{site.baseurl}}/csa/unit4-p1/unit4-1\">Unit 4.1</a>\n",
    "<a href=\"{{site.baseurl}}/csa/unit4-p1/unit4-2\">Unit 4.2</a>\n",
    "<a href=\"{{site.baseurl}}/csa/unit4-p1/unit4-3\">Unit 4.3</a>\n",
    "<a href=\"{{site.baseurl}}/csa/unit4-p1/unit4-4\">Unit 4.4</a>\n",
    "<a href=\"{{site.baseurl}}/csa/unit4-p1/unit4-hwquiz\">Unit 4 HW</a>\n",
    "</div>"
   ]
  },
  {
   "cell_type": "markdown",
   "metadata": {},
   "source": [
    "## 4.4 Nested Iteration\n",
    "How to iterate through with a time complexity of O(n^2)"
   ]
  },
  {
   "cell_type": "code",
   "execution_count": 6,
   "metadata": {
    "vscode": {
     "languageId": "java"
    }
   },
   "outputs": [
    {
     "name": "stdout",
     "output_type": "stream",
     "text": [
      "Outer loop iteration: 1\n",
      "    Inner loop iteration: 1\n",
      "    Inner loop iteration: 2\n",
      "    Inner loop iteration: 3\n",
      "Outer loop iteration: 2\n",
      "    Inner loop iteration: 1\n",
      "    Inner loop iteration: 2\n",
      "    Inner loop iteration: 3\n",
      "Outer loop iteration: 3\n",
      "    Inner loop iteration: 1\n",
      "    Inner loop iteration: 2\n",
      "    Inner loop iteration: 3\n"
     ]
    }
   ],
   "source": [
    "for (int i = 1; i <= 3; i++) { // Outer loop\n",
    "    System.out.println(\"Outer loop iteration: \" + i);\n",
    "    for (int j = 1; j <= 3; j++) { // Inner loop\n",
    "        System.out.println(\"    Inner loop iteration: \" + j);\n",
    "        }\n",
    "    }"
   ]
  },
  {
   "cell_type": "markdown",
   "metadata": {},
   "source": [
    "## What is wrong with this code cell(Hack)"
   ]
  },
  {
   "cell_type": "code",
   "execution_count": 4,
   "metadata": {
    "vscode": {
     "languageId": "java"
    }
   },
   "outputs": [
    {
     "name": "stdout",
     "output_type": "stream",
     "text": [
      "Enter the number of rows: "
     ]
    },
    {
     "name": "stdout",
     "output_type": "stream",
     "text": [
      "1 2 3 4 5 6 \n",
      "1 2 3 4 5 \n",
      "1 2 3 4 \n",
      "1 2 3 \n",
      "1 2 \n",
      "1 \n"
     ]
    }
   ],
   "source": [
    "//Hint: Check the Syntax and look at the equals to signs on the example above\n",
    "\n",
    "import java.util.Scanner;\n",
    "Scanner scanner = new Scanner(System.in);\n",
    "System.out.print(\"Enter the number of rows: \");\n",
    "int rows = scanner.nextInt();\n",
    "for (int i = rows; i>=1; i--) {\n",
    "    for (int j = 1; j <= i; j++) {\n",
    "        System.out.print(j + \" \");\n",
    "    }\n",
    "    System.out.println();\n",
    "    }\n",
    "        \n",
    "scanner.close();\n",
    "    \n",
    "\n"
   ]
  },
  {
   "cell_type": "markdown",
   "metadata": {},
   "source": [
    "Sample input:\n",
    "5\n",
    "\n",
    "Sample Output\n",
    "1 2 3 4 5\n",
    "1 2 3 4\n",
    "1 2 3\n",
    "1 2\n",
    "1\n"
   ]
  },
  {
   "cell_type": "markdown",
   "metadata": {},
   "source": [
    "<img width=\"540\" alt=\"Screenshot 2024-09-19 at 20 45 04\" src=\"https://github.com/user-attachments/assets/ef76eea5-ffa1-432b-9ca0-95c1b9fd002d\">\n"
   ]
  },
  {
   "cell_type": "markdown",
   "metadata": {},
   "source": [
    "### Answer here + One sentence Explanation\n",
    "\n",
    "The answer is B) 20 because the inner loop that runs 5 times will be run 4 times with the outerloop. This means that 5*4=20 for 20 stars."
   ]
  },
  {
   "cell_type": "markdown",
   "metadata": {},
   "source": [
    "<img width=\"542\" alt=\"Screenshot 2024-09-29 at 15 54 38\" src=\"https://github.com/user-attachments/assets/e3639622-1162-49fa-84fa-8853f5a7c347\">\n"
   ]
  },
  {
   "cell_type": "markdown",
   "metadata": {},
   "source": [
    "### Answer here + One sentence Explanation\n",
    "\n",
    "It would run 30 times as the innerloop would run 5 times, and the outer loop would run 6 times, for a 5*6=30 times."
   ]
  },
  {
   "cell_type": "markdown",
   "metadata": {},
   "source": [
    "[Video To watch later if you need more help](https://www.youtube.com/watch?v=DgLptGRzFl4)"
   ]
  },
  {
   "cell_type": "markdown",
   "metadata": {},
   "source": [
    "### Cool Usecase of nested loops"
   ]
  },
  {
   "cell_type": "code",
   "execution_count": 9,
   "metadata": {
    "vscode": {
     "languageId": "java"
    }
   },
   "outputs": [
    {
     "name": "stdout",
     "output_type": "stream",
     "text": [
      "Diamond Pattern:\n",
      "    *\n",
      "   ***\n",
      "  *****\n",
      " *******\n",
      "*********\n",
      " *******\n",
      "  *****\n",
      "   ***\n",
      "    *\n",
      "\n",
      "Magic Square (Latin Square):\n",
      "9\t15\t1\t7\t\n",
      "14\t4\t6\t12\t\n",
      "3\t5\t11\t13\t\n",
      "8\t10\t16\t2\t\n",
      "\n",
      "Prime Number Spiral:\n",
      "0\t2\t3\t0\t5\t\n",
      "0\t17\t0\t19\t0\t\n",
      "0\t0\t0\t0\t7\t\n",
      "0\t23\t0\t0\t0\t\n",
      "13\t0\t11\t0\t0\t\n"
     ]
    }
   ],
   "source": [
    "\n",
    "    // Define the dimensions\n",
    "    int rows = 5;\n",
    "\n",
    "    // First loop to generate a diamond pattern\n",
    "    System.out.println(\"Diamond Pattern:\");\n",
    "    for (int i = 1; i <= rows; i++) {\n",
    "        // Print spaces for left alignment\n",
    "        for (int j = i; j < rows; j++) {\n",
    "            System.out.print(\" \");\n",
    "        }\n",
    "        // Print asterisks for the upper part of the diamond\n",
    "        for (int k = 1; k <= (2 * i - 1); k++) {\n",
    "            System.out.print(\"*\");\n",
    "        }\n",
    "        System.out.println();\n",
    "    }\n",
    "    for (int i = rows - 1; i >= 1; i--) {\n",
    "        // Print spaces for right alignment\n",
    "        for (int j = rows; j > i; j--) {\n",
    "            System.out.print(\" \");\n",
    "        }\n",
    "        // Print asterisks for the lower part of the diamond\n",
    "        for (int k = 1; k <= (2 * i - 1); k++) {\n",
    "            System.out.print(\"*\");\n",
    "        }\n",
    "        System.out.println();\n",
    "    }\n",
    "\n",
    "    // Second loop: Magic Square (Latin Square)\n",
    "    System.out.println(\"\\nMagic Square (Latin Square):\");\n",
    "    int size = 4;\n",
    "    int[][] magicSquare = new int[size][size];\n",
    "    int num = 1, row = 0, col = size / 2;\n",
    "\n",
    "    while (num <= size * size) {\n",
    "        magicSquare[row][col] = num;\n",
    "        num++;\n",
    "        int newRow = (row - 1 + size) % size;\n",
    "        int newCol = (col + 1) % size;\n",
    "\n",
    "        if (magicSquare[newRow][newCol] != 0) {\n",
    "            row = (row + 1) % size;\n",
    "        } else {\n",
    "            row = newRow;\n",
    "            col = newCol;\n",
    "        }\n",
    "    }\n",
    "\n",
    "    // Print the magic square\n",
    "    for (int[] r : magicSquare) {\n",
    "        for (int c : r) {\n",
    "            System.out.print(c + \"\\t\");\n",
    "        }\n",
    "        System.out.println();\n",
    "    }\n",
    "    \n",
    "    // Third loop: Prime Number Spiral\n",
    "    System.out.println(\"\\nPrime Number Spiral:\");\n",
    "    int spiralSize = 5;\n",
    "    int[][] spiral = new int[spiralSize][spiralSize];\n",
    "    int val = 1, startRow = 0, endRow = spiralSize - 1, startCol = 0, endCol = spiralSize - 1;\n",
    "\n",
    "    while (startRow <= endRow && startCol <= endCol) {\n",
    "        // Fill top row\n",
    "        for (int i = startCol; i <= endCol; i++) {\n",
    "            spiral[startRow][i] = isPrime(val) ? val : 0;\n",
    "            val++;\n",
    "        }\n",
    "        startRow++;\n",
    "\n",
    "        // Fill right column\n",
    "        for (int i = startRow; i <= endRow; i++) {\n",
    "            spiral[i][endCol] = isPrime(val) ? val : 0;\n",
    "            val++;\n",
    "        }\n",
    "        endCol--;\n",
    "\n",
    "        // Fill bottom row\n",
    "        if (startRow <= endRow) {\n",
    "            for (int i = endCol; i >= startCol; i--) {\n",
    "                spiral[endRow][i] = isPrime(val) ? val : 0;\n",
    "                val++;\n",
    "            }\n",
    "            endRow--;\n",
    "        }\n",
    "\n",
    "        // Fill left column\n",
    "        if (startCol <= endCol) {\n",
    "            for (int i = endRow; i >= startRow; i--) {\n",
    "                spiral[i][startCol] = isPrime(val) ? val : 0;\n",
    "                val++;\n",
    "            }\n",
    "            startCol++;\n",
    "        }\n",
    "    }\n",
    "\n",
    "    // Print the spiral\n",
    "    for (int[] r : spiral) {\n",
    "        for (int c : r) {\n",
    "            System.out.print(c + \"\\t\");\n",
    "        }\n",
    "        System.out.println();\n",
    "    }\n",
    "\n",
    "\n",
    "// Method to check if a number is prime\n",
    "static boolean isPrime(int num) {\n",
    "    if (num <= 1) return false;\n",
    "    for (int i = 2; i <= Math.sqrt(num); i++) {\n",
    "        if (num % i == 0) return false;\n",
    "    }\n",
    "    return true;\n",
    "}\n"
   ]
  },
  {
   "cell_type": "markdown",
   "metadata": {},
   "source": [
    "<div style=\"position:fixed; bottom:10px; right:10px; width:100px; height:100px;\">\n",
    "    <canvas id=\"animationCanvas\" width=\"100\" height=\"100\" style=\"border:1px solid black;\"></canvas>\n",
    "</div>\n",
    "\n",
    "<!-- Controls for adjusting speed, size, and pause/play -->\n",
    "<div style=\"position:fixed; bottom:120px; right:10px; font-family: Arial, sans-serif;\">\n",
    "    <label for=\"speedControl\">Adjust Speed:</label>\n",
    "    <input type=\"range\" id=\"speedControl\" min=\"0.5\" max=\"5\" step=\"0.1\" value=\"2\">\n",
    "    <span id=\"speedValue\">2</span><br>\n",
    "    \n",
    "    <label for=\"sizeControl\">Adjust Size:</label>\n",
    "    <input type=\"range\" id=\"sizeControl\" min=\"5\" max=\"30\" step=\"1\" value=\"15\">\n",
    "    <span id=\"sizeValue\">15</span><br>\n",
    "\n",
    "    <button id=\"togglePause\">Pause</button><br>\n",
    "    <button id=\"resetBall\">Reset Ball</button><br>\n",
    "    \n",
    "    <p>Iteration: <span id=\"iterationCount\">0</span></p>\n",
    "    <p>Current Velocity: <span id=\"velocityDisplay\">2, 2</span></p>\n",
    "</div>\n",
    "\n",
    "<script>\n",
    "    let canvas = document.getElementById('animationCanvas');\n",
    "    let ctx = canvas.getContext('2d');\n",
    "    let ball = { x: 50, y: 50, radius: 15, dx: 2, dy: 2 };\n",
    "    let iteration = 0;\n",
    "    let isPaused = false;\n",
    "\n",
    "    function getRandomColor() {\n",
    "        const letters = '0123456789ABCDEF';\n",
    "        let color = '#';\n",
    "        for (let i = 0; i < 6; i++) {\n",
    "            color += letters[Math.floor(Math.random() * 16)];\n",
    "        }\n",
    "        return color;\n",
    "    }\n",
    "\n",
    "    function drawBall() {\n",
    "        ctx.clearRect(0, 0, canvas.width, canvas.height);\n",
    "        ctx.beginPath();\n",
    "        ctx.arc(ball.x, ball.y, ball.radius, 0, Math.PI * 2);\n",
    "        ctx.fillStyle = getRandomColor();\n",
    "        ctx.fill();\n",
    "        ctx.closePath();\n",
    "    }\n",
    "\n",
    "    function updateBallPosition() {\n",
    "        ball.x += ball.dx;\n",
    "        ball.y += ball.dy;\n",
    "\n",
    "        // Ball collision detection for left/right edges\n",
    "        if (ball.x + ball.radius > canvas.width || ball.x - ball.radius < 0) {\n",
    "            ball.dx = -ball.dx;\n",
    "        }\n",
    "        // Ball collision detection for top/bottom edges\n",
    "        if (ball.y + ball.radius > canvas.height || ball.y - ball.radius < 0) {\n",
    "            ball.dy = -ball.dy;\n",
    "        }\n",
    "    }\n",
    "\n",
    "    function updateIterationCount() {\n",
    "        document.getElementById(\"iterationCount\").innerText = iteration;\n",
    "        document.getElementById(\"velocityDisplay\").innerText = `${ball.dx.toFixed(2)}, ${ball.dy.toFixed(2)}`;\n",
    "        iteration++;\n",
    "    }\n",
    "\n",
    "    function animate() {\n",
    "        if (!isPaused) {\n",
    "            updateBallPosition();\n",
    "            drawBall();\n",
    "            updateIterationCount();\n",
    "        }\n",
    "        requestAnimationFrame(animate);\n",
    "    }\n",
    "\n",
    "    // Event listener to adjust speed dynamically\n",
    "    document.getElementById('speedControl').addEventListener('input', function() {\n",
    "        let speed = parseFloat(this.value);\n",
    "        ball.dx = (ball.dx > 0 ? speed : -speed); // Maintain direction\n",
    "        ball.dy = (ball.dy > 0 ? speed : -speed); // Maintain direction\n",
    "        document.getElementById(\"speedValue\").innerText = speed;\n",
    "    });\n",
    "\n",
    "    // Event listener to adjust size dynamically\n",
    "    document.getElementById('sizeControl').addEventListener('input', function() {\n",
    "        let newSize = parseInt(this.value);\n",
    "        ball.radius = newSize;\n",
    "        document.getElementById(\"sizeValue\").innerText = newSize;\n",
    "    });\n",
    "\n",
    "    // Toggle pause/play\n",
    "    document.getElementById('togglePause').addEventListener('click', function() {\n",
    "        isPaused = !isPaused;\n",
    "        this.innerText = isPaused ? 'Play' : 'Pause';\n",
    "    });\n",
    "\n",
    "    // Reset the ball's position and speed when the reset button is clicked\n",
    "    document.getElementById('resetBall').addEventListener('click', function() {\n",
    "        ball.x = 50;\n",
    "        ball.y = 50;\n",
    "        ball.dx = 2;\n",
    "        ball.dy = 2;\n",
    "        ball.radius = 15;\n",
    "        iteration = 0;\n",
    "        document.getElementById(\"sizeControl\").value = 15;\n",
    "        document.getElementById(\"sizeValue\").innerText = 15;\n",
    "    });\n",
    "\n",
    "    animate();\n",
    "</script>\n"
   ]
  }
 ],
 "metadata": {
  "kernelspec": {
   "display_name": "Java",
   "language": "java",
   "name": "java"
  },
  "language_info": {
   "codemirror_mode": "java",
   "file_extension": ".jshell",
   "mimetype": "text/x-java-source",
   "name": "Java",
   "pygments_lexer": "java",
   "version": "17.0.12+7-Ubuntu-1ubuntu222.04"
  }
 },
 "nbformat": 4,
 "nbformat_minor": 2
}
