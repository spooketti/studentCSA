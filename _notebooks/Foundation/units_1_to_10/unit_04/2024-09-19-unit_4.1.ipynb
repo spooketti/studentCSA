{
 "cells": [
  {
   "cell_type": "markdown",
   "metadata": {},
   "source": [
    "---\n",
    "layout: post\n",
    "type: collab\n",
    "title: Unit 4.1 - While Loops\n",
    "description: Unit 4 Team Teach\n",
    "comments: true\n",
    "permalink: /csa/unit4-p1/unit4-1\n",
    "author: hanlun, saaras, arthur, miheer, eshaan, beijan\n",
    "---"
   ]
  },
  {
   "cell_type": "markdown",
   "metadata": {},
   "source": [
    "<style>\n",
    "    .unitHold\n",
    "    {\n",
    "    position: fixed;\n",
    "    top: 64px;\n",
    "    width: 100%;\n",
    "    height: 43px;\n",
    "    background-color: #353543;\n",
    "    left: 0px;\n",
    "    display: flex;\n",
    "    flex-direction: row;\n",
    "    flex-wrap: nowrap;\n",
    "    justify-content: space-evenly;\n",
    "    align-items: center;\n",
    "    }\n",
    "\n",
    "    .unitHold a\n",
    "    {\n",
    "    text-decoration: none;\n",
    "    color: #fabe28;\n",
    "    border-left: #fabe28 6px double;\n",
    "    border-right: #fabe28 6px double;\n",
    "    height: 100%;\n",
    "    display: flex;\n",
    "    align-items: center;\n",
    "    justify-content: center;\n",
    "    transition:all 1s;\n",
    "    }\n",
    "\n",
    "    .unitHold a:hover\n",
    "    {\n",
    "        padding-left:5px;\n",
    "        padding-right:5px;\n",
    "    }\n",
    "\n",
    "\n",
    "</style>\n",
    "\n",
    "<div class=\"unitHold\">\n",
    "<a href=\"{{site.baseurl}}/csa/unit4-p1/\">Unit 4 Intro</a>\n",
    "<a href=\"{{site.baseurl}}/csa/unit4-p1/unit4-1\">Unit 4.1</a>\n",
    "<a href=\"{{site.baseurl}}/csa/unit4-p1/unit4-2\">Unit 4.2</a>\n",
    "<a href=\"{{site.baseurl}}/csa/unit4-p1/unit4-3\">Unit 4.3</a>\n",
    "<a href=\"{{site.baseurl}}/csa/unit4-p1/unit4-4\">Unit 4.4</a>\n",
    "<a href=\"{{site.baseurl}}/csa/unit4-p1/unit4-hwquiz\">Unit 4 HW</a>\n",
    "</div>"
   ]
  },
  {
   "cell_type": "markdown",
   "metadata": {},
   "source": [
    "## 4.1 While Loops\n",
    "While loops run until the given condition is false. Format of loop below.\n"
   ]
  },
  {
   "cell_type": "code",
   "execution_count": 1,
   "metadata": {},
   "outputs": [
    {
     "name": "stdout",
     "output_type": "stream",
     "text": [
      "0\n",
      "1\n",
      "2\n",
      "3\n",
      "4\n"
     ]
    }
   ],
   "source": [
    "int index = 0; // iterating value\n",
    "while (index < 5) { // condition, if this is false, the loop terminates\n",
    "    System.out.println(index); // body code\n",
    "    index++; // iterates the iterating value\n",
    "}"
   ]
  },
  {
   "cell_type": "code",
   "execution_count": 2,
   "metadata": {},
   "outputs": [
    {
     "name": "stdout",
     "output_type": "stream",
     "text": [
      "0\n",
      "1\n",
      "2\n",
      "3\n",
      "4\n"
     ]
    }
   ],
   "source": [
    "# Python Version\n",
    "i=0\n",
    "while (i<5):\n",
    "    print(i)\n",
    "    i+=1"
   ]
  },
  {
   "cell_type": "markdown",
   "metadata": {},
   "source": [
    "## Explanation\n",
    "- in the above while loop: \n",
    "    - index is the incrementing variable\n",
    "    - index < 5 is the condition (once index < 5 is false, this loop breaks)\n",
    "    - System.out.println(i); is the body code that runs every time the loop iterates\n",
    "    - index++; is incrementing the incrementing variable"
   ]
  },
  {
   "cell_type": "markdown",
   "metadata": {},
   "source": [
    "## Do While Loops:\n",
    "- This type of while loop runs the block inside the do{} statement once, then iterates through the loop\n",
    "- this ensures that the code runs at least once\n",
    "\n",
    "### Example of Do While loop below"
   ]
  },
  {
   "cell_type": "code",
   "execution_count": 2,
   "metadata": {},
   "outputs": [
    {
     "name": "stdout",
     "output_type": "stream",
     "text": [
      "0\n",
      "1\n",
      "2\n",
      "3\n",
      "4\n"
     ]
    }
   ],
   "source": [
    "int i = 0; // iterating value\n",
    "do { // this makes sure the code runs at least once\n",
    "    System.out.println(i); // body code\n",
    "    i++; // iterates the iterating value\n",
    "} while (i < 5); // condition, if this is false, loop terminates"
   ]
  },
  {
   "cell_type": "markdown",
   "metadata": {},
   "source": [
    "## Explanation:\n",
    "- in the above loop:\n",
    "    - code inside of the do{} statement runs at least once, then keeps on running as long as the condition, i<5, is true.\n",
    "    - similarly to the normal while loop, there is body code, and there is an incrementing variable "
   ]
  },
  {
   "cell_type": "markdown",
   "metadata": {},
   "source": [
    "## IMPORTANT:\n",
    "- While loops to not have to have an incrementing variable, for example, you can have a loop that iterates as long as there are items present in a list"
   ]
  },
  {
   "cell_type": "code",
   "execution_count": 1,
   "metadata": {},
   "outputs": [
    {
     "name": "stdout",
     "output_type": "stream",
     "text": [
      "[10, 20, 30, 40] before loop!!\n",
      "Element: 10\n",
      "Element: 20\n",
      "Element: 30\n",
      "Element: 40\n",
      "[] after loop!!\n"
     ]
    }
   ],
   "source": [
    "ArrayList<Integer> list = new ArrayList<>();\n",
    "list.add(10);\n",
    "list.add(20);\n",
    "list.add(30);\n",
    "list.add(40);\n",
    "\n",
    "System.out.println(list + \" before loop!!\");\n",
    "while (!list.isEmpty()) {\n",
    "    System.out.println(\"Element: \" + list.remove(0));\n",
    "}\n",
    "System.out.println(list + \" after loop!!\");"
   ]
  },
  {
   "cell_type": "markdown",
   "metadata": {},
   "source": [
    "### Fun While Loop Hack:\n",
    "- find and fix the missing increment in the while loop"
   ]
  },
  {
   "cell_type": "code",
   "execution_count": 1,
   "metadata": {},
   "outputs": [
    {
     "name": "stdout",
     "output_type": "stream",
     "text": [
      "0\n",
      "1\n",
      "2\n",
      "3\n",
      "4\n"
     ]
    }
   ],
   "source": [
    "int i = 0;\n",
    "while (i < 5) {\n",
    "    System.out.println(i);\n",
    "    i++;\n",
    "}"
   ]
  },
  {
   "cell_type": "markdown",
   "metadata": {},
   "source": [
    "<div style=\"position:fixed; bottom:10px; right:10px; width:100px; height:100px;\">\n",
    "    <canvas id=\"animationCanvas\" width=\"100\" height=\"100\" style=\"border:1px solid black;\"></canvas>\n",
    "</div>\n",
    "\n",
    "<!-- Controls for adjusting speed, size, and pause/play -->\n",
    "<div style=\"position:fixed; bottom:120px; right:10px; font-family: Arial, sans-serif;\">\n",
    "    <label for=\"speedControl\">Adjust Speed:</label>\n",
    "    <input type=\"range\" id=\"speedControl\" min=\"0.5\" max=\"5\" step=\"0.1\" value=\"2\">\n",
    "    <span id=\"speedValue\">2</span><br>\n",
    "    \n",
    "    <label for=\"sizeControl\">Adjust Size:</label>\n",
    "    <input type=\"range\" id=\"sizeControl\" min=\"5\" max=\"30\" step=\"1\" value=\"15\">\n",
    "    <span id=\"sizeValue\">15</span><br>\n",
    "\n",
    "    <button id=\"togglePause\">Pause</button><br>\n",
    "    <button id=\"resetBall\">Reset Ball</button><br>\n",
    "    \n",
    "    <p>Iteration: <span id=\"iterationCount\">0</span></p>\n",
    "    <p>Current Velocity: <span id=\"velocityDisplay\">2, 2</span></p>\n",
    "</div>\n",
    "\n",
    "<script>\n",
    "    let canvas = document.getElementById('animationCanvas');\n",
    "    let ctx = canvas.getContext('2d');\n",
    "    let ball = { x: 50, y: 50, radius: 15, dx: 2, dy: 2 };\n",
    "    let iteration = 0;\n",
    "    let isPaused = false;\n",
    "\n",
    "    function getRandomColor() {\n",
    "        const letters = '0123456789ABCDEF';\n",
    "        let color = '#';\n",
    "        for (let i = 0; i < 6; i++) {\n",
    "            color += letters[Math.floor(Math.random() * 16)];\n",
    "        }\n",
    "        return color;\n",
    "    }\n",
    "\n",
    "    function drawBall() {\n",
    "        ctx.clearRect(0, 0, canvas.width, canvas.height);\n",
    "        ctx.beginPath();\n",
    "        ctx.arc(ball.x, ball.y, ball.radius, 0, Math.PI * 2);\n",
    "        ctx.fillStyle = getRandomColor();\n",
    "        ctx.fill();\n",
    "        ctx.closePath();\n",
    "    }\n",
    "\n",
    "    function updateBallPosition() {\n",
    "        ball.x += ball.dx;\n",
    "        ball.y += ball.dy;\n",
    "\n",
    "        // Ball collision detection for left/right edges\n",
    "        if (ball.x + ball.radius > canvas.width || ball.x - ball.radius < 0) {\n",
    "            ball.dx = -ball.dx;\n",
    "        }\n",
    "        // Ball collision detection for top/bottom edges\n",
    "        if (ball.y + ball.radius > canvas.height || ball.y - ball.radius < 0) {\n",
    "            ball.dy = -ball.dy;\n",
    "        }\n",
    "    }\n",
    "\n",
    "    function updateIterationCount() {\n",
    "        document.getElementById(\"iterationCount\").innerText = iteration;\n",
    "        document.getElementById(\"velocityDisplay\").innerText = `${ball.dx.toFixed(2)}, ${ball.dy.toFixed(2)}`;\n",
    "        iteration++;\n",
    "    }\n",
    "\n",
    "    function animate() {\n",
    "        if (!isPaused) {\n",
    "            updateBallPosition();\n",
    "            drawBall();\n",
    "            updateIterationCount();\n",
    "        }\n",
    "        requestAnimationFrame(animate);\n",
    "    }\n",
    "\n",
    "    // Event listener to adjust speed dynamically\n",
    "    document.getElementById('speedControl').addEventListener('input', function() {\n",
    "        let speed = parseFloat(this.value);\n",
    "        ball.dx = (ball.dx > 0 ? speed : -speed); // Maintain direction\n",
    "        ball.dy = (ball.dy > 0 ? speed : -speed); // Maintain direction\n",
    "        document.getElementById(\"speedValue\").innerText = speed;\n",
    "    });\n",
    "\n",
    "    // Event listener to adjust size dynamically\n",
    "    document.getElementById('sizeControl').addEventListener('input', function() {\n",
    "        let newSize = parseInt(this.value);\n",
    "        ball.radius = newSize;\n",
    "        document.getElementById(\"sizeValue\").innerText = newSize;\n",
    "    });\n",
    "\n",
    "    // Toggle pause/play\n",
    "    document.getElementById('togglePause').addEventListener('click', function() {\n",
    "        isPaused = !isPaused;\n",
    "        this.innerText = isPaused ? 'Play' : 'Pause';\n",
    "    });\n",
    "\n",
    "    // Reset the ball's position and speed when the reset button is clicked\n",
    "    document.getElementById('resetBall').addEventListener('click', function() {\n",
    "        ball.x = 50;\n",
    "        ball.y = 50;\n",
    "        ball.dx = 2;\n",
    "        ball.dy = 2;\n",
    "        ball.radius = 15;\n",
    "        iteration = 0;\n",
    "        document.getElementById(\"sizeControl\").value = 15;\n",
    "        document.getElementById(\"sizeValue\").innerText = 15;\n",
    "    });\n",
    "\n",
    "    animate();\n",
    "</script>\n"
   ]
  }
 ],
 "metadata": {
  "kernelspec": {
   "display_name": "Java",
   "language": "java",
   "name": "java"
  },
  "language_info": {
   "codemirror_mode": "java",
   "file_extension": ".jshell",
   "mimetype": "text/x-java-source",
   "name": "java",
   "pygments_lexer": "java",
   "version": "17.0.12+7-Ubuntu-1ubuntu222.04"
  }
 },
 "nbformat": 4,
 "nbformat_minor": 2
}
