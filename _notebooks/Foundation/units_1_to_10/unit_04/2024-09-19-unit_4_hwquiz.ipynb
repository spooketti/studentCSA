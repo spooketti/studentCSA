{
 "cells": [
  {
   "cell_type": "markdown",
   "metadata": {},
   "source": [
    "---\n",
    "layout: post\n",
    "type: collab\n",
    "title: Unit 4 - HW Quiz\n",
    "description: Unit 4 Team Teach HW QUIZ\n",
    "comments: true\n",
    "permalink: /csa/unit4-p1/unit4-hwquiz\n",
    "author: hanlun, saaras, arthur, miheer, eshaan, beijan\n",
    "---"
   ]
  },
  {
   "cell_type": "markdown",
   "metadata": {},
   "source": [
    "<style>\n",
    "    .unitHold\n",
    "    {\n",
    "    position: fixed;\n",
    "    top: 64px;\n",
    "    width: 100%;\n",
    "    height: 43px;\n",
    "    background-color: #353543;\n",
    "    left: 0px;\n",
    "    display: flex;\n",
    "    flex-direction: row;\n",
    "    flex-wrap: nowrap;\n",
    "    justify-content: space-evenly;\n",
    "    align-items: center;\n",
    "    }\n",
    "\n",
    "    .unitHold a\n",
    "    {\n",
    "    text-decoration: none;\n",
    "    color: #fabe28;\n",
    "    border-left: #fabe28 6px double;\n",
    "    border-right: #fabe28 6px double;\n",
    "    height: 100%;\n",
    "    display: flex;\n",
    "    align-items: center;\n",
    "    justify-content: center;\n",
    "    transition:all 1s;\n",
    "    }\n",
    "\n",
    "    .unitHold a:hover\n",
    "    {\n",
    "        padding-left:5px;\n",
    "        padding-right:5px;\n",
    "    }\n",
    "\n",
    "\n",
    "</style>\n",
    "\n",
    "<div class=\"unitHold\">\n",
    "<a href=\"{{site.baseurl}}/csa/unit4-p1/\">Unit 4 Intro</a>\n",
    "<a href=\"{{site.baseurl}}/csa/unit4-p1/unit4-1\">Unit 4.1</a>\n",
    "<a href=\"{{site.baseurl}}/csa/unit4-p1/unit4-2\">Unit 4.2</a>\n",
    "<a href=\"{{site.baseurl}}/csa/unit4-p1/unit4-3\">Unit 4.3</a>\n",
    "<a href=\"{{site.baseurl}}/csa/unit4-p1/unit4-4\">Unit 4.4</a>\n",
    "<a href=\"{{site.baseurl}}/csa/unit4-p1/unit4-hwquiz\">Unit 4 HW</a>\n",
    "</div>"
   ]
  },
  {
   "cell_type": "markdown",
   "metadata": {},
   "source": [
    "## Unit 4 - Iteration:\n",
    "- This is the homework quiz for unit 4, iterations\n",
    "- 4 multiple choice questions\n",
    "- 2 programming hacks\n",
    "- 1 bonus programming hack (required to get above 0.9)"
   ]
  },
  {
   "cell_type": "markdown",
   "metadata": {},
   "source": [
    "### Question 1:\n",
    "What does the following code print?   \n",
    "\n",
    "A. 5 6 7 8 9   \n",
    "\n",
    "B. 4 5 6 7 8 9 10 11 12   \n",
    "\n",
    "C. 3 5 7 9 11   \n",
    "\n",
    "D. 3 4 5 6 7 8 9 10 11 12   \n",
    "\n",
    "<details>\n",
    "<summary>Click to reveal answer:</summary> \n",
    "  D\n",
    "</details>\n",
    "\n",
    "Explain your answer. (explanation is graded not answer)"
   ]
  },
  {
   "cell_type": "code",
   "execution_count": null,
   "metadata": {},
   "outputs": [],
   "source": [
    "for (int i = 3; i <= 12; i++) {\n",
    "   System.out.print(i + \" \");\n",
    "}"
   ]
  },
  {
   "cell_type": "markdown",
   "metadata": {},
   "source": [
    "The answer would be D as 3 is the starting index of the variable in the for loop. The loop increases until it is less than equal to 12, meaning the last number printed must be 12.\n",
    "\n",
    "This gives the answer of D as 3 is the first number and 12 is the last number. "
   ]
  },
  {
   "cell_type": "markdown",
   "metadata": {},
   "source": [
    "### Bonus:\n",
    "- Explain the difference between using a variable like i inside a for loop, vs. using a variable that exists in the code itself for a while loop\n",
    "\n",
    "Inside the for loop, i is stuck inside the scope of the for loop and cant be accessed outside of it. Using an already existing variable means it can be accessed outside of the loop. "
   ]
  },
  {
   "cell_type": "markdown",
   "metadata": {},
   "source": [
    "### Question 2:\n",
    "How many times does the following method print a \"*\" ?\n",
    "\n",
    "A. 9\n",
    "\n",
    "B. 7\n",
    "\n",
    "C. 8\n",
    "\n",
    "D. 6\n",
    "\n",
    "<details>\n",
    "<summary>Click to reveal answer:</summary> \n",
    "  C\n",
    "</details>\n",
    "\n",
    "Explain your answer. (explanation is graded not answer)"
   ]
  },
  {
   "cell_type": "code",
   "execution_count": null,
   "metadata": {},
   "outputs": [],
   "source": [
    "for (int i = 3; i < 11; i++) {\n",
    "   System.out.print(\"*\");\n",
    "}"
   ]
  },
  {
   "cell_type": "markdown",
   "metadata": {},
   "source": [
    "The answer is C as the starting index is 3, and because the last index is less than 11. This means that the loop will run (11-3) times, for 8 times. If the last value were to be less than or equal to, that would be 9 times.  "
   ]
  },
  {
   "cell_type": "markdown",
   "metadata": {},
   "source": [
    "### Question 3:\n",
    "What does the following code print?\n",
    "\n",
    "A. -4 -3 -2 -1 0\n",
    "\n",
    "B. -5 -4 -3 -2 -1\n",
    "\n",
    "C. 5 4 3 2 1\n",
    "\n",
    "<details>\n",
    "<summary>Click to reveal answer:</summary> \n",
    "  A\n",
    "</details>\n",
    "\n",
    "Explain your answer. (explanation is graded not answer)"
   ]
  },
  {
   "cell_type": "code",
   "execution_count": null,
   "metadata": {},
   "outputs": [],
   "source": [
    "int x = -5;\n",
    "while (x < 0)\n",
    "{\n",
    "   x++;\n",
    "   System.out.print(x + \" \");\n",
    "}"
   ]
  },
  {
   "cell_type": "markdown",
   "metadata": {},
   "source": [
    "The answer would be A because it starts at -4 because x is increased before printing. This means the last number will also 0. The loop will run 5 times before it reaches 0."
   ]
  },
  {
   "cell_type": "markdown",
   "metadata": {},
   "source": [
    "### Question 4:\n",
    "What does the following code print?\n",
    "\n",
    "A. 20\n",
    "\n",
    "B. 21\n",
    "\n",
    "C. 25\n",
    "\n",
    "D. 30\n",
    "\n",
    "<details>\n",
    "<summary>Click to reveal answer:</summary> \n",
    "  B\n",
    "</details>\n",
    "\n",
    "Explain your answer. (explanation is graded not answer)"
   ]
  },
  {
   "cell_type": "code",
   "execution_count": null,
   "metadata": {},
   "outputs": [],
   "source": [
    "int sum = 0;\n",
    "\n",
    "for (int i = 1; i <= 5; i++) {\n",
    "    if (i % 2 == 0) {\n",
    "        sum += i * 2;\n",
    "    } else {\n",
    "        sum += i;\n",
    "    }\n",
    "}\n",
    "\n",
    "System.out.println(sum);"
   ]
  },
  {
   "cell_type": "markdown",
   "metadata": {},
   "source": [
    "The answer is B as it is adding the current index multiplied by 2 when it is even, and just adding when it is odd. Given this patttern that ranges from 1 to 5 (inclusive), it can be caclulated to be\n",
    "1+4+3+8+5=21."
   ]
  },
  {
   "cell_type": "markdown",
   "metadata": {},
   "source": [
    "## Loops HW Hack"
   ]
  },
  {
   "cell_type": "markdown",
   "metadata": {},
   "source": [
    "### Easy Hack\n",
    "- Use a while loop to find the numbers from 1-50 that are divisible by 3 or 5, then store them into a list (make sure to print it out at the end)\n",
    "- Use a for loop to do the same thing detailed above"
   ]
  },
  {
   "cell_type": "code",
   "execution_count": 7,
   "metadata": {},
   "outputs": [
    {
     "name": "stdout",
     "output_type": "stream",
     "text": [
      "[3, 5, 6, 9, 10, 12, 15, 18, 20, 21, 24, 25, 27, 30, 33, 35, 36, 39, 40, 42, 45, 48, 50]\n",
      "[3, 5, 6, 9, 10, 12, 15, 18, 20, 21, 24, 25, 27, 30, 33, 35, 36, 39, 40, 42, 45, 48, 50]\n"
     ]
    }
   ],
   "source": [
    "import java.util.ArrayList;\n",
    "\n",
    "ArrayList<Integer> divisibleList = new ArrayList<Integer>();\n",
    "\n",
    "int j = 1;\n",
    "\n",
    "while(j <= 50)\n",
    "{\n",
    "    if(j % 3 ==0 || j % 5==0)\n",
    "    {\n",
    "        divisibleList.add(j);\n",
    "    }\n",
    "    j++;\n",
    "}\n",
    "System.out.println(divisibleList);\n",
    "divisibleList.clear();\n",
    "\n",
    "for(int i=1;i<=50;i++)\n",
    "{\n",
    "    if((i % 3 == 0) || (i % 5 == 0))\n",
    "    {\n",
    "        divisibleList.add(i);\n",
    "    }\n",
    "}\n",
    "\n",
    "System.out.println(divisibleList);"
   ]
  },
  {
   "cell_type": "markdown",
   "metadata": {},
   "source": [
    "### Harder Hack\n",
    "#### Palindromes are numbers that have the same value when reversed (ex: “123321” or “323”). Create a program that uses a while loop that outputs all palindromes in any given list. \n",
    "\n",
    "Sample Input: \n",
    "test_list = [5672, 235, 5537, 6032, 317, 8460, 1672, 8104, 7770, 4442, 913, 2508, 1116, 9969, 9091, 522, 8756, 9527, 7968, 1520, 4444, 515, 2882, 6556, 595]\n",
    "\n",
    "Sample Output:\n",
    "4444, 515, 2882, 6556, 595"
   ]
  },
  {
   "cell_type": "code",
   "execution_count": 1,
   "metadata": {},
   "outputs": [
    {
     "name": "stdout",
     "output_type": "stream",
     "text": [
      "4444\n",
      "515\n",
      "2882\n",
      "6556\n",
      "595\n"
     ]
    }
   ],
   "source": [
    "int[] testArray = {5672, 235, 5537, 6032, 317, 8460, 1672, 8104, 7770, 4442, 913, 2508, 1116, 9969, 9091, 522, 8756, 9527, 7968, 1520, 4444, 515, 2882, 6556, 595};\n",
    "int i=0;\n",
    "while(i<testArray.length)\n",
    "{\n",
    "    String str = Integer.toString(testArray[i]);\n",
    "    StringBuilder toCheck = new StringBuilder();\n",
    "    toCheck.append(str);\n",
    "    toCheck.reverse();\n",
    "    if(str.equals(toCheck.toString()))\n",
    "    {\n",
    "        System.out.println(testArray[i]);\n",
    "    }\n",
    "    i++;\n",
    "}"
   ]
  },
  {
   "cell_type": "markdown",
   "metadata": {},
   "source": [
    "## Bonus Hack (for above 0.9)\n",
    "### Use a for loop to output a spiral matrix with size n\n",
    "Example:\n",
    "\n",
    "Sample Input: n = 3\n",
    "\n",
    "Output: [[1, 2, 3], [8, 9, 4], [7, 6, 5]]"
   ]
  },
  {
   "cell_type": "code",
   "execution_count": 5,
   "metadata": {},
   "outputs": [
    {
     "name": "stdout",
     "output_type": "stream",
     "text": [
      "1\t2\t3\t4\t5\t\n",
      "16\t17\t18\t19\t6\t\n",
      "15\t24\t25\t20\t7\t\n",
      "14\t23\t22\t21\t8\t\n",
      "13\t12\t11\t10\t9\t\n"
     ]
    }
   ],
   "source": [
    " int n = 5;\n",
    "\n",
    "        int[][] spiral = new int[n][n];\n",
    "        int value = 1; \n",
    "\n",
    "        int minCol = 0, maxCol = n - 1;\n",
    "        int minRow = 0, maxRow = n - 1;\n",
    "\n",
    "        while (minCol <= maxCol && minRow <= maxRow) {\n",
    "            \n",
    "            //top row\n",
    "            for (int i = minCol; i <= maxCol; i++) {\n",
    "                spiral[minRow][i] = value++;\n",
    "            }\n",
    "            minRow++;  \n",
    "\n",
    "            //right column\n",
    "            for (int i = minRow; i <= maxRow; i++) {\n",
    "                spiral[i][maxCol] = value++;\n",
    "            }\n",
    "            maxCol--;  \n",
    "\n",
    "            // bottom right to left\n",
    "            if (minRow <= maxRow) {\n",
    "                for (int i = maxCol; i >= minCol; i--) {\n",
    "                    spiral[maxRow][i] = value++;\n",
    "                }\n",
    "                maxRow--;  //move up from bottom\n",
    "            }\n",
    "\n",
    "            // left column\n",
    "            if (minCol <= maxCol) {\n",
    "                for (int i = maxRow; i >= minRow; i--) {\n",
    "                    spiral[i][minCol] = value++;\n",
    "                }\n",
    "                minCol++;  //loop\n",
    "            }\n",
    "        }\n",
    "\n",
    "        for (int[] row : spiral) {\n",
    "            for (int element : row) {\n",
    "                System.out.print(element + \"\\t\");\n",
    "            }\n",
    "            System.out.println();\n",
    "        }"
   ]
  }
 ],
 "metadata": {
  "kernelspec": {
   "display_name": "Java",
   "language": "java",
   "name": "java"
  },
  "language_info": {
   "codemirror_mode": "java",
   "file_extension": ".jshell",
   "mimetype": "text/x-java-source",
   "name": "java",
   "pygments_lexer": "java",
   "version": "17.0.12+7-Ubuntu-1ubuntu222.04"
  }
 },
 "nbformat": 4,
 "nbformat_minor": 2
}
