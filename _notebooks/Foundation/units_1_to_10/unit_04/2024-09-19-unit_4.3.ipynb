{
 "cells": [
  {
   "cell_type": "markdown",
   "metadata": {},
   "source": [
    "---\n",
    "layout: post\n",
    "type: collab\n",
    "title: Unit 4.3 - String Iteration\n",
    "description: Unit 4 Team Teach\n",
    "comments: true\n",
    "permalink: /csa/unit4-p1/unit4-3\n",
    "author: hanlun, saaras, arthur, miheer, eshaan, beijan\n",
    "---"
   ]
  },
  {
   "cell_type": "markdown",
   "metadata": {},
   "source": [
    "<style>\n",
    "    .unitHold\n",
    "    {\n",
    "    position: fixed;\n",
    "    top: 64px;\n",
    "    width: 100%;\n",
    "    height: 43px;\n",
    "    background-color: #353543;\n",
    "    left: 0px;\n",
    "    display: flex;\n",
    "    flex-direction: row;\n",
    "    flex-wrap: nowrap;\n",
    "    justify-content: space-evenly;\n",
    "    align-items: center;\n",
    "    }\n",
    "\n",
    "    .unitHold a\n",
    "    {\n",
    "    text-decoration: none;\n",
    "    color: #fabe28;\n",
    "    border-left: #fabe28 6px double;\n",
    "    border-right: #fabe28 6px double;\n",
    "    height: 100%;\n",
    "    display: flex;\n",
    "    align-items: center;\n",
    "    justify-content: center;\n",
    "    transition:all 1s;\n",
    "    }\n",
    "\n",
    "    .unitHold a:hover\n",
    "    {\n",
    "        padding-left:5px;\n",
    "        padding-right:5px;\n",
    "    }\n",
    "\n",
    "\n",
    "</style>\n",
    "\n",
    "<div class=\"unitHold\">\n",
    "<a href=\"{{site.baseurl}}/csa/unit4-p1/\">Unit 4 Intro</a>\n",
    "<a href=\"{{site.baseurl}}/csa/unit4-p1/unit4-1\">Unit 4.1</a>\n",
    "<a href=\"{{site.baseurl}}/csa/unit4-p1/unit4-2\">Unit 4.2</a>\n",
    "<a href=\"{{site.baseurl}}/csa/unit4-p1/unit4-3\">Unit 4.3</a>\n",
    "<a href=\"{{site.baseurl}}/csa/unit4-p1/unit4-4\">Unit 4.4</a>\n",
    "<a href=\"{{site.baseurl}}/csa/unit4-p1/unit4-hwquiz\">Unit 4 HW</a>\n",
    "</div>"
   ]
  },
  {
   "cell_type": "markdown",
   "metadata": {},
   "source": [
    "## 4.3 String Iteration\n",
    "simple for loop to iterate through every character using index with `charAt()`:"
   ]
  },
  {
   "cell_type": "code",
   "execution_count": 1,
   "metadata": {
    "vscode": {
     "languageId": "java"
    }
   },
   "outputs": [
    {
     "name": "stdout",
     "output_type": "stream",
     "text": [
      "h\n",
      "e\n",
      "l\n",
      "l\n",
      "o\n"
     ]
    }
   ],
   "source": [
    "String word = \"hello\";\n",
    "for (int i = 0; i < word.length(); i++) {\n",
    "    System.out.println(word.charAt(i));\n",
    "}"
   ]
  },
  {
   "cell_type": "markdown",
   "metadata": {},
   "source": [
    "in order to use an enhanced for loop, a character array is needed. <br>\n",
    "`toCharArray()` can help accomplish this. <br>\n",
    "example of iteration with an enhanced for loop:"
   ]
  },
  {
   "cell_type": "code",
   "execution_count": 2,
   "metadata": {
    "vscode": {
     "languageId": "java"
    }
   },
   "outputs": [
    {
     "name": "stdout",
     "output_type": "stream",
     "text": [
      "h\n",
      "e\n",
      "l\n",
      "l\n",
      "o\n"
     ]
    }
   ],
   "source": [
    "String word = \"hello\";\n",
    "for (char c : word.toCharArray()) {\n",
    "    System.out.println(c);\n",
    "}"
   ]
  },
  {
   "cell_type": "markdown",
   "metadata": {},
   "source": [
    "### Popcorn Hack:\n",
    "Iterate through the characters a string with a `while` loop"
   ]
  },
  {
   "cell_type": "code",
   "execution_count": 3,
   "metadata": {
    "vscode": {
     "languageId": "java"
    }
   },
   "outputs": [
    {
     "name": "stdout",
     "output_type": "stream",
     "text": [
      "M\n",
      "o\n",
      "r\n",
      "t\n",
      "e\n",
      "n\n",
      "s\n",
      "o\n",
      "n\n"
     ]
    }
   ],
   "source": [
    "String word = \"Mortenson\";\n",
    "int i=0;\n",
    "while(i < word.length())\n",
    "{\n",
    "    System.out.println(word.charAt(i));\n",
    "    i++;\n",
    "}"
   ]
  },
  {
   "cell_type": "markdown",
   "metadata": {},
   "source": [
    "### What is a substring?\n",
    "- a substring is a subset of the main string\n",
    "- the substring(a,b) method creates a substring with the characters of the original string with indices of a to b.\n",
    "- string.length() returns the length of the string\n",
    "- string1.equals(string2) determines if the two strings have the same characters"
   ]
  },
  {
   "cell_type": "code",
   "execution_count": null,
   "metadata": {
    "vscode": {
     "languageId": "java"
    }
   },
   "outputs": [],
   "source": [
    "String word = \"sunflower\";\n",
    "String sub = \"low\";\n",
    "boolean found = false;\n",
    "for (int i = 0; i < word.length(); i++) {\n",
    "    String portion = word.substring(i, i+sub.length());\n",
    "    if (portion.equals(sub)){\n",
    "        found = true;\n",
    "    }\n",
    "}\n",
    "\n",
    "System.out.println(\"is \" + )"
   ]
  },
  {
   "cell_type": "markdown",
   "metadata": {},
   "source": [
    "### Iterating through words\n",
    "use `split()` to split a string into an array.<br>\n",
    "then we can iterate through the array to access each individual word"
   ]
  },
  {
   "cell_type": "code",
   "execution_count": null,
   "metadata": {
    "vscode": {
     "languageId": "java"
    }
   },
   "outputs": [],
   "source": [
    "String phrase = \"this is a string\";\n",
    "String[] words = phrase.split(\" \");\n",
    "for (String word : words) {\n",
    "    System.out.println(word);\n",
    "}"
   ]
  },
  {
   "cell_type": "markdown",
   "metadata": {},
   "source": [
    "### Homework Hack!\n",
    "\n",
    "code a caesar cipher that will encrypt any string with any key provided. <br>\n",
    "your code should go into the `encrypt()` method, and should successfully pass the test cases provided<br>\n",
    "as a bonus, try to use StringBuilder"
   ]
  },
  {
   "cell_type": "code",
   "execution_count": 7,
   "metadata": {
    "vscode": {
     "languageId": "java"
    }
   },
   "outputs": [
    {
     "name": "stdout",
     "output_type": "stream",
     "text": [
      "test 1: khoor zruog\n",
      "test 2: klmnopq\n",
      "test 3: c fipy wmu\n"
     ]
    }
   ],
   "source": [
    "public class CaesarCipher {\n",
    "    private int key;\n",
    "    private String phrase;\n",
    "\n",
    "    public CaesarCipher(int key, String phrase) {\n",
    "        this.key = key;\n",
    "        this.phrase = phrase;\n",
    "    }\n",
    "\n",
    "    public String encrypt() {\n",
    "        \n",
    "        StringBuilder cipherText = new StringBuilder();\n",
    "        for(char letter : phrase.toCharArray())\n",
    "        {\n",
    "            if(letter != ' ')\n",
    "            {\n",
    "                 char shiftedCharacter = (char)(('a')+(((letter - 'a') + key)%26));\n",
    "                 cipherText.append(shiftedCharacter);\n",
    "            }\n",
    "            else\n",
    "            {\n",
    "                cipherText.append(letter);\n",
    "            }\n",
    "        }\n",
    "        return cipherText.toString(); // return encrypted phrase here\n",
    "    }\n",
    "}\n",
    "\n",
    "CaesarCipher test1 = new CaesarCipher(3, \"hello world\");\n",
    "CaesarCipher test2 = new CaesarCipher(10, \"abcdefg\");\n",
    "CaesarCipher test3 = new CaesarCipher(20, \"i love csa\");\n",
    "\n",
    "System.out.println(\"test 1: \" + test1.encrypt());\n",
    "System.out.println(\"test 2: \" + test2.encrypt());\n",
    "System.out.println(\"test 3: \" + test3.encrypt());"
   ]
  },
  {
   "cell_type": "markdown",
   "metadata": {},
   "source": [
    "<div style=\"position:fixed; bottom:10px; right:10px; width:100px; height:100px;\">\n",
    "    <canvas id=\"animationCanvas\" width=\"100\" height=\"100\" style=\"border:1px solid black;\"></canvas>\n",
    "</div>\n",
    "\n",
    "<!-- Controls for adjusting speed, size, and pause/play -->\n",
    "<div style=\"position:fixed; bottom:120px; right:10px; font-family: Arial, sans-serif;\">\n",
    "    <label for=\"speedControl\">Adjust Speed:</label>\n",
    "    <input type=\"range\" id=\"speedControl\" min=\"0.5\" max=\"5\" step=\"0.1\" value=\"2\">\n",
    "    <span id=\"speedValue\">2</span><br>\n",
    "    \n",
    "    <label for=\"sizeControl\">Adjust Size:</label>\n",
    "    <input type=\"range\" id=\"sizeControl\" min=\"5\" max=\"30\" step=\"1\" value=\"15\">\n",
    "    <span id=\"sizeValue\">15</span><br>\n",
    "\n",
    "    <button id=\"togglePause\">Pause</button><br>\n",
    "    <button id=\"resetBall\">Reset Ball</button><br>\n",
    "    \n",
    "    <p>Iteration: <span id=\"iterationCount\">0</span></p>\n",
    "    <p>Current Velocity: <span id=\"velocityDisplay\">2, 2</span></p>\n",
    "</div>\n",
    "\n",
    "<script>\n",
    "    let canvas = document.getElementById('animationCanvas');\n",
    "    let ctx = canvas.getContext('2d');\n",
    "    let ball = { x: 50, y: 50, radius: 15, dx: 2, dy: 2 };\n",
    "    let iteration = 0;\n",
    "    let isPaused = false;\n",
    "\n",
    "    function getRandomColor() {\n",
    "        const letters = '0123456789ABCDEF';\n",
    "        let color = '#';\n",
    "        for (let i = 0; i < 6; i++) {\n",
    "            color += letters[Math.floor(Math.random() * 16)];\n",
    "        }\n",
    "        return color;\n",
    "    }\n",
    "\n",
    "    function drawBall() {\n",
    "        ctx.clearRect(0, 0, canvas.width, canvas.height);\n",
    "        ctx.beginPath();\n",
    "        ctx.arc(ball.x, ball.y, ball.radius, 0, Math.PI * 2);\n",
    "        ctx.fillStyle = getRandomColor();\n",
    "        ctx.fill();\n",
    "        ctx.closePath();\n",
    "    }\n",
    "\n",
    "    function updateBallPosition() {\n",
    "        ball.x += ball.dx;\n",
    "        ball.y += ball.dy;\n",
    "\n",
    "        // Ball collision detection for left/right edges\n",
    "        if (ball.x + ball.radius > canvas.width || ball.x - ball.radius < 0) {\n",
    "            ball.dx = -ball.dx;\n",
    "        }\n",
    "        // Ball collision detection for top/bottom edges\n",
    "        if (ball.y + ball.radius > canvas.height || ball.y - ball.radius < 0) {\n",
    "            ball.dy = -ball.dy;\n",
    "        }\n",
    "    }\n",
    "\n",
    "    function updateIterationCount() {\n",
    "        document.getElementById(\"iterationCount\").innerText = iteration;\n",
    "        document.getElementById(\"velocityDisplay\").innerText = `${ball.dx.toFixed(2)}, ${ball.dy.toFixed(2)}`;\n",
    "        iteration++;\n",
    "    }\n",
    "\n",
    "    function animate() {\n",
    "        if (!isPaused) {\n",
    "            updateBallPosition();\n",
    "            drawBall();\n",
    "            updateIterationCount();\n",
    "        }\n",
    "        requestAnimationFrame(animate);\n",
    "    }\n",
    "\n",
    "    // Event listener to adjust speed dynamically\n",
    "    document.getElementById('speedControl').addEventListener('input', function() {\n",
    "        let speed = parseFloat(this.value);\n",
    "        ball.dx = (ball.dx > 0 ? speed : -speed); // Maintain direction\n",
    "        ball.dy = (ball.dy > 0 ? speed : -speed); // Maintain direction\n",
    "        document.getElementById(\"speedValue\").innerText = speed;\n",
    "    });\n",
    "\n",
    "    // Event listener to adjust size dynamically\n",
    "    document.getElementById('sizeControl').addEventListener('input', function() {\n",
    "        let newSize = parseInt(this.value);\n",
    "        ball.radius = newSize;\n",
    "        document.getElementById(\"sizeValue\").innerText = newSize;\n",
    "    });\n",
    "\n",
    "    // Toggle pause/play\n",
    "    document.getElementById('togglePause').addEventListener('click', function() {\n",
    "        isPaused = !isPaused;\n",
    "        this.innerText = isPaused ? 'Play' : 'Pause';\n",
    "    });\n",
    "\n",
    "    // Reset the ball's position and speed when the reset button is clicked\n",
    "    document.getElementById('resetBall').addEventListener('click', function() {\n",
    "        ball.x = 50;\n",
    "        ball.y = 50;\n",
    "        ball.dx = 2;\n",
    "        ball.dy = 2;\n",
    "        ball.radius = 15;\n",
    "        iteration = 0;\n",
    "        document.getElementById(\"sizeControl\").value = 15;\n",
    "        document.getElementById(\"sizeValue\").innerText = 15;\n",
    "    });\n",
    "\n",
    "    animate();\n",
    "</script>\n"
   ]
  }
 ],
 "metadata": {
  "kernelspec": {
   "display_name": "Java",
   "language": "java",
   "name": "java"
  },
  "language_info": {
   "codemirror_mode": "java",
   "file_extension": ".jshell",
   "mimetype": "text/x-java-source",
   "name": "Java",
   "pygments_lexer": "java",
   "version": "17.0.12+7-Ubuntu-1ubuntu222.04"
  }
 },
 "nbformat": 4,
 "nbformat_minor": 2
}
