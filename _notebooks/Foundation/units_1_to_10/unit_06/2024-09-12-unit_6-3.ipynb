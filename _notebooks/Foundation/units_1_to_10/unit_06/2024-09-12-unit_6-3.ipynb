{
 "cells": [
  {
   "cell_type": "raw",
   "metadata": {
    "vscode": {
     "languageId": "raw"
    }
   },
   "source": [
    "---\n",
    "layout: post\n",
    "type: collab\n",
    "title: Unit 6.3 - Arrays\n",
    "description: Unit 6 Team Teach - Arrays\n",
    "comments: true\n",
    "permalink: /csa/unit6-p1/unit6-3\n",
    "---"
   ]
  },
  {
   "cell_type": "markdown",
   "metadata": {
    "vscode": {
     "languageId": "java"
    }
   },
   "source": [
    "# 6.3 Enhanced For Loop for Arrays\n",
    "\n",
    "The \"Enhanced For Loop\" is otherwise known as a for each loop.\n",
    "This provides a simple way to loop through iterable data structures such as arrays and lists. \n",
    "The syntax for this loop is as follows,"
   ]
  },
  {
   "cell_type": "code",
   "execution_count": null,
   "metadata": {
    "vscode": {
     "languageId": "java"
    }
   },
   "outputs": [],
   "source": [
    "for(dataType element : array) { \n",
    "    //code to be ran on an element\n",
    "}"
   ]
  },
  {
   "cell_type": "markdown",
   "metadata": {},
   "source": [
    "If this syntax is unfamiliar, perhaps the Python version can be used as reference"
   ]
  },
  {
   "cell_type": "code",
   "execution_count": null,
   "metadata": {
    "vscode": {
     "languageId": "java"
    }
   },
   "outputs": [],
   "source": [
    "for element in array:\n",
    "    #code to be ran on element"
   ]
  },
  {
   "cell_type": "markdown",
   "metadata": {},
   "source": [
    "Here's an example of using these types of loops to calculate the sum of an Array\n",
    "Do note the iterated element has to be of the data type in the array. "
   ]
  },
  {
   "cell_type": "code",
   "execution_count": 13,
   "metadata": {
    "vscode": {
     "languageId": "java"
    }
   },
   "outputs": [
    {
     "name": "stdout",
     "output_type": "stream",
     "text": [
      "1\n",
      "2\n",
      "3\n",
      "4\n",
      "5\n",
      "6\n",
      "7\n",
      "8\n",
      "9\n",
      "10\n",
      "55\n"
     ]
    }
   ],
   "source": [
    "int sum = 0;\n",
    "int[] numArray = {1,2,3,4,5,6,7,8,9,10};\n",
    "for(int numElement : numArray)\n",
    "{\n",
    "    System.out.println(numElement);\n",
    "    sum += numElement;\n",
    "}\n",
    "System.out.println(sum);"
   ]
  },
  {
   "cell_type": "markdown",
   "metadata": {
    "vscode": {
     "languageId": "java"
    }
   },
   "source": [
    "# Popcorn Hack: Rewrite For Loop with For Each Loop\n",
    "\n",
    "You are working as an intern for a car sales company at their IT department. \n",
    "Your new task your boss gave you is to post the prices and names of the newest cars to be sold\n",
    "The previous IT developer couldnt get their for loop to work.\n",
    "Could you fix the issue?\n",
    "\n",
    "\n",
    "Given the following code, rewrite the script to use a for each loop instead of the for loop and fix the problem"
   ]
  },
  {
   "cell_type": "code",
   "execution_count": null,
   "metadata": {
    "vscode": {
     "languageId": "java"
    }
   },
   "outputs": [],
   "source": [
    "import java.util.HashMap;\n",
    "import java.util.Map;\n",
    "Map<String, Integer> carMap = new HashMap<String, Integer>();\n",
    "/*\n",
    " HashMap Syntax\n",
    " Map.Entry<String, Integer> entry for iterable loops\n",
    " Refer to the iterated HashMap as carMap.entrySet()\n",
    " entry.getKey()\n",
    "  entry.getValue()\n",
    "*/\n",
    "\n",
    "carMap.put(\"MortMobile\",9999);\n",
    "carMap.put(\"CSAwesomeCar\",500);\n",
    "carMap.put(\"ArrayceCar\",5000);\n",
    "\n",
    "for(int i=0;i<carMap.length;i++) //for the next developer: please fix this!!\n",
    "{\n",
    "    System.out.println(carMap[i]);\n",
    "    \n",
    "}"
   ]
  },
  {
   "cell_type": "code",
   "execution_count": 15,
   "metadata": {
    "vscode": {
     "languageId": "java"
    }
   },
   "outputs": [
    {
     "name": "stdout",
     "output_type": "stream",
     "text": [
      "CSAwesomeCar\n",
      "500\n",
      "ArrayceCar\n",
      "5000\n",
      "MortMobile\n",
      "9999\n"
     ]
    }
   ],
   "source": [
    "//Sample Solution\n",
    "import java.util.HashMap;\n",
    "import java.util.Map;\n",
    "        Map<String, Integer> carMap = new HashMap<String, Integer>();\n",
    "\n",
    "        carMap.put(\"MortMobile\",9999);\n",
    "        carMap.put(\"CSAwesomeCar\",500);\n",
    "        carMap.put(\"ArrayceCar\",5000);\n",
    "        for(Map.Entry<String, Integer> entry : carMap.entrySet())\n",
    "        {\n",
    "            System.out.println(entry.getKey());\n",
    "            System.out.println(entry.getValue());\n",
    "        }"
   ]
  },
  {
   "cell_type": "markdown",
   "metadata": {},
   "source": [
    "# Limitations On Enhanced For Loops\n",
    "\n",
    "It does not allow for access to the index number of the element,\n",
    "You cannot modify elements of the loop\n",
    "You cannot get a specific index in the same way array[ i ] can\n",
    "\n",
    "# Final Hack\n",
    "Finish the following code with a for each and normal for loop\n"
   ]
  },
  {
   "cell_type": "code",
   "execution_count": 16,
   "metadata": {
    "vscode": {
     "languageId": "java"
    }
   },
   "outputs": [],
   "source": [
    "int[] nums = {1,2,3,4,5,6,2000};\n",
    "\n",
    "//loop through the array and print if the current index is even"
   ]
  },
  {
   "cell_type": "code",
   "execution_count": 17,
   "metadata": {
    "vscode": {
     "languageId": "java"
    }
   },
   "outputs": [
    {
     "name": "stdout",
     "output_type": "stream",
     "text": [
      "false\n",
      "true\n",
      "false\n",
      "true\n",
      "false\n",
      "true\n",
      "true\n",
      "false\n",
      "true\n",
      "false\n",
      "true\n",
      "false\n",
      "true\n",
      "true\n"
     ]
    }
   ],
   "source": [
    "//Sample Solution\n",
    "int[] nums = {1,2,3,4,5,6,2000};\n",
    "\n",
    "for(int i=0;i<nums.length;i++)\n",
    "{\n",
    "    System.out.println(nums[i] % 2 ==0);\n",
    "}\n",
    "\n",
    "for(int number : nums)\n",
    "{\n",
    "    System.out.println(number % 2 ==0);\n",
    "}"
   ]
  }
 ],
 "metadata": {
  "kernelspec": {
   "display_name": "Java",
   "language": "java",
   "name": "java"
  },
  "language_info": {
   "codemirror_mode": "java",
   "file_extension": ".jshell",
   "mimetype": "text/x-java-source",
   "name": "Java",
   "pygments_lexer": "java",
   "version": "17.0.12+7-Ubuntu-1ubuntu222.04"
  }
 },
 "nbformat": 4,
 "nbformat_minor": 2
}
