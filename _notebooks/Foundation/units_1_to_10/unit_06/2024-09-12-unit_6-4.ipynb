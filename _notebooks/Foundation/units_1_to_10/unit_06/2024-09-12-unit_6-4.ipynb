{
 "cells": [
  {
   "cell_type": "raw",
   "metadata": {
    "vscode": {
     "languageId": "raw"
    }
   },
   "source": [
    "---\n",
    "layout: post\n",
    "title: Unit 6.4 - Arrays\n",
    "description: Unit 6 Team Teach - Arrays\n",
    "comments: true\n",
    "permalink: /csa/unit6-p1/unit6-4\n",
    "author: (J)onathan, (I)an, (T)arun, (S)rijan"
   ]
  },
  {
   "cell_type": "markdown",
   "metadata": {},
   "source": [
    "# 6.4 Developing Algorithms Using Arrays\n",
    "\n",
    "#### Finding Maximum and Minimum of Arrays\n",
    "We've done this in python many times in the past, but in java it will be different.\n",
    "Steps:\n",
    "1. Initialize a variable to store a maximum value\n",
    "2. Iterate through every element in the list\n",
    "    - In python we would use `for x in list` but this isn't possible now, instead we must use an enhanced for loop\n",
    "3. Check if element is greater than max, if so replace\n",
    "4. return element"
   ]
  },
  {
   "cell_type": "code",
   "execution_count": 30,
   "metadata": {
    "vscode": {
     "languageId": "java"
    }
   },
   "outputs": [
    {
     "name": "stdout",
     "output_type": "stream",
     "text": [
      "1.23091283901823E15\n"
     ]
    }
   ],
   "source": [
    "/* function, takes in array of doubles as values */\n",
    "private double findMax(double [] values) {\n",
    "    /* Sets max to first number in the list. Min Value could be the min value */\n",
    "    double max = values[0];\n",
    "\n",
    "    /* enhanced for loop notation */\n",
    "    for (double value : values) {\n",
    "        /* check for max */\n",
    "        if (value > max) {\n",
    "            max = value;\n",
    "        }\n",
    "    }\n",
    "    return max;\n",
    "}\n",
    "\n",
    "/* run on array */\n",
    "double[] nums = {1,2,3,4,5,6,2000, 123.123, 1230912839018230.123901823};\n",
    "System.out.println(findMax(nums));"
   ]
  },
  {
   "cell_type": "markdown",
   "metadata": {},
   "source": [
    "### Popcorn Hack\n",
    "Implement a function to find the minimum of the EVEN INDEXED elements in array of integers. "
   ]
  },
  {
   "cell_type": "code",
   "execution_count": null,
   "metadata": {
    "vscode": {
     "languageId": "java"
    }
   },
   "outputs": [],
   "source": [
    "private double findMinEven(int [] values) {\n",
    "    /*Function here */\n",
    "}\n",
    "\n",
    "int[] nums = {};\n",
    "System.out.println(findMinEven(nums));"
   ]
  },
  {
   "cell_type": "markdown",
   "metadata": {},
   "source": [
    "Ok wait but i don't want to copy this every time. what happened to python's .max?"
   ]
  },
  {
   "cell_type": "code",
   "execution_count": null,
   "metadata": {
    "vscode": {
     "languageId": "java"
    }
   },
   "outputs": [],
   "source": [
    "double[] nums = {1,2,3,4,5,6,2000};\n",
    "System.out.println(Arrays.stream(nums).max().getAsDouble())\n"
   ]
  },
  {
   "cell_type": "markdown",
   "metadata": {},
   "source": [
    "## Shifting Arrays\n",
    "Oftentimes we need to shift an array. \n",
    "ex. Shifting an array right two:\n",
    "Original: {\"a\", \"b\", \"c\", \"d\"}\n",
    "Final: {\"d\", \"c\", \"a\", \"b\"}\n",
    "\n",
    "How do we do this?\n",
    "1. Create a new array\n",
    "2. Iterate through each element in the array\n",
    "3. Place in appropriate spoce"
   ]
  },
  {
   "cell_type": "code",
   "execution_count": 40,
   "metadata": {
    "vscode": {
     "languageId": "java"
    }
   },
   "outputs": [
    {
     "name": "stdout",
     "output_type": "stream",
     "text": [
      "3\n",
      "4\n",
      "5\n",
      "6\n",
      "7\n",
      "8\n",
      "9\n",
      "10\n",
      "1\n",
      "2\n"
     ]
    }
   ],
   "source": [
    "int [] numbers = {1,2,3,4,5,6,7,8,9,10};\n",
    "\n",
    "int shift = 8;\n",
    "\n",
    "/* function */\n",
    "private int [] shiftRight(int [] values, int shift) {\n",
    "    /* declare new array */\n",
    "    int [] shifted = new int [values.length];\n",
    "    /* iterate through each array */\n",
    "    for (int index = 0; index < values.length; index++) {\n",
    "        /*\n",
    "         Breakdown:\n",
    "         shifted [new index] = numbers[index] (old value)\n",
    "\n",
    "         WAIT! but i'm adding a value to somewhere in the middle of the array! \n",
    "         we couldn't do that in python but since we specified the type and length of the array, this is possible in java\n",
    "\n",
    "         Calculating the new index:\n",
    "         1. we add the shift to the index\n",
    "         2. handle overflow: we use % to take the modulo operation\n",
    "         */\n",
    "        shifted [Math.abs((index + shift) % numbers.length)] = numbers[index];\n",
    "    }\n",
    "    return shifted;\n",
    "}\n",
    "\n",
    "for ( int value : shiftRight(numbers, shift)) {\n",
    "    System.out.println(value);\n",
    "}"
   ]
  },
  {
   "cell_type": "markdown",
   "metadata": {},
   "source": [
    "Challenge Hack:\n",
    "Create a function that iterates through every X items and shifts *only* those elements Y shift left.\n",
    "\n",
    "Example: ({1, 2, 3, 4, 5, 6}, Y = 1, X = 2)\n",
    "Output: {5, 2, 1, 4, 3, 6}\n",
    "\n",
    "Example: ({1, 2, 3, 4, 5, 6, 7, 8, 9, 10}, Y = 2, X = 3)\n",
    "Output: {10, 2, 3, 1, 5, 6, 4, 8, 9, 7}"
   ]
  },
  {
   "cell_type": "code",
   "execution_count": null,
   "metadata": {
    "vscode": {
     "languageId": "java"
    }
   },
   "outputs": [],
   "source": [
    "int [] numbers = {1,2,3,4,5,6,7,8,9,10,11,12,13,14,15,16,17,18,19,20};\n",
    "\n",
    "int shift = 2;\n",
    "int space = 4;\n",
    "\n",
    "/* function */\n",
    "private int [] shiftRight(int [] values, int shift, int space) {\n",
    "    /* code here */\n",
    "}\n",
    "\n",
    "for ( int value : shiftRight(numbers, shift, space)) {\n",
    "    System.out.println(value);\n",
    "}"
   ]
  }
 ],
 "metadata": {
  "kernelspec": {
   "display_name": "Java",
   "language": "java",
   "name": "java"
  },
  "language_info": {
   "codemirror_mode": "java",
   "file_extension": ".jshell",
   "mimetype": "text/x-java-source",
   "name": "Java",
   "pygments_lexer": "java",
   "version": "17.0.12+7-Ubuntu-1ubuntu222.04"
  }
 },
 "nbformat": 4,
 "nbformat_minor": 2
}
