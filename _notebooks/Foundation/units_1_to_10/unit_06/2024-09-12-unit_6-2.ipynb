{
 "cells": [
  {
   "cell_type": "raw",
   "metadata": {
    "vscode": {
     "languageId": "raw"
    }
   },
   "source": [
    "---\n",
    "layout: post\n",
    "title: Unit 6.2 - Arrays\n",
    "description: Unit 6 Team Teach - Arrays\n",
    "comments: true\n",
    "permalink: /csa/unit6-p1/unit6-2\n",
    "author: (J)onathan, (I)an, (T)arun, (S)rijan\n",
    "---"
   ]
  },
  {
   "cell_type": "markdown",
   "metadata": {},
   "source": [
    "## Topic 6.2 - Traversing Array (1D)\n",
    "> Using iteration statements (standard for loops and while loops) to access each element in an array."
   ]
  },
  {
   "cell_type": "markdown",
   "metadata": {},
   "source": [
    "### The Classic For Loop\n",
    "- An array in java is indexed from n1 to the number of elements n2.\n",
    "\n",
    "#### Review on what a for loop is?\n",
    "- init: The init expression is used to initialize a variable (executed once)\n",
    "- condition: The loop executes the condition statement every iteration.\n",
    "- incr/decr: The increment/decrement statement applied to the variables which updates the initial expression.\n",
    "![forLoopExample](https://github.com/user-attachments/assets/b3805ce2-eaeb-427e-9eca-acb3fa2421fe)\n",
    "\n",
    "\n",
    "#### Here's some basic code (boring stuff): "
   ]
  },
  {
   "cell_type": "code",
   "execution_count": 4,
   "metadata": {
    "vscode": {
     "languageId": "java"
    }
   },
   "outputs": [
    {
     "name": "stdout",
     "output_type": "stream",
     "text": [
      "0\n",
      "0\n",
      "1\n",
      "2\n",
      "2\n",
      "2\n"
     ]
    }
   ],
   "source": [
    "import java.util.Random;\n",
    "\n",
    "public class RandomArray {\n",
    "    public static void main(String[] args){\n",
    "    int [] list = new int[6];\n",
    "    Random rand = new Random(); \n",
    "\n",
    "    // FOR LOOP 1\n",
    "    for (int i = 0; i < list.length; i++){\n",
    "        list[i] = rand.nextInt(4);\n",
    "    }\n",
    "\n",
    "    // FOR LOOP 2\n",
    "   for(int element: list){\n",
    "        System.out.println(element);\n",
    "    }\n",
    "\n",
    "   }\n",
    "\n",
    "   }\n",
    "\n",
    "  RandomArray.main(null);"
   ]
  },
  {
   "cell_type": "markdown",
   "metadata": {},
   "source": [
    "![forLoopGif](https://github.com/user-attachments/assets/684186c5-1833-436c-9292-24075e6ba9d3)"
   ]
  },
  {
   "cell_type": "markdown",
   "metadata": {},
   "source": [
    "## For Loop: Accessing List Elements\n",
    "\n",
    "**Popcorn hack question**\n",
    "\n",
    "Which part of the following code would I want to change if I wanted to access all odd indices of the list."
   ]
  },
  {
   "cell_type": "code",
   "execution_count": 2,
   "metadata": {
    "vscode": {
     "languageId": "java"
    }
   },
   "outputs": [
    {
     "name": "stdout",
     "output_type": "stream",
     "text": [
      "Even Index\n",
      "0\n",
      "2\n",
      "4\n"
     ]
    }
   ],
   "source": [
    "// EVEN\n",
    "int[] list = {0, 1, 2, 3, 4, 5};\n",
    "System.out.println(\"Even Index\");\n",
    "for(int index = 0; index < list.length; index+=2){\n",
    "    System.out.println(list[index]);\n",
    "}"
   ]
  },
  {
   "cell_type": "markdown",
   "metadata": {},
   "source": [
    "## Standard While Loop\n",
    "Does the following loop accomplish traversing the array?"
   ]
  },
  {
   "cell_type": "code",
   "execution_count": 4,
   "metadata": {
    "vscode": {
     "languageId": "java"
    }
   },
   "outputs": [
    {
     "name": "stdout",
     "output_type": "stream",
     "text": [
      "New index: 5\n"
     ]
    }
   ],
   "source": [
    "int [] list = new int[5];\n",
    "int index = 0; \n",
    "\n",
    "while (index < list.length) \n",
    "{\n",
    "    // Do something\n",
    "    index ++; \n",
    "}\n",
    "\n",
    "System.out.println(\"New index: \" + index);"
   ]
  },
  {
   "cell_type": "markdown",
   "metadata": {},
   "source": [
    "**Popcorn hack question:**\n",
    "\n",
    "This while loop and the for loop we used earlier accomplish the same task. The main difference is that after the loop is completed, the variable 'index' in the while loop will still exist. The variable 'i' in the for loop will not. Why?"
   ]
  },
  {
   "cell_type": "markdown",
   "metadata": {},
   "source": [
    "## Bounds Errors\n",
    "\n",
    "\n",
    "\n",
    "When traversing an array, we need to be careful with the indices to avoid an ArrayIndexOutOfBoundsException being thrown.\n",
    "\n",
    "**ATTENTION: MOST COMMON MISTAKE: **\n",
    "8. What is wrong with the for loop and while loop below? Why does this produce an ArrayIndexOutOfBoundsException error? The first index is 0 making the equation invalid. You must change the signs or add a -1\n"
   ]
  },
  {
   "cell_type": "markdown",
   "metadata": {},
   "source": [
    "Off by One Error : missing the first or last element of an array when trying to traverse"
   ]
  },
  {
   "cell_type": "markdown",
   "metadata": {},
   "source": [
    "## Developing Methods Using Arrays\n",
    "\n",
    "Reviewing common methods asked on AP Exams FRQs\n",
    "\n",
    "### Average Value\n",
    "\n",
    "**Popcorn Hack**:\n",
    "\n",
    "Create/complete the code in order to return the average grade of all grades in the list of grades.\n",
    "\n",
    "**Homework:**\n",
    "\n",
    " Have the code print \"Man, you guys need to study more\" if the grades are beneath a certain percentage. \n",
    " \n",
    " Bonus:\n",
    " Have the code iterate through the list and add some points to each grade because you're a very generous grader."
   ]
  },
  {
   "cell_type": "code",
   "execution_count": null,
   "metadata": {
    "vscode": {
     "languageId": "java"
    }
   },
   "outputs": [],
   "source": [
    "public class GradeAverage {\n",
    "    public static void main(String[] args) {\n",
    "        /* grades out of 100 */\n",
    "        int[] grades = {90, 50, 70, 20, 80, 97};\n",
    "        int sum = 0;\n",
    "        double average;\n",
    "        \n",
    "        for (int i = 0; i<grades.length;i++) {\n",
    "            sum += grades[i]; \n",
    "        }\n",
    "       \n",
    "        average = (double) sum / grades.length; /* missing code */\n",
    "        \n",
    "        System.out.println(\"The average of the grades is: \" + average);\n",
    "    }\n",
    "}\n",
    "\n",
    "GradeAverage.main(null);"
   ]
  }
 ],
 "metadata": {
  "kernelspec": {
   "display_name": "Java",
   "language": "java",
   "name": "java"
  },
  "language_info": {
   "codemirror_mode": "java",
   "file_extension": ".jshell",
   "mimetype": "text/x-java-source",
   "name": "Java",
   "pygments_lexer": "java",
   "version": "17.0.12+7-Ubuntu-1ubuntu222.04"
  }
 },
 "nbformat": 4,
 "nbformat_minor": 2
}
