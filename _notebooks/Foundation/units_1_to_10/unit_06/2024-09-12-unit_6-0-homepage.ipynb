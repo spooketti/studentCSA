{
 "cells": [
  {
   "cell_type": "raw",
   "metadata": {
    "vscode": {
     "languageId": "raw"
    }
   },
   "source": [
    "---\n",
    "layout: post\n",
    "toc: true\n",
    "title: Unit 6 Arrays P1 \n",
    "courses: {'csa': {'week': 4}}\n",
    "type: ccc\n",
    "categories: [AP CSA]\n",
    "permalink: /csa/unit6-p1/\n",
    "author: (J)onathan, (I)an, (T)arun, (S)rijan\n",
    "---"
   ]
  },
  {
   "cell_type": "markdown",
   "metadata": {},
   "source": [
    "## AP Computer Science A - Unit 6 Home Page\n",
    "\n",
    "Welcome to Unit 6! In this unit, we will explore various concepts of **Arrays** in Java, focusing on traversing and manipulating arrays.\n",
    "\n",
    "### Learning Goals:\n",
    "- Understand how to declare, initialize, and traverse arrays\n",
    "- Learn how to manipulate array elements\n",
    "- Practice writing algorithms that use arrays\n",
    "\n",
    "### Key Topics:\n",
    "Topic 6.1 - Array Creation and Access (Tarun)\n",
    "Topic 6.2 - Traversing Array (1D) (Srijan)\n",
    "Topic 6.3 Enhanced for loop for Arrays (Jonathan)\n",
    "Topic 6.4: Developing Algorithms Using Arrays (Ian)"
   ]
  },
  {
   "cell_type": "markdown",
   "metadata": {},
   "source": [
    "# AP Computer Science A - Unit 6 Home Page\n",
    "\n",
    "Welcome to Unit 6! In this unit, we will explore various concepts of **Arrays** in Java, focusing on traversing and manipulating arrays.\n",
    "\n",
    "### Learning Goals:\n",
    "- Understand how to declare, initialize, and traverse arrays\n",
    "- Learn how to manipulate array elements\n",
    "- Practice writing algorithms that use arrays\n",
    "\n",
    "### Key Topics:\n",
    "- Topic 6.1 - Array Creation and Access (Tarun)\n",
    "- Topic 6.2 - Traversing Array (1D) (Srijan)\n",
    "- Topic 6.3 Enhanced for loop for Arrays (Jonathan)\n",
    "- Topic 6.4: Developing Algorithms Using Arrays (Ian)"
   ]
  }
 ],
 "metadata": {
  "kernelspec": {
   "display_name": "java (IJava/j!)",
   "language": "java",
   "name": "jbang-ijava"
  },
  "language_info": {
   "name": "java"
  }
 },
 "nbformat": 4,
 "nbformat_minor": 2
}
