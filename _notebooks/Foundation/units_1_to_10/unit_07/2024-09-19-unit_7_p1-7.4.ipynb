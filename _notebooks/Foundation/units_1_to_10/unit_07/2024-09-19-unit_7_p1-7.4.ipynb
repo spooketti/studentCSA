{
 "cells": [
  {
   "cell_type": "markdown",
   "metadata": {
    "vscode": {
     "languageId": "java"
    }
   },
   "source": [
    "---\n",
    "layout: post\n",
    "toc: true\n",
    "title: 7.4 - Developing Algorithms Using ArrayLists\n",
    "description: ArrayLists Lesson\n",
    "authors: Aidan Lau, Saathvik Gampa, Sri Surapaneni, Tanav Kambhampati\n",
    "categories: [AP CSA]\n",
    "type: ccc\n",
    "permalink: /csa/unit7-p1/unit7-4\n",
    "---"
   ]
  },
  {
   "cell_type": "markdown",
   "metadata": {},
   "source": [
    "<style>\n",
    "    .unitHold\n",
    "    {\n",
    "    position: fixed;\n",
    "    top: 64px;\n",
    "    width: 100%;\n",
    "    height: 43px;\n",
    "    background-color: #353543;\n",
    "    left: 0px;\n",
    "    display: flex;\n",
    "    flex-direction: row;\n",
    "    flex-wrap: nowrap;\n",
    "    justify-content: space-evenly;\n",
    "    align-items: center;\n",
    "    }\n",
    "\n",
    "    .unitHold a\n",
    "    {\n",
    "    text-decoration: none;\n",
    "    color: #fabe28;\n",
    "    border-left: #fabe28 6px double;\n",
    "    border-right: #fabe28 6px double;\n",
    "    height: 100%;\n",
    "    display: flex;\n",
    "    align-items: center;\n",
    "    justify-content: center;\n",
    "    transition:all 1s;\n",
    "    }\n",
    "\n",
    "    .unitHold a:hover\n",
    "    {\n",
    "        padding-left:5px;\n",
    "        padding-right:5px;\n",
    "    }\n",
    "\n",
    "\n",
    "</style>\n",
    "\n",
    "<div class=\"unitHold\">\n",
    "<a href=\"{{site.baseurl}}/csa/unit7-p1/unit7-homepage\">Unit 7 Intro</a>\n",
    "<a href=\"{{site.baseurl}}/csa/unit7-p1/unit7-1\">Unit 7.1</a>\n",
    "<a href=\"{{site.baseurl}}/csa/unit7-p1/unit7-2\">Unit 7.2</a>\n",
    "<a href=\"{{site.baseurl}}/csa/unit7-p1/unit7-3\">Unit 7.3</a>\n",
    "<a href=\"{{site.baseurl}}/csa/unit7-p1/unit7-4\">Unit 7.4</a>\n",
    "<a href=\"{{site.baseurl}}/csa/unit7-p1/unit7-5\">Unit 7.5</a>\n",
    "<a href=\"{{site.baseurl}}/csa/unit7-p1/unit7-6\">Unit 7.6</a>\n",
    "<a href=\"{{site.baseurl}}/csa/unit7-p1/unit7-7\">Unit 7.7</a>\n",
    "</div>"
   ]
  },
  {
   "cell_type": "markdown",
   "metadata": {},
   "source": [
    "# 7.4 Developing Algorithms Using ArrayLists\n",
    "\n",
    "Common Arraylist Methods: \n",
    "- size(): Returns the size of the arraylist as an Integer\n",
    "- add(object): Adds an object to the end of your ArrayList\n",
    "- void add(index, object): Addes an object to an index of your choice. Shifts the index of everything to the right by one and increases size by 1\n",
    "- get(index): Retrieves the object at the index specified\n",
    "- set(index, obj): Like void add, but instead of adding, it replaces the object that's already in that index\n",
    "- remove(index): Removes the object at specified index"
   ]
  },
  {
   "cell_type": "code",
   "execution_count": 1,
   "metadata": {
    "vscode": {
     "languageId": "java"
    }
   },
   "outputs": [
    {
     "name": "stdout",
     "output_type": "stream",
     "text": [
      "3\n"
     ]
    }
   ],
   "source": [
    "//size() & add(object)\n",
    "\n",
    "ArrayList<Double> numbers = new ArrayList<>();\n",
    "    numbers.add(1.0);\n",
    "    numbers.add(2.0);\n",
    "    numbers.add(3.0);\n",
    "\n",
    "int size = numbers.size();\n",
    "\n",
    "System.out.println(size);"
   ]
  },
  {
   "cell_type": "code",
   "execution_count": 2,
   "metadata": {
    "vscode": {
     "languageId": "java"
    }
   },
   "outputs": [
    {
     "name": "stdout",
     "output_type": "stream",
     "text": [
      "3.0\n",
      "4.0\n",
      "3.0\n"
     ]
    }
   ],
   "source": [
    "//void add(index, object)\n",
    "//get(index)\n",
    "ArrayList<Double> numbers = new ArrayList<>();\n",
    "    numbers.add(1.0);\n",
    "    numbers.add(2.0);\n",
    "    numbers.add(3.0);\n",
    "\n",
    "System.out.println(numbers.get(2));\n",
    "\n",
    "    numbers.add(2,4.0);\n",
    "\n",
    "System.out.println(numbers.get(2));\n",
    "System.out.println(numbers.get(3));"
   ]
  },
  {
   "cell_type": "code",
   "execution_count": 3,
   "metadata": {
    "vscode": {
     "languageId": "java"
    }
   },
   "outputs": [
    {
     "name": "stdout",
     "output_type": "stream",
     "text": [
      "3.0\n",
      "4.0\n"
     ]
    }
   ],
   "source": [
    "// set(index, obj)\n",
    "\n",
    "\n",
    "ArrayList<Double> numbers = new ArrayList<>();\n",
    "    numbers.add(1.0);\n",
    "    numbers.add(2.0);\n",
    "    numbers.add(3.0);\n",
    "\n",
    "System.out.println(numbers.get(2));\n",
    "\n",
    "    numbers.set(2,4.0);\n",
    "\n",
    "System.out.println(numbers.get(2));\n"
   ]
  },
  {
   "cell_type": "code",
   "execution_count": 4,
   "metadata": {
    "vscode": {
     "languageId": "java"
    }
   },
   "outputs": [
    {
     "name": "stdout",
     "output_type": "stream",
     "text": [
      "3.0\n",
      "1.0\n",
      "2.0\n"
     ]
    },
    {
     "ename": "EvalException",
     "evalue": "Index 2 out of bounds for length 2",
     "output_type": "error",
     "traceback": [
      "\u001b[1m\u001b[31m---------------------------------------------------------------------------\u001b[0m",
      "\u001b[1m\u001b[31mjava.lang.IndexOutOfBoundsException: Index 2 out of bounds for length 2\u001b[0m",
      "\u001b[1m\u001b[31m\tat java.base/jdk.internal.util.Preconditions.outOfBounds(Preconditions.java:64)\u001b[0m",
      "\u001b[1m\u001b[31m\tat java.base/jdk.internal.util.Preconditions.outOfBoundsCheckIndex(Preconditions.java:70)\u001b[0m",
      "\u001b[1m\u001b[31m\tat java.base/jdk.internal.util.Preconditions.checkIndex(Preconditions.java:266)\u001b[0m",
      "\u001b[1m\u001b[31m\tat java.base/java.util.Objects.checkIndex(Objects.java:361)\u001b[0m",
      "\u001b[1m\u001b[31m\tat java.base/java.util.ArrayList.get(ArrayList.java:427)\u001b[0m",
      "\u001b[1m\u001b[31m\tat .(#38:1)\u001b[0m"
     ]
    }
   ],
   "source": [
    "// remove(index)\n",
    "\n",
    "\n",
    "ArrayList<Double> numbers = new ArrayList<>();\n",
    "    numbers.add(1.0);\n",
    "    numbers.add(2.0);\n",
    "    numbers.add(3.0);\n",
    "System.out.println(numbers.get(2));\n",
    "    numbers.remove(2);\n",
    "\n",
    "System.out.println(numbers.get(0));\n",
    "System.out.println(numbers.get(1));\n",
    "System.out.println(numbers.get(2));\n",
    "\n",
    "//anybody know why we get an IndexOutofBoundsException eror?"
   ]
  },
  {
   "cell_type": "markdown",
   "metadata": {},
   "source": [
    "Error caused due to index 2 having been removed earlier, 2 is out of bounds of the ArrayList. "
   ]
  },
  {
   "cell_type": "markdown",
   "metadata": {},
   "source": [
    "Here's an example of a program using **Arrays** that finds the maximum value:"
   ]
  },
  {
   "cell_type": "code",
   "execution_count": 5,
   "metadata": {
    "vscode": {
     "languageId": "java"
    }
   },
   "outputs": [
    {
     "name": "stdout",
     "output_type": "stream",
     "text": [
      "The maximum value is: 5.0\n"
     ]
    }
   ],
   "source": [
    "public class Main {\n",
    "    public static void main(String[] args) {\n",
    "        double[] values = {1, 2, 3, 4, 5};\n",
    "\n",
    "        double maxValue = findMax(values);\n",
    "        System.out.println(\"The maximum value is: \" + maxValue);\n",
    "    }\n",
    "\n",
    "    private static double findMax(double[] values) {\n",
    "        double max = values[0];\n",
    "        for (int index = 1; index < values.length; index++) {\n",
    "            if (values[index] > max) {\n",
    "                max = values[index];\n",
    "            }\n",
    "        }\n",
    "        return max;\n",
    "    }\n",
    "}\n",
    "Main.main(null);"
   ]
  },
  {
   "cell_type": "markdown",
   "metadata": {},
   "source": [
    "#### Now, how can we modify this to use an ArrayList?"
   ]
  },
  {
   "cell_type": "code",
   "execution_count": 6,
   "metadata": {
    "vscode": {
     "languageId": "java"
    }
   },
   "outputs": [
    {
     "name": "stdout",
     "output_type": "stream",
     "text": [
      "The maximum value is: 4.9\n"
     ]
    }
   ],
   "source": [
    "\n",
    "public class Main {\n",
    "    public static void main(String[] args) {\n",
    "        ArrayList<Double> values = new ArrayList<>();\n",
    "        values.add(1.2);\n",
    "        values.add(3.4);\n",
    "        values.add(2.6);\n",
    "        values.add(4.9);\n",
    "        values.add(0.8);\n",
    "\n",
    "        double maxValue = findMax(values);\n",
    "        System.out.println(\"The maximum value is: \" + maxValue);\n",
    "    }\n",
    "\n",
    "    private static double findMax(ArrayList<Double> values) {\n",
    "        double max = values.get(0);\n",
    "\n",
    "        for (int index = 1; index < values.size(); index++) {\n",
    "            if (values.get(index) > max) {\n",
    "                max = values.get(index);\n",
    "            }\n",
    "        }\n",
    "        return max; \n",
    "    }\n",
    "}\n",
    "Main.main(null);\n"
   ]
  },
  {
   "cell_type": "markdown",
   "metadata": {},
   "source": [
    "Homework:\n",
    "\n",
    "(Paragraph Answer)\n",
    "1. What is the difference between the two examples above. Which one is better and why?\n",
    "The difference between the two examples is that one uses ArrayLists and one uses Arrays.\n",
    "Arrays are faster as they are primitive to Java and do not require autoboxing.\n",
    "\n",
    "ArrayLists are more flexible as they do not have a specific size and can be changed dyanmically. \n",
    "Arrays are better for memory as they are primitive. \n",
    "\n",
    "Overall I would say that Arrays would be better in this situation as they would be faster and lower in memory usage; however, if the size of the array needs to be changed on the fly, the ArrayList method may hold its weight in that regard. \n",
    "\n",
    "To show the difference in time between the two, their time to finish will be measured\n",
    "\n",
    "\n",
    "2. Make your own algorithm using ArrayLists that finds the sum of the elements in the ArrayList"
   ]
  },
  {
   "cell_type": "code",
   "execution_count": 3,
   "metadata": {
    "vscode": {
     "languageId": "java"
    }
   },
   "outputs": [
    {
     "name": "stdout",
     "output_type": "stream",
     "text": [
      "ArrayList Time: 38065523\n",
      "Primitive Array Time: 26800798\n"
     ]
    }
   ],
   "source": [
    "ArrayList<Integer> aList = new ArrayList<Integer>();\n",
    "for(int i=0;i<5;i++)\n",
    "{\n",
    "    aList.add(i);\n",
    "}\n",
    "\n",
    "int[] intArr = {0,1,2,3,4};\n",
    "int sum = 0;\n",
    "long arrayListStartTime = System.nanoTime();\n",
    "\n",
    "\n",
    "for(int i=0;i<aList.size();i++)\n",
    "{\n",
    "    sum += aList.get(i);\n",
    "}\n",
    "System.out.println(\"ArrayList Time: \" + (System.nanoTime() - arrayListStartTime));\n",
    "sum = 0;\n",
    "long arrayStartTime = System.nanoTime();\n",
    "\n",
    "\n",
    "for(int i=0;i<intArr.length;i++)\n",
    "{\n",
    "    sum += intArr[i];\n",
    "}\n",
    "System.out.println(\"Primitive Array Time: \" + (System.nanoTime() - arrayStartTime));\n",
    "\n",
    "\n",
    "\n",
    "\n"
   ]
  },
  {
   "cell_type": "markdown",
   "metadata": {},
   "source": [
    "# Sum of Elements in ArrayList"
   ]
  },
  {
   "cell_type": "code",
   "execution_count": 5,
   "metadata": {
    "vscode": {
     "languageId": "java"
    }
   },
   "outputs": [
    {
     "name": "stdout",
     "output_type": "stream",
     "text": [
      "45\n"
     ]
    }
   ],
   "source": [
    "ArrayList<Integer> intlist = new ArrayList<Integer>();\n",
    "//filling data\n",
    "for(int i=0;i<10;i++)\n",
    "{\n",
    "    intlist.add(i);\n",
    "}\n",
    "\n",
    "//algorithm\n",
    "int sum = 0;\n",
    "for(int element : intlist)\n",
    "{\n",
    " sum += element;\n",
    "}\n",
    "System.out.println(sum);"
   ]
  }
 ],
 "metadata": {
  "kernelspec": {
   "display_name": "Java",
   "language": "java",
   "name": "java"
  },
  "language_info": {
   "codemirror_mode": "java",
   "file_extension": ".jshell",
   "mimetype": "text/x-java-source",
   "name": "Java",
   "pygments_lexer": "java",
   "version": "17.0.12+7-Ubuntu-1ubuntu222.04"
  }
 },
 "nbformat": 4,
 "nbformat_minor": 4
}
