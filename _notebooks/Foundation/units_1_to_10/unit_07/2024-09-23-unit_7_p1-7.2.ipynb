{
 "cells": [
  {
   "cell_type": "markdown",
   "metadata": {
    "vscode": {
     "languageId": "raw"
    }
   },
   "source": [
    "---\n",
    "layout: post\n",
    "toc: true\n",
    "title: 7.2 - ArrayList Methods\n",
    "description: ArrayList Methods\n",
    "authors: Aidan Lau, Saathvik Gampa, Sri Surapaneni, Tanav Kambhampati\n",
    "categories: [AP CSA]\n",
    "type: ccc\n",
    "permalink: /csa/unit7-p1/unit7-2\n",
    "---"
   ]
  },
  {
   "cell_type": "markdown",
   "metadata": {},
   "source": [
    "<style>\n",
    "    .unitHold\n",
    "    {\n",
    "    position: fixed;\n",
    "    top: 64px;\n",
    "    width: 100%;\n",
    "    height: 43px;\n",
    "    background-color: #353543;\n",
    "    left: 0px;\n",
    "    display: flex;\n",
    "    flex-direction: row;\n",
    "    flex-wrap: nowrap;\n",
    "    justify-content: space-evenly;\n",
    "    align-items: center;\n",
    "    }\n",
    "\n",
    "    .unitHold a\n",
    "    {\n",
    "    text-decoration: none;\n",
    "    color: #fabe28;\n",
    "    border-left: #fabe28 6px double;\n",
    "    border-right: #fabe28 6px double;\n",
    "    height: 100%;\n",
    "    display: flex;\n",
    "    align-items: center;\n",
    "    justify-content: center;\n",
    "    transition:all 1s;\n",
    "    }\n",
    "\n",
    "    .unitHold a:hover\n",
    "    {\n",
    "        padding-left:5px;\n",
    "        padding-right:5px;\n",
    "    }\n",
    "\n",
    "\n",
    "</style>\n",
    "\n",
    "<div class=\"unitHold\">\n",
    "<a href=\"{{site.baseurl}}/csa/unit7-p1/unit7-homepage\">Unit 7 Intro</a>\n",
    "<a href=\"{{site.baseurl}}/csa/unit7-p1/unit7-1\">Unit 7.1</a>\n",
    "<a href=\"{{site.baseurl}}/csa/unit7-p1/unit7-2\">Unit 7.2</a>\n",
    "<a href=\"{{site.baseurl}}/csa/unit7-p1/unit7-3\">Unit 7.3</a>\n",
    "<a href=\"{{site.baseurl}}/csa/unit7-p1/unit7-4\">Unit 7.4</a>\n",
    "<a href=\"{{site.baseurl}}/csa/unit7-p1/unit7-5\">Unit 7.5</a>\n",
    "<a href=\"{{site.baseurl}}/csa/unit7-p1/unit7-6\">Unit 7.6</a>\n",
    "<a href=\"{{site.baseurl}}/csa/unit7-p1/unit7-7\">Unit 7.7</a>\n",
    "</div>"
   ]
  },
  {
   "cell_type": "markdown",
   "metadata": {},
   "source": [
    "# 7.2: ArrayList Methods"
   ]
  },
  {
   "cell_type": "markdown",
   "metadata": {},
   "source": [
    "- Getting access to elements stored in an ArrayList can be done with iteration statements\n",
    "- This is called \"traversing\" the ArrayList\n",
    "\n",
    "Here are some useful ArrayList methods:\n",
    "\n",
    "* `void add(int index, Object obj)` - Inserts `obj` at the specified `index`, shifting elements at and above that position to the right, and increases the list's size by one.\n",
    "  \n",
    "* `boolean add(Object obj)` - Adds `obj` to the end of the list and returns `true`.\n",
    "\n",
    "* `Object get(int index)` - Retrieves the element located at the specified `index`.\n",
    "\n",
    "* `int size()` - Returns the total number of elements currently in the list.\n",
    "\n",
    "* `Object set(int index, Object obj)` - Replaces the element at `index` with `obj` and returns the element previously at that position.\n",
    "\n",
    "* `Object remove(int index)` - Deletes the element at `index`, shifts all subsequent elements to the left, and returns the removed element.\n"
   ]
  },
  {
   "cell_type": "markdown",
   "metadata": {},
   "source": [
    "### Note on Arraylist<> (Specifying Elements)\n",
    "- When Arraylist<element> is specified, then the code will only allow or return objects of that specific type\n",
    "- You don't have to define an element, its just better to because the compiler will show an error and it'll catch bugs easier\n",
    "\n",
    "Examples below!\n"
   ]
  },
  {
   "cell_type": "code",
   "execution_count": null,
   "metadata": {
    "vscode": {
     "languageId": "java"
    }
   },
   "outputs": [],
   "source": [
    "ArrayList<String> names = new ArrayList<>();  // Will only store Strings\n",
    "ArrayList<Integer> numbers = new ArrayList<>();  // Will only store Integers"
   ]
  },
  {
   "cell_type": "code",
   "execution_count": 1,
   "metadata": {
    "vscode": {
     "languageId": "java"
    }
   },
   "outputs": [
    {
     "ename": "CompilationException",
     "evalue": "",
     "output_type": "error",
     "traceback": [
      "\u001b[1m\u001b[30m|   \u001b[1m\u001b[30mages.add(\u001b[0m\u001b[1m\u001b[30m\u001b[41m\"25\"\u001b[0m\u001b[1m\u001b[30m);  // Compiler error because \"25\" is a String, not an Integer\u001b[0m",
      "\u001b[1m\u001b[31mincompatible types: java.lang.String cannot be converted to java.lang.Integer\u001b[0m",
      ""
     ]
    }
   ],
   "source": [
    "ArrayList<Integer> ages = new ArrayList<>();\n",
    "ages.add(25);    // Works fine\n",
    "ages.add(\"25\");  // Compiler error because \"25\" is a String, not an Integer\n"
   ]
  },
  {
   "cell_type": "markdown",
   "metadata": {},
   "source": [
    "### Size of the ArrayList\n",
    "\n",
    "* `int size();` : returns the number of elements in the list\n",
    "\n",
    "Example below!"
   ]
  },
  {
   "cell_type": "code",
   "execution_count": 2,
   "metadata": {
    "vscode": {
     "languageId": "java"
    }
   },
   "outputs": [
    {
     "name": "stdout",
     "output_type": "stream",
     "text": [
      "3\n"
     ]
    }
   ],
   "source": [
    "ArrayList<Integer> a1 = new ArrayList<>();\n",
    "a1.add(10);\n",
    "a1.add(20);\n",
    "a1.add(30);\n",
    "\n",
    "System.out.println(a1.size()); \n"
   ]
  },
  {
   "cell_type": "markdown",
   "metadata": {},
   "source": [
    "### Adding Items to an ArrayList\n",
    "\n",
    "* `boolean add(Object obj);` : adds obj to the end of the `rrayList and returns true\n",
    "* `void add(int index, Object obj)` : inserts obj at the specified index and if the index is valid, it shifts all the elements to the right from that position and increases the size of the Arraylist (wow i bet arrays cant do that!)\n",
    "\n",
    "example below!\n"
   ]
  },
  {
   "cell_type": "code",
   "execution_count": 1,
   "metadata": {
    "vscode": {
     "languageId": "java"
    }
   },
   "outputs": [
    {
     "name": "stdout",
     "output_type": "stream",
     "text": [
      "[5.5, 6.3, 7.2, 9.8]\n"
     ]
    }
   ],
   "source": [
    "ArrayList<Double> numbers = new ArrayList<>();\n",
    "numbers.add(5.5);\n",
    "numbers.add(7.2);\n",
    "numbers.add(9.8);\n",
    "\n",
    "numbers.add(1, 6.3);  // inserts 6.3 at index 1\n",
    "\n",
    "System.out.println(numbers);\n"
   ]
  },
  {
   "cell_type": "markdown",
   "metadata": {},
   "source": [
    "<img width=\"549\" alt=\"Screenshot 2024-10-03 at 10 17 22 PM\" src=\"https://github.com/user-attachments/assets/dbc0207a-5e47-4bde-a434-241d58022062\">"
   ]
  },
  {
   "cell_type": "markdown",
   "metadata": {},
   "source": [
    "# Popcorn Hack #3 (Long)\n",
    "- Step 1: Declare and Initialize\n",
    "\n",
    "Create an ArrayList that stores Double values, called scores.\n",
    "- Step 2: Add Elements\n",
    "\n",
    "Add the following values to your scores list: 85.6, 92.4, 78.9, 88.1.\n",
    "Print the size of the list after adding these elements\n",
    "- Step 3: insert at index\n",
    "\n",
    "use the add(int index, Double obj) method to insert the value 90.0 at index 2.\n",
    "Print the list to verify the insertion.\n",
    "- Step 4: Remove an Element\n",
    "\n",
    "Remove the element at index 3 using remove(int index).\n",
    "Print the list to see the updated values.\n",
    "- Step 5: Get and Set\n",
    "\n",
    "Retrieve the element at index 1 and print it.\n",
    "Then, use set(int index, Double obj) to update the element at index 0 to 91.5.\n",
    "Print the list after the modification."
   ]
  },
  {
   "cell_type": "code",
   "execution_count": 4,
   "metadata": {
    "vscode": {
     "languageId": "java"
    }
   },
   "outputs": [
    {
     "name": "stdout",
     "output_type": "stream",
     "text": [
      "4\n",
      "[85.6, 92.4, 90.0, 78.9, 88.1]\n",
      "[85.6, 92.4, 90.0, 88.1]\n",
      "92.4\n",
      "85.6\n",
      "[91.5, 92.4, 90.0, 88.1]\n"
     ]
    }
   ],
   "source": [
    "import java.util.ArrayList;\n",
    "\n",
    "ArrayList<Double> scores = new ArrayList<Double>();\n",
    "scores.add(85.6);\n",
    "scores.add(92.4);\n",
    "scores.add(78.9);\n",
    "scores.add(88.1);\n",
    "System.out.println(scores.size());\n",
    "scores.add(2,90.0);\n",
    "System.out.println(scores);\n",
    "scores.remove(3);\n",
    "System.out.println(scores);\n",
    "System.out.println(scores.get(1));\n",
    "System.out.println(scores.set(0,91.5));\n",
    "System.out.println(scores);"
   ]
  },
  {
   "cell_type": "markdown",
   "metadata": {},
   "source": [
    "### Deleting Items from an ArrayList\n",
    "\n",
    "`E remove(int index)` : Deletes the element at the specified index and shifts all elements after that index one position to the left. it reduces the size of the arraylist by 1. (also returns element thats removed when used)"
   ]
  },
  {
   "cell_type": "code",
   "execution_count": 2,
   "metadata": {
    "vscode": {
     "languageId": "java"
    }
   },
   "outputs": [
    {
     "name": "stdout",
     "output_type": "stream",
     "text": [
      "initial cars list: [MortMobile, Lopez Lambo, Jonathan Jeepatron, Cybertruck]\n",
      "updated cars list: [MortMobile, Lopez Lambo, Cybertruck]\n"
     ]
    }
   ],
   "source": [
    "ArrayList<String> cars = new ArrayList<>();\n",
    "cars.add(\"MortMobile\");\n",
    "cars.add(\"Lopez Lambo\");\n",
    "cars.add(\"Jonathan Jeepatron\");\n",
    "cars.add(\"Cybertruck\");\n",
    "\n",
    "// prints the initial list of cars\n",
    "System.out.println(\"initial cars list: \" + cars);\n",
    "\n",
    "// removing the car at index 2 (Jonathan Jeepatron)\n",
    "cars.remove(2);\n",
    "\n",
    "// prints updated list of cars after deletion (rip jonathan jeepatron)\n",
    "System.out.println(\"updated cars list: \" + cars);\n"
   ]
  },
  {
   "cell_type": "markdown",
   "metadata": {},
   "source": [
    "------------------------------------------------------------------------------------------------"
   ]
  },
  {
   "cell_type": "markdown",
   "metadata": {},
   "source": [
    "### Updating Items in an `ArrayList`\n",
    "\n",
    "To update variables or object properties in Java, simply assign new values using the = operator or update object fields through methods. Make sure the data types match and understand how scopes affect where updates can occur."
   ]
  },
  {
   "cell_type": "code",
   "execution_count": 3,
   "metadata": {
    "vscode": {
     "languageId": "java"
    }
   },
   "outputs": [
    {
     "name": "stdout",
     "output_type": "stream",
     "text": [
      "Original list: [Apple, Banana, Orange]\n",
      "Updated list: [Apple, Grapes, Orange]\n"
     ]
    }
   ],
   "source": [
    "import java.util.ArrayList;\n",
    "\n",
    "ArrayList<String> fruits = new ArrayList<>();\n",
    "\n",
    "\n",
    "fruits.add(\"Apple\");\n",
    "fruits.add(\"Banana\");\n",
    "fruits.add(\"Orange\");\n",
    "\n",
    "System.out.println(\"Original list: \" + fruits);\n",
    "\n",
    "\n",
    "fruits.set(1, \"Grapes\");\n",
    "\n",
    "\n",
    "System.out.println(\"Updated list: \" + fruits);"
   ]
  },
  {
   "cell_type": "markdown",
   "metadata": {},
   "source": [
    "### Popcorn hack\n",
    "\n",
    "You have an `ArrayList` that contains the names of 5 cities:\n",
    "\n",
    "```java\n",
    "[\"New York\", \"Los Angeles\", \"Chicago\", \"Houston\", \"Phoenix\"]\n",
    "\n",
    "Write a Java program to update the third city (index 2) to \"San Francisco\" using the set() method, and then print the updated list.\n"
   ]
  },
  {
   "cell_type": "code",
   "execution_count": 7,
   "metadata": {
    "vscode": {
     "languageId": "java"
    }
   },
   "outputs": [
    {
     "name": "stdout",
     "output_type": "stream",
     "text": [
      "[New York, Los Angeles, San Francisco, Houston, Phoenix]\n"
     ]
    }
   ],
   "source": [
    "\n",
    "\n",
    "import java.util.ArrayList;\n",
    "\n",
    "\n",
    "ArrayList<String> cities = new ArrayList<>();\n",
    "cities.add(\"New York\");\n",
    "cities.add(\"Los Angeles\");\n",
    "cities.add(\"Chicago\");\n",
    "cities.add(\"Houston\");\n",
    "cities.add(\"Phoenix\");\n",
    "cities.set(2,\"San Francisco\");\n",
    "\n",
    "System.out.println(cities);"
   ]
  },
  {
   "cell_type": "markdown",
   "metadata": {},
   "source": [
    "Expected Output:\n",
    "[New York, Los Angeles, San Francisco, Houston, Phoenix]"
   ]
  },
  {
   "cell_type": "markdown",
   "metadata": {},
   "source": [
    "### Accessing Items in an `ArrayList`\n",
    "\n",
    "In Java, you can access items in an array by using the index of the element, with array indices starting from 0. For example, array[0] will access the first element, and array[2] will access the third element. You can use a loop, such as a for or while loop, to iterate through all the elements of the array."
   ]
  },
  {
   "cell_type": "code",
   "execution_count": 5,
   "metadata": {
    "vscode": {
     "languageId": "java"
    }
   },
   "outputs": [
    {
     "name": "stdout",
     "output_type": "stream",
     "text": [
      "First number: 10\n",
      "Third number: 30\n"
     ]
    }
   ],
   "source": [
    "\n",
    "import java.util.ArrayList;\n",
    "\n",
    "ArrayList<Integer> numbers = new ArrayList<>();\n",
    "\n",
    "numbers.add(10);\n",
    "numbers.add(20);\n",
    "numbers.add(30);\n",
    "numbers.add(40);\n",
    "\n",
    "int firstNumber = numbers.get(0);  \n",
    "int thirdNumber = numbers.get(2);  \n",
    "\n",
    "\n",
    "System.out.println(\"First number: \" + firstNumber);\n",
    "System.out.println(\"Third number: \" + thirdNumber);"
   ]
  },
  {
   "cell_type": "markdown",
   "metadata": {},
   "source": [
    "### Passing an `ArrayList` as a Method Parameter"
   ]
  },
  {
   "cell_type": "markdown",
   "metadata": {},
   "source": [
    "The only time that it is wise to use `ArrayList` instead of `ArrayList<E>` is when it is as a function parameter and it is only using `ArrayList<>.get(E)` or `ArrayList<>.size()`. Consider the following code:"
   ]
  },
  {
   "cell_type": "code",
   "execution_count": 8,
   "metadata": {
    "vscode": {
     "languageId": "java"
    }
   },
   "outputs": [
    {
     "name": "stdout",
     "output_type": "stream",
     "text": [
      "ArrayList Elements:\n",
      "Dog\n",
      "Cat\n",
      "Elephant\n"
     ]
    }
   ],
   "source": [
    "\n",
    "import java.util.ArrayList;\n",
    "\n",
    "public class Main {\n",
    "\n",
    "    public static void main(String[] args) {\n",
    "        // Create an ArrayList of strings\n",
    "        ArrayList<String> animals = new ArrayList<>();\n",
    "        animals.add(\"Dog\");\n",
    "        animals.add(\"Cat\");\n",
    "        animals.add(\"Elephant\");\n",
    "\n",
    "        printArrayList(animals);\n",
    "    }\n",
    "    \n",
    "    public static void printArrayList(ArrayList<String> list) {\n",
    "        System.out.println(\"ArrayList Elements:\");\n",
    "        for (String element : list) {\n",
    "            System.out.println(element);\n",
    "        }\n",
    "    }\n",
    "\n",
    "\n",
    "}\n",
    "\n",
    "Main.main(null);"
   ]
  },
  {
   "cell_type": "markdown",
   "metadata": {},
   "source": [
    "### Returning an `ArrayList` from a Method\n",
    "\n",
    "In order for you to return an `ArrayList`, the data type must be specified, and the return type must be the same as the return value. Consider the following code:"
   ]
  },
  {
   "cell_type": "code",
   "execution_count": 9,
   "metadata": {
    "vscode": {
     "languageId": "java"
    }
   },
   "outputs": [
    {
     "name": "stdout",
     "output_type": "stream",
     "text": [
      "Returned ArrayList: [Lion, Tiger, Elephant]\n"
     ]
    }
   ],
   "source": [
    "\n",
    "import java.util.ArrayList;\n",
    "\n",
    "public class Main {\n",
    "\n",
    "    public static ArrayList<String> createAnimalList() {\n",
    "        ArrayList<String> animals = new ArrayList<>();\n",
    "        animals.add(\"Lion\");\n",
    "        animals.add(\"Tiger\");\n",
    "        animals.add(\"Elephant\");\n",
    "        return animals;\n",
    "    }\n",
    "\n",
    "    public static void main(String[] args) {\n",
    "        ArrayList<String> animalList = createAnimalList();\n",
    "\n",
    "        System.out.println(\"Returned ArrayList: \" + animalList);\n",
    "    }\n",
    "}\n",
    "\n",
    "Main.main(null);"
   ]
  },
  {
   "cell_type": "markdown",
   "metadata": {},
   "source": [
    "# Hard Hack: **\"Simple Inventory Manager\"**\n",
    "\n",
    "### Problem Statement:\n",
    "\n",
    "You are building a basic inventory system using Java’s `ArrayList` to manage a list of items in a store. You will implement functions to add, update, delete, and view items in the inventory.\n",
    "\n",
    "**Starting Inventory**:  \n",
    "The inventory already contains the following items:\n",
    "- `\"Laptop\"`, `\"Mouse\"`, `\"Keyboard\"`\n",
    "\n",
    "Your task is to:\n",
    "1. **Add items** to the inventory.\n",
    "2. **Update an item** at a specific position in the inventory.\n",
    "3. **Delete an item** from the inventory.\n",
    "4. **View all the items** currently in the inventory.\n",
    "\n",
    "### Directions:\n",
    "\n",
    "1. **Create an `ArrayList`** called `inventory` that holds strings representing the items.\n",
    "2. **Implement the following methods**:\n",
    "    - `addItem(ArrayList<String> inventory, String item)`: Adds an item to the inventory.\n",
    "    - `updateItem(ArrayList<String> inventory, int index, String newItem)`: Updates the item at the specified index.\n",
    "    - `deleteItem(ArrayList<String> inventory, int index)`: Deletes the item at the specified index.\n",
    "    - `viewInventory(ArrayList<String> inventory)`: Displays all the items in the inventory.\n",
    "\n",
    "3. **In your `main()` method**:\n",
    "    - Initialize the `inventory` with the starting items.\n",
    "    - Add one new item to the inventory.\n",
    "    - Update the second item.\n",
    "    - Delete the third item.\n",
    "    - Display the final inventory.\n",
    "\n",
    "### Example Workflow:\n",
    "\n",
    "1. Start with the `inventory`: `[\"Laptop\", \"Mouse\", \"Keyboard\"]`.\n",
    "2. Add `\"Monitor\"`.\n",
    "3. Update `\"Mouse\"` to `\"Gaming Mouse\"`.\n",
    "4. Delete `\"Keyboard\"`.\n",
    "5. Display the final `inventory`.\n",
    "\n",
    "---\n",
    "\n",
    "### Expectations:\n",
    "\n",
    "- Ensure **valid index** when updating or deleting items (handle out-of-bounds indices).\n",
    "- Use the **`get()`, `set()`, `add()`, and `remove()`** methods to manage the `ArrayList`.\n",
    "- After all operations, print the final version of the `inventory` using `viewInventory()`.\n",
    "\n",
    "---"
   ]
  },
  {
   "cell_type": "markdown",
   "metadata": {},
   "source": [
    "### Starter Code"
   ]
  },
  {
   "cell_type": "code",
   "execution_count": 4,
   "metadata": {
    "vscode": {
     "languageId": "java"
    }
   },
   "outputs": [
    {
     "name": "stdout",
     "output_type": "stream",
     "text": [
      "\u001b[32mCurrent Inventory: [Laptop, Gaming Mouse, Monitor]\u001b[32m\n"
     ]
    }
   ],
   "source": [
    "import java.util.ArrayList;\n",
    "\n",
    "public class InventoryManager {\n",
    "\n",
    "    // Method to add an item to the inventory\n",
    "    public static void addItem(ArrayList<String> inventory, String item) {\n",
    "        inventory.add(item);\n",
    "    }\n",
    "\n",
    "    // Method to update an item at a specific index in the inventory\n",
    "    public static void updateItem(ArrayList<String> inventory, int index, String newItem) {\n",
    "        if (index >= 0 && index < inventory.size()) {\n",
    "            inventory.set(index, newItem);\n",
    "        } else {\n",
    "            System.out.println(\"Invalid index. Cannot update.\");\n",
    "        }\n",
    "    }\n",
    "\n",
    "    // Method to delete an item from the inventory\n",
    "    public static void deleteItem(ArrayList<String> inventory, int index) {\n",
    "        if (index >= 0 && index < inventory.size()) {\n",
    "            inventory.remove(index);\n",
    "        } else {\n",
    "            System.out.println(\"Invalid index. Cannot delete.\");\n",
    "        }\n",
    "    }\n",
    "\n",
    "    // Method to display all items in the inventory\n",
    "    public static void viewInventory(ArrayList<String> inventory) {\n",
    "        System.out.println(\"\\u001B[32m\" + \"Current Inventory: \" + inventory + \"\\u001B[32m\");\n",
    "    }\n",
    "\n",
    "    public static void main(String[] args) {\n",
    "        // Initialize the inventory with starting items\n",
    "        ArrayList<String> inventory = new ArrayList<>();\n",
    "        inventory.add(\"Laptop\");\n",
    "        inventory.add(\"Mouse\");\n",
    "        inventory.add(\"Keyboard\");\n",
    "\n",
    "        // Add a new item\n",
    "        addItem(inventory, \"Monitor\");\n",
    "\n",
    "        // Update the second item\n",
    "        updateItem(inventory, 1, \"Gaming Mouse\");\n",
    "\n",
    "        // Delete the third item\n",
    "        deleteItem(inventory, 2);\n",
    "\n",
    "        // View the final inventory\n",
    "        viewInventory(inventory);\n",
    "    }\n",
    "}\n",
    "\n",
    "InventoryManager.main(null);"
   ]
  },
  {
   "cell_type": "markdown",
   "metadata": {},
   "source": [
    "# Final Code"
   ]
  },
  {
   "cell_type": "code",
   "execution_count": 6,
   "metadata": {
    "vscode": {
     "languageId": "java"
    }
   },
   "outputs": [
    {
     "name": "stdout",
     "output_type": "stream",
     "text": [
      "Inventory: [Laptop, Gaming Mouse, Monitor]\n"
     ]
    }
   ],
   "source": [
    "import java.util.ArrayList;\n",
    "public class Inventory\n",
    "{\n",
    "    ArrayList<String> inventoryList = new ArrayList<String>();\n",
    "\n",
    "    public void updateItem(int index, String newItem)\n",
    "    {\n",
    "        if(index >= 0 && index < inventoryList.size())\n",
    "        {\n",
    "            inventoryList.set(index,newItem);\n",
    "        }\n",
    "    }\n",
    "\n",
    "    public void addItem(String item)\n",
    "    {\n",
    "        inventoryList.add(item);\n",
    "    }\n",
    "\n",
    "    public void removeItem(int index)\n",
    "    {\n",
    "        if(index >= 0 && index < inventoryList.size())\n",
    "        {\n",
    "            inventoryList.remove(index);\n",
    "        }\n",
    "    }\n",
    "\n",
    "    public ArrayList<String> viewInventory()\n",
    "    {\n",
    "        return inventoryList;\n",
    "    }\n",
    "  \n",
    "}\n",
    "\n",
    "public static void main(String[] args)\n",
    "{\n",
    "    Inventory inventory = new Inventory();\n",
    "    inventory.addItem(\"Laptop\");\n",
    "    inventory.addItem(\"Mouse\");\n",
    "    inventory.addItem(\"Keyboard\");\n",
    "    inventory.addItem(\"Monitor\");\n",
    "inventory.updateItem(1,\"Gaming Mouse\");\n",
    "inventory.removeItem(2);\n",
    "System.out.println(\"Inventory: \" + inventory.viewInventory());\n",
    "    \n",
    "}\n",
    "\n",
    "main(null);"
   ]
  }
 ],
 "metadata": {
  "kernelspec": {
   "display_name": "Java",
   "language": "java",
   "name": "java"
  },
  "language_info": {
   "codemirror_mode": "java",
   "file_extension": ".jshell",
   "mimetype": "text/x-java-source",
   "name": "Java",
   "pygments_lexer": "java",
   "version": "17.0.12+7-Ubuntu-1ubuntu222.04"
  }
 },
 "nbformat": 4,
 "nbformat_minor": 2
}
