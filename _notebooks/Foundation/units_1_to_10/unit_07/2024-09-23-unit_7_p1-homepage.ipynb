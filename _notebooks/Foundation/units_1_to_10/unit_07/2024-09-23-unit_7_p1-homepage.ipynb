{
 "cells": [
  {
   "cell_type": "markdown",
   "metadata": {
    "vscode": {
     "languageId": "raw"
    }
   },
   "source": [
    "---\n",
    "layout: post\n",
    "toc: true\n",
    "title: Unit 7 ArrayLists P1 \n",
    "description: ArrayLists Home Page\n",
    "authors: Aidan Lau, Saathvik Gampa, Sri Surapaneni, Tanav Kambhampati\n",
    "categories: [AP CSA]\n",
    "courses: {'csa': {'week': 6}}\n",
    "type: ccc\n",
    "permalink: /csa/unit7-p1/unit7-homepage\n",
    "---"
   ]
  },
  {
   "cell_type": "markdown",
   "metadata": {},
   "source": [
    "<style>\n",
    "    .unitHold\n",
    "    {\n",
    "    position: fixed;\n",
    "    top: 64px;\n",
    "    width: 100%;\n",
    "    height: 43px;\n",
    "    background-color: #353543;\n",
    "    left: 0px;\n",
    "    display: flex;\n",
    "    flex-direction: row;\n",
    "    flex-wrap: nowrap;\n",
    "    justify-content: space-evenly;\n",
    "    align-items: center;\n",
    "    }\n",
    "\n",
    "    .unitHold a\n",
    "    {\n",
    "    text-decoration: none;\n",
    "    color: #fabe28;\n",
    "    border-left: #fabe28 6px double;\n",
    "    border-right: #fabe28 6px double;\n",
    "    height: 100%;\n",
    "    display: flex;\n",
    "    align-items: center;\n",
    "    justify-content: center;\n",
    "    transition:all 1s;\n",
    "    }\n",
    "\n",
    "    .unitHold a:hover\n",
    "    {\n",
    "        padding-left:5px;\n",
    "        padding-right:5px;\n",
    "    }\n",
    "\n",
    "\n",
    "</style>\n",
    "\n",
    "<div class=\"unitHold\">\n",
    "<a href=\"{{site.baseurl}}/csa/unit7-p1/unit7-homepage\">Unit 7 Intro</a>\n",
    "<a href=\"{{site.baseurl}}/csa/unit7-p1/unit7-1\">Unit 7.1</a>\n",
    "<a href=\"{{site.baseurl}}/csa/unit7-p1/unit7-2\">Unit 7.2</a>\n",
    "<a href=\"{{site.baseurl}}/csa/unit7-p1/unit7-3\">Unit 7.3</a>\n",
    "<a href=\"{{site.baseurl}}/csa/unit7-p1/unit7-4\">Unit 7.4</a>\n",
    "<a href=\"{{site.baseurl}}/csa/unit7-p1/unit7-5\">Unit 7.5</a>\n",
    "<a href=\"{{site.baseurl}}/csa/unit7-p1/unit7-6\">Unit 7.6</a>\n",
    "<a href=\"{{site.baseurl}}/csa/unit7-p1/unit7-7\">Unit 7.7</a>\n",
    "</div>"
   ]
  },
  {
   "cell_type": "markdown",
   "metadata": {},
   "source": [
    "## AP Computer Science A - Unit 7 Home Page\n",
    "### Main Idea\n",
    "> ** ArrayLists are used to store data and algorithms and can be used to access, traverse, and sort through this data.**\n",
    "### Why ArrayLists?\n",
    "> ArrayLists don't have a fixed size like Arrays and we can add and remove items from them, making them more verstaile and having more functions\n",
    "### Key Topics:\n",
    "Topic 7.1 - Intro to Arraylists (Sri)\n",
    "Topic 7.2 - Methods with Arraylists (Sri & Saathvik)\n",
    "Topic 7.3 - Traversing ArrayLists (Tanav)\n",
    "Topic 7.4 - Developing Algorithms Using ArrayLists (Tanav)\n",
    "Topic 7.5 - Searching (Aidan)\n",
    "Topic 7.6 - Sorting (Aidan)\n",
    "Topic 7.7 - Ethical Issues Around Data Collection (Saathvik)\n",
    "### AP Exam Details\n",
    "- 2.5-7.5% of the test\n",
    "- 1 to 2 mc questions\n",
    "- Might be on an FRQ (making ArrayLists and ArrayList algorithms)\n",
    "\n",
    "<img width=\"318\" alt=\"Screenshot 2024-09-24 at 9 34 30 PM\" src=\"https://github.com/user-attachments/assets/b632ce82-0b07-4c0c-ae4c-a3b94e146f3c\">"
   ]
  }
 ],
 "metadata": {
  "language_info": {
   "name": "python"
  }
 },
 "nbformat": 4,
 "nbformat_minor": 2
}
