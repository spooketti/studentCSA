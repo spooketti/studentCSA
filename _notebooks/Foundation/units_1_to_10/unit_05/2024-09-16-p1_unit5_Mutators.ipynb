{
 "cells": [
  {
   "cell_type": "markdown",
   "metadata": {},
   "source": [
    "---\n",
    "layout: post\n",
    "title: Unit 5 Classes - Mutator Methods \n",
    "type: issues \n",
    "comments: true\n",
    "hide: true\n",
    "permalink: /csa/period1/unit5/mutators\n",
    "---"
   ]
  },
  {
   "cell_type": "markdown",
   "metadata": {},
   "source": [
    "<style>\n",
    "    .unitHold\n",
    "    {\n",
    "    position: fixed;\n",
    "    top: 64px;\n",
    "    width: 100%;\n",
    "    height: 43px;\n",
    "    background-color: #353543;\n",
    "    left: 0px;\n",
    "    display: flex;\n",
    "    flex-direction: row;\n",
    "    flex-wrap: nowrap;\n",
    "    justify-content: space-evenly;\n",
    "    align-items: center;\n",
    "    }\n",
    "\n",
    "    .unitHold a\n",
    "    {\n",
    "    text-decoration: none;\n",
    "    color: #fabe28;\n",
    "    border-left: #fabe28 6px double;\n",
    "    border-right: #fabe28 6px double;\n",
    "    height: 100%;\n",
    "    display: flex;\n",
    "    align-items: center;\n",
    "    justify-content: center;\n",
    "    transition:all 1s;\n",
    "    }\n",
    "\n",
    "    .unitHold a:hover\n",
    "    {\n",
    "        padding-left:5px;\n",
    "        padding-right:5px;\n",
    "    }\n",
    "\n",
    "\n",
    "</style>\n",
    "\n",
    "<div class=\"unitHold\">\n",
    "<a href=\"{{site.baseurl}}/csa/period1/unit5/intro\">Unit 5 Intro</a>\n",
    "<a href=\"{{site.baseurl}}/csa/period1/unit5/anatomy\">Anatomy</a>\n",
    "<a href=\"{{site.baseurl}}/csa/period1/unit5/constructors\">Constructors</a>\n",
    "<a href=\"{{site.baseurl}}/csa/period1/unit5/accessor\">Accessors</a>\n",
    "<a href=\"{{site.baseurl}}/csa/period1/unit5/mutators\">Mutators</a>\n",
    "<a href=\"{{site.baseurl}}/csa/period1/unit5/staticvariables\">Static Variables</a>\n",
    "<a href=\"{{site.baseurl}}/csa/period1/unit5/hw\">Unit 5 HW</a>\n",
    "</div>"
   ]
  },
  {
   "cell_type": "markdown",
   "metadata": {},
   "source": [
    "# Mutators/Setters\n",
    "Mutators are used to modify the attribute of an object. They are typically public methods to allow external code to modify the object state.\n",
    "### Naming & Parameters\n",
    "Mutators are named in the setBlank syntax where \"Blank\" is the name of the field you want to modify. Mutators, like other methods in Java, take one or more parameters. \n",
    "\n",
    "### Return Type\n",
    "Since mutators are type void as they do not return a value but rather they modify the object's state.\n",
    "\n",
    "### Validation\n",
    "Mutators often include validation logic to ensure that the new values are being set within acceptable bounds. An example of validation being used with mutators can be seen with the setSpeed mutator that doesn't allow negative values. "
   ]
  },
  {
   "cell_type": "markdown",
   "metadata": {},
   "source": [
    "![Mutators Diagram]( https://www.cs.emory.edu/~cheung/Courses/171/Syllabus/03-classes/FIGS/immutable01d.png)"
   ]
  },
  {
   "cell_type": "markdown",
   "metadata": {},
   "source": [
    "## Lets take a look at an example!\n",
    "This example discusses showcases some of the most vital use cases for mutators"
   ]
  },
  {
   "cell_type": "code",
   "execution_count": 13,
   "metadata": {
    "vscode": {
     "languageId": "java"
    }
   },
   "outputs": [
    {
     "name": "stdout",
     "output_type": "stream",
     "text": [
      "Brand: Honda\n",
      "Model: Civic\n",
      "Speed: 100 mph\n",
      "Brand: Rolls Royce\n",
      "Model: Phantom\n",
      "Speed: 150 mph\n",
      "Speed cannot be negative.\n"
     ]
    }
   ],
   "source": [
    "// A class representing a Car with attributes like make, model, and speed.\n",
    "public class Car {\n",
    "    private String brand;\n",
    "    private String model;\n",
    "    private int speed;\n",
    "\n",
    "    // Constructor to initialize attributes\n",
    "    public Car(String brand, String model, int speed) {\n",
    "        this.brand = brand;\n",
    "        this.model = model;\n",
    "        if (speed >= 0) {  \n",
    "            this.speed = speed;\n",
    "        } else {\n",
    "            System.out.println(\"Speed cannot be negative, setting speed to 0.\");\n",
    "            this.speed = 0;\n",
    "        }\n",
    "    }\n",
    "    //Mutators \n",
    "    public void setBrand(String brand) {\n",
    "        this.brand = brand;\n",
    "    }\n",
    "    public void setModel(String model) {\n",
    "        this.model = model;\n",
    "    }\n",
    "    public void setSpeed(int speed) {\n",
    "        if (speed >= 0) { //Validation so speed is not negative\n",
    "            this.speed = speed;\n",
    "        } else {\n",
    "            System.out.println(\"Speed cannot be negative.\");\n",
    "        }\n",
    "    }\n",
    "    // Display car details\n",
    "    public void displayCarInfo() {\n",
    "        System.out.println(\"Brand: \" + brand);\n",
    "        System.out.println(\"Model: \" + model);\n",
    "        System.out.println(\"Speed: \" + speed + \" mph\");\n",
    "    }\n",
    "}\n",
    "Car myCar = new Car(\"Honda\", \"Civic\", 100);\n",
    "myCar.displayCarInfo();\n",
    "\n",
    "// Modifying attributes mutators\n",
    "myCar.setSpeed(150);\n",
    "myCar.setBrand(\"Rolls Royce\");\n",
    "myCar.setModel(\"Phantom\");\n",
    "myCar.displayCarInfo();\n",
    "\n",
    "//Testing Validation with invalid value (Should trigger warning)\n",
    "myCar.setSpeed(-50); "
   ]
  },
  {
   "cell_type": "markdown",
   "metadata": {},
   "source": [
    "## Popcorn Hack\n",
    "\n",
    "### 1. Create a Class\n",
    "Define a class Person with private fields: String name, int age, and double height. This is done for you.\n",
    "### 2. Create Mutators\n",
    "Write mutator methods setName(String name), setAge(int age) (with validation for non-negative age), and setHeight(double height) (with validation for non-negative height).\n",
    "### 3. Write a Constructor\n",
    "Create a constructor that initializes name, age, and height with provided values.\n",
    "### 4. Test the Mutators\n",
    "In the main method, create a Person object, modify its fields using the mutators, and print the details after each modification."
   ]
  },
  {
   "cell_type": "code",
   "execution_count": 1,
   "metadata": {
    "vscode": {
     "languageId": "java"
    }
   },
   "outputs": [
    {
     "name": "stdout",
     "output_type": "stream",
     "text": [
      "Name: Jimmy Height: 50.0 Age: 10\n"
     ]
    }
   ],
   "source": [
    "public class Person {\n",
    "    // Private fields\n",
    "    private String name;\n",
    "    private int age;\n",
    "    private double height;\n",
    "\n",
    "    public Person(String name, int age, double height)\n",
    "    {\n",
    "        setName(name);\n",
    "        setAge(age);\n",
    "        setHeight(height);\n",
    "    }\n",
    "\n",
    "    public void setName(String name)\n",
    "    {\n",
    "        this.name = name;\n",
    "    }\n",
    "\n",
    "    public void setAge(int age)\n",
    "    {\n",
    "        if(age >= 0)\n",
    "        {\n",
    "            this.age = age;\n",
    "        }\n",
    "    }\n",
    "\n",
    "    public void setHeight(double height)\n",
    "    {\n",
    "        if(height >= 0)\n",
    "        {\n",
    "            this.height = height;\n",
    "        }\n",
    "    }\n",
    "\n",
    "    public String getInfo()\n",
    "    {\n",
    "        return (\"Name: \" + name + \" Height: \"+ height + \" Age: \" + age);\n",
    "    }\n",
    "}\n",
    "\n",
    "Person person = new Person(\"Mr Person\", 30, 50.6);\n",
    "person.setHeight(50);\n",
    "person.setName(\"Jimmy\");\n",
    "person.setAge(10);\n",
    "System.out.println(person.getInfo());\n"
   ]
  }
 ],
 "metadata": {
  "kernelspec": {
   "display_name": "Java",
   "language": "java",
   "name": "java"
  },
  "language_info": {
   "codemirror_mode": "java",
   "file_extension": ".jshell",
   "mimetype": "text/x-java-source",
   "name": "Java",
   "pygments_lexer": "java",
   "version": "17.0.12+7-Ubuntu-1ubuntu222.04"
  }
 },
 "nbformat": 4,
 "nbformat_minor": 2
}
