{
 "cells": [
  {
   "cell_type": "markdown",
   "metadata": {},
   "source": [
    "---\n",
    "layout: post\n",
    "title: Unit 5 Classes - Static Variables\n",
    "type: issues \n",
    "comments: true\n",
    "hide: true\n",
    "permalink: csa/period1/unit5/staticvariables\n",
    "---"
   ]
  },
  {
   "cell_type": "markdown",
   "metadata": {},
   "source": [
    "<style>\n",
    "    .unitHold\n",
    "    {\n",
    "    position: fixed;\n",
    "    top: 64px;\n",
    "    width: 100%;\n",
    "    height: 43px;\n",
    "    background-color: #353543;\n",
    "    left: 0px;\n",
    "    display: flex;\n",
    "    flex-direction: row;\n",
    "    flex-wrap: nowrap;\n",
    "    justify-content: space-evenly;\n",
    "    align-items: center;\n",
    "    }\n",
    "\n",
    "    .unitHold a\n",
    "    {\n",
    "    text-decoration: none;\n",
    "    color: #fabe28;\n",
    "    border-left: #fabe28 6px double;\n",
    "    border-right: #fabe28 6px double;\n",
    "    height: 100%;\n",
    "    display: flex;\n",
    "    align-items: center;\n",
    "    justify-content: center;\n",
    "    transition:all 1s;\n",
    "    }\n",
    "\n",
    "    .unitHold a:hover\n",
    "    {\n",
    "        padding-left:5px;\n",
    "        padding-right:5px;\n",
    "    }\n",
    "\n",
    "\n",
    "</style>\n",
    "\n",
    "<div class=\"unitHold\">\n",
    "<a href=\"{{site.baseurl}}/csa/period1/unit5/intro\">Unit 5 Intro</a>\n",
    "<a href=\"{{site.baseurl}}/csa/period1/unit5/anatomy\">Anatomy</a>\n",
    "<a href=\"{{site.baseurl}}/csa/period1/unit5/constructors\">Constructors</a>\n",
    "<a href=\"{{site.baseurl}}/csa/period1/unit5/accessor\">Accessors</a>\n",
    "<a href=\"{{site.baseurl}}/csa/period1/unit5/mutators\">Mutators</a>\n",
    "<a href=\"{{site.baseurl}}/csa/period1/unit5/staticvariables\">Static Variables</a>\n",
    "<a href=\"{{site.baseurl}}/csa/period1/unit5/hw\">Unit 5 HW</a>\n",
    "</div>"
   ]
  },
  {
   "cell_type": "markdown",
   "metadata": {},
   "source": [
    "# Static Variables\n",
    "This notebook will explain what static variables are, how they differ from instance variables, and provide examples, including a mini-project with broken code to fix."
   ]
  },
  {
   "cell_type": "markdown",
   "metadata": {},
   "source": [
    "## 1. Introduction to Static Variables\n",
    "- Static variables belong to the class rather than any particular instance. They are shared across all instances of the class.\n",
    "- Example:\n",
    "\n",
    "\n",
    "\n"
   ]
  },
  {
   "cell_type": "code",
   "execution_count": null,
   "metadata": {
    "vscode": {
     "languageId": "java"
    }
   },
   "outputs": [],
   "source": [
    "public class BankAccount {\n",
    "    // Static variable\n",
    "    static double interestRate = 0.03;\n",
    "\n",
    "    // Instance variable\n",
    "    double balance;\n",
    "\n",
    "    // Constructor\n",
    "    public BankAccount(double balance) {\n",
    "        this.balance = balance;\n",
    "    }\n",
    "\n",
    "    // Static method\n",
    "    static void setInterestRate(double newRate) {\n",
    "        interestRate = newRate;\n",
    "    }\n",
    "}"
   ]
  },
  {
   "cell_type": "markdown",
   "metadata": {},
   "source": [
    "In this `BankAccount` class, `interestRate` is a static variable shared by all instances, and `setInterestRate()` is a static method that updates this variable."
   ]
  },
  {
   "cell_type": "markdown",
   "metadata": {},
   "source": [
    "## 2. Defining Static Variables\n",
    "- Static variables are defined using the `static` keyword and accessed using the class name.\n",
    "- Example:\n",
    "\n",
    "\n",
    "\n"
   ]
  },
  {
   "cell_type": "code",
   "execution_count": null,
   "metadata": {
    "vscode": {
     "languageId": "java"
    }
   },
   "outputs": [],
   "source": [
    "public class Student {\n",
    "    // Static variable\n",
    "    static String schoolName = \"XYZ School\";\n",
    "\n",
    "    // Instance variable\n",
    "    String name;\n",
    "\n",
    "    // Constructor\n",
    "    public Student(String name) {\n",
    "        this.name = name;\n",
    "    }\n",
    "}\n",
    "\n",
    "// Accessing static variable\n",
    "System.out.println(Student.schoolName);"
   ]
  },
  {
   "cell_type": "markdown",
   "metadata": {},
   "source": [
    "Here, `schoolName` is a static variable shared by all `Student` instances."
   ]
  },
  {
   "cell_type": "markdown",
   "metadata": {},
   "source": [
    "## 3. Static Methods\n",
    "- Static methods can access static variables but cannot access instance variables directly.\n",
    "- Example:\n",
    "\n",
    "\n",
    "\n"
   ]
  },
  {
   "cell_type": "code",
   "execution_count": null,
   "metadata": {
    "vscode": {
     "languageId": "java"
    }
   },
   "outputs": [],
   "source": [
    "public class BankAccount {\n",
    "    static double interestRate = 0.03;\n",
    "\n",
    "    static void updateInterestRate(double newRate) {\n",
    "        interestRate = newRate;\n",
    "    }\n",
    "}\n",
    "\n",
    "// Using static method\n",
    "BankAccount.updateInterestRate(0.04);"
   ]
  },
  {
   "cell_type": "markdown",
   "metadata": {},
   "source": [
    "The `updateInterestRate` method updates the static variable `interestRate`."
   ]
  },
  {
   "cell_type": "markdown",
   "metadata": {},
   "source": [
    "## 4. Mini Project: Fix the Code\n",
    "- Below is a class with broken code. The goal is to fix the class so it correctly implements and accesses static variables and methods.\n",
    "- Broken code:\n",
    "\n"
   ]
  },
  {
   "cell_type": "code",
   "execution_count": 3,
   "metadata": {
    "vscode": {
     "languageId": "java"
    }
   },
   "outputs": [
    {
     "name": "stdout",
     "output_type": "stream",
     "text": [
      "1\n",
      "1\n"
     ]
    }
   ],
   "source": [
    "\n",
    "public class Vehicle {\n",
    "    static int count = 0;\n",
    "\n",
    "    // Constructor\n",
    "    public Vehicle() {\n",
    "        count = count + 1;\n",
    "    }\n",
    "\n",
    "    public static int getCount()\n",
    "    {\n",
    "        return count;\n",
    "    }\n",
    "\n",
    "    // Method\n",
    "    public static void displayCount() {\n",
    "        System.out.println(count);\n",
    "    }\n",
    "}\n",
    "\n",
    "Vehicle vehicle = new Vehicle();\n",
    "vehicle.displayCount();\n",
    "System.out.println(vehicle.getCount());"
   ]
  },
  {
   "cell_type": "markdown",
   "metadata": {},
   "source": [
    "- **Task**: Debug the `Vehicle` class to ensure `count` is properly incremented and displayed. Consider how `displayCount()` should be modified if `count` is a static variable."
   ]
  }
 ],
 "metadata": {
  "kernelspec": {
   "display_name": "Java",
   "language": "java",
   "name": "java"
  },
  "language_info": {
   "codemirror_mode": "java",
   "file_extension": ".jshell",
   "mimetype": "text/x-java-source",
   "name": "Java",
   "pygments_lexer": "java",
   "version": "17.0.12+7-Ubuntu-1ubuntu222.04"
  }
 },
 "nbformat": 4,
 "nbformat_minor": 2
}
