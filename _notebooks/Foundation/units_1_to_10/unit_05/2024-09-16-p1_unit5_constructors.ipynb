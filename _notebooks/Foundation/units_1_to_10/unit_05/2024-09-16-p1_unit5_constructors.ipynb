{
 "cells": [
  {
   "cell_type": "markdown",
   "metadata": {},
   "source": [
    "---\n",
    "layout: post\n",
    "title: Unit 5 Classes - Constructors\n",
    "type: issues \n",
    "comments: true\n",
    "hide: true\n",
    "permalink: /csa/period1/unit5/constructors\n",
    "---"
   ]
  },
  {
   "cell_type": "markdown",
   "metadata": {},
   "source": [
    "# Introduction to Constructors in Java\n",
    "\n",
    "## What are Constructors?\n",
    "\n",
    "In Java, a constructor is a special method used to initialize objects. The constructor is called when an object of a class is created. It has the same name as the class and does not return any value, not even `void`.\n",
    "\n",
    "### Key Points:\n",
    "- **Same name as class**: The constructor must have the same name as the class.\n",
    "- **No return type**: Constructors do not return any value.\n",
    "- **Used to initialize objects**: They set initial values for object attributes."
   ]
  },
  {
   "cell_type": "markdown",
   "metadata": {},
   "source": [
    "## Types of Constructors\n",
    "\n",
    "![TypesofConstructors](https://blogger.googleusercontent.com/img/b/R29vZ2xl/AVvXsEh97RjJAncaxhFZGTwEv6054QSXp4LoRPF8BptqAGfuAy-ZmZZ0M5xtVQoqfqv5K9x_999u74zBDkxWzEHBAONyfPPOlFKD8cViqWU2okToQXExlqEK3tH5MnI2VnvlV3rNKjV7nQbsj6E/s1600/constructor+in+java.png)\n",
    "\n",
    "### 1. Default Constructor:\n",
    "A constructor that does not accept any parameters. Java provides a default constructor if you don't define any.\n"
   ]
  },
  {
   "cell_type": "code",
   "execution_count": 14,
   "metadata": {},
   "outputs": [
    {
     "name": "stdout",
     "output_type": "stream",
     "text": [
      "Unknown\n"
     ]
    }
   ],
   "source": [
    "class Car {\n",
    "    String brand;\n",
    "    \n",
    "    // Default constructor\n",
    "    Car() {\n",
    "        brand = \"Unknown\";\n",
    "    }\n",
    "}\n",
    "\n",
    "Car myCar = new Car();\n",
    "System.out.println(myCar.brand);  // Outputs: Unknown"
   ]
  },
  {
   "cell_type": "markdown",
   "metadata": {},
   "source": [
    "### 2. Parameterized Constructor:\n",
    "A constructor that takes parameters to initialize object attributes with custom values."
   ]
  },
  {
   "cell_type": "code",
   "execution_count": 13,
   "metadata": {},
   "outputs": [
    {
     "name": "stdout",
     "output_type": "stream",
     "text": [
      "Toyota\n"
     ]
    }
   ],
   "source": [
    "class Car {\n",
    "    String brand;\n",
    "\n",
    "    // Parameterized constructor\n",
    "    Car(String b) {\n",
    "        brand = b;\n",
    "    }\n",
    "}\n",
    "\n",
    "Car myCar = new Car(\"Toyota\");\n",
    "System.out.println(myCar.brand);  // Outputs: Toyota"
   ]
  },
  {
   "cell_type": "markdown",
   "metadata": {},
   "source": [
    "### 3. **Constructor Overloading**\n",
    "\n",
    "\n",
    "## Constructor Overloading\n",
    "\n",
    "In Java, you can have more than one constructor in a class. This is known as constructor overloading. Each constructor must have a different parameter list.\n",
    "\n",
    "\n"
   ]
  },
  {
   "cell_type": "code",
   "execution_count": 15,
   "metadata": {},
   "outputs": [
    {
     "name": "stdout",
     "output_type": "stream",
     "text": [
      "Unknown 0\n",
      "Ford 2020\n"
     ]
    }
   ],
   "source": [
    "class Car {\n",
    "    String brand;\n",
    "    int year;\n",
    "\n",
    "    // Default constructor\n",
    "    Car() {\n",
    "        brand = \"Unknown\";\n",
    "        year = 0;\n",
    "    }\n",
    "\n",
    "    // Parameterized constructor\n",
    "    Car(String b, int y) {\n",
    "        brand = b;\n",
    "        year = y;\n",
    "    }\n",
    "}\n",
    "Car car1 = new Car();\n",
    "Car car2 = new Car(\"Ford\", 2020);\n",
    "System.out.println(car1.brand + \" \" + car1.year);  // Outputs: Unknown 0\n",
    "System.out.println(car2.brand + \" \" + car2.year);  // Outputs: Ford 2020"
   ]
  },
  {
   "cell_type": "markdown",
   "metadata": {},
   "source": [
    "![Constructors Diagram](https://runestone.academy/ns/books/published/csjava/_images/TurtleClassDefn.png)"
   ]
  },
  {
   "cell_type": "markdown",
   "metadata": {},
   "source": [
    "# Escape Room: Constructor Puzzle\n",
    "\n",
    "You're trapped in a room and the only way out is to unlock a door using your Java constructor knowledge!\n",
    "\n",
    "### Rules:\n",
    "- Each clue is a code snippet related to constructors. Solve the problems to reveal the next clue.\n",
    "- Once you complete all tasks, you will receive the \"escape\" message.\n",
    "\n",
    "### Clue 1: \n",
    "The constructor below is missing a key part. Complete the code so that it runs correctly.\n",
    "\n"
   ]
  },
  {
   "cell_type": "code",
   "execution_count": 1,
   "metadata": {},
   "outputs": [
    {
     "name": "stdout",
     "output_type": "stream",
     "text": [
      "1234\n"
     ]
    }
   ],
   "source": [
    "// CLUE  1 \n",
    "\n",
    "class Door {\n",
    "    String lockCode;\n",
    "\n",
    "    // Add the correct constructor here\n",
    "    Door(String lock) {\n",
    "        // Constructor body\n",
    "        lockCode = lock;\n",
    "    }\n",
    "}\n",
    "\n",
    "\n",
    "Door escapeDoor = new Door(\"1234\");\n",
    "System.out.println(escapeDoor.lockCode);  // Should print: 1234\n"
   ]
  },
  {
   "cell_type": "code",
   "execution_count": 2,
   "metadata": {},
   "outputs": [
    {
     "name": "stdout",
     "output_type": "stream",
     "text": [
      "Room: Puzzle Room, Area: 500\n"
     ]
    }
   ],
   "source": [
    "//CLUE 2\n",
    "\n",
    "class Room {\n",
    "    String name;\n",
    "    int area;\n",
    "\n",
    "    // Constructor 1\n",
    "    Room(String name) {\n",
    "        this.name = name;\n",
    "    }\n",
    "\n",
    "    // Constructor 2 (missing)\n",
    "    Room(String name, int area) {\n",
    "        // Complete this constructor\n",
    "        // Hint: Use the 'this' keyword\n",
    "        this.name = name;\n",
    "        this.area = area;\n",
    "    }\n",
    "}\n",
    "\n",
    "Room escapeRoom = new Room(\"Puzzle Room\", 500);\n",
    "System.out.println(\"Room: \" + escapeRoom.name + \", Area: \" + escapeRoom.area);  \n",
    "// Should print: Room: Puzzle Room, Area: 500\n"
   ]
  },
  {
   "cell_type": "code",
   "execution_count": 3,
   "metadata": {},
   "outputs": [
    {
     "name": "stdout",
     "output_type": "stream",
     "text": [
      "Default Key: Unknown\n",
      "Custom Key: Golden Key\n"
     ]
    }
   ],
   "source": [
    "//CLUE 3\n",
    "class Key {\n",
    "    String keyType;\n",
    "\n",
    "    // Default constructor (to be completed)\n",
    "    Key() {\n",
    "        // Hint: Initialize keyType to a default value, e.g., \"Unknown\"\n",
    "        keyType = \"Unknown\";\n",
    "    }\n",
    "\n",
    "    // Parameterized constructor\n",
    "    Key(String keyType) {\n",
    "        this.keyType = keyType;\n",
    "    }\n",
    "}\n",
    "\n",
    "Key defaultKey = new Key();\n",
    "Key customKey = new Key(\"Golden Key\");\n",
    "\n",
    "System.out.println(\"Default Key: \" + defaultKey.keyType);  // Should print: Unknown\n",
    "System.out.println(\"Custom Key: \" + customKey.keyType);    // Should print: Golden Key\n"
   ]
  },
  {
   "cell_type": "code",
   "execution_count": 4,
   "metadata": {},
   "outputs": [
    {
     "name": "stdout",
     "output_type": "stream",
     "text": [
      "Vault Code: X1Y2Z3, Is Locked: true\n"
     ]
    }
   ],
   "source": [
    "//CLUE 4\n",
    "class Vault {\n",
    "    String vaultCode;\n",
    "    boolean isLocked;\n",
    "\n",
    "    // Constructor (Fix it)\n",
    "    Vault(String code, Boolean lockStatus) {\n",
    "        this.vaultCode = code;\n",
    "        this.isLocked = lockStatus;\n",
    "    }\n",
    "}\n",
    "\n",
    "Vault secretVault = new Vault(\"X1Y2Z3\", true);\n",
    "System.out.println(\"Vault Code: \" + secretVault.vaultCode + \", Is Locked: \" + secretVault.isLocked);\n",
    "// Should print: Vault Code: X1Y2Z3, Is Locked: true"
   ]
  },
  {
   "cell_type": "code",
   "execution_count": null,
   "metadata": {},
   "outputs": [],
   "source": [
    "//CLUE 5\n",
    "class Safe {\n",
    "    String safeName;\n",
    "    int capacity;\n",
    "\n",
    "    // Default constructor (to be written)\n",
    "    Safe() {\n",
    "        // Initialize safeName to \"Unknown\" and capacity to 100\n",
    "    }\n",
    "\n",
    "    // Parameterized constructor (already complete)\n",
    "    Safe(String name, int cap) {\n",
    "        safeName = name;\n",
    "        capacity = cap;\n",
    "    }\n",
    "}\n",
    "\n",
    "Safe defaultSafe = new Safe();\n",
    "Safe customSafe = new Safe(\"Treasure Safe\", 1000);\n",
    "System.out.println(defaultSafe.safeName + \" \" + defaultSafe.capacity); // Outputs: Unknown 100\n",
    "System.out.println(customSafe.safeName + \" \" + customSafe.capacity);  // Outputs: Treasure Safe 1000"
   ]
  },
  {
   "cell_type": "code",
   "execution_count": null,
   "metadata": {},
   "outputs": [],
   "source": [
    "//CLUE 6\n",
    "class Box {\n",
    "    String color;\n",
    "    int weight;\n",
    "\n",
    "    // Constructor (with mistake)\n",
    "    Box(String color, int w) {\n",
    "        this.color = color;\n",
    "        weight = w;\n",
    "    }\n",
    "}\n",
    "\n",
    "Box myBox = new Box(\"Red\", 50);\n",
    "System.out.println(\"Box Color: \" + myBox.color + \", Weight: \" + myBox.weight);\n",
    "// Should print: Box Color: Red, Weight: 50"
   ]
  },
  {
   "cell_type": "code",
   "execution_count": null,
   "metadata": {},
   "outputs": [],
   "source": [
    "//FINAL CLUE\n",
    "class TreasureChest {\n",
    "    String chestType;\n",
    "    int goldCoins;\n",
    "    boolean isLocked;\n",
    "\n",
    "    // Constructor 1: No parameters (use constructor chaining to call Constructor 2)\n",
    "    TreasureChest() {\n",
    "        // Call Constructor 2 with default values \"Wooden\", 50, true\n",
    "    }\n",
    "\n",
    "    // Constructor 2: Takes all parameters\n",
    "    TreasureChest(String type, int coins, boolean locked) {\n",
    "        chestType = type;\n",
    "        goldCoins = coins;\n",
    "        isLocked = locked;\n",
    "    }\n",
    "\n",
    "    // Constructor 3: Takes only type and coins, defaults 'isLocked' to true\n",
    "    TreasureChest(String type, int coins) {\n",
    "        // Use constructor chaining to call Constructor 2 with true as the 'isLocked' value\n",
    "    }\n",
    "\n",
    "    // Constructor 4: Takes only the number of coins and defaults type to \"Wooden\" and isLocked to false\n",
    "    TreasureChest(int coins) {\n",
    "        // Call Constructor 2 using \"Wooden\", coins, and false as values\n",
    "    }\n",
    "\n",
    "    // Print method to check the values\n",
    "    void printChestInfo() {\n",
    "        System.out.println(\"Chest Type: \" + chestType + \", Gold Coins: \" + goldCoins + \", Is Locked: \" + isLocked);\n",
    "    }\n",
    "}\n",
    "\n",
    "public class EscapeRoom {\n",
    "    public static void main(String[] args) {\n",
    "        // Test the different constructors by creating different objects\n",
    "        TreasureChest chest1 = new TreasureChest();\n",
    "        TreasureChest chest2 = new TreasureChest(\"Golden\", 100);\n",
    "        TreasureChest chest3 = new TreasureChest(200);\n",
    "\n",
    "        // Print information to check if everything works correctly\n",
    "        chest1.printChestInfo();  // Should print: Wooden, 50, true\n",
    "        chest2.printChestInfo();  // Should print: Golden, 100, true\n",
    "        chest3.printChestInfo();  // Should print: Wooden, 200, false\n",
    "\n",
    "        // Escape message when code is correctly fixed\n",
    "        if (chest1 != null && chest2 != null && chest3 != null) {\n",
    "            System.out.println(\"You have successfully escaped!\");\n",
    "        }\n",
    "    }\n",
    "}"
   ]
  },
  {
   "cell_type": "markdown",
   "metadata": {},
   "source": [
    "# HINT: \n",
    "\n",
    "    1. Constructor chaining: You must properly use this() to chain constructors and avoid code duplication.\n",
    "\t2.\tCalling another constructor from a constructor: Ensure that each constructor calls the correct constructor with default or passed values.\n",
    "\t3.\tInitialize all fields properly: Ensure that every TreasureChest object is initialized with the correct values based on the constructor called."
   ]
  }
 ],
 "metadata": {
  "kernelspec": {
   "display_name": "Java",
   "language": "java",
   "name": "java"
  },
  "language_info": {
   "codemirror_mode": "java",
   "file_extension": ".jshell",
   "mimetype": "text/x-java-source",
   "name": "java",
   "pygments_lexer": "java",
   "version": "17.0.12+7-Ubuntu-1ubuntu222.04"
  }
 },
 "nbformat": 4,
 "nbformat_minor": 2
}
