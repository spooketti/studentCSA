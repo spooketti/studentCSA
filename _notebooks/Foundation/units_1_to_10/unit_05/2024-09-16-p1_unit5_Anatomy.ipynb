{
 "cells": [
  {
   "cell_type": "markdown",
   "metadata": {},
   "source": [
    "---\n",
    "layout: post\n",
    "title: Unit 5 Anatomy of a Class(Period 1)\n",
    "comments: true\n",
    "hide: true\n",
    "permalink: /csa/period1/unit5/anatomy\n",
    "---"
   ]
  },
  {
   "cell_type": "markdown",
   "metadata": {},
   "source": [
    "<style>\n",
    "    .unitHold\n",
    "    {\n",
    "    position: fixed;\n",
    "    top: 64px;\n",
    "    width: 100%;\n",
    "    height: 43px;\n",
    "    background-color: #353543;\n",
    "    left: 0px;\n",
    "    display: flex;\n",
    "    flex-direction: row;\n",
    "    flex-wrap: nowrap;\n",
    "    justify-content: space-evenly;\n",
    "    align-items: center;\n",
    "    }\n",
    "\n",
    "    .unitHold a\n",
    "    {\n",
    "    text-decoration: none;\n",
    "    color: #fabe28;\n",
    "    border-left: #fabe28 6px double;\n",
    "    border-right: #fabe28 6px double;\n",
    "    height: 100%;\n",
    "    display: flex;\n",
    "    align-items: center;\n",
    "    justify-content: center;\n",
    "    transition:all 1s;\n",
    "    }\n",
    "\n",
    "    .unitHold a:hover\n",
    "    {\n",
    "        padding-left:5px;\n",
    "        padding-right:5px;\n",
    "    }\n",
    "\n",
    "\n",
    "</style>\n",
    "\n",
    "<div class=\"unitHold\">\n",
    "<a href=\"{{site.baseurl}}/csa/period1/unit5/intro\">Unit 5 Intro</a>\n",
    "<a href=\"{{site.baseurl}}/csa/period1/unit5/anatomy\">Anatomy</a>\n",
    "<a href=\"{{site.baseurl}}/csa/period1/unit5/constructors\">Constructors</a>\n",
    "<a href=\"{{site.baseurl}}/csa/period1/unit5/accessor\">Accessors</a>\n",
    "<a href=\"{{site.baseurl}}/csa/period1/unit5/mutators\">Mutators</a>\n",
    "<a href=\"{{site.baseurl}}/csa/period1/unit5/staticvariables\">Static Variables</a>\n",
    "<a href=\"{{site.baseurl}}/csa/period1/unit5/hw\">Unit 5 HW</a>\n",
    "</div>"
   ]
  },
  {
   "cell_type": "markdown",
   "metadata": {},
   "source": [
    "# Anatomy of a Class\n",
    "This notebook will explain the structure of a class in Java, including attributes, methods, and instantiation. It will also include examples and a mini-project that requires fixing broken code."
   ]
  },
  {
   "cell_type": "markdown",
   "metadata": {},
   "source": [
    "![Class Anatomy Diagram](https://jordanblakey.github.io/all_development_notes_2015-2017/Learning%20Java_files/Image.png)"
   ]
  },
  {
   "cell_type": "markdown",
   "metadata": {},
   "source": [
    "## 1. Introduction to Classes\n",
    "- A class in Java is a blueprint for creating objects. It defines a data structure that includes methods and attributes.\n",
    "- Example:\n",
    "\n",
    "\n"
   ]
  },
  {
   "cell_type": "code",
   "execution_count": null,
   "metadata": {},
   "outputs": [],
   "source": [
    "public class Car {\n",
    "    // Attributes\n",
    "    String model;\n",
    "    int year;\n",
    "\n",
    "    // Method\n",
    "    void drive() {\n",
    "        System.out.println(\"Driving the car.\");\n",
    "    }\n",
    "}\n"
   ]
  },
  {
   "cell_type": "markdown",
   "metadata": {},
   "source": [
    "This `Car` class has attributes `model` and `year`, and a method `drive()` that prints a message."
   ]
  },
  {
   "cell_type": "markdown",
   "metadata": {},
   "source": [
    "## 2. Attributes and Methods\n",
    "- Attributes (or fields) are variables that belong to an object.\n",
    "- Methods are functions that belong to a class.\n",
    "- Example:\n",
    "\n"
   ]
  },
  {
   "cell_type": "code",
   "execution_count": null,
   "metadata": {},
   "outputs": [],
   "source": [
    "\n",
    "public class Person {\n",
    "    // Attributes\n",
    "    String name;\n",
    "    int age;\n",
    "\n",
    "    // Method\n",
    "    void greet() {\n",
    "        System.out.println(\"Hello, my name is \" + name);\n",
    "    }\n",
    "}"
   ]
  },
  {
   "cell_type": "markdown",
   "metadata": {},
   "source": [
    "In this `Person` class, `name` and `age` are attributes, and `greet()` is a method."
   ]
  },
  {
   "cell_type": "markdown",
   "metadata": {},
   "source": [
    "## 3. Constructor\n",
    "- Constructors are special methods used to initialize objects.\n",
    "- They have the same name as the class and do not have a return type.\n",
    "- Example:\n",
    "\n",
    "\n"
   ]
  },
  {
   "cell_type": "code",
   "execution_count": 6,
   "metadata": {},
   "outputs": [],
   "source": [
    "public class Person {\n",
    "    String name;\n",
    "    int age;\n",
    "\n",
    "    // Constructor\n",
    "    public Person(String name, int age) {\n",
    "        this.name = name;\n",
    "        this.age = age;\n",
    "    }\n",
    "\n",
    "    void greet() {\n",
    "        System.out.println(\"Hello, my name is \" + name);\n",
    "    }\n",
    "}\n"
   ]
  },
  {
   "cell_type": "markdown",
   "metadata": {},
   "source": [
    "This `Person` class includes a constructor to initialize `name` and `age`."
   ]
  },
  {
   "cell_type": "markdown",
   "metadata": {},
   "source": [
    "## 4. Class vs. Instance Variables\n",
    "- **Instance variables** are attributes specific to each object.\n",
    "- **Class variables** (static variables) are shared among all instances of the class.\n",
    "- Example:\n",
    "\n",
    "\n"
   ]
  },
  {
   "cell_type": "code",
   "execution_count": 1,
   "metadata": {},
   "outputs": [
    {
     "name": "stdout",
     "output_type": "stream",
     "text": [
      "MortCar\n",
      "1995\n"
     ]
    }
   ],
   "source": [
    "public static class Car {\n",
    "    // Class variable\n",
    "    static int numberOfCars = 0;\n",
    "\n",
    "    // Instance variables\n",
    "    String model;\n",
    "    int year;\n",
    "\n",
    "    // Constructor\n",
    "    public Car(String model, int year) {\n",
    "        this.model = model;\n",
    "        this.year = year;\n",
    "        numberOfCars++;\n",
    "    }\n",
    "}\n",
    "\n",
    "Car mortCar = new Car(\"MortCar\",1995);\n",
    "System.out.println(mortCar.model);\n",
    "System.out.println(mortCar.year);\n"
   ]
  },
  {
   "cell_type": "markdown",
   "metadata": {},
   "source": [
    "Here, `numberOfCars` is a class variable that keeps track of how many `Car` objects have been created."
   ]
  },
  {
   "cell_type": "markdown",
   "metadata": {},
   "source": [
    "## 5. Mini Project: Fix the Code\n",
    "- Below is a class with broken code. The goal is to fix the class so it properly initializes and uses instance variables.\n",
    "- Broken code:\n",
    "\n",
    "\n",
    "- **Task**: Debug the `Book` class so it correctly initializes `title` and `author`. Consider how the constructor should be modified."
   ]
  },
  {
   "cell_type": "code",
   "execution_count": 5,
   "metadata": {},
   "outputs": [
    {
     "name": "stdout",
     "output_type": "stream",
     "text": [
      "Why You Shouldn't Use Paper\n",
      "John Mortenson\n"
     ]
    }
   ],
   "source": [
    "public static class Book {\n",
    "    String title;\n",
    "    String author;\n",
    "\n",
    "    // Fixed Constructor\n",
    "    public Book(String title, String author) {\n",
    "        this.title = title;\n",
    "        this.author = author;\n",
    "    }\n",
    "}\n",
    "\n",
    "\n",
    "Book mortBook = new Book(\"Why You Shouldn't Use Paper\",\"John Mortenson\");\n",
    "System.out.println(mortBook.title);\n",
    "System.out.println(mortBook.author);\n"
   ]
  },
  {
   "cell_type": "markdown",
   "metadata": {},
   "source": [
    "- **Task**: Debug the `Book` class so it correctly initializes `title` and `author`. Consider how the constructor should be modified."
   ]
  }
 ],
 "metadata": {
  "kernelspec": {
   "display_name": "Java",
   "language": "java",
   "name": "java"
  },
  "language_info": {
   "codemirror_mode": "java",
   "file_extension": ".jshell",
   "mimetype": "text/x-java-source",
   "name": "java",
   "pygments_lexer": "java",
   "version": "17.0.12+7-Ubuntu-1ubuntu222.04"
  }
 },
 "nbformat": 4,
 "nbformat_minor": 2
}
