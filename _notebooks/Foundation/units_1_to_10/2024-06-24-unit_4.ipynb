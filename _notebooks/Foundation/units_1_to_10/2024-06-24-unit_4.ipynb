{
 "cells": [
  {
   "cell_type": "raw",
   "metadata": {
    "vscode": {
     "languageId": "raw"
    }
   },
   "source": [
    "---\n",
    "layout: post\n",
    "toc: true\n",
    "title: Unit 4 - Iteration\n",
    "description: Iteration\n",
    "authors: Aniket Chakradeo, Soham Kamat\n",
    "categories: [AP CSA]\n",
    "courses: { csa: {week: 5} }\n",
    "type: ccc\n",
    "permalink: /unit4\n",
    "---"
   ]
  },
  {
   "cell_type": "markdown",
   "metadata": {},
   "source": [
    "## Introduction\n",
    "\n",
    "Loops are fundamental constructs in programming that allow for the repetition of code. They are essential for performing tasks that require iteration, such as processing elements in arrays or strings, and executing repetitive actions. In this guide, we'll explore various types of loops—while loops, for loops—and their applications, including how they interact with strings and nested structures. Understanding these concepts is crucial for developing efficient algorithms and solving complex problems in programming."
   ]
  },
  {
   "cell_type": "markdown",
   "metadata": {},
   "source": [
    "## While Loops\n",
    "\n",
    "A while loop repeatedly executes a block of code as long as a specified condition remains true. The condition is evaluated before each iteration, and if it is true, the loop's body runs; if false, the loop terminates. To avoid infinite loops, ensure the condition will eventually become false by modifying it within the loop.\n",
    "\n",
    "### Example:"
   ]
  },
  {
   "cell_type": "code",
   "execution_count": null,
   "metadata": {},
   "outputs": [],
   "source": [
    "int i = 0;\n",
    "while (i < 5) {\n",
    "    System.out.print(i);\n",
    "    i++;\n",
    "}"
   ]
  },
  {
   "cell_type": "markdown",
   "metadata": {},
   "source": [
    "**Explanation:**\n",
    "1. Initialize `i` to 0.\n",
    "2. The loop checks if `i` is less than 5. If true, it executes the body.\n",
    "3. The body prints `i` and increments it.\n",
    "4. After each iteration, the condition is re-evaluated. When `i` reaches 5, the loop stops.\n",
    "\n",
    "**Tracing Table:**\n",
    "| i | Output |\n",
    "|-|-|\n",
    "| 0 | 0 |\n",
    "| 1 | 1 |\n",
    "| 2 | 2 |\n",
    "| 3 | 3 |\n",
    "| 4 | 4 |\n",
    "\n",
    "If the initial condition is false, the loop will not execute. A `return` statement inside a while loop will also stop it immediately, regardless of the condition.\n",
    "\n",
    "**Common Uses:**\n",
    "- Identify individual digits of an integer\n",
    "- Determine a minimum or maximum value\n",
    "- Compute a sum, average, or mode"
   ]
  },
  {
   "cell_type": "markdown",
   "metadata": {},
   "source": [
    "## For Loops\n",
    "\n",
    "A for loop provides a concise way to repeat code with initialization, condition-checking, and iteration all in one line. The basic structure in Java is:\n",
    "\n",
    "```java\n",
    "for (initialization; condition; iteration) {\n",
    "    // code to be executed\n",
    "}\n",
    "```\n",
    "\n",
    "- **Initialization**: Executes once before the loop starts, typically to set up a loop counter.\n",
    "- **Condition**: Evaluated before each iteration. If true, the loop body executes; if false, the loop terminates.\n",
    "- **Iteration**: Executes after each iteration of the loop body, usually to update the loop counter.\n",
    "\n",
    "### Example:"
   ]
  },
  {
   "cell_type": "code",
   "execution_count": null,
   "metadata": {},
   "outputs": [],
   "source": [
    "for (int i = 0; i < 5; i++) {\n",
    "    System.out.print(i);\n",
    "}"
   ]
  },
  {
   "cell_type": "markdown",
   "metadata": {},
   "source": [
    "**Explanation:**\n",
    "1. `int i = 0;` initializes the loop counter `i`.\n",
    "2. `i < 5` is the condition. The loop continues as long as `i` is less than 5.\n",
    "3. `i++` increments `i` after each iteration.\n",
    "\n",
    "The for loop achieves the same result as a while loop but in fewer lines, making it more compact and often easier to read. All for loops can be converted to while loops and vice versa."
   ]
  },
  {
   "cell_type": "markdown",
   "metadata": {},
   "source": [
    "## Developing Algorithms Using Strings\n",
    "\n",
    "Loops can be used to process and analyze strings in various ways. With methods like `.length()` and `.substring()`, you can perform tasks such as counting characters.\n",
    "\n",
    "### Example: Counting Occurrences of a Character"
   ]
  },
  {
   "cell_type": "code",
   "execution_count": null,
   "metadata": {},
   "outputs": [],
   "source": [
    "String str = \"computer science\";\n",
    "int count = 0;\n",
    "\n",
    "for (int i = 0; i < str.length(); i++) {\n",
    "    if (str.substring(i, i+1).equals(\"e\")) {\n",
    "        count++;\n",
    "    }\n",
    "}\n",
    "\n",
    "System.out.println(count);"
   ]
  },
  {
   "cell_type": "markdown",
   "metadata": {},
   "source": [
    "\n",
    "\n",
    "\n",
    "**Explanation:**\n",
    "1. `String str = \"computer science\";` initializes the string.\n",
    "2. `int count = 0;` creates a counter for occurrences of \"e\".\n",
    "3. `for (int i = 0; i < str.length(); i++)` iterates over each character in the string.\n",
    "4. `str.substring(i, i+1).equals(\"e\")` checks if the current character is \"e\".\n",
    "5. If true, increment the count.\n",
    "\n",
    "**Other Uses:**\n",
    "- Reversing a string\n",
    "- Finding substrings with specific properties\n",
    "- Checking for specific substrings\n",
    "\n",
    "**Tip:** Tracing tables can help keep track of iterations and conditions in loops working with strings."
   ]
  },
  {
   "cell_type": "markdown",
   "metadata": {},
   "source": [
    "## Nested Iteration\n",
    "\n",
    "Nested loops involve placing one loop inside another, which is useful for tasks like traversing 2D arrays. The inner loop completes all its iterations before the outer loop moves to the next iteration.\n",
    "\n",
    "### Example:"
   ]
  },
  {
   "cell_type": "code",
   "execution_count": null,
   "metadata": {},
   "outputs": [],
   "source": [
    "int rows = 5;\n",
    "\n",
    "for (int i = 1; i <= rows; i++) {\n",
    "    for (int j = 1; j <= i; j++) {\n",
    "        System.out.print(\"*\");\n",
    "    }\n",
    "    System.out.println();\n",
    "}"
   ]
  },
  {
   "cell_type": "markdown",
   "metadata": {},
   "source": [
    "**Explanation:**\n",
    "1. `int rows = 5;` sets the number of rows for the pattern.\n",
    "2. The outer loop (`for (int i = 1; i <= rows; i++)`) iterates over each row.\n",
    "3. The inner loop (`for (int j = 1; j <= i; j++)`) prints asterisks based on the current row number.\n",
    "4. `System.out.println();` moves to the next line after completing the inner loop for each row.\n",
    "\n",
    "**Tip:** Use tracing tables to track the iterations of nested loops for complex patterns or calculations."
   ]
  },
  {
   "cell_type": "markdown",
   "metadata": {},
   "source": [
    "## Informal Code Analysis\n",
    "\n",
    "Informal code analysis involves examining and understanding code execution without formal tools. This can include manually tracing code execution, predicting output, and identifying logical errors. \n",
    "\n",
    "**Key Techniques:**\n",
    "- **Tracing Code**: Manually following the flow of execution, step-by-step, to understand how variables change and how loops execute.\n",
    "- **Predicting Output**: Anticipating the result of code before running it, based on the logic and structure.\n",
    "- **Identifying Errors**: Spotting potential mistakes or inefficiencies by reviewing code logic and flow.\n",
    "\n",
    "### Example of Manual Tracing:"
   ]
  },
  {
   "cell_type": "code",
   "execution_count": null,
   "metadata": {},
   "outputs": [],
   "source": [
    "int i = 0;\n",
    "while (i < 3) {\n",
    "    System.out.print(i);\n",
    "    i++;\n",
    "}"
   ]
  },
  {
   "cell_type": "markdown",
   "metadata": {},
   "source": [
    "**Tracing Steps:**\n",
    "1. Initialize `i` to 0.\n",
    "2. Check if `i < 3` (true), print `0`, increment `i` to 1.\n",
    "3. Repeat: `i < 3` (true), print `1`, increment `i` to 2.\n",
    "4. Repeat: `i < 3` (true), print `2`, increment `i` to 3.\n",
    "5. Check `i < 3` (false), exit loop.\n",
    "\n",
    "Informal analysis helps in understanding code behavior and debugging before deploying formal testing methods."
   ]
  },
  {
   "cell_type": "markdown",
   "metadata": {},
   "source": [
    "\n",
    "Additional Resources:\n",
    "\n",
    "[Quizlet](https://quizlet.com/27721837/java-concepts-chapter-7-iteration-flash-cards/)<br>\n",
    "[Khan Academy](https://www.khanacademy.org/computing/ap-computer-science-principles/programming-101/lists/a/iterating-over-lists-with-loops)"
   ]
  },
  {
   "cell_type": "markdown",
   "metadata": {},
   "source": [
    "## Hacks\n",
    "### Part 1"
   ]
  },
  {
   "cell_type": "code",
   "execution_count": null,
   "metadata": {},
   "outputs": [],
   "source": [
    "public class NumberPrinter {\n",
    "    public static void main(String[] args) {\n",
    "        int i = 1;\n",
    "        while (i <= 5) {\n",
    "            System.out.print(i + \" \");\n",
    "            i++;\n",
    "        }\n",
    "        System.out.println();\n",
    "\n",
    "        for (int j = 5; j > 0; j--) {\n",
    "            System.out.print(j + \" \");\n",
    "        }\n",
    "        System.out.println();\n",
    "\n",
    "        for (int k = 1; k <= 3; k++) {\n",
    "            for (int l = 1; l <= k; l++) {\n",
    "                System.out.print(\"*\");\n",
    "            }\n",
    "            System.out.println();\n",
    "        }\n",
    "    }\n",
    "}"
   ]
  },
  {
   "cell_type": "markdown",
   "metadata": {},
   "source": [
    "Answer the following questions based on the code above:\n",
    "* a) What will be the output of each loop in the code? Explain how each loop works.\n",
    "* Answer: \n",
    "* b) Modify the first while loop so that it prints the numbers in reverse order, from 5 to 1, instead of 1 to 5. Provide the modified code and explain the changes.\n",
    "* Answer: "
   ]
  },
  {
   "cell_type": "markdown",
   "metadata": {},
   "source": [
    "### Part 2\n",
    "Situation: You are developing a program to analyze student grades and identify patterns. You need to write methods that use loops to perform these tasks.\n",
    "\n",
    "(a) Explain how a for loop and a while loop differ in structure and usage. Provide an example of when you might prefer one over the other.\n",
    "\n",
    "(b) Write a method `calculateAverage` that takes an array of integers representing student grades and returns the average grade using a for loop. Next, write a method `findHighestGrade` that uses a while loop to find and return the highest grade in the array.\n",
    "\n",
    "Provide the code for both methods and demonstrate how to call them with an example array of grades."
   ]
  }
 ],
 "metadata": {
  "kernelspec": {
   "display_name": "Java",
   "language": "java",
   "name": "java"
  },
  "language_info": {
   "codemirror_mode": "java",
   "file_extension": ".jshell",
   "mimetype": "text/x-java-source",
   "name": "java",
   "pygments_lexer": "java",
   "version": "19.0.2+7-44"
  }
 },
 "nbformat": 4,
 "nbformat_minor": 2
}
