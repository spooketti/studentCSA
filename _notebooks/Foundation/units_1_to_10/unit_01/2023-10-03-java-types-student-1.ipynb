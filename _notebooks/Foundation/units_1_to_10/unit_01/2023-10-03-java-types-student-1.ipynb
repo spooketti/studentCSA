{
 "cells": [
  {
   "cell_type": "raw",
   "metadata": {
    "vscode": {
     "languageId": "raw"
    }
   },
   "source": [
    "---\n",
    "comments: true\n",
    "layout: post\n",
    "title: Data Types in Java \n",
    "author: collin, vinay\n",
    "courses: { csa: {week: 1} }\n",
    "type: ccc\n",
    "---"
   ]
  },
  {
   "cell_type": "code",
   "execution_count": null,
   "metadata": {
    "vscode": {
     "languageId": "java"
    }
   },
   "outputs": [],
   "source": []
  },
  {
   "cell_type": "markdown",
   "metadata": {},
   "source": [
    "| Data Type | Size (bits) |\n",
    "|-----------|-------------|\n",
    "| boolean   | 8           |\n",
    "| int       | 32          |\n",
    "| double    | 64          |\n",
    "| char      | 16          |"
   ]
  },
  {
   "cell_type": "code",
   "execution_count": null,
   "metadata": {
    "vscode": {
     "languageId": "java"
    }
   },
   "outputs": [],
   "source": [
    "public class GreatestValue {\n",
    "    public static void main(String[] args) {\n",
    "        System.out.println(\"Max Integer: \" + Integer.MAX_VALUE);\n",
    "        System.out.println(\"Min Integer: \" + Integer.MIN_VALUE);\n",
    "        System.out.println(\"Max Double: \" + Double.MAX_VALUE);\n",
    "        System.out.println(\"Min Double: \" + Double.MIN_VALUE);\n",
    "\n",
    "        // Integer Show Overflow\n",
    "        int i = Integer.MAX_VALUE;\n",
    "        i++;\n",
    "        System.out.println(\"Integer Max + 1, Overflow: \" + i);\n",
    "\n",
    "        // Integer Show Underflow\n",
    "        int j = Integer.MIN_VALUE;\n",
    "        j--;\n",
    "        System.out.println(\"Integer Min - 1, Underflow: \" + j);\n",
    "\n",
    "        // Integer Max + Min\n",
    "        int k = Integer.MAX_VALUE + Integer.MIN_VALUE;\n",
    "        System.out.println(\"Integer Max + Min: \" + k);\n",
    "\n",
    "    }\n",
    "}\n",
    "GreatestValue.main(null);"
   ]
  },
  {
   "cell_type": "markdown",
   "metadata": {},
   "source": [
    "## Reference Types\n",
    "Some data types, like String, start with a capital letter. This is because they are not primiative, but are refrence types. They are called this because they refrence an object.\n",
    "> \"A reference type is a code object that is not stored directly where it is created, but that acts as a kind of pointer to a value stored elsewhere.\""
   ]
  },
  {
   "cell_type": "markdown",
   "metadata": {},
   "source": []
  },
  {
   "cell_type": "code",
   "execution_count": null,
   "metadata": {
    "vscode": {
     "languageId": "java"
    }
   },
   "outputs": [],
   "source": [
    "int integer = 7120; //\"int\" starts with a lowercase\n",
    "String string = \"abc\"; //\"String\" starts with an uppercase, because it is an object and not a primitive type"
   ]
  },
  {
   "cell_type": "markdown",
   "metadata": {},
   "source": [
    "## All Reference Types Reference Objects: String Example\n",
    "\n",
    "String is the most common reference type. Here is an example of how a String type is really just referencing an object."
   ]
  },
  {
   "cell_type": "code",
   "execution_count": 1,
   "metadata": {
    "vscode": {
     "languageId": "java"
    }
   },
   "outputs": [],
   "source": [
    "public class WorseString {\n",
    "    private char[] charArray;\n",
    "\n",
    "    public WorseString(String inputString) {\n",
    "        this.charArray = inputString.toCharArray();\n",
    "    }\n",
    "\n",
    "    public String getChars() {\n",
    "        return new String(this.charArray);\n",
    "    }\n",
    "\n",
    "    @Override\n",
    "    public String toString() {\n",
    "        return getChars();\n",
    "    }\n",
    "}"
   ]
  },
  {
   "cell_type": "code",
   "execution_count": 2,
   "metadata": {
    "vscode": {
     "languageId": "java"
    }
   },
   "outputs": [
    {
     "name": "stdout",
     "output_type": "stream",
     "text": [
      "Hello, World!\n"
     ]
    }
   ],
   "source": [
    "WorseString string = new WorseString(\"Hello, World!\");\n",
    "System.out.println(string);"
   ]
  },
  {
   "cell_type": "markdown",
   "metadata": {},
   "source": [
    "Therefore, these two things are the same:"
   ]
  },
  {
   "cell_type": "code",
   "execution_count": null,
   "metadata": {
    "vscode": {
     "languageId": "java"
    }
   },
   "outputs": [],
   "source": [
    "String string = \"abc\";\n",
    "String string = new String(\"abc\");"
   ]
  },
  {
   "cell_type": "markdown",
   "metadata": {},
   "source": [
    "## Literal vs String literal\n",
    "\n",
    "- Literal: Source code representation of a fixed value --- 3\n",
    "- String Literal: In double quotes, a String --- \"3\""
   ]
  },
  {
   "cell_type": "markdown",
   "metadata": {},
   "source": [
    "# 1.3 Expressions and Assignment Statements\n",
    "\n",
    "Calculations and evaluating arithmetic statements is important when coding to create algorithms and other code. Make sure you are doing arithmetic statements with int or double values and not String literals\n",
    "\n",
    "## Operators\n",
    "\n",
    "| Operator | Example Equation | Output | Use |\n",
    "|----------|------------------|--------|------------|\n",
    "| +        | 5 + 3            | 8      | Add numbers together. |\n",
    "| -        | 5 - 3            | 2      | Subtract one number from another. |\n",
    "| *        | 5 * 3            | 15     | Multiply numbers together. |\n",
    "| /        | 5 / 3.0          | 1.67   | Divide one number by double. |\n",
    "| /        | 5 / 3            | 1      | Divide one number by int. |\n",
    "| %        | 5 % 3            | 2      | Find the remainder of a division operation. |\n",
    "\n",
    "\n",
    "> Tip: In the AP subset, you only have to worry about operations with int values. However, it's good to know how to use arithmetic statements with doubles and other types. \n",
    "\n",
    "If you do an operation with two ints or doubles, it returns the respective type. If you mix types, Java returns the one with more bits, a double in this case.\n",
    "\n",
    "## Modulus\n",
    "\n",
    "Modulus gets the remainder if you were to divide two numbers. One common use is to find odd/even numbers. \n",
    "\n",
    "- 5 % 2 = 1\n",
    "- 100 % 10 = 0\n",
    "\n",
    "You try: \n",
    "\n",
    "- 8 % 3 = ?\n",
    "- 4 % 1 = ?\n",
    "\n",
    "Modulus joins multiplication and division in the order of operations\n",
    "\n",
    "## Assignment Operator\n",
    "\n",
    "= is called the assignment operator because it is used to assign a value to a variable. It is the last in the order of operations."
   ]
  },
  {
   "cell_type": "markdown",
   "metadata": {},
   "source": [
    "## Casting\n",
    "Casting is converting one type of variable to another\n",
    "ex: double to int"
   ]
  },
  {
   "cell_type": "code",
   "execution_count": null,
   "metadata": {
    "vscode": {
     "languageId": "java"
    }
   },
   "outputs": [],
   "source": [
    "public class Casting {\n",
    "    public static void main(String[] args) {\n",
    "        double castTest = 3.2;\n",
    "        System.out.println((int) castTest);\n",
    "        castTest = 3.7;\n",
    "        System.out.println((int) castTest);\n",
    "        System.out.println((int) (castTest+0.5));\n",
    "\n",
    "        int castTest2 = 3;\n",
    "        System.out.println(castTest2/2);\n",
    "        System.out.println(castTest2/2.0);\n",
    "    }\n",
    "}\n",
    "Casting.main(null);"
   ]
  },
  {
   "cell_type": "markdown",
   "metadata": {},
   "source": [
    "What will this output?\n",
    "castTest2 = 7;\n",
    "System.out.println(castTest2/3);\n",
    "System.out.println((int) (castTest2+0.5));\n"
   ]
  },
  {
   "cell_type": "markdown",
   "metadata": {},
   "source": [
    "## Wrapper Classes"
   ]
  },
  {
   "cell_type": "markdown",
   "metadata": {},
   "source": [
    "For many operations in Java, you need to have a class. Some examples are:\n",
    "- **ArrayLists or HashMaps**\n",
    "- If you require nullability (meaning the value could be null)\n",
    "- Generics\n",
    "- Methods that require objects as input\n",
    "\n",
    "To accomplish this, we use a wrapper class. A wrapper class is essentially a class which 'wraps' the primitive type and makes it into an object rather than a primitive.\n",
    "\n",
    "What is a downside of using wrapper classes? Why not always use them?\n",
    "\n",
    "<spoiler>Increased memory usage</spoiler> "
   ]
  },
  {
   "cell_type": "code",
   "execution_count": null,
   "metadata": {
    "vscode": {
     "languageId": "java"
    }
   },
   "outputs": [],
   "source": [
    "//This code fails\n",
    "ArrayList ArrayList = new ArrayList<int>();"
   ]
  },
  {
   "cell_type": "code",
   "execution_count": null,
   "metadata": {
    "vscode": {
     "languageId": "java"
    }
   },
   "outputs": [],
   "source": [
    "//This code works\n",
    "ArrayList ArrayList = new ArrayList<Integer>();"
   ]
  },
  {
   "cell_type": "markdown",
   "metadata": {},
   "source": [
    "<img src=\"/VACTQ-Lesson/download.jfif\" alt=\"wrapper\" width=\"400\"/>"
   ]
  },
  {
   "cell_type": "code",
   "execution_count": null,
   "metadata": {
    "vscode": {
     "languageId": "java"
    }
   },
   "outputs": [],
   "source": [
    "public class Wrappers {\n",
    "    int age;\n",
    "    Integer ageWrapper;\n",
    "    Double gpa;\n",
    "    String gpaString;\n",
    "    Double gpaDouble;\n",
    "\n",
    "    public static void main(String[] args) {\n",
    "        // make an instance of class\n",
    "        Wrappers wrapper = new Wrappers();\n",
    "\n",
    "        // work with int and Integer\n",
    "        wrapper.ageWrapper = 17;\n",
    "        wrapper.age = Integer.parseInt(wrapper.ageWrapper.toString());\n",
    "        System.out.println(\"Age \" + wrapper.age);\n",
    "        System.out.println(\"Age Wrapper \" + wrapper.ageWrapper);\n",
    "\n",
    "        // work with String and Double\n",
    "        wrapper.gpaString = \"3.9\";\n",
    "        System.out.println(\"Wrapper GPA \" + wrapper.gpaString);\n",
    "        // string to double with calculation\n",
    "        wrapper.gpaDouble = (Double.parseDouble(wrapper.gpaString) + 3.7) / 2;\n",
    "        System.out.println(\"Double GPA \" + wrapper.gpaDouble);\n",
    "        wrapper.gpa = Double.parseDouble(wrapper.gpaDouble.toString());\n",
    "        System.out.println(\"GPA \" + wrapper.gpa);\n",
    "    }\n",
    "}\n",
    "Wrappers.main(null);"
   ]
  },
  {
   "cell_type": "markdown",
   "metadata": {},
   "source": [
    "How do you complete this output so that it outputs an integer\n",
    "String grade = \"95\";\n",
    "?\n",
    "\n",
    "How do you complete this output so that it outputs a double?\n",
    "String grade = \"95.5\";\n",
    "?"
   ]
  },
  {
   "cell_type": "markdown",
   "metadata": {},
   "source": [
    "## Enums\n",
    "What are they?\n",
    "<spoiler>Enums are a type of data, which allows a variable to be a predetermined set of values</spoiler>\n",
    "\n",
    "Uses\n",
    "* Examples: days of the week\n",
    "\n",
    "Things you can do with Enums\n",
    "* ordinal\n",
    "* switch\n",
    "* for loops"
   ]
  },
  {
   "cell_type": "code",
   "execution_count": null,
   "metadata": {
    "vscode": {
     "languageId": "java"
    }
   },
   "outputs": [],
   "source": [
    "public class EnumTest { \n",
    "    enum Units {\n",
    "    PRIMITVE_DATA_TYPES,\n",
    "    CLASSES,\n",
    "    BOOLEAN,\n",
    "    ITERATION,\n",
    "    WRITING_CLASSES,\n",
    "    ARRAY,\n",
    "    ARRAY_LIST,\n",
    "    TWO_DIMENSIONAL_ARRAY,\n",
    "    INHERITANCE,\n",
    "    RECURSION;\n",
    "}\n",
    "public static void main(String[] args) { \n",
    "  System.out.println(\"What is the third unit in AP CSA? Answer: \" + Units.BOOLEAN);\n",
    "  Units classUnit = Units.CLASSES;\n",
    "  System.out.println(\"What is the unit is Classes in AP CSA? Answer: \" + (classUnit.ordinal() + 1));\n",
    "  Units selectedUnit = Units.ARRAY_LIST;\n",
    "\n",
    "  switch(selectedUnit) {\n",
    "    case PRIMITVE_DATA_TYPES:\n",
    "      System.out.println(\"The selected unit is: primitive data types\");\n",
    "      break;\n",
    "    case BOOLEAN:\n",
    "       System.out.println(\"The selected unit is: boolean\");\n",
    "      break;\n",
    "    case CLASSES:\n",
    "      System.out.println(\"The selected unit is: classes\");\n",
    "      break;\n",
    "    case ITERATION:\n",
    "      System.out.println(\"The selected unit is: iteration\");\n",
    "      break;\n",
    "    case WRITING_CLASSES:\n",
    "      System.out.println(\"The selected unit is: writing classes\");\n",
    "      break;\n",
    "    case ARRAY:\n",
    "      System.out.println(\"The selected unit is: array\");\n",
    "      break;\n",
    "    case ARRAY_LIST:\n",
    "      System.out.println(\"The selected unit is: array list\");\n",
    "      break;\n",
    "    case TWO_DIMENSIONAL_ARRAY:\n",
    "      System.out.println(\"The selected unit is: 2d array\");\n",
    "      break;\n",
    "    case INHERITANCE:\n",
    "      System.out.println(\"The selected unit is: inheritance\");\n",
    "      break;\n",
    "    case RECURSION:\n",
    "      System.out.println(\"The selected unit is: recursion\");\n",
    "      break;\n",
    "  }\n",
    "  for (Units allUnits: Units.values()) {\n",
    "    System.out.println(allUnits);\n",
    "  }\n",
    "} \n",
    "}\n",
    "EnumTest.main(null);"
   ]
  },
  {
   "cell_type": "markdown",
   "metadata": {},
   "source": [
    "# Homework\n",
    "\n",
    "All of your homework is on this [form](https://forms.gle/M6FgxZwX1AnWdZmL9). (Link is https://forms.gle/M6FgxZwX1AnWdZmL9)"
   ]
  }
 ],
 "metadata": {
  "kernelspec": {
   "display_name": "Java",
   "language": "java",
   "name": "java"
  },
  "language_info": {
   "codemirror_mode": "java",
   "file_extension": ".jshell",
   "mimetype": "text/x-java-source",
   "name": "Java",
   "pygments_lexer": "java",
   "version": "17.0.12+0"
  },
  "orig_nbformat": 4
 },
 "nbformat": 4,
 "nbformat_minor": 2
}
