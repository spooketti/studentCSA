{
 "cells": [
  {
   "cell_type": "raw",
   "metadata": {
    "vscode": {
     "languageId": "raw"
    }
   },
   "source": [
    "---\n",
    "layout: post\n",
    "toc: true\n",
    "title: Unit 1 - Primitive & Reference Types\n",
    "description: A Unit of documents that overview Primitive & Reference Types in Java\n",
    "courses: { csa: {week: 1} }\n",
    "type: ccc\n",
    "categories: [AP CSA]\n",
    "authors: Aniket Chakradeo, Soham Kamat\n",
    "---"
   ]
  },
  {
   "cell_type": "markdown",
   "metadata": {},
   "source": [
    "## Data Types\n",
    "\n",
    "Data types in Java are categorized as either **primitive** or **reference**.\n",
    "\n",
    "A **type** is a set of values (e.g., integers, floats, strings, etc.). The **type** determines how data is stored in memory and how a set of operators (e.g., +, -, *, /, etc.) will work with them."
   ]
  },
  {
   "cell_type": "markdown",
   "metadata": {},
   "source": [
    "\n",
    "### Resources\n",
    "The sources for Java are vast. \n",
    "\n",
    "Here are AP Specific Resources\n",
    "\n",
    "- [AP CSA Unit 1](https://apclassroom.collegeboard.org/8/home?unit=1)\n",
    "- [Quizlet](https://quizlet.com/421606237/ap-computer-science-unit-1-primitive-types-flash-cards/)\n",
    "\n",
    "\n",
    "Or you can Google \"Java Data Types\".  Here are some in order recommended sites.\n",
    "\n",
    "- [W3 Schools](https://www.w3schools.com/java/java_data_types.asp)\n",
    "- [GeeksForGeeks](https://www.geeksforgeeks.org/data-types-in-java/)\n",
    "- [JavaTpoint](https://www.javatpoint.com/java-data-types)\n",
    "- [Oracle Java Documentation](https://docs.oracle.com/javase/tutorial/java/nutsandbolts/datatypes.html)\n"
   ]
  }
 ],
 "metadata": {
  "kernelspec": {
   "display_name": "Java",
   "language": "java",
   "name": "java"
  },
  "language_info": {
   "codemirror_mode": "java",
   "file_extension": ".jshell",
   "mimetype": "text/x-java-source",
   "name": "java",
   "pygments_lexer": "java",
   "version": "19.0.2+7-44"
  }
 },
 "nbformat": 4,
 "nbformat_minor": 2
}
