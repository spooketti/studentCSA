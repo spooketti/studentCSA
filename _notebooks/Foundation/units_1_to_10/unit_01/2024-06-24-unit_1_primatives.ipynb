{
 "cells": [
  {
   "cell_type": "raw",
   "metadata": {
    "vscode": {
     "languageId": "raw"
    }
   },
   "source": [
    "---\n",
    "layout: post\n",
    "toc: true\n",
    "title: Unit 1 - Primitive Types\n",
    "courses: { csa: {week: 1} }\n",
    "categories: [CSA-Prep]\n",
    "authors: Aniket Chakradeo, Soham Kamat\n",
    "type: ccc\n",
    "---"
   ]
  },
  {
   "cell_type": "markdown",
   "metadata": {},
   "source": [
    "## Primitive Data Types\n",
    "A primitive data type specifies the **size and type of information**. Primitive types are the simplest type of variables in Java. They simply store a small amount of data, according to the type. They are not associated with a class.\n",
    "\n",
    "### The 3 Primitive Data Types for College Board\n",
    "\n",
    "There are eight primitive data types in Java, but only these 3 are used in AP CSA:\n",
    "\n",
    "| Data Type | Description |\n",
    "|-|-|\n",
    "| int | Stores whole numbers from -2,147,483,648 to 2,147,483,647 |\n",
    "| double | Stores decimal numbers. Sufficient for storing 15 decimal digits |\n",
    "| boolean | Stores true or false values |\n",
    "\n",
    "To declare a variable, you write:\n",
    "`Type VariableName = Value;`\n",
    "\n",
    "For example:\n",
    "`int count = 0;`\n",
    "\n",
    "### Variable Terms and Conventions\n",
    "\n",
    "These are important items to remember with regards to Java and the College Board.\n",
    "\n",
    "- A `variable name` is often referred to as the `variable identifier` in Java.\n",
    "- A `variable name` follows camel case conventions in Java (e.g., firstName).\n",
    "- A `class name`, which is a Data Type, follows Pascal case (e.g., BankAccount)."
   ]
  },
  {
   "cell_type": "markdown",
   "metadata": {},
   "source": [
    "## The 8 Primitive Data Types\n",
    "\n",
    "Here is the complete list of primitive types in Java:\n",
    "\n",
    "- **byte**: An 8-bit signed two's complement integer.\n",
    "- **short**: A 16-bit signed two's complement integer.\n",
    "- **int**: A 32-bit signed two's complement integer.\n",
    "- **long**: A 64-bit signed two's complement integer.\n",
    "- **float**: A single-precision 32-bit IEEE 754 floating point.\n",
    "- **double**: A double-precision 64-bit IEEE 754 floating point.\n",
    "- **boolean**: Stores either `true` or `false`.\n",
    "- **char**: Stores a single 16-bit Unicode character."
   ]
  },
  {
   "cell_type": "markdown",
   "metadata": {},
   "source": [
    "### Popcorn Hack: Greatest Value Terms\n",
    "\n",
    "`Primitive Data types have constraints` The program shows the constraints of Integers and Doubles.  Define the following terms...\n",
    "\n",
    "- **constraints**:\n",
    "- **overflow**:\n",
    "- **underflow**"
   ]
  },
  {
   "cell_type": "code",
   "execution_count": null,
   "metadata": {
    "vscode": {
     "languageId": "java"
    }
   },
   "outputs": [],
   "source": [
    "public class GreatestValue {\n",
    "    public static void main(String[] args) {\n",
    "        System.out.println(\"Max Integer: \" + Integer.MAX_VALUE);\n",
    "        System.out.println(\"Min Integer: \" + Integer.MIN_VALUE);\n",
    "        System.out.println(\"Max Double: \" + Double.MAX_VALUE);\n",
    "        System.out.println(\"Min Double: \" + Double.MIN_VALUE);\n",
    "\n",
    "        // Integer Show Overflow\n",
    "        int i = Integer.MAX_VALUE;\n",
    "        i++;\n",
    "        System.out.println(\"Integer Max + 1, Overflow: \" + i);\n",
    "\n",
    "        // Integer Show Underflow\n",
    "        int j = Integer.MIN_VALUE;\n",
    "        j--;\n",
    "        System.out.println(\"Integer Min - 1, Underflow: \" + j);\n",
    "\n",
    "        // Integer Max + Min\n",
    "        int k = Integer.MAX_VALUE + Integer.MIN_VALUE;\n",
    "        System.out.println(\"Integer Max + Min: \" + k);\n",
    "\n",
    "    }\n",
    "}\n",
    "GreatestValue.main(null);"
   ]
  },
  {
   "cell_type": "markdown",
   "metadata": {},
   "source": [
    "### Popcorn Hack: Fill in Data Type \n",
    "The code below is broken....\n",
    "\n",
    "- Fill in the blank, replace the underbars with the correct type.\n",
    "- Output the contents to the Jupyter Terminal"
   ]
  },
  {
   "cell_type": "code",
   "execution_count": null,
   "metadata": {
    "vscode": {
     "languageId": "java"
    }
   },
   "outputs": [],
   "source": [
    "___ zero = 0; //Whole number\n",
    "___ pi = 3.14159; //Decimal values. Floating point numbers.\n",
    "___ iAmTakingCSA = true; //Stores a true of false binary value\n",
    "___ myProjectedGrad = 'A'; //Single character\n",
    "___ iLoveCodeCodeCoding = \"Yes\"; //String of characters"
   ]
  }
 ],
 "metadata": {
  "kernelspec": {
   "display_name": "Java",
   "language": "java",
   "name": "java"
  },
  "language_info": {
   "codemirror_mode": "java",
   "file_extension": ".jshell",
   "mimetype": "text/x-java-source",
   "name": "Java",
   "pygments_lexer": "java",
   "version": "17.0.12+0"
  }
 },
 "nbformat": 4,
 "nbformat_minor": 2
}
