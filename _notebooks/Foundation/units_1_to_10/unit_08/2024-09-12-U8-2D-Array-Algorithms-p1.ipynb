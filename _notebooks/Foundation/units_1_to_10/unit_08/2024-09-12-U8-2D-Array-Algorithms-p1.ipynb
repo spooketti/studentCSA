{
 "cells": [
  {
   "cell_type": "markdown",
   "metadata": {
    "vscode": {
     "languageId": "raw"
    }
   },
   "source": [
    "---\n",
    "layout: post\n",
    "toc: true\n",
    "title: Unit 8 - 2D Arrays Algorithms & Hacks\n",
    "description: 2D Arrays Lesson\n",
    "authors: Vibha Ganji, Avanthika Daita\n",
    "categories: [AP CSA]\n",
    "type: ccc\n",
    "permalink: /unit8lesson-p1-algorithms\n",
    "---"
   ]
  },
  {
   "cell_type": "markdown",
   "metadata": {},
   "source": [
    "<style>\n",
    "    .unitHold\n",
    "    {\n",
    "    position: fixed;\n",
    "    top: 64px;\n",
    "    width: 100%;\n",
    "    height: 43px;\n",
    "    background-color: #353543;\n",
    "    left: 0px;\n",
    "    display: flex;\n",
    "    flex-direction: row;\n",
    "    flex-wrap: nowrap;\n",
    "    justify-content: space-evenly;\n",
    "    align-items: center;\n",
    "    }\n",
    "\n",
    "    .unitHold a\n",
    "    {\n",
    "    text-decoration: none;\n",
    "    color: #fabe28;\n",
    "    border-left: #fabe28 6px double;\n",
    "    border-right: #fabe28 6px double;\n",
    "    height: 100%;\n",
    "    display: flex;\n",
    "    align-items: center;\n",
    "    justify-content: center;\n",
    "    transition:all 1s;\n",
    "    }\n",
    "\n",
    "    .unitHold a:hover\n",
    "    {\n",
    "        padding-left:5px;\n",
    "        padding-right:5px;\n",
    "    }\n",
    "\n",
    "\n",
    "</style>\n",
    "\n",
    "<div class=\"unitHold\">\n",
    "<a href=\"{{site.baseurl}}/unit8lesson-p1\">Unit 8 Intro</a>\n",
    "<a href=\"{{site.baseurl}}/unit8lesson-p1-declare-initialize\">Unit 8 Declare/Initialize</a>\n",
    "<a href=\"{{site.baseurl}}/unit8lesson-p1-traversing\">Unit 8 Traversing</a>\n",
    "<a href=\"{{site.baseurl}}/unit8lesson-p1-accessing-updating\">Unit 8 Accessing and Updating</a>\n",
    "<a href=\"{{site.baseurl}}/unit8lesson-p1-algorithms\">Unit 8 Algorithms</a>\n",
    "</div>"
   ]
  },
  {
   "cell_type": "markdown",
   "metadata": {},
   "source": [
    "# Algorithms 2D Array Java"
   ]
  },
  {
   "cell_type": "markdown",
   "metadata": {},
   "source": [
    "## Objectives:\n",
    "\n",
    "Understand how to perform Linear Search in a 2D array.\n",
    "\n",
    "Learn to implement Binary Search in a sorted 2D array."
   ]
  },
  {
   "cell_type": "markdown",
   "metadata": {},
   "source": [
    "## 1. Introduction to Searching in 2D Arrays\n",
    "\n",
    "Key Concepts:\n",
    "\n",
    "Linear Search: Sequentially checks every element.\n",
    "\n",
    "Binary Search: Cuts the search space in half each time, but only works on sorted arrays.\n"
   ]
  },
  {
   "cell_type": "markdown",
   "metadata": {},
   "source": [
    "### { { 3, 12, 9 }, \n",
    "###  { 5, 2, 89 }, \n",
    "###  { 90, 45, 22 } }\n"
   ]
  },
  {
   "cell_type": "markdown",
   "metadata": {},
   "source": [
    "- In the code, you use two nested loops to go through each row [i] and then each column [j] of the 2D array.\n",
    "\n",
    "- You start with arr[0][0] (which is 3), then move to arr[0][1] (which is 12), and so on.\n",
    "\n",
    "- Linear search checks every element, so it can be slow if you have a huge dataset. It takes O(n*m) time, where n is the number of rows, and m is the number of columns.\n",
    "\n",
    "- Why Use It? It works with any array, whether it’s sorted or not."
   ]
  },
  {
   "cell_type": "code",
   "execution_count": 21,
   "metadata": {
    "vscode": {
     "languageId": "java"
    }
   },
   "outputs": [
    {
     "name": "stdout",
     "output_type": "stream",
     "text": [
      "First Line\n",
      "Element found\n",
      "Element found at row 1, column 2\n"
     ]
    }
   ],
   "source": [
    "public class GFG {\n",
    "\n",
    "    static int[] linearSearch(int[][] arr, int target) {\n",
    "        for (int i = 0; i < arr.length; i++) {\n",
    "            for (int j = 0; j < arr[i].length; j++) {\n",
    "                if (arr[i][j] == target) {\n",
    "                    System.out.println(\"Element found\");\n",
    "                    return new int[] { i, j };\n",
    "                }\n",
    "            }\n",
    "        }\n",
    "        return new int[] { -1, -1 };\n",
    "    }\n",
    "    \n",
    "    public static void main(String[] args) {\n",
    "        System.out.println(\"First Line\");\n",
    "        int arr[][] = {\n",
    "            { 3, 12, 9 },\n",
    "            { 5, 2, 89 },\n",
    "            { 90, 45, 22 }\n",
    "        };\n",
    "        int target = 89;\n",
    "\n",
    "        int[] result = linearSearch(arr, target);\n",
    "        \n",
    "        if (result[0] != -1) {\n",
    "            System.out.println(\"Element found at row \" + result[0] + \", column \" + result[1]);\n",
    "        } else {\n",
    "            System.out.println(\"Element not found\");\n",
    "        }\n",
    "    }\n",
    "\n",
    "    \n",
    "}\n",
    "GFG.main(null);"
   ]
  },
  {
   "cell_type": "markdown",
   "metadata": {},
   "source": [
    "## Explanation:\n",
    "\n",
    "\n",
    "- The algorithm goes row by row and column by column until it finds the target value.\n",
    "- If the value is found, it returns the index of that element."
   ]
  },
  {
   "cell_type": "markdown",
   "metadata": {},
   "source": [
    "## Popcorn Hack 1: Custom 2D Search Challenge\n",
    "\n",
    "### Question:\n",
    "\n",
    "You are given a sorted 5x5 2D array, where each row is sorted in ascending order. Write a function to perform binary search to find a target number in this 2D array. Your function should return both the index of the found element (row and column).\n",
    "\n",
    "### Requirements:\n",
    "\n",
    "Implement a binary search function for the 2D array.\n",
    "\n",
    "Function should display the row and column\n",
    "\n",
    "The output should display whether the element was found.\n"
   ]
  },
  {
   "cell_type": "code",
   "execution_count": 11,
   "metadata": {
    "vscode": {
     "languageId": "java"
    }
   },
   "outputs": [
    {
     "name": "stdout",
     "output_type": "stream",
     "text": [
      "Position: 4 2\n"
     ]
    }
   ],
   "source": [
    "int nums[][] = {\n",
    "    {1, 3, 5, 7, 9},\n",
    "    {10, 12, 14, 16, 18},\n",
    "    {20, 22, 24, 26, 28},\n",
    "    {30, 32, 34, 36, 38},\n",
    "    {40, 42, 44, 46, 48}\n",
    "};\n",
    "\n",
    "    int[] binarySearch(int target)\n",
    "    {\n",
    "        int rows = nums.length;\n",
    "        int cols = nums[0].length;\n",
    "        int left = 0;\n",
    "        int right = rows * cols - 1;\n",
    "        while (left <= right) {\n",
    "            int mid = left + (right - left) / 2;\n",
    "            int midValue = nums[mid / cols][mid % cols];\n",
    "            if (midValue == target) {\n",
    "                return new int[] {mid / cols, mid % cols};\n",
    "            }\n",
    "            if (midValue < target) {\n",
    "                left = mid + 1;\n",
    "            } else {\n",
    "                right = mid - 1;\n",
    "            }\n",
    "        }\n",
    "        return new int[] {-1,-1};\n",
    "    }\n",
    "\n",
    "    int[] result = binarySearch(44);\n",
    "    if(result[0] == -1)\n",
    "    {\n",
    "        System.out.println(\"Does not exist in matrix\");\n",
    "    }\n",
    "    System.out.println(\"Position: \"+String.valueOf(result[0])+\" \" + String.valueOf(result[1]));"
   ]
  },
  {
   "cell_type": "markdown",
   "metadata": {},
   "source": [
    "### Binary Search in a 2D Array: \n",
    "\n",
    "1. **Sorted Array Requirement:** Binary search only works on arrays that are sorted in ascending order. If the array is not sorted, the binary search algorithm will not function correctly.\n",
    "\n",
    "2. **Dividing the Search Space:** The algorithm calculates the middle index of the current search range and compares the middle element to the target value:\n",
    "\n",
    "### { 2, 5, 8, 12, 15, 23, 37, 45, 67 }\n",
    "\n",
    "- If the middle element is equal to the target, the search is complete.\n",
    "- If the middle element is less than the target, it discards the left half of the array (including the middle element) and continues searching in the right half.\n",
    "- If the middle element is greater than the target, it discards the right half of the array and continues searching in the left half."
   ]
  },
  {
   "cell_type": "markdown",
   "metadata": {},
   "source": [
    "### Applying Binary Search to a 2D Array:\n",
    "\n",
    "When dealing with a 2D array, we can treat the array as a flattened 1D array.\n",
    "\n",
    "Think of a 2D array as a long list, you can imagine the 2D array as one single row of values.\n",
    "\n",
    "#### Finding the position of an element:\n",
    "\n",
    "- If you have an element located at (i, j), you can find its position in the long list using this formula:\n",
    "\n",
    "    - Position = (i * number of columns) + j\n",
    "\n",
    "\n",
    "#### Converting back from a position to (i, j):\n",
    "- If you know the position in the long list and want to find out which row and column it corresponds to, use these formulas:\n",
    "\n",
    "    - Row = Position / number of columns\n",
    "    \n",
    "    - Column = Position % number of columns\n"
   ]
  },
  {
   "cell_type": "code",
   "execution_count": null,
   "metadata": {
    "vscode": {
     "languageId": "java"
    }
   },
   "outputs": [],
   "source": [
    "public class Main {\n",
    "    public static void main(String[] args) {\n",
    "        // Creating a 2D matrix using sorted array values\n",
    "        int[][] matrix = {\n",
    "            {2, 5, 8},\n",
    "            {12, 15, 23},\n",
    "            {37, 45, 67}\n",
    "        };\n",
    "        int target = 5; // Change this to test with other values like 12, 23, etc.\n",
    "\n",
    "        // Perform binary search and get the result\n",
    "        int[] result = binarySearch(matrix, target);\n",
    "\n",
    "        // Check the result and print appropriate message\n",
    "        if (result[0] != -1) {\n",
    "            System.out.println(\"Target \" + target + \" found at position: Row \" + result[0] + \", Column \" + result[1]);\n",
    "        } else {\n",
    "            System.out.println(\"Target \" + target + \" not found in the matrix.\");\n",
    "        }\n",
    "    }\n",
    "\n",
    "    public static int[] binarySearch(int[][] matrix, int target) {\n",
    "        // Get the number of rows and columns\n",
    "        int rows = matrix.length;\n",
    "        int cols = matrix[0].length;\n",
    "\n",
    "        // Initialize left and right pointers for the search range\n",
    "        int left = 0;\n",
    "        int right = rows * cols - 1;\n",
    "\n",
    "        // Loop until the search range is valid\n",
    "        while (left <= right) {\n",
    "            // Calculate the middle index\n",
    "            int mid = left + (right - left) / 2;\n",
    "            // Convert the 1D index back to 2D row and column\n",
    "            int midValue = matrix[mid / cols][mid % cols];\n",
    "\n",
    "            // Check if the middle value is the target\n",
    "            if (midValue == target) {\n",
    "                return new int[] {mid / cols, mid % cols}; // Return the found position\n",
    "            }\n",
    "\n",
    "            // Adjust the search range based on the comparison\n",
    "            if (midValue < target) {\n",
    "                left = mid + 1; // Search in the right half\n",
    "            } else {\n",
    "                right = mid - 1; // Search in the left half\n",
    "            }\n",
    "        }\n",
    "\n",
    "        // Return -1 for both row and column if not found\n",
    "        return new int[] {-1, -1}; \n",
    "    }\n",
    "}\n",
    "\n",
    "// To execute the main method, use:\n",
    "Main.main(null);"
   ]
  },
  {
   "cell_type": "markdown",
   "metadata": {},
   "source": [
    "## Explanation:\n",
    "\n",
    "**Main Method**\n",
    "\n",
    "- Initialize a sorted 2D array (matrix) and define a target value to search for\n",
    "- Call binarySearch(matrix, target) to find the target's position.\n",
    "- Output the result:\n",
    "    - If found, print the row and column.\n",
    "    - If not found, indicate the target is absent.\n",
    "\n",
    "**Binary Search Method**\n",
    "\n",
    "- Parameters: Takes a 2D array and a target value.\n",
    "- Setup:\n",
    "    - Get the number of rows and columns.\n",
    "    - Initialize left (0) and right (last index).\n",
    "\n",
    "- Search Loop:\n",
    "    - While left <= right:\n",
    "        - Calculate mid index.\n",
    "        - Convert mid to 2D indices.\n",
    "        - Check midValue against target:\n",
    "            - If equal, return indices\n",
    "            - If less, adjust left\n",
    "            - If greater, adjust right\n",
    "\n",
    "Return {-1, -1} if the target isn’t found."
   ]
  },
  {
   "cell_type": "markdown",
   "metadata": {},
   "source": [
    "## Popcorn Hack - 2\n",
    "\n",
    "\n",
    "Create a program that performs binary search on a sorted 2D array to find a specified target number. Your function should return the position of the target if found, or indicate that the target is not present in the array."
   ]
  },
  {
   "cell_type": "code",
   "execution_count": null,
   "metadata": {
    "vscode": {
     "languageId": "java"
    }
   },
   "outputs": [],
   "source": [
    "int nums[][] = {\n",
    "    {1, 3, 5, 7, 9},\n",
    "    {10, 12, 14, 16, 18},\n",
    "    {20, 22, 24, 26, 28},\n",
    "    {30, 32, 34, 36, 38},\n",
    "    {40, 42, 44, 46, 48}\n",
    "};\n",
    "\n",
    "    int[] binarySearch(int target)\n",
    "    {\n",
    "        int rows = nums.length;\n",
    "        int cols = nums[0].length;\n",
    "        int left = 0;\n",
    "        int right = rows * cols - 1;\n",
    "        while (left <= right) {\n",
    "            int mid = left + (right - left) / 2;\n",
    "            int midValue = nums[mid / cols][mid % cols];\n",
    "            if (midValue == target) {\n",
    "                return new int[] {mid / cols, mid % cols};\n",
    "            }\n",
    "            if (midValue < target) {\n",
    "                left = mid + 1;\n",
    "            } else {\n",
    "                right = mid - 1;\n",
    "            }\n",
    "        }\n",
    "        return new int[] {-1,-1};\n",
    "    }\n",
    "\n",
    "    int[] result = binarySearch(44);\n",
    "    if(result[0] == -1)\n",
    "    {\n",
    "        System.out.println(\"Does not exist in matrix\");\n",
    "    }\n",
    "    System.out.println(\"Position: \"+String.valueOf(result[0])+\" \" + String.valueOf(result[1]));"
   ]
  },
  {
   "cell_type": "markdown",
   "metadata": {
    "vscode": {
     "languageId": "java"
    }
   },
   "source": [
    "## Mathematical Analysis of a 2D Array\n",
    "\n",
    "There are 3 types of standard algorithms that can be applied upon 2D arrays that are commonly tested by Collegeboard:\n",
    "\n",
    "1. **Mathematical Analysis**: Algorithms that involve performing mathematical operations or calculations on 2D arrays, such as finding sums, averages, or other statistical measures. Examples include calculating the sum of all elements in a matrix or finding the determinant of a matrix.\n",
    "\n",
    "2. **Analyzing Element Properties**: Algorithms that focus on examining and manipulating the properties of individual elements within a 2D array. This might involve checking for specific conditions, such as how many elements are prime, identifying the number of even/odd numbers, or surveying for any other properties.\n",
    "\n",
    "3. **Reordering Elements**: Algorithms that involve changing the order of elements within a 2D array based on certain criteria. This could include sorting rows or columns, rotating the matrix, or rearranging elements to achieve a desired configuration. Examples include sorting the rows of a matrix in ascending order or rotating the matrix 90 degrees clockwise.\n"
   ]
  },
  {
   "cell_type": "markdown",
   "metadata": {},
   "source": [
    "# Mathematical Analysis"
   ]
  },
  {
   "cell_type": "code",
   "execution_count": null,
   "metadata": {
    "vscode": {
     "languageId": "java"
    }
   },
   "outputs": [],
   "source": [
    "/// Define the class named MatrixSum\n",
    "public class MatrixSum {\n",
    "    // Entry point of the program\n",
    "    public static void main(String[] args) {\n",
    "        // Initialize a 2D array (matrix) with predefined values\n",
    "        // The matrix here is a 3x3 array with integers from 1 to 9\n",
    "        int[][] matrix = {\n",
    "            {1, 2, 3},  // First row of the matrix\n",
    "            {4, 5, 6},  // Second row of the matrix\n",
    "            {7, 8, 9}   // Third row of the matrix\n",
    "        };\n",
    "        \n",
    "        // Call the calculateSum method with the matrix as an argument\n",
    "        // This method will return the sum of all elements in the matrix\n",
    "        int sum = calculateSum(matrix);\n",
    "        \n",
    "        // Print the sum of all elements in the matrix to the console\n",
    "        // The output will be: \"Sum of all elements: 45\"\n",
    "        System.out.println(\"Sum of all elements: \" + sum);\n",
    "\n",
    "        // Call the test method to execute the tests\n",
    "        testMatrixSum();\n",
    "    }\n",
    "\n",
    "    // Method to calculate the sum of all elements in a 2D matrix\n",
    "    // This method takes a 2D integer array (matrix) as input and returns an integer (the sum)\n",
    "    public static int calculateSum(int[][] matrix) {\n",
    "        // Initialize a variable to hold the sum of the matrix elements\n",
    "        int sum = 0;\n",
    "        \n",
    "        // Iterate over each row in the matrix\n",
    "        // 'row' represents each 1D array (row) in the 2D array (matrix)\n",
    "        for (int[] row : matrix) {\n",
    "            // Iterate over each element in the current row\n",
    "            // 'element' represents each integer value in the row\n",
    "            for (int element : row) {\n",
    "                // Add the current element to the sum\n",
    "                sum += element;\n",
    "            }\n",
    "        }\n",
    "        \n",
    "        // Return the final sum after all elements have been added\n",
    "        return sum;\n",
    "    }\n",
    "\n",
    "    // Test method to execute the calculations and print results\n",
    "    public static void testMatrixSum() {\n",
    "        // Test 1: Matrix with all positive integers\n",
    "        int[][] matrix1 = {\n",
    "            {1, 2, 3},\n",
    "            {4, 5, 6},\n",
    "            {7, 8, 9}\n",
    "        };\n",
    "        System.out.println(\"Sum of all elements in matrix 1: \" + calculateSum(matrix1));\n",
    "    }\n",
    "}\n",
    "MatrixSum.testMatrixSum();\n"
   ]
  },
  {
   "cell_type": "markdown",
   "metadata": {},
   "source": [
    "# Analysis of Properties of a 2D array"
   ]
  },
  {
   "cell_type": "code",
   "execution_count": null,
   "metadata": {
    "vscode": {
     "languageId": "java"
    }
   },
   "outputs": [],
   "source": [
    "public class PrimeNumberCounter {\n",
    "\n",
    "    /**\n",
    "     * Checks if a number is prime.\n",
    "     * \n",
    "     * @param num The number to check.\n",
    "     * @return true if the number is prime, false otherwise.\n",
    "     */\n",
    "    public static boolean isPrime(int num) {\n",
    "        // Numbers less than or equal to 1 are not prime numbers\n",
    "        if (num <= 1) return false;\n",
    "        \n",
    "        // 2 and 3 are prime numbers\n",
    "        if (num <= 3) return true;\n",
    "        \n",
    "        // Eliminate even numbers greater than 2 and multiples of 3\n",
    "        if (num % 2 == 0 || num % 3 == 0) return false;\n",
    "        \n",
    "        // Check for factors from 5 up to the square root of num\n",
    "        // Increment by 6 to check numbers of the form 6k ± 1\n",
    "        for (int i = 5; i * i <= num; i += 6) {\n",
    "            // Check divisibility by i and i + 2\n",
    "            if (num % i == 0 || num % (i + 2) == 0) return false;\n",
    "        }\n",
    "        \n",
    "        // If no factors were found, num is prime\n",
    "        return true;\n",
    "    }\n",
    "\n",
    "    /**\n",
    "     * Counts the number of prime numbers in a 2D array.\n",
    "     * \n",
    "     * @param array The 2D array of integers to check.\n",
    "     * @return The count of prime numbers in the array.\n",
    "     */\n",
    "    public static int countPrimes(int[][] array) {\n",
    "        int primeCount = 0; // Initialize count of prime numbers\n",
    "\n",
    "        // Iterate over each row in the 2D array\n",
    "        for (int[] row : array) {\n",
    "            // Iterate over each element in the row\n",
    "            for (int num : row) {\n",
    "                // Check if the current number is prime\n",
    "                if (isPrime(num)) {\n",
    "                    primeCount++; // Increment count if prime\n",
    "                }\n",
    "            }\n",
    "        }\n",
    "\n",
    "        // Return the total count of prime numbers\n",
    "        return primeCount;\n",
    "    }\n",
    "}\n",
    "\n",
    "// Test the PrimeNumberCounter class\n",
    "public class TestPrimeNumberCounter {\n",
    "    public static void main(String[] args) {\n",
    "        // Define a 2D array of integers for testing\n",
    "        int[][] testArray = {\n",
    "            {2, 4, 7, 8},\n",
    "            {11, 13, 17, 19},\n",
    "            {23, 24, 25, 29},\n",
    "            {31, 32, 37, 41}\n",
    "        };\n",
    "\n",
    "        // Count the number of prime numbers in the test array\n",
    "        int primeCount = PrimeNumberCounter.countPrimes(testArray);\n",
    "        // Print the result\n",
    "        System.out.println(\"Number of prime numbers: \" + primeCount);\n",
    "    }\n",
    "}\n",
    "TestPrimeNumberCounter.main(null);\n"
   ]
  },
  {
   "cell_type": "markdown",
   "metadata": {},
   "source": [
    "# Reordering Elements"
   ]
  },
  {
   "cell_type": "code",
   "execution_count": null,
   "metadata": {
    "vscode": {
     "languageId": "java"
    }
   },
   "outputs": [],
   "source": [
    "public class MatrixRotation {\n",
    "    public static void main(String[] args) {\n",
    "        // Initialize a 3x3 matrix\n",
    "        int[][] matrix = {\n",
    "            {1, 2, 3},\n",
    "            {4, 5, 6},\n",
    "            {7, 8, 9}\n",
    "        };\n",
    "        \n",
    "        // Rotate the matrix 90 degrees clockwise\n",
    "        int[][] rotated = rotateMatrix90Degrees(matrix);\n",
    "        \n",
    "        // Print the rotated matrix\n",
    "        printMatrix(rotated);\n",
    "    }\n",
    "\n",
    "    /**\n",
    "     * Rotates the given square matrix 90 degrees clockwise.\n",
    "     * \n",
    "     * @param matrix The matrix to be rotated\n",
    "     * @return The rotated matrix\n",
    "     */\n",
    "    public static int[][] rotateMatrix90Degrees(int[][] matrix) {\n",
    "        int n = matrix.length;  // Get the size of the matrix\n",
    "        int[][] rotated = new int[n][n];  // Initialize a new matrix for the rotated result\n",
    "        \n",
    "        // Perform the rotation\n",
    "        for (int i = 0; i < n; i++) {\n",
    "            for (int j = 0; j < n; j++) {\n",
    "                // Map the element from the original matrix to the rotated matrix\n",
    "                rotated[j][n - 1 - i] = matrix[i][j];\n",
    "            }\n",
    "        }\n",
    "        return rotated;  // Return the rotated matrix\n",
    "    }\n",
    "    \n",
    "    /**\n",
    "     * Prints the given matrix to the console.\n",
    "     * \n",
    "     * @param matrix The matrix to be printed\n",
    "     */\n",
    "    public static void printMatrix(int[][] matrix) {\n",
    "        // Loop through each row of the matrix\n",
    "        for (int[] row : matrix) {\n",
    "            // Loop through each element in the row\n",
    "            for (int element : row) {\n",
    "                // Print the element followed by a space\n",
    "                System.out.print(element + \" \");\n",
    "            }\n",
    "            // Print a newline after each row\n",
    "            System.out.println();\n",
    "        }\n",
    "    }\n",
    "}\n",
    "MatrixRotation.main(null);\n"
   ]
  },
  {
   "cell_type": "markdown",
   "metadata": {},
   "source": [
    "## Popcorn Hack\n",
    "Write a program in Java that allows you to find the number of elements in an array that are less than a certain input k.\n"
   ]
  },
  {
   "cell_type": "code",
   "execution_count": 3,
   "metadata": {
    "vscode": {
     "languageId": "java"
    }
   },
   "outputs": [
    {
     "name": "stdout",
     "output_type": "stream",
     "text": [
      "7\n"
     ]
    }
   ],
   "source": [
    "int lessThanK = 0;\n",
    "int k = 8;\n",
    "int[][] matrix= {\n",
    "    {1,2,3},\n",
    "    {4,5,6},\n",
    "    {7,8,9}\n",
    "};\n",
    "\n",
    " for (int[] row : matrix) {\n",
    "            for (int element : row) {\n",
    "               if(element < k)\n",
    "               {\n",
    "                lessThanK++;\n",
    "               }\n",
    "            }\n",
    " }\n",
    "\n",
    " System.out.println(lessThanK);"
   ]
  },
  {
   "cell_type": "markdown",
   "metadata": {},
   "source": [
    "## Alternate Resources \n",
    "\n",
    "##### Past CSA FRQs on Algorithms Applied to 2D Arrays\n",
    "\n",
    "1. **[2014 FRQ](https://secure-media.collegeboard.org/digitalServices/pdf/ap/ap14_frq_computer_science_a.pdf)** - Problem 3: This problem involves working with a 2D array containing names and the number of absences of students. The 2D array has to be traversed and searched for all elements that satisfy a certain property.\n",
    "\n",
    "2. **[2015 FRQ](https://secure-media.collegeboard.org/digitalServices/pdf/ap/ap15_frq_computer_science_a.pdf)** - Problem 1: This problem requires basic summation of entries in the 2D array and proceeds to require a more mathematically advanced algorithm in part (c).\n",
    "\n",
    "3. **[2017 FRQ](https://apcentral.collegeboard.org/media/pdf/ap-computer-science-a-frq-2017.pdf)** - Problem 4: This FRQ begins with a traversal of a 2D array to find the position of a certain integer and then proceeds to a problem of finding the number of possible subarrays within that grid.\n"
   ]
  },
  {
   "cell_type": "markdown",
   "metadata": {},
   "source": [
    "# Homework Hack\n",
    "\n",
    "## CB 2021 FRQ Question 4a\n",
    "<a href = \"https://apcentral.collegeboard.org/media/pdf/ap21-frq-computer-science-a.pdf\">Link</a>\n",
    "\n",
    "<img src = \"{{site.baseurl}}/images/u8-p1-assets/qp1.png\">\n",
    "\n",
    "\n",
    "\n",
    "<img src = \"{{site.baseurl}}/images/u8-p1-assets/qp2.png\">\n",
    "\n"
   ]
  },
  {
   "cell_type": "code",
   "execution_count": 5,
   "metadata": {
    "vscode": {
     "languageId": "java"
    }
   },
   "outputs": [
    {
     "name": "stdout",
     "output_type": "stream",
     "text": [
      "false\n",
      "true\n",
      "false\n",
      "true\n"
     ]
    }
   ],
   "source": [
    "public class ArrayResizer\n",
    "{\n",
    "    public static boolean isNonZeroRow(int[][] array2D, int r)\n",
    "    {\n",
    "        boolean isZero = true;\n",
    "        for(int i=0;i<array2D[r].length;i++)\n",
    "        {\n",
    "            if(array2D[r][i]==0)\n",
    "            {\n",
    "                isZero = false;\n",
    "            }\n",
    "        }\n",
    "        return isZero;\n",
    "    }\n",
    "\n",
    "/*\n",
    "    public static int numNonZeroRows(int[][] array2D)\n",
    "    {\n",
    "        \n",
    "    }\n",
    "\n",
    "    public static int[][] resize(int[][] array2D)\n",
    "    {\n",
    "\n",
    "    }\n",
    "*/\n",
    "\n",
    "}\n",
    "\n",
    "    int[][] arr = {\n",
    "        {2,1,0},\n",
    "        {1,3,2},\n",
    "        {0,0,0},\n",
    "        {4,5,6}\n",
    "    };\n",
    "\n",
    "System.out.println(ArrayResizer.isNonZeroRow(arr,0));\n",
    "System.out.println(ArrayResizer.isNonZeroRow(arr,1));\n",
    "System.out.println(ArrayResizer.isNonZeroRow(arr,2));\n",
    "System.out.println(ArrayResizer.isNonZeroRow(arr,3));\n"
   ]
  }
 ],
 "metadata": {
  "kernelspec": {
   "display_name": "Java",
   "language": "java",
   "name": "java"
  },
  "language_info": {
   "codemirror_mode": "java",
   "file_extension": ".jshell",
   "mimetype": "text/x-java-source",
   "name": "Java",
   "pygments_lexer": "java",
   "version": "17.0.12+7-Ubuntu-1ubuntu222.04"
  },
  "orig_nbformat": 4
 },
 "nbformat": 4,
 "nbformat_minor": 2
}
