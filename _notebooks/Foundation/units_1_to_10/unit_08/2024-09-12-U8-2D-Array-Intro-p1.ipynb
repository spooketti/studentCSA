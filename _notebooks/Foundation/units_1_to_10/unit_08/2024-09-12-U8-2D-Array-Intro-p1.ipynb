{
 "cells": [
  {
   "cell_type": "raw",
   "metadata": {
    "vscode": {
     "languageId": "raw"
    }
   },
   "source": [
    "---\n",
    "layout: post\n",
    "toc: true\n",
    "title: Unit 8 - 2D Arrays Intro - P1\n",
    "description: 2D Arrays Lesson\n",
    "authors: Matthew Wang, Vibha Ganji, Avanthika Daita, Anusha Khobare\n",
    "categories: [AP CSA]\n",
    "courses: { csa: {week: 5} }\n",
    "type: ccc\n",
    "permalink: /unit8lesson-p1\n",
    "---"
   ]
  },
  {
   "cell_type": "markdown",
   "metadata": {},
   "source": [
    "<style>\n",
    "    .unitHold\n",
    "    {\n",
    "    position: fixed;\n",
    "    top: 64px;\n",
    "    width: 100%;\n",
    "    height: 43px;\n",
    "    background-color: #353543;\n",
    "    left: 0px;\n",
    "    display: flex;\n",
    "    flex-direction: row;\n",
    "    flex-wrap: nowrap;\n",
    "    justify-content: space-evenly;\n",
    "    align-items: center;\n",
    "    }\n",
    "\n",
    "    .unitHold a\n",
    "    {\n",
    "    text-decoration: none;\n",
    "    color: #fabe28;\n",
    "    border-left: #fabe28 6px double;\n",
    "    border-right: #fabe28 6px double;\n",
    "    height: 100%;\n",
    "    display: flex;\n",
    "    align-items: center;\n",
    "    justify-content: center;\n",
    "    transition:all 1s;\n",
    "    }\n",
    "\n",
    "    .unitHold a:hover\n",
    "    {\n",
    "        padding-left:5px;\n",
    "        padding-right:5px;\n",
    "    }\n",
    "\n",
    "\n",
    "</style>\n",
    "\n",
    "<div class=\"unitHold\">\n",
    "<a href=\"{{site.baseurl}}/unit8lesson-p1\">Unit 8 Intro</a>\n",
    "<a href=\"{{site.baseurl}}/unit8lesson-p1-declare-initialize\">Unit 8 Declare/Initialize</a>\n",
    "<a href=\"{{site.baseurl}}/unit8lesson-p1-traversing\">Unit 8 Traversing</a>\n",
    "<a href=\"{{site.baseurl}}/unit8lesson-p1-accessing-updating\">Unit 8 Accessing and Updating</a>\n",
    "<a href=\"{{site.baseurl}}/unit8lesson-p1-algorithms\">Unit 8 Algorithms</a>\n",
    "</div>"
   ]
  },
  {
   "cell_type": "markdown",
   "metadata": {},
   "source": [
    "## Learning Objectives\n",
    "\n",
    "The objective of this lesson is to...\n",
    "\n",
    "- Learn about 2D arrays, their use cases, and how to create them.\n",
    "\n",
    "## Essential Knowledge\n",
    "\n",
    "College Board wants you to know...\n",
    "\n",
    "- How to declare/initialize 2D arrays.\n",
    "- How to determine their size.\n",
    "- How to access and update the values of a 2D array.\n",
    "- How to traverse/access elements of a 2D array using nested iteration statements. \n",
    "- How nested iteration statements can be used to traverse 2D arrays in “row-major order” vs “column-major order.”\n",
    "- How to create algorithms that require the use of 2D array traversals."
   ]
  },
  {
   "cell_type": "markdown",
   "metadata": {},
   "source": [
    "## Warm Up\n",
    "\n",
    "Answer the following questions as a group or individually. Write down your answers in your hacks notebook.\n",
    "\n",
    "- What are 2D arrays?\n",
    "\n",
    "2D Arrays are arrays with an extra dimension. They are data structures in Java.\n",
    "\n",
    "- How are 2D arrays organized?\n",
    "\n",
    "2D arrays are organized into rows and columns in a matrix format. There are two indices, one for rows and one for columns.\n",
    "\n",
    "- What are some real-world examples of 2D arrays?\n",
    "\n",
    "Some real-world examples of 2D arrays can be spreadsheets or maybe image processing."
   ]
  },
  {
   "cell_type": "markdown",
   "metadata": {},
   "source": [
    "## The Basics/Recap\n",
    "\n",
    "2D arrays, and higher dimension arrays overall, can be thought of as just an array that's made up of other arrays or an array of arrays. One way of looking at 2D arrays is by thinking of them as a chess board. They have rows and columns, and every element is identified via row or column number or index.\n",
    "\n",
    "Below is an illustration of a 2D array:\n",
    "![2D Array Image](https://raw.githubusercontent.com/The-Code-Monkeys/Monkeys38/main/images/2dArray.png)\n",
    "\n"
   ]
  },
  {
   "cell_type": "markdown",
   "metadata": {},
   "source": [
    "# Warmup (Review)\n",
    "- For the following three code cells categorize data + organization\n",
    "  - Data Bank: Homogenous Data, Heterogeneous Data, Type of Data, Heterogeneous Dimensions, Non-Square\n",
    "  - Note: Datatypes can be reused"
   ]
  }
 ],
 "metadata": {
  "kernelspec": {
   "display_name": "Java",
   "language": "java",
   "name": "java"
  },
  "language_info": {
   "codemirror_mode": "java",
   "file_extension": ".jshell",
   "mimetype": "text/x-java-source",
   "name": "Java",
   "pygments_lexer": "java",
   "version": "17.0.12+7-Ubuntu-1ubuntu222.04"
  },
  "orig_nbformat": 4
 },
 "nbformat": 4,
 "nbformat_minor": 2
}
