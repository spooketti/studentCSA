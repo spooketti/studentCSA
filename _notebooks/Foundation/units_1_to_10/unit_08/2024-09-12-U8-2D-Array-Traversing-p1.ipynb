{
 "cells": [
  {
   "cell_type": "markdown",
   "metadata": {
    "vscode": {
     "languageId": "raw"
    }
   },
   "source": [
    "---\n",
    "layout: post\n",
    "toc: true\n",
    "title: Unit 8 - 2D Arrays Traversing\n",
    "description: 2D Arrays Lesson\n",
    "authors: Matthew Wang\n",
    "categories: [AP CSA]\n",
    "type: ccc\n",
    "permalink: /unit8lesson-p1-traversing\n",
    "---"
   ]
  },
  {
   "cell_type": "markdown",
   "metadata": {},
   "source": [
    "<style>\n",
    "    .unitHold\n",
    "    {\n",
    "    position: fixed;\n",
    "    top: 64px;\n",
    "    width: 100%;\n",
    "    height: 43px;\n",
    "    background-color: #353543;\n",
    "    left: 0px;\n",
    "    display: flex;\n",
    "    flex-direction: row;\n",
    "    flex-wrap: nowrap;\n",
    "    justify-content: space-evenly;\n",
    "    align-items: center;\n",
    "    }\n",
    "\n",
    "    .unitHold a\n",
    "    {\n",
    "    text-decoration: none;\n",
    "    color: #fabe28;\n",
    "    border-left: #fabe28 6px double;\n",
    "    border-right: #fabe28 6px double;\n",
    "    height: 100%;\n",
    "    display: flex;\n",
    "    align-items: center;\n",
    "    justify-content: center;\n",
    "    transition:all 1s;\n",
    "    }\n",
    "\n",
    "    .unitHold a:hover\n",
    "    {\n",
    "        padding-left:5px;\n",
    "        padding-right:5px;\n",
    "    }\n",
    "\n",
    "\n",
    "</style>\n",
    "\n",
    "<div class=\"unitHold\">\n",
    "<a href=\"{{site.baseurl}}/unit8lesson-p1\">Unit 8 Intro</a>\n",
    "<a href=\"{{site.baseurl}}/unit8lesson-p1-declare-initialize\">Unit 8 Declare/Initialize</a>\n",
    "<a href=\"{{site.baseurl}}/unit8lesson-p1-traversing\">Unit 8 Traversing</a>\n",
    "<a href=\"{{site.baseurl}}/unit8lesson-p1-accessing-updating\">Unit 8 Accessing and Updating</a>\n",
    "<a href=\"{{site.baseurl}}/unit8lesson-p1-algorithms\">Unit 8 Algorithms</a>\n",
    "</div>"
   ]
  },
  {
   "cell_type": "markdown",
   "metadata": {},
   "source": [
    "## Traversing 2D Arrays\n",
    "- When traversing through, or looping through 1D arrays, we only need to use one loop to access every element in the array.\n",
    "- This is different in 2D arrays, where we need to use a loop inside of a loop, otherwise known as a **for loop**\n",
    "- Java for loop structure review:\n",
    "```java\n",
    "for(first execution; condition; executed after every loop) {\n",
    "    //Action\n",
    "}\n",
    "\n",
    "\n",
    "ex.\n",
    "for(i = 0; i < 5; i++) {\n",
    "    System.out.println(i);\n",
    "}\n",
    "\n",
    "\n",
    "Prints out\n",
    "0\n",
    "1\n",
    "2\n",
    "3\n",
    "4\n",
    "```\n",
    "(Remember base 0)\n",
    "\n",
    "\n",
    "- How can we use these to traverse through 1D arrays?\n",
    "\n",
    "\n",
    "Lets say we have an array, Array1...\n",
    "\n",
    "\n",
    "```java\n",
    "// Set variable i to 0, while i is less than the length of Array1, print the value of Array1[i], add 1 to i\n",
    "int[] Array1 = {1, 2, 3};\n",
    "for(int i = 0; i < Array1.length; i++){\n",
    "    System.out.println(myArray[i]);\n",
    "}\n",
    "```\n",
    "\n",
    "\n",
    "- What about 2D arrays?\n",
    "```java\n",
    "// Create an array of integers with 2 rows, 3 columns\n",
    "int[][] Array1 = {\n",
    "    {1,2,3},\n",
    "    {4,5,6}\n",
    "};\n",
    "// Set variable i to 0, while i is less than the length of Array1, proceed to the next for loop, add 1 to i\n",
    "for(int i = 0; i < Array1.length; i++){\n",
    "// Set variable i1 to 0, while i is less than the length of the array within Array1 at Array1[i], print the value of Array1[i][i1], add 1 to i1\n",
    "    for(int i1 = 0; i1 < Array1[i].length; i1++){\n",
    "        System.out.println(Array1[i][i1]);\n",
    "    }\n",
    "}\n",
    "```\n",
    "\n",
    "\n",
    "### Put in simpler terms?\n",
    "\n",
    "\n",
    "For every row, loop through the row x number of times, x being the length of the array, print each individual value.\n",
    "So this code, without the loops, would be:\n",
    "```java\n",
    "System.out.println(Array1[0][0])\n",
    "System.out.println(Array1[0][1])\n",
    "System.out.println(Array1[0][2])\n",
    "// Keeping in mind base 0 system, and that Array1 has 3 columns for each row\n",
    "// Move on to the next row\n",
    "System.out.println(Array1[1][0])\n",
    "System.out.println(Array1[1][1])\n",
    "System.out.println(Array1[1][2])\n",
    "// Again, keeping in mind that Array1 has 2 rows, and base 0 system, so \"1st row\" is actually 2nd put in plain english\n",
    "```\n",
    "\n"
   ]
  },
  {
   "cell_type": "markdown",
   "metadata": {},
   "source": [
    "## Lets try!\n"
   ]
  },
  {
   "cell_type": "code",
   "execution_count": 1,
   "metadata": {},
   "outputs": [
    {
     "name": "stdout",
     "output_type": "stream",
     "text": [
      "Row 1, or 0\n",
      "1\n",
      "2\n",
      "3\n",
      "Row 2, or 1\n",
      "4\n",
      "5\n",
      "6\n"
     ]
    }
   ],
   "source": [
    "public class Main {\n",
    "    public static void main(String[] args) {\n",
    "        int[][] Array1 = {\n",
    "            {1,2,3},\n",
    "            {4,5,6}\n",
    "        };\n",
    "        // Set variable i to 0, while i is less than the length of Array1, proceed to the next for loop, add 1 to i\n",
    "        for(int i = 0; i < Array1.length; i++){\n",
    "        System.out.println(\"Row \" + (i+1) + \", or \" + i);\n",
    "        // Set variable i1 to 0, while i is less than the length of the array within Array1 at Array1[i], print the value of Array1[i][i1], add 1 to i1\n",
    "            for(int i1 = 0; i1 < Array1[i].length; i1++){\n",
    "                System.out.println(Array1[i][i1]);\n",
    "            }\n",
    "        }\n",
    "    }\n",
    "}\n",
    "\n",
    "\n",
    "Main.main(null)\n"
   ]
  },
  {
   "cell_type": "markdown",
   "metadata": {},
   "source": [
    "## Popcorn Hack\n",
    "\n",
    "\n",
    "Let's say you have an array Numbers[][] defined as:\n",
    "```java\n",
    "int Numbers[][] = {\n",
    "    {1,2,3},\n",
    "    {4,5,6},\n",
    "    {7,8,9},\n",
    "};\n",
    "```\n",
    "Loop through it until you reached a certain number of your choice, then print the value and position\n"
   ]
  },
  {
   "cell_type": "code",
   "execution_count": 4,
   "metadata": {},
   "outputs": [
    {
     "name": "stdout",
     "output_type": "stream",
     "text": [
      "Target Found\n",
      "5\n",
      "Position X: 1 Position Y: 1\n"
     ]
    }
   ],
   "source": [
    "public class Main {\n",
    "    public static void main(String[] args) {\n",
    "        int[][] Numbers = {\n",
    "            {1,2,3},\n",
    "            {4,5,6},\n",
    "            {7,8,9}\n",
    "        };\n",
    "\n",
    "        int target = 5;\n",
    "    \n",
    "       for(int i=0;i<Numbers.length;i++)\n",
    "       {\n",
    "        for(int j=0;j<Numbers[i].length;j++)\n",
    "        {\n",
    "            if(Numbers[i][j] == target)\n",
    "            {\n",
    "                System.out.println(\"Target Found\");\n",
    "                System.out.println(target);\n",
    "                System.out.println(\"Position X: \" + String.valueOf(j) + \" Position Y: \" + String.valueOf(i));\n",
    "            }\n",
    "        }\n",
    "       }\n",
    "\n",
    "    }\n",
    "}\n",
    "\n",
    "\n",
    "Main.main(null)\n"
   ]
  },
  {
   "cell_type": "markdown",
   "metadata": {},
   "source": [
    "Example output:\n",
    "9 is at row 3 column 3\n",
    "\n",
    "\n",
    "\n",
    "\n"
   ]
  },
  {
   "cell_type": "markdown",
   "metadata": {},
   "source": [
    "# What if you want to go column-first?\n",
    "\n",
    "## Introducing: Column Major Order, as an alternative to Row Major Order\n",
    "\n",
    "\n",
    "Put simply, all you have to do is reverse the order of the loops, and keep the insides intact, and use the length of a row for the number of times to loop instead of the length of a column.\n",
    "\n",
    "\n",
    "Why/how does this work?\n",
    "\n",
    "\n",
    "Now instead of looping once for every row by taking the number of elements in the array, which defines how many rows there, we instead loop once for every element in each element in the array, (ex. an array with an element {1, 2, 3} would loop 3 times) which defines how many columns there are. Then, we print out the value from the chosen column, represented by i1, and then increment the row value, i, to finish out the rest of the column. Then, i1, the column value, is incremented, and the value repeats. We reverse the order of the loops so that the **column** is **prioritized**, and make the changes accordingly.\n",
    "\n"
   ]
  },
  {
   "cell_type": "code",
   "execution_count": 3,
   "metadata": {},
   "outputs": [
    {
     "name": "stdout",
     "output_type": "stream",
     "text": [
      "Column 1\n",
      "1\n",
      "4\n",
      "Column 2\n",
      "2\n",
      "5\n",
      "Column 3\n",
      "3\n",
      "6\n"
     ]
    }
   ],
   "source": [
    "public class Main {\n",
    "    public static void main(String[] args) {\n",
    "        int[][] Array1 = {\n",
    "            {1,2,3},\n",
    "            {4,5,6}\n",
    "        };\n",
    "        // Set variable i to 0, while i is less than the length of Array1, proceed to the next for loop, add 1 to i\n",
    "        for(int i1 = 0; i1 < Array1[0].length; i1++){\n",
    "            System.out.println(\"Column \" + (i1+1));\n",
    "            for(int i = 0; i < Array1.length; i++){\n",
    "                System.out.println(Array1[i][i1]);\n",
    "            }\n",
    "        }\n",
    "    }\n",
    "}\n",
    "\n",
    "\n",
    "Main.main(null)"
   ]
  }
 ],
 "metadata": {
  "kernelspec": {
   "display_name": "Java",
   "language": "java",
   "name": "java"
  },
  "language_info": {
   "codemirror_mode": "java",
   "file_extension": ".jshell",
   "mimetype": "text/x-java-source",
   "name": "java",
   "pygments_lexer": "java",
   "version": "17.0.12+7-Ubuntu-1ubuntu222.04"
  },
  "orig_nbformat": 4
 },
 "nbformat": 4,
 "nbformat_minor": 2
}
