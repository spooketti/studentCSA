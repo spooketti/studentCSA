{
 "cells": [
  {
   "cell_type": "raw",
   "metadata": {
    "vscode": {
     "languageId": "raw"
    }
   },
   "source": [
    "---\n",
    "layout: post\n",
    "toc: true\n",
    "title: Unit 2 - Using Objects\n",
    "description: Using Objects\n",
    "authors: Aniket Chakradeo, Soham Kamat\n",
    "categories: [AP CSA]\n",
    "courses: { csa: {week: 4} }\n",
    "type: ccc\n",
    "---"
   ]
  },
  {
   "cell_type": "markdown",
   "metadata": {},
   "source": [
    "## Instances of Classes\n",
    "\n",
    "**Java** is an **object-oriented programming language**, focusing on the manipulation of **objects**. **Objects** are a **reference type**, meaning they combine **primitive** and **reference data types**. When referenced, it points to their storage location.\n",
    "\n",
    "The composition of each object is defined by a **class**, which acts as a template. A **class** outlines what an object is and what it can do, similar to a **blueprint** for a house. Each house (object) built from this blueprint (class) may vary in appearance but shares common features and functions."
   ]
  },
  {
   "cell_type": "markdown",
   "metadata": {},
   "source": [
    "## Initializing Objects\n",
    "\n",
    "To create an **object**, we call the object's **constructor**. Every **class** must have a constructor; if you don't create one, a default empty constructor is provided. If a **class** is like a blueprint, the **constructor** is the architect bringing it to life. The **constructor** takes in parameters (e.g., name, age) and assigns specific values to create the object. \n",
    "\n",
    "Example:\n",
    "```java\n",
    "Car(String brand, String model, int year)\n",
    "Car flash = new Car(\"BMW\", \"X7\", 2023);\n",
    "```\n",
    "\n",
    "Creating an object is similar to creating a variable: start with the **type**, enter the object's **name**, and use the **equals sign** (assignment operator) to assign a value. Use the **new** keyword to create a new object. The order of parameters in the **constructor** matters; an **IllegalArgumentException** will arise if the order is incorrect. \n",
    "\n",
    "A **class** can have multiple **constructors** (overloading), differentiated by their parameters.\n",
    "\n",
    "The **null** keyword means no reference is created, and the object contains nothing:\n",
    "```java\n",
    "Car lightning = null;\n",
    "```\n",
    "Be cautious with **null** objects, as calling a method on them results in a **NullPointerException**."
   ]
  },
  {
   "cell_type": "markdown",
   "metadata": {},
   "source": [
    "## Calling a Void Method\n",
    "\n",
    "A **method** consists of five main parts: **scope**, **return type**, **name**, **parameters**, and **body**. Here's an example:\n",
    "\n",
    "```java\n",
    "public void study(int hoursStudied) {\n",
    " totalHours += hoursStudied;\n",
    "}\n",
    "```\n",
    "\n",
    "1. **Scope**: `public` - Anyone can access this method.\n",
    "2. **Return type**: `void` - The method returns nothing.\n",
    "3. **Name**: `study` - Case-sensitive.\n",
    "4. **Parameters**: `int hoursStudied` - Requires an integer input.\n",
    "5. **Body**: `totalHours += hoursStudied;` - The method's action.\n",
    "\n",
    "This method can be called on an object:\n",
    "```java\n",
    "Person bob = new Person(\"bob\");\n",
    "bob.study(2);\n",
    "```\n",
    "In this snippet:\n",
    "- A new **Person** object named **bob** is created.\n",
    "- The `study` method is called on **bob** using **dot notation**.\n",
    "- `2` is passed as an argument, indicating bob studied for 2 hours."
   ]
  },
  {
   "cell_type": "markdown",
   "metadata": {},
   "source": [
    "## Calling a Void Method with Parameters\n",
    "\n",
    "**Methods**, like constructors, can be **overloaded**, meaning each method has a different parameter list.\n",
    "\n",
    "Example:\n",
    "```java\n",
    "public void waterTracker(int numberOfGlasses)\n",
    "public void waterTracker(String typeOfDrink)\n",
    "```\n",
    "\n",
    "The `waterTracker` method is overloaded with two versions:\n",
    "1. Takes an **integer** parameter.\n",
    "2. Takes a **String** parameter.\n",
    "\n",
    "Depending on the argument passed when calling `waterTracker`, the appropriate method is invoked."
   ]
  },
  {
   "cell_type": "markdown",
   "metadata": {},
   "source": [
    "## Calling a Non-Void Method\n",
    "\n",
    "In the `study(int hoursStudied)` method, the return type was **void**, meaning nothing was returned. However, methods in Java can have various return types, both **primitive** and **reference types**. Methods can return types like **int**, **String**, **boolean**, **double**, **Object**, and more. Implementing a non-void return type allows storing the result for later use.\n",
    "\n",
    "A method with a non-void return type must end with a **return statement**, specifying what the method returns. The return statement must be the last line in the method.\n",
    "\n",
    "Example:\n",
    "```java\n",
    "public double degreesToRadians(double degrees) {\n",
    " double radians = degrees * (3.141 / 180);\n",
    " return radians;\n",
    "}\n",
    "```\n",
    "\n",
    "In this method, the return type is **double**, so we return the variable **radians**. The result can be stored in a variable like this:\n",
    "```java\n",
    "double result = degreesToRadians(34.5);\n",
    "```\n",
    "\n",
    "The right side evaluates to approximately **0.602**, which becomes the value of **result**. Pretty useful!"
   ]
  },
  {
   "cell_type": "markdown",
   "metadata": {},
   "source": [
    "## String Objects: Concatenation, Literals, and More\n",
    "\n",
    "In Java, a **String** object is a sequence of characters. You can create a **String** object using the **String class's constructor**:\n",
    "```java\n",
    "String greeting = new String(\"What's up?\");\n",
    "```\n",
    "However, the more efficient way is to use a **string literal**:\n",
    "```java\n",
    "String greeting = \"What's up?\";\n",
    "```\n",
    "\n",
    "Since a **String** is an object, you can call methods on it, such as `.length()` and `.toLowerCase()`. One special feature of **Strings** is **string concatenation**, which combines two or more strings into a single string using the `+` operator. Remember to add a space between words, as Java does not do that automatically:\n",
    "```java\n",
    "String greeting = \"What's \" + \"up?\";\n",
    "```\n",
    "\n",
    "**Escape characters** represent special characters in a string. For example, `\\n` represents a new line:\n",
    "```java\n",
    "String greeting = \"Hello,\\nworld!\";\n",
    "```\n",
    "This will output:\n",
    "```\n",
    "Hello,\n",
    "world!\n",
    "```"
   ]
  },
  {
   "cell_type": "markdown",
   "metadata": {},
   "source": [
    "## String Methods\n",
    "\n",
    "In Java, the **String** class has several methods for performing operations on strings. Some common **String** methods are:\n",
    "\n",
    "- **length()**: Returns the length of the string.\n",
    "- **indexOf(String str)**: Returns the index of the first occurrence of the specified string.\n",
    "- **substring(int beginIndex)**: Returns a new string that starts at the specified **beginIndex** and extends to the end of the string.\n",
    "- **substring(int beginIndex, int endIndex)**: Returns a new string that starts at **beginIndex** and extends to **endIndex - 1**.\n",
    "\n",
    "The **substring** method is overloaded with two versions. In Java, indexing starts at 0, meaning the first character of a string has an index of 0. For example, the string `\"taco cat\"` has a length of 8 characters, with indices from 0 to 7."
   ]
  },
  {
   "cell_type": "code",
   "execution_count": 8,
   "metadata": {},
   "outputs": [
    {
     "name": "stdout",
     "output_type": "stream",
     "text": [
      "4\n",
      "1\n"
     ]
    },
    {
     "name": "stdout",
     "output_type": "stream",
     "text": [
      "st\n",
      "s\n"
     ]
    }
   ],
   "source": [
    "String test = \"test\";\n",
    "System.out.println(test.length());\n",
    "System.out.println(test.indexOf(\"es\"));\n",
    "System.out.println(test.substring(2));\n",
    "System.out.println(test.substring(2, 3));"
   ]
  },
  {
   "cell_type": "markdown",
   "metadata": {},
   "source": [
    "## Using the Math Class\n",
    "\n",
    "The **Math** class in Java provides various mathematical functions and constants. It's included in the standard Java package, so no import is needed. Some common methods of the **Math** class are:\n",
    "\n",
    "- **abs(int a)**: Returns the absolute value of the argument as an **int** or **double**, depending on the input type.\n",
    "- **pow(double a, double b)**: Returns the value of **a** raised to the power of **b** as a **double**.\n",
    "- **sqrt(double a)**: Returns the square root of the argument as a **double**.\n",
    "- **random()**: Returns a random number between 0 (inclusive) and 1 (exclusive) as a **double**.\n",
    "\n",
    "The **Math** class also includes constants like **Math.PI** (approximately 3.14159).\n",
    "\n",
    "### Summary of Topics\n",
    "\n",
    "- **Making/Initializing Objects**\n",
    "- **Writing/Calling Methods**\n",
    "- **String Class**\n",
    "- **String Methods**\n",
    "  - **length()**: Returns the length of the string.\n",
    "  - **indexOf(String str)**: Returns the index of the first occurrence of the specified string.\n",
    "  - **substring(int beginIndex)**: Returns a new string that starts at **beginIndex** and extends to the end.\n",
    "  - **substring(int beginIndex, int endIndex)**: Returns a new string that starts at **beginIndex** and extends to **endIndex - 1**.\n",
    "- **Wrapper Classes**\n",
    "- **Math Class**\n",
    "  - **abs(int a)**: Returns the absolute value of the argument.\n",
    "  - **pow(double a, double b)**: Returns **a** raised to the power of **b**.\n",
    "  - **sqrt(double a)**: Returns the square root of the argument.\n",
    "  - **random()**: Returns a random number between 0 and 1."
   ]
  },
  {
   "cell_type": "markdown",
   "metadata": {},
   "source": [
    "\n",
    "Additional Resources:\n",
    "\n",
    "[Codecademy](https://www.codecademy.com/learn/learn-java)<br>\n",
    "[HackerRank](https://www.hackerrank.com/domains/tutorials/10-days-of-java)"
   ]
  },
  {
   "cell_type": "markdown",
   "metadata": {},
   "source": [
    "## Hacks\n",
    "### Part 1"
   ]
  },
  {
   "cell_type": "code",
   "execution_count": null,
   "metadata": {},
   "outputs": [],
   "source": [
    "public class Car {\n",
    "    String brand;\n",
    "    String model;\n",
    "    int year;\n",
    "    boolean isElectric;\n",
    "\n",
    "    public Car(String brand, String model, int year, boolean isElectric) {\n",
    "        this.brand = brand;\n",
    "        this.model = model;\n",
    "        this.year = year;\n",
    "        this.isElectric = isElectric;\n",
    "    }\n",
    "\n",
    "    public void printCarInfo() {\n",
    "        System.out.println(\"Brand: \" + brand + \", Model: \" + model + \", Year: \" + year + \", Electric: \" + isElectric);\n",
    "    }\n",
    "\n",
    "    public boolean isElectricCar() {\n",
    "        return isElectric;\n",
    "    }\n",
    "}\n",
    "\n",
    "public static void main(String[] args) {\n",
    "    Car car1 = new Car(\"Tesla\", \"Model S\", 2023, true);\n",
    "    Car car2 = new Car(\"Ford\", \"Mustang\", 2022, false);\n",
    "    Car car3 = new Car(\"Nissan\", \"Leaf\", 2023, true);\n",
    "    \n",
    "    car1.printCarInfo();\n",
    "    System.out.println(\"Is car2 electric? \" + car2.isElectricCar());\n",
    "}"
   ]
  },
  {
   "cell_type": "markdown",
   "metadata": {},
   "source": [
    "Answer the following questions based on the code above:\n",
    "* a) What is the purpose of the `Car` class in the given code? How does it represent the concept of objects in Java?\n",
    "* Answer: \n",
    "* b) Explain how the `printCarInfo` method is used in the code. What information does it display, and how is it called?\n",
    "* Answer: \n",
    "* c) The method `isElectricCar` returns a boolean value. Explain how this method is used with the `car2` object and what the output will be.\n",
    "* Answer: \n",
    "* d) If you wanted to add a new method to the `Car` class to calculate the car's age, how would you implement it? Provide a brief code example.\n",
    "* Answer: "
   ]
  },
  {
   "cell_type": "markdown",
   "metadata": {},
   "source": [
    "### Part 2\n",
    "Situation: You are building an inventory management system where you need to manage different products. Each product has attributes like name, quantity, and price. \n",
    "\n",
    "(a) Define the term \"class\" in Java and explain how it relates to objects. Provide an example to illustrate your explanation.\n",
    "\n",
    "(b) Explain the purpose of a constructor in a Java class. How does it differ from a method?\n",
    "\n",
    "(c) Code:\n",
    "\n",
    "You need to create a `Product` class with attributes `String name`, `int quantity`, and `double price`. Write a constructor for this class that initializes these attributes. Also, write a method `calculateTotalValue` that returns the total value of the product (quantity * price). Provide comments in your code to explain each step."
   ]
  }
 ],
 "metadata": {
  "kernelspec": {
   "display_name": "Java",
   "language": "java",
   "name": "java"
  },
  "language_info": {
   "codemirror_mode": "java",
   "file_extension": ".jshell",
   "mimetype": "text/x-java-source",
   "name": "java",
   "pygments_lexer": "java",
   "version": "19.0.2+7-44"
  }
 },
 "nbformat": 4,
 "nbformat_minor": 2
}
