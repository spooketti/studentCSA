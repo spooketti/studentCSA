{
 "cells": [
  {
   "cell_type": "raw",
   "metadata": {
    "vscode": {
     "languageId": "raw"
    }
   },
   "source": [
    "---\n",
    "layout: post\n",
    "title: Unit 3 Team Teach - 3.3\n",
    "description: Unit 3 Team Teach\n",
    "comments: true\n",
    "permalink: /csa/unit3-p1/unit3-3\n",
    "author: Alisha Hussain, Anika Bhatnagar, Kayden Le, Sharon Kodali\n",
    "---"
   ]
  },
  {
   "cell_type": "markdown",
   "metadata": {},
   "source": [
    "# 3.3 If Else Statements\n",
    "\n",
    "<a id=\"if-else-statements\"></a>\n",
    "## Purpose of Else Statements\n",
    "Else statements: Handles what happens when the if condition is false.\n",
    "Structure of If-Else:\n",
    "- If statement with a condition.\n",
    "- Else statement without a condition.\n",
    "- Both parts have code blocks surrounded by {}.\n",
    "\n"
   ]
  },
  {
   "cell_type": "markdown",
   "metadata": {},
   "source": [
    "# don't forget the brackets "
   ]
  },
  {
   "cell_type": "code",
   "execution_count": 4,
   "metadata": {
    "vscode": {
     "languageId": "java"
    }
   },
   "outputs": [
    {
     "name": "stdout",
     "output_type": "stream",
     "text": [
      "x is 10 or less\n",
      "This code runs when the condition is false\n",
      "this code will always run\n"
     ]
    }
   ],
   "source": [
    "int x = 10;\n",
    "if (x > 10) {\n",
    "\n",
    "        System.out.println(\"x is greater than 10\");\n",
    "        System.out.println(\"This code when the condition is true\");\n",
    "    } else {\n",
    "    \n",
    "        System.out.println(\"x is 10 or less\");\n",
    "        System.out.println(\"This code runs when the condition is false\");\n",
    "    }\n",
    "    //Without brackets:\n",
    "    \n",
    "    if (x > 10)\n",
    "    \n",
    "        System.out.println(\"x is greater than 10\");\n",
    "        System.out.println(\"this code will always run\");"
   ]
  },
  {
   "cell_type": "markdown",
   "metadata": {},
   "source": [
    "<img width=\"816\" alt=\"image\" src=\"https://github.com/user-attachments/assets/c6701143-b87f-427b-a206-6cee0660571c\">\n",
    "\n",
    "1. Based on this code, if you were younger than 16 what would it print out?\n",
    "2. Write your own if else statement"
   ]
  },
  {
   "cell_type": "markdown",
   "metadata": {},
   "source": [
    "If i were younger than 16 it would print out \n",
    "\"Current age: [number less than 16]\"\n",
    "\"You are not old enough for a license yet.\""
   ]
  },
  {
   "cell_type": "code",
   "execution_count": 5,
   "metadata": {
    "vscode": {
     "languageId": "java"
    }
   },
   "outputs": [
    {
     "name": "stdout",
     "output_type": "stream",
     "text": [
      "Current Age: 16\n",
      "haha teen\n"
     ]
    }
   ],
   "source": [
    "int myAge = 16;\n",
    "System.out.println(\"Current Age: \"+myAge);\n",
    "if(myAge > 16)\n",
    "{\n",
    "    System.out.println(\"haha old\");\n",
    "}\n",
    "else if(myAge == 16)\n",
    "{\n",
    "    System.out.println(\"haha teen\");\n",
    "}\n",
    "else\n",
    "{\n",
    "    System.out.println(\"haha young person\");\n",
    "}"
   ]
  }
 ],
 "metadata": {
  "kernelspec": {
   "display_name": "Java",
   "language": "java",
   "name": "java"
  },
  "language_info": {
   "codemirror_mode": "java",
   "file_extension": ".jshell",
   "mimetype": "text/x-java-source",
   "name": "Java",
   "pygments_lexer": "java",
   "version": "17.0.12+7-Ubuntu-1ubuntu222.04"
  }
 },
 "nbformat": 4,
 "nbformat_minor": 2
}
