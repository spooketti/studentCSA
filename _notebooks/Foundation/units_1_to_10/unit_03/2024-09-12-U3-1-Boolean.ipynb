{
 "cells": [
  {
   "cell_type": "markdown",
   "metadata": {
    "vscode": {
     "languageId": "raw"
    }
   },
   "source": [
    "---\n",
    "layout: post\n",
    "comments: true\n",
    "title: Unit 3 Boolean Expressions - 3.1\n",
    "description: Unit 3 Team Teach\n",
    "categories: [AP CSA]\n",
    "permalink: /csa/unit3-p1/unit3-1\n",
    "author: Alisha Hussain, Anika Bhatnagar, Kayden Le, Sharon Kodali\n",
    "---"
   ]
  },
  {
   "cell_type": "markdown",
   "metadata": {},
   "source": [
    "<style>\n",
    "    .unitHold\n",
    "    {\n",
    "    position: fixed;\n",
    "    top: 64px;\n",
    "    width: 100%;\n",
    "    height: 43px;\n",
    "    background-color: #353543;\n",
    "    left: 0px;\n",
    "    display: flex;\n",
    "    flex-direction: row;\n",
    "    flex-wrap: nowrap;\n",
    "    justify-content: space-evenly;\n",
    "    align-items: center;\n",
    "    }\n",
    "\n",
    "    .unitHold a\n",
    "    {\n",
    "    text-decoration: none;\n",
    "    color: #fabe28;\n",
    "    border-left: #fabe28 6px double;\n",
    "    border-right: #fabe28 6px double;\n",
    "    height: 100%;\n",
    "    display: flex;\n",
    "    align-items: center;\n",
    "    justify-content: center;\n",
    "    transition:all 1s;\n",
    "    }\n",
    "\n",
    "    .unitHold a:hover\n",
    "    {\n",
    "        padding-left:5px;\n",
    "        padding-right:5px;\n",
    "    }\n",
    "\n",
    "\n",
    "</style>\n",
    "\n",
    "<div class=\"unitHold\">\n",
    "<a href=\"{{site.baseurl}}/csa/unit3-p1/intro\">Unit 3 Intro</a>\n",
    "<a href=\"{{site.baseurl}}/csa/unit3-p1/unit3-1\">Unit 3.1</a>\n",
    "<a href=\"{{site.baseurl}}/csa/unit3-p1/unit3-2\">Unit 3.2</a>\n",
    "<a href=\"{{site.baseurl}}/csa/unit3-p1/unit3-3\">Unit 3.3</a>\n",
    "<a href=\"{{site.baseurl}}/csa/unit3-p1/unit3-4\">Unit 3.4</a>\n",
    "<a href=\"{{site.baseurl}}/csa/unit3-p1/unit3-5\">Unit 3.5</a>\n",
    "<a href=\"{{site.baseurl}}/csa/unit3-p1/unit3-6\">Unit 3.6</a>\n",
    "<a href=\"{{site.baseurl}}/csa/unit3-p1/unit3-7\">Unit 3.7</a>\n",
    "<a href=\"{{site.baseurl}}/csa/unit3-p1/unit3-8hw\">Unit 3 HW</a>\n",
    "</div>"
   ]
  },
  {
   "cell_type": "markdown",
   "metadata": {},
   "source": [
    "# 3.1 Boolean Expressions\n",
    "\n",
    "<a id=\"boolean-expressions\"></a>\n",
    "\n",
    "## Java's relational operators\n",
    "\n",
    "- equal to: ==\n",
    "- not equal to: !=\n",
    "- less than: <\n",
    "- greater than: >\n",
    "- less than or equal to: <=\n",
    "- greater than or equal to >="
   ]
  },
  {
   "cell_type": "markdown",
   "metadata": {},
   "source": [
    "<b>Hack!</b>\n",
    "\n",
    "```\n",
    "int myAge = 15;\n",
    "int otherAge = 45; \n",
    "```\n",
    "using these integers, determine weather the following statements are True or False\n",
    "\n",
    "<img width=\"785\" alt=\"Screenshot 2024-09-15 at 10 00 54 PM\" src=\"https://github.com/user-attachments/assets/1f4ec53e-fd9a-4f49-9546-a4945b8a207c\">\n",
    "\n",
    "## Strings"
   ]
  },
  {
   "cell_type": "code",
   "execution_count": null,
   "metadata": {},
   "outputs": [],
   "source": [
    "int myAge = 15;\n",
    "int otherAge = 45;\n",
    "\n",
    "myAge < 16; //true\n",
    "myAge <= 15; //true\n",
    "myAge == 15; //true\n",
    "myAge > otherAge //false\n",
    "myAge >= otherAge //false\n",
    "myAge != otherAge //true"
   ]
  },
  {
   "cell_type": "markdown",
   "metadata": {},
   "source": [
    "## popcorn hack \n",
    "whats wrong with this code? (below)"
   ]
  },
  {
   "cell_type": "code",
   "execution_count": 1,
   "metadata": {},
   "outputs": [
    {
     "ename": "CompilationException",
     "evalue": "",
     "output_type": "error",
     "traceback": [
      "\u001b[1m\u001b[30m|   \u001b[1m\u001b[30mString myName = \u001b[0m\u001b[1m\u001b[30m\u001b[41mAlisha\u001b[0m\u001b[1m\u001b[30m;\u001b[0m",
      "\u001b[1m\u001b[31mcannot find symbol\u001b[0m",
      "\u001b[1m\u001b[31m  symbol:   variable Alisha\u001b[0m",
      ""
     ]
    }
   ],
   "source": [
    "\n",
    "String myName = Alisha;\n",
    "\n",
    "myName != Anika;\n",
    "myName == Alisha ;"
   ]
  },
  {
   "cell_type": "markdown",
   "metadata": {},
   "source": [
    "The problem with the code is that the string is missing its quotation marks\n",
    "With the problem corrected it would become true on both lines. "
   ]
  },
  {
   "cell_type": "code",
   "execution_count": 8,
   "metadata": {},
   "outputs": [
    {
     "name": "stdout",
     "output_type": "stream",
     "text": [
      "true\n"
     ]
    }
   ],
   "source": [
    "String myName = \"Alisha\";\n",
    "String otherName = \"Anika\";\n",
    "myName != \"Anika\"; //true\n",
    "myName == \"Alisha\"; //true\n",
    "\n",
    "myName == otherName; //false\n",
    "\n",
    "System.out.println(myName == \"Alisha\"); //true\n",
    "\n"
   ]
  },
  {
   "cell_type": "markdown",
   "metadata": {},
   "source": [
    "comparison of string objects should be done using String methods, NOT integer methods. \n",
    "\n",
    "- .equal\n",
    "- compare to"
   ]
  },
  {
   "cell_type": "code",
   "execution_count": 9,
   "metadata": {},
   "outputs": [
    {
     "name": "stdout",
     "output_type": "stream",
     "text": [
      "True\n"
     ]
    }
   ],
   "source": [
    "String myName = \"Alisha\";\n",
    "boolean areNamesEqual = myName.equals(\"Alisha\");  \n",
    "\n",
    "if (areNamesEqual) {\n",
    "    System.out.println(\"True\");\n",
    "} else {\n",
    "    System.out.println(\"False\");\n",
    "}\n"
   ]
  },
  {
   "cell_type": "markdown",
   "metadata": {},
   "source": [
    "### homework question\n",
    "<img width=\"693\" alt=\"Screenshot 2024-09-16 at 8 05 24 AM\" src=\"https://github.com/user-attachments/assets/1fe21854-ca17-4cfd-9e9d-14a92e6e6205\">\n",
    "what is the precondition for num?"
   ]
  },
  {
   "cell_type": "markdown",
   "metadata": {},
   "source": [
    "The precondition for num is for num to be more than 0 and less than or equal to six\n",
    "so \n",
    "\n",
    "num >= 0\n",
    "and num <= 6"
   ]
  }
 ],
 "metadata": {
  "kernelspec": {
   "display_name": "Java",
   "language": "java",
   "name": "java"
  },
  "language_info": {
   "codemirror_mode": "java",
   "file_extension": ".jshell",
   "mimetype": "text/x-java-source",
   "name": "java",
   "pygments_lexer": "java",
   "version": "17.0.12+7-Ubuntu-1ubuntu222.04"
  }
 },
 "nbformat": 4,
 "nbformat_minor": 2
}
