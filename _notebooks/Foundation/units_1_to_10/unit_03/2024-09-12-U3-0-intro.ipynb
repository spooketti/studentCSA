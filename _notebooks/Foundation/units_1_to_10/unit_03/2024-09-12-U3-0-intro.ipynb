{
 "cells": [
  {
   "cell_type": "markdown",
   "metadata": {
    "vscode": {
     "languageId": "raw"
    }
   },
   "source": [
    "---\n",
    "layout: post\n",
    "comments: true\n",
    "title: Unit 3 - Boolean P1 \n",
    "description: Unit 3 Team Teach\n",
    "categories: [AP CSA]\n",
    "courses: {'csa': {'week': 5}}\n",
    "toc: true\n",
    "type: ccc\n",
    "permalink: /csa/unit3-p1/intro\n",
    "author: Alisha Hussain, Anika Bhatnagar, Kayden Le, Sharon Kodali\n",
    "---"
   ]
  },
  {
   "cell_type": "markdown",
   "metadata": {},
   "source": [
    "## About Unit 3: Booleans\n",
    "\n",
    "- Learning Targets:\n",
    "    - Boolean logic is a fundamental concept in computer science that deals with the manipulation and evaluation of true or false values\n",
    "    - Named after the mathematician George Boole, who developed the algebraic system of logic in the 19th century\n",
    "    - Boolean expressions are used to make decisions and control the flow of a program based on certain conditions\n",
    "\n",
    "- Why is it important:\n",
    "    - Boolean logic is essential for implementing conditional statements, loops, and other control structures in programming\n",
    "    - Allows programmers to create complex decision-making processes and algorithms\n",
    "    - Understanding boolean logic is crucial for writing efficient and effective code in various programming languages, including Java\n"
   ]
  },
  {
   "cell_type": "markdown",
   "metadata": {
    "vscode": {
     "languageId": "html"
    }
   },
   "source": [
    "### Boolean Table \n",
    "\n",
    "<style>\n",
    "    #grid {\n",
    "        display: grid;\n",
    "        grid-template-columns: repeat(5, 100px);\n",
    "        grid-gap: 5px;\n",
    "    }\n",
    "    .square {\n",
    "        width: 100px;\n",
    "        height: 100px;\n",
    "        background-color: white;\n",
    "        border: 2px solid black;\n",
    "        cursor: pointer;\n",
    "        display: flex;\n",
    "        align-items: center;\n",
    "        justify-content: center;\n",
    "        font-size: 24px;\n",
    "        color: black; /* Set text color to black */\n",
    "    }\n",
    "</style>\n",
    "\n",
    "<div id=\"grid\"></div>\n",
    "\n",
    "<script>\n",
    "    const gridSize = 5; // Grid size\n",
    "\n",
    "    // Function to create the grid\n",
    "    function createGrid() {\n",
    "        const grid = document.getElementById('grid');\n",
    "        \n",
    "        for (let i = 0; i < gridSize; i++) {\n",
    "            for (let j = 0; j < gridSize; j++) {\n",
    "                const square = document.createElement('div');\n",
    "                square.className = 'square';\n",
    "                square.textContent = 'false'; // Initial text\n",
    "                square.addEventListener('click', () => toggleSquare(square));\n",
    "                grid.appendChild(square);\n",
    "            }\n",
    "        }\n",
    "    }\n",
    "\n",
    "    // Function to toggle the square's color and text\n",
    "    function toggleSquare(square) {\n",
    "        if (square.style.backgroundColor === 'red') {\n",
    "            square.style.backgroundColor = 'white'; // Turn off color\n",
    "            square.textContent = 'false'; // Change text to false\n",
    "        } else {\n",
    "            square.style.backgroundColor = 'red'; // Turn on color\n",
    "            square.textContent = 'true'; // Change text to true\n",
    "        }\n",
    "    }\n",
    "\n",
    "    // Initialize the grid\n",
    "    createGrid();\n",
    "</script>"
   ]
  }
 ],
 "metadata": {
  "kernelspec": {
   "display_name": "venv",
   "language": "python",
   "name": "python3"
  },
  "language_info": {
   "codemirror_mode": {
    "name": "ipython",
    "version": 3
   },
   "file_extension": ".py",
   "mimetype": "text/x-python",
   "name": "python",
   "nbconvert_exporter": "python",
   "pygments_lexer": "ipython3",
   "version": "3.12.5"
  }
 },
 "nbformat": 4,
 "nbformat_minor": 2
}
