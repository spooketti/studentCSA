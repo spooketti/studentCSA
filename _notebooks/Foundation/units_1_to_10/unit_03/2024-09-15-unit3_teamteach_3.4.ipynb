{
 "cells": [
  {
   "cell_type": "markdown",
   "metadata": {
    "vscode": {
     "languageId": "raw"
    }
   },
   "source": [
    "---\n",
    "layout: post\n",
    "title: Unit 3 Team Teach - 3.4\n",
    "description: Unit 3 Team Teach\n",
    "comments: true\n",
    "permalink: /csa/unit3-p1/unit3-4\n",
    "author: Alisha Hussain, Anika Bhatnagar, Kayden Le, Sharon Kodali\n",
    "---"
   ]
  },
  {
   "cell_type": "markdown",
   "metadata": {},
   "source": [
    "<style>\n",
    "    .unitHold\n",
    "    {\n",
    "    position: fixed;\n",
    "    top: 64px;\n",
    "    width: 100%;\n",
    "    height: 43px;\n",
    "    background-color: #353543;\n",
    "    left: 0px;\n",
    "    display: flex;\n",
    "    flex-direction: row;\n",
    "    flex-wrap: nowrap;\n",
    "    justify-content: space-evenly;\n",
    "    align-items: center;\n",
    "    }\n",
    "\n",
    "    .unitHold a\n",
    "    {\n",
    "    text-decoration: none;\n",
    "    color: #fabe28;\n",
    "    border-left: #fabe28 6px double;\n",
    "    border-right: #fabe28 6px double;\n",
    "    height: 100%;\n",
    "    display: flex;\n",
    "    align-items: center;\n",
    "    justify-content: center;\n",
    "    transition:all 1s;\n",
    "    }\n",
    "\n",
    "    .unitHold a:hover\n",
    "    {\n",
    "        padding-left:5px;\n",
    "        padding-right:5px;\n",
    "    }\n",
    "\n",
    "\n",
    "</style>\n",
    "\n",
    "<div class=\"unitHold\">\n",
    "<a href=\"{{site.baseurl}}/csa/unit3-p1/intro\">Unit 3 Intro</a>\n",
    "<a href=\"{{site.baseurl}}/csa/unit3-p1/unit3-1\">Unit 3.1</a>\n",
    "<a href=\"{{site.baseurl}}/csa/unit3-p1/unit3-2\">Unit 3.2</a>\n",
    "<a href=\"{{site.baseurl}}/csa/unit3-p1/unit3-3\">Unit 3.3</a>\n",
    "<a href=\"{{site.baseurl}}/csa/unit3-p1/unit3-4\">Unit 3.4</a>\n",
    "<a href=\"{{site.baseurl}}/csa/unit3-p1/unit3-5\">Unit 3.5</a>\n",
    "<a href=\"{{site.baseurl}}/csa/unit3-p1/unit3-6\">Unit 3.6</a>\n",
    "<a href=\"{{site.baseurl}}/csa/unit3-p1/unit3-7\">Unit 3.7</a>\n",
    "<a href=\"{{site.baseurl}}/csa/unit3-p1/unit3-8hw\">Unit 3 HW</a>\n",
    "</div>"
   ]
  },
  {
   "cell_type": "markdown",
   "metadata": {},
   "source": [
    "# 3.4 Else If Statements \n",
    "Else If Statements: Used when you have multiple conditions that need to be checked sequentially.\n",
    "\n",
    "Flow of Execution: Each condition is evaluated in the order written. The first true condition's code runs, and the rest are skipped.\n",
    "\n",
    "Structure:\n",
    "\n",
    "- Start with a single if statement.\n",
    "- Follow with as many else if statements as needed.\n",
    "- Optionally end with one else to handle any remaining cases.\n",
    "Key Concept: The order of conditions matters. More specific conditions should come before broader ones to ensure accurate results.\n",
    "\n",
    "<img width=\"734\" alt=\"image\" src=\"https://github.com/user-attachments/assets/d7864258-6f7a-4de1-a6f3-4905dd3eb503\">\n",
    "\n",
    "1. If I was 19 what would it print out? \n",
    "2. If I was 13 what would it print out? \n",
    "3. Create your if statement with one else if condition."
   ]
  },
  {
   "cell_type": "markdown",
   "metadata": {},
   "source": [
    "If I was 19 it would print out \"Current age: 19\" \"You can register to vote.\" \"You are old enough for a liscence to drive.\"\n",
    "\n",
    "If I was 13 it would print out \"Current age: 13\""
   ]
  },
  {
   "cell_type": "code",
   "execution_count": 1,
   "metadata": {},
   "outputs": [
    {
     "name": "stdout",
     "output_type": "stream",
     "text": [
      "average 12 year old be like\n"
     ]
    }
   ],
   "source": [
    "int myAge = 12;\n",
    "if(myAge == 13)\n",
    "{\n",
    "    System.out.println(\"You are 13\");\n",
    "}\n",
    "else if(myAge == 12)\n",
    "{\n",
    "    System.out.println(\"average 12 year old be like\");\n",
    "}\n",
    "else\n",
    "{\n",
    "    System.out.println(\"image being not on this list\");\n",
    "}"
   ]
  }
 ],
 "metadata": {
  "kernelspec": {
   "display_name": "Java",
   "language": "java",
   "name": "java"
  },
  "language_info": {
   "codemirror_mode": "java",
   "file_extension": ".jshell",
   "mimetype": "text/x-java-source",
   "name": "java",
   "pygments_lexer": "java",
   "version": "17.0.12+7-Ubuntu-1ubuntu222.04"
  }
 },
 "nbformat": 4,
 "nbformat_minor": 2
}
