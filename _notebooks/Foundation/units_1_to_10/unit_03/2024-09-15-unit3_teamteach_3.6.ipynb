{
 "cells": [
  {
   "cell_type": "markdown",
   "metadata": {
    "vscode": {
     "languageId": "raw"
    }
   },
   "source": [
    "---\n",
    "layout: post\n",
    "title: Unit 3 Team Teach - 3.6 Equivalent Booleans \n",
    "description: Unit 3 Team Teach\n",
    "comments: true\n",
    "permalink: /csa/unit3-p1/unit3-6\n",
    "author: Alisha Hussain, Anika Bhatnagar, Kayden Le, Sharon Kodali\n",
    "---"
   ]
  },
  {
   "cell_type": "markdown",
   "metadata": {},
   "source": [
    "## 3.6 Equivalent Boolean Expressions \n",
    "- There are multiple ways to represent the same boolean expression. To show that the are the same expression, wither prove that they can be simplified to the same expression using boolean properties and identitied or prove that they can be the same in all cases. \n",
    "- Using De Morgan's Law to compare and contrast equivalent Boolean expressions "
   ]
  },
  {
   "cell_type": "markdown",
   "metadata": {},
   "source": [
    "## Logical operators reminder \n",
    "\n",
    "- **`&&` (AND)**: \n",
    "  - Returns `true` only if both conditions are true.\n",
    "  - Example: `(condition1 && condition2)` is true if both `condition1` and `condition2` are true.\n",
    "\n",
    "- **`||` (OR)**: \n",
    "  - Returns `true` if at least one of the conditions is true.\n",
    "  - Example: `(condition1 || condition2)` is true if either `condition1` or `condition2` (or both) are true.\n",
    "\n",
    "- **`!` (NOT)**: \n",
    "  - Negates the value of a condition; returns `true` if the condition is false, and vice versa.\n",
    "  - Example: `!(condition)` is true if `condition` is false.\n",
    "  "
   ]
  },
  {
   "cell_type": "markdown",
   "metadata": {},
   "source": [
    "# De Morgans Law \n",
    "\n",
    "<img width=\"915\" alt=\"Screenshot 2024-09-25 at 3 48 47 AM\" src=\"https://github.com/user-attachments/assets/cf2646ea-c13d-42e5-879b-22a32889dc38\">\n",
    "\n",
    "<img width=\"923\" alt=\"Screenshot 2024-09-25 at 3 49 40 AM\" src=\"https://github.com/user-attachments/assets/8444190f-3db6-4ad4-b4f8-62a966dfd10c\">"
   ]
  },
  {
   "cell_type": "markdown",
   "metadata": {},
   "source": [
    "#### Distributing a \"not\" with a Boolean expression 'flips' the relationsal operator to the opposite relational operator\n",
    "- ex: !(x > 0) is equivalent to (x<= 0)"
   ]
  },
  {
   "cell_type": "markdown",
   "metadata": {},
   "source": [
    "## Popcorn Hack \n",
    "\n",
    "### Challenge Questions\n",
    "\n",
    "1. **What is `!(x == 0)` equivalent to?**\n",
    "   - Apply De Morgan's Law to find an equivalent expression.\n",
    "   (x!=0)\n",
    "\n",
    "2. **Negate the expression `(x < -5 || x > 10)`.**\n",
    "   - Use De Morgan's Law to rewrite this expression in a different form.\n",
    "   !(x>=-5 && x<=10)"
   ]
  },
  {
   "cell_type": "markdown",
   "metadata": {},
   "source": [
    "## Truth Tables \n",
    "- evaluate and shoe equivalency in Boolean expressions \n",
    "-  see al the possible outcomes that we will have. \n",
    "\n",
    "<img width=\"1333\" alt=\"Screenshot 2024-09-25 at 3 13 16 AM\" src=\"https://github.com/user-attachments/assets/66c398bb-535c-4181-8884-9a916b189dc5\"> "
   ]
  },
  {
   "cell_type": "markdown",
   "metadata": {},
   "source": [
    "<img width=\"691\" alt=\"Screenshot 2024-09-25 at 3 19 33 AM\" src=\"https://github.com/user-attachments/assets/e17a0286-8c5b-46d3-ab59-0d121028cf36\">"
   ]
  }
 ],
 "metadata": {
  "language_info": {
   "name": "python"
  },
  "orig_nbformat": 4
 },
 "nbformat": 4,
 "nbformat_minor": 2
}
