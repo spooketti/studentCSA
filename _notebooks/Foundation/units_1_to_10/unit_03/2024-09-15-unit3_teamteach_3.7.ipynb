{
 "cells": [
  {
   "cell_type": "raw",
   "metadata": {
    "vscode": {
     "languageId": "raw"
    }
   },
   "source": [
    "---\n",
    "layout: post\n",
    "title: Unit 3 Team Teach - 3.7 Comparing Objects\n",
    "description: Unit 3 Team Teach\n",
    "comments: true\n",
    "permalink: /csa/unit3-p1/unit3-7\n",
    "author: Alisha Hussain, Anika Bhatnagar, Kayden Le, Sharon Kodali\n",
    "---"
   ]
  },
  {
   "cell_type": "markdown",
   "metadata": {},
   "source": [
    "# 3.7 Comparing Objects\n",
    "<a id=\"comparing-objects\"></a>\n",
    "## short-circuited evaluation: \n",
    "expression can be determined by only looking at the first operand. "
   ]
  },
  {
   "cell_type": "code",
   "execution_count": null,
   "metadata": {
    "vscode": {
     "languageId": "java"
    }
   },
   "outputs": [],
   "source": [
    "function isEven(num) {\n",
    "    return num % 2 === 0;\n",
    "}\n",
    "\n",
    "function isPositive(num) {\n",
    "    return num > 0;\n",
    "}\n",
    "\n",
    "let number = 10;\n",
    "\n",
    "// Short-circuit with &&\n",
    "if (isEven(number) && isPositive(number)) {\n",
    "    console.log(number + \" is even and positive.\");\n",
    "} else {\n",
    "    console.log(number + \" does not meet the criteria.\");\n",
    "}\n"
   ]
  },
  {
   "cell_type": "markdown",
   "metadata": {},
   "source": [
    "## Short-Circuit Behavior:\n",
    "- && (Logical AND): The expression isEven(number) && isPositive(number) is evaluated.\n",
    "    - JavaScript first evaluates isEven(number). - If this returns false, the whole expression will short-circuit, and isPositive(number) will not be evaluated.\n",
    "- If isEven(number) is true, then isPositive(number) is evaluated."
   ]
  },
  {
   "cell_type": "markdown",
   "metadata": {},
   "source": [
    "## Comparing Objects\n",
    "\n",
    "In java there are two different methods to compare objects but there is a difference between the == operator and the equals() method."
   ]
  },
  {
   "cell_type": "code",
   "execution_count": null,
   "metadata": {
    "vscode": {
     "languageId": "java"
    }
   },
   "outputs": [],
   "source": [
    "## == operator\n",
    "\n",
    "This operator verifies if two references refer to the same object in memory, without evaluating the objects' values or attributes."
   ]
  },
  {
   "cell_type": "code",
   "execution_count": null,
   "metadata": {
    "vscode": {
     "languageId": "java"
    }
   },
   "outputs": [],
   "source": [
    "Integer num1 = 100;\n",
    "Integer num2 = 100;\n",
    "Integer num3 = num1;\n",
    "Integer num4 = new Integer(100);\n",
    "\n",
    "System.out.println(num1 == num3); // true (same reference)\n",
    "System.out.println(num1 == num2); // true (cached integers between -128 and 127)\n",
    "System.out.println(num1 == num4); // false (different references)"
   ]
  },
  {
   "cell_type": "code",
   "execution_count": null,
   "metadata": {
    "vscode": {
     "languageId": "java"
    }
   },
   "outputs": [],
   "source": [
    "This compares the integer as num1 == num3 because they both equal the same integer so it's true. num1 == num2 because when they are both assigned the value 100 they point to the same reference so they become true. num1 == num4 even though they have the same values they are different because it's a new integer so it becomes false because they don't have the same reference point."
   ]
  },
  {
   "cell_type": "markdown",
   "metadata": {},
   "source": [
    "## equals() method\n",
    "\n",
    "This method checks the values or attributes of two objects. In custom classes, it is commonly overridden to offer a meaningful comparison based on the class's specific attributes. It focuses on value rather reference points."
   ]
  },
  {
   "cell_type": "code",
   "execution_count": null,
   "metadata": {
    "vscode": {
     "languageId": "java"
    }
   },
   "outputs": [],
   "source": [
    "Integer num1 = 100;\n",
    "Integer num2 = 100;\n",
    "Integer num3 = new Integer(100);\n",
    "\n",
    "System.out.println(num1.equals(num2)); // true (same value)\n",
    "System.out.println(num1.equals(num3)); // true (same value)"
   ]
  },
  {
   "cell_type": "markdown",
   "metadata": {},
   "source": [
    "This compares the values by their objects, not their references. num1.equals(num2) checks if the values are the same between the 2 but since they both have a value of 100 they are equal so it becomes true. This ignores if the objects have the same or different reference point. num1.euals(num3) even though it has a new integer and it's different from num1 they are still the same because they have the same value so it makes it true."
   ]
  },
  {
   "cell_type": "markdown",
   "metadata": {},
   "source": [
    "## Popcorn hack\n",
    "Would the sharons house and my house be the same?"
   ]
  },
  {
   "cell_type": "code",
   "execution_count": null,
   "metadata": {
    "vscode": {
     "languageId": "java"
    }
   },
   "outputs": [],
   "source": [
    "class House {\n",
    "    private String color;\n",
    "    private int size;\n",
    "\n",
    "    public House(String color, int size) {\n",
    "        this.color = color;\n",
    "        this.size = size;\n",
    "    }\n",
    "\n",
    "    // Override equals method to compare House objects by content\n",
    "    @Override\n",
    "    public boolean equals(Object obj) {\n",
    "        if (this == obj) return true;  // Check if same object reference\n",
    "        if (obj == null || getClass() != obj.getClass()) return false;  // Check if same class\n",
    "        House house = (House) obj;\n",
    "        return size == house.size && color.equals(house.color);  // Compare attributes\n",
    "    }\n",
    "}\n",
    "\n",
    "public class Main {\n",
    "    public static void main(String[] args) {\n",
    "        House myHouse = new House(\"green\", 150);\n",
    "        House anikasHouse = new House(\"green\", 150);\n",
    "        House sharonsHouse = new House(\"green\", 150);\n",
    "\n",
    "        // Correct comparison using equals()\n",
    "        System.out.println(myHouse.equals(sharonsHouse));  // This should return true\n",
    "    }\n",
    "}\n"
   ]
  }
 ],
 "metadata": {
  "language_info": {
   "name": "python"
  }
 },
 "nbformat": 4,
 "nbformat_minor": 2
}
