{
 "cells": [
  {
   "cell_type": "markdown",
   "metadata": {},
   "source": [
    "---\n",
    "layout: post\n",
    "title:  9.6 Polymorphism\n",
    "courses: { csse: {week: 1}, csp: {week: 1}, csa: {week: 1} }\n",
    "categories: [DevOps]\n",
    "permalink: /inheritance/poly-morphism\n",
    "type: hacks\n",
    "comments: true\n",
    "sticky_rank: 1\n",
    "---"
   ]
  },
  {
   "cell_type": "markdown",
   "metadata": {},
   "source": [
    "<style>\n",
    "    .unitHold\n",
    "    {\n",
    "    position: fixed;\n",
    "    top: 64px;\n",
    "    width: 100%;\n",
    "    height: 43px;\n",
    "    background-color: #353543;\n",
    "    left: 0px;\n",
    "    display: flex;\n",
    "    flex-direction: row;\n",
    "    flex-wrap: nowrap;\n",
    "    justify-content: space-evenly;\n",
    "    align-items: center;\n",
    "    }\n",
    "\n",
    "    .unitHold a\n",
    "    {\n",
    "    text-decoration: none;\n",
    "    color: #fabe28;\n",
    "    border-left: #fabe28 6px double;\n",
    "    border-right: #fabe28 6px double;\n",
    "    height: 100%;\n",
    "    display: flex;\n",
    "    align-items: center;\n",
    "    justify-content: center;\n",
    "    transition:all 1s;\n",
    "    }\n",
    "\n",
    "    .unitHold a:hover\n",
    "    {\n",
    "        padding-left:5px;\n",
    "        padding-right:5px;\n",
    "    }\n",
    "\n",
    "\n",
    "</style>\n",
    "\n",
    "<div class=\"unitHold\">\n",
    "<a href=\"{{site.baseurl}}/inheritance\">Unit 9 Inheritance Intro</a>\n",
    "<a href=\"{{site.baseurl}}/inheritance/superclass\">Unit 9.1/9.2</a>\n",
    "<a href=\"{{site.baseurl}}/inheritance/override\">Unit 9.3/9.4</a>\n",
    "<a href=\"{{site.baseurl}}/inheritance/hierarchies\">Unit 9.5</a>\n",
    "<a href=\"{{site.baseurl}}/inheritance/poly-morphism\">Unit 9.6</a>\n",
    "<a href=\"{{site.baseurl}}/inheritance/object-superclass\">Unit 9.7</a>\n",
    "<a href=\"{{site.baseurl}}/inheritance-hacks\">Unit 9 Hacks</a>\n",
    "</div>"
   ]
  },
  {
   "cell_type": "markdown",
   "metadata": {},
   "source": [
    "## Polymorphism"
   ]
  },
  {
   "cell_type": "markdown",
   "metadata": {},
   "source": [
    "Learning Targets:\n",
    "* What is Polymorphism\n",
    "* Difference between Static and Dynamic Data Types\n",
    "* Compile Time vs Run time"
   ]
  },
  {
   "cell_type": "markdown",
   "metadata": {},
   "source": [
    "***"
   ]
  },
  {
   "cell_type": "markdown",
   "metadata": {},
   "source": [
    "* \"A reference variable is **polymorphic** when it can refer to objects of different classes in the code\"\n",
    "* \"A method is **polymorphic** when it is overriden in at least one subclass\"\n",
    "* \"**Polymorphism** is the act of executing an overriden ```non-static``` method from the correct class at runtime based on the actual object type\""
   ]
  },
  {
   "cell_type": "code",
   "execution_count": 1,
   "metadata": {},
   "outputs": [
    {
     "name": "stdout",
     "output_type": "stream",
     "text": [
      "0.4330127018922193\n"
     ]
    }
   ],
   "source": [
    "public class Shape {\n",
    "    protected String name;\n",
    "    private int length;\n",
    "    private int width;\n",
    "\n",
    "    // Parameterized constructor\n",
    "    public Shape(String name, int length, int width) {\n",
    "        this.name = name;\n",
    "        this.length = length;\n",
    "        this.width = width;\n",
    "    }\n",
    "\n",
    "    // Method to calculate the area\n",
    "    public double calc_area() {\n",
    "        return this.length * this.width;\n",
    "    }\n",
    "}\n",
    "\n",
    "public class Triangle extends Shape {\n",
    "    private int side1;\n",
    "    private int side2;\n",
    "    private int side3;\n",
    "\n",
    "    // Constructor that takes a name and three side lengths\n",
    "    public Triangle(String name, int s1, int s2, int s3) {\n",
    "        super(name, 0, 0); // Call to Shape constructor to set the name\n",
    "        this.name = \"triangle\";\n",
    "        this.side1 = s1;\n",
    "        this.side2 = s2;\n",
    "        this.side3 = s3;\n",
    "    }\n",
    "\n",
    "    @Override\n",
    "    public double calc_area() {\n",
    "        double s = (side1 + side2 + side3) / 2.0; // Semi-perimeter\n",
    "        return Math.sqrt(s * (s - side1) * (s - side2) * (s - side3));\n",
    "    }\n",
    "}\n",
    "\n",
    "//creates a \"Shape\" class using a \"Triangle\" constructor\n",
    "Shape triangle = new Triangle(\"Equilateral\",1,1,1); \n",
    "// Therefore the calc_area is overriden\n",
    "System.out.println(triangle.calc_area()); "
   ]
  },
  {
   "cell_type": "markdown",
   "metadata": {},
   "source": [
    "## How Does This Work?\n",
    "\n",
    "<img width=\"441\" alt=\"Screenshot 2024-09-24 at 3 41 23 PM\" src=\"https://github.com/user-attachments/assets/11a11c1e-df70-4b9d-9d40-fc0720363d30\">\n",
    "\n",
    "\n",
    "Let's start with this line:\n",
    "``` Shape myObject = new Triangle();```\n",
    "\n",
    "It may seem like you are magically creating a Shape Object with the Triangle, but you are not. Instead you actually are creating a Triangle Object. The difference is that the Shape variable is referencing the Shape parts of the Triangle.\n",
    "* \"A reference variable can store a refernece to its declared class or any subclass of its declared class\"\n",
    "\n",
    "\n",
    "This also means that if the data type is the SuperClass and you try to call a method that doesn't exist in the SuperClass, it will return an error. But you can cast the variable to the SubClass because the refrence is the SubClass. After casting if you call a method that is only in the subclass then it won't return an error.\n",
    "\n",
    "Next running methods:\n",
    "```myObject.calc_area() == Triangle.calc_area();```\n",
    "\n",
    "When you run a method that the Shape has, it starts at the referenced object and checks if there is an override, if not it moves up the ancestry chain until it either finds an override or finds the orginal method."
   ]
  },
  {
   "cell_type": "markdown",
   "metadata": {},
   "source": [
    "## Popcorn Hacks\n",
    "* Create an example of Polymorphism in your own project.\n",
    "\n",
    "If you want some more information and examples of Polymorphism see the examples further down"
   ]
  },
  {
   "cell_type": "code",
   "execution_count": 3,
   "metadata": {},
   "outputs": [
    {
     "name": "stdout",
     "output_type": "stream",
     "text": [
      "I am a Honda car\n",
      "I am a Ford car\n"
     ]
    }
   ],
   "source": [
    "class Car {\n",
    "    public void sayName()\n",
    "    {\n",
    "        System.out.println(\"I don't have a name!!!\");\n",
    "    }\n",
    "}\n",
    "\n",
    "class Ford extends Car\n",
    "{\n",
    "    @Override \n",
    "    public void sayName()\n",
    "    {\n",
    "        System.out.println(\"I am a Ford car\");\n",
    "    }\n",
    "}\n",
    "\n",
    "class Honda extends Car\n",
    "{\n",
    "    @Override \n",
    "    public void sayName()\n",
    "    {\n",
    "        System.out.println(\"I am a Honda car\");\n",
    "    }\n",
    "}\n",
    "\n",
    "Car honda = new Honda();\n",
    "Car ford = new Ford();\n",
    "honda.sayName();\n",
    "ford.sayName();"
   ]
  },
  {
   "cell_type": "markdown",
   "metadata": {},
   "source": [
    "## Static vs Dynamic Types"
   ]
  },
  {
   "cell_type": "markdown",
   "metadata": {},
   "source": [
    "**static types**: static types is simply the type.\n",
    "\n",
    "**dynamic types**: dynamic type is the type of the value during runtime"
   ]
  },
  {
   "cell_type": "code",
   "execution_count": null,
   "metadata": {},
   "outputs": [],
   "source": [
    "class Shape {\n",
    "    String getName(){\n",
    "        return \"Shape\";\n",
    "    }\n",
    "}\n",
    "\n",
    "class Square extends Shape{\n",
    "    @Override\n",
    "    String getName(){\n",
    "        return \"Square\";\n",
    "    }\n",
    "}\n",
    "\n",
    "Shape myShape = new Square();"
   ]
  },
  {
   "cell_type": "markdown",
   "metadata": {},
   "source": [
    "<img width=\"643\" alt=\"Screenshot 2024-09-24 at 3 41 56 PM\" src=\"https://github.com/user-attachments/assets/2cf84906-8a22-4c0d-aa4f-096e85eb822c\">"
   ]
  },
  {
   "cell_type": "markdown",
   "metadata": {},
   "source": [
    "**Shape** is a static type, but at runtime ```myShape``` is referencing  **Sqaure**, so my ```myShape``` is the dynamic type of **Square**.\n",
    "\n"
   ]
  },
  {
   "cell_type": "markdown",
   "metadata": {},
   "source": [
    "## Popcorn Hacks\n",
    "\n",
    "Using your previous polymorphism example, explain which parts are the static types and which are the dynamic types\n",
    "\n",
    "*Read [this](https://www.cs.cornell.edu/courses/JavaAndDS/files/staticType.pdf) for more information*"
   ]
  },
  {
   "cell_type": "markdown",
   "metadata": {},
   "source": [
    "```java\n",
    "class Car {\n",
    "    public void sayName()\n",
    "    {\n",
    "        System.out.println(\"I don't have a name!!!\");\n",
    "    }\n",
    "}\n",
    "\n",
    "class Ford extends Car\n",
    "{\n",
    "    @Override \n",
    "    public void sayName()\n",
    "    {\n",
    "        System.out.println(\"I am a Ford car\");\n",
    "    }\n",
    "}\n",
    "\n",
    "class Honda extends Car\n",
    "{\n",
    "    @Override \n",
    "    public void sayName()\n",
    "    {\n",
    "        System.out.println(\"I am a Honda car\");\n",
    "    }\n",
    "}\n",
    "\n",
    "Car honda = new Honda();\n",
    "Car ford = new Ford();\n",
    "honda.sayName();\n",
    "ford.sayName();\n",
    "```\n",
    "Given this script, the static type is the Car, and the dynamic type would be the Honda and Ford classes."
   ]
  },
  {
   "cell_type": "markdown",
   "metadata": {},
   "source": [
    "## Compile-Time vs Run-Time methods"
   ]
  },
  {
   "cell_type": "markdown",
   "metadata": {},
   "source": [
    "Compile time is when you are writing your code. Once you have written your code it is  *compiled* into something the computer can run.\n",
    "\n",
    "Run-time is when you are actually running the code. This is after the compiler is complete and when the code starts exectuting.\n",
    "\n",
    "There are some differences between Compile-Time and Run-Time. The case we will be going over breifly is the difference in methods. When you create a Shape with a Square you can't run the methods built solely into the square, it must be methods from the shape first. **But why?**"
   ]
  },
  {
   "cell_type": "markdown",
   "metadata": {},
   "source": [
    "This is the difference between Compile-Time and Run-Time\n",
    "\n",
    "During Runtime: \n",
    "When you are creating a dynamic reference of a different with a type than the static type, it searches the superclass for the attributes of the static type, then overrides any that the child has overriden. But it doesn't include the methods from the child.\n",
    "\n",
    "So basically even if you have methods that exist on the referenced object, in run-time those methods may be ignored because the static type doesn't include them.\n",
    "\n",
    "If you want to run a method that is only in the child class then you can use **down-casting**."
   ]
  },
  {
   "cell_type": "code",
   "execution_count": null,
   "metadata": {},
   "outputs": [],
   "source": [
    "class Shape {\n",
    "    String getName(){\n",
    "        return \"Shape\";\n",
    "    }\n",
    "}\n",
    "\n",
    "class Square extends Shape{\n",
    "    @Override\n",
    "    String getName(){\n",
    "        return \"Square\";\n",
    "    }\n",
    "\n",
    "    int getSides(){\n",
    "        return 4;\n",
    "    }\n",
    "}\n",
    "\n",
    "Shape myShape = new Square(); //this does not have access to the Sqaure methods despite referencing a sqaure\n",
    "\n",
    "Square mySquare = (Square)myShape; //down-cast the Shape to a Sqaure to run the Sqaure specific methods\n",
    "System.out.println(mySquare.getSides());//after down-casting you can now run the Square methods"
   ]
  },
  {
   "cell_type": "markdown",
   "metadata": {},
   "source": [
    "<img width=\"366\" alt=\"Screenshot 2024-09-24 at 3 40 55 PM\" src=\"https://github.com/user-attachments/assets/08415e0b-0bbc-403d-be4c-e16731e08ad2\">\n"
   ]
  },
  {
   "cell_type": "markdown",
   "metadata": {},
   "source": [
    "## Popcorn Hacks\n",
    "* Define **down-casting** in your own words\n",
    "* add an example of down-casting to your previous polymorphism example"
   ]
  },
  {
   "cell_type": "markdown",
   "metadata": {},
   "source": [
    "Down casting is casting a parent class to a child class.\n",
    "An example of this can be added to the car example.\n",
    "\n",
    "```java\n",
    "class Car {\n",
    "    public void sayName()\n",
    "    {\n",
    "        System.out.println(\"I don't have a name!!!\");\n",
    "    }\n",
    "}\n",
    "\n",
    "class Ford extends Car\n",
    "{\n",
    "    @Override \n",
    "    public void sayName()\n",
    "    {\n",
    "        System.out.println(\"I am a Ford car\");\n",
    "    }\n",
    "}\n",
    "\n",
    "class Honda extends Car\n",
    "{\n",
    "    @Override \n",
    "    public void sayName()\n",
    "    {\n",
    "        System.out.println(\"I am a Honda car\");\n",
    "    }\n",
    "}\n",
    "\n",
    "Car car = new Car();\n",
    "Car honda = new Honda();\n",
    "Car ford = new Ford();\n",
    "\n",
    "//downcasting \n",
    "Ford downCastFord = new (Ford)Car();\n",
    "\n",
    "honda.sayName();\n",
    "ford.sayName();\n",
    "downCastFord.sayName();\n",
    "```"
   ]
  },
  {
   "cell_type": "markdown",
   "metadata": {},
   "source": [
    "***\n",
    "***"
   ]
  },
  {
   "cell_type": "markdown",
   "metadata": {},
   "source": [
    "## Examples of Polymorphism and the effects\n",
    "Here are some examples of Polymorphism."
   ]
  },
  {
   "cell_type": "markdown",
   "metadata": {},
   "source": [
    "1- Executing the overriden method from the referenced subclass in the datatype of the superclass."
   ]
  },
  {
   "cell_type": "code",
   "execution_count": null,
   "metadata": {},
   "outputs": [],
   "source": [
    "class Water {\n",
    "    public String typeOfWater(){\n",
    "        return \"water\";\n",
    "    }\n",
    "}\n",
    "\n",
    "class Lake extends Water {\n",
    "    @Override\n",
    "    public String typeOfWater(){\n",
    "        return \"lake\";\n",
    "    }\n",
    "}\n",
    "\n",
    "//creates a \"Water\" class using a \"Lake\" constructor\n",
    "Water lake = new Lake(); \n",
    "// Therefore the typeOfWater method is overriden\n",
    "System.out.println(lake.typeOfWater()); "
   ]
  },
  {
   "cell_type": "markdown",
   "metadata": {},
   "source": [
    "2- You can pass a subclass into an argument that is asking for the parent class. "
   ]
  },
  {
   "cell_type": "code",
   "execution_count": null,
   "metadata": {},
   "outputs": [],
   "source": [
    "class Shape{\n",
    "    public int getSize(){\n",
    "        return 1;\n",
    "    }\n",
    "}\n",
    "\n",
    "class Square extends Shape{\n",
    "    @Override\n",
    "    public int getSize(){\n",
    "        return 2;\n",
    "    }\n",
    "}\n",
    "\n",
    "int getSizePlusOne(Shape s){ //argument of class \"Shape\"\n",
    "    return s.getSize() +1;\n",
    "}\n",
    "\n",
    "Shape myShape = new Shape();\n",
    "//passes through a \"Shape\"\n",
    "System.out.println(getSizePlusOne(myShape)); \n",
    "\n",
    "Square mySquare = new Square();\n",
    "//passes through a \"Square\" as a \"Shape\" with the square's \"getSize()\" method\n",
    "System.out.println(getSizePlusOne(mySquare)); "
   ]
  },
  {
   "cell_type": "markdown",
   "metadata": {},
   "source": [
    "3- You can cast from the superclass to the subclass (**down-casting**). The superclass **must** be referencing the subclass."
   ]
  },
  {
   "cell_type": "code",
   "execution_count": null,
   "metadata": {},
   "outputs": [],
   "source": [
    "class Electronic{\n",
    "    public void playSound(){\n",
    "        System.out.println(\"Beep boop\");\n",
    "    }\n",
    "}\n",
    "\n",
    "class Computer extends Electronic{\n",
    "    @Override\n",
    "    public void playSound(){\n",
    "        System.out.println(\"Click clack\");\n",
    "    }\n",
    "}\n",
    "\n",
    "//creates a \"Electronic\" class using a \"Computer\" constructor\n",
    "Electronic device = new Computer(); \n",
    "\n",
    "//casts the \"Electronic\" to a \"Computer\"\n",
    "Computer  computer = (Computer)device; \n",
    "\n",
    "computer.playSound();"
   ]
  },
  {
   "cell_type": "code",
   "execution_count": null,
   "metadata": {},
   "outputs": [],
   "source": [
    "class Electronic{\n",
    "    public void playSound(){\n",
    "        System.out.println(\"Beep boop\");\n",
    "    }\n",
    "}\n",
    "\n",
    "class Computer extends Electronic{\n",
    "    @Override\n",
    "    public void playSound(){\n",
    "        System.out.println(\"Click clack\");\n",
    "    }\n",
    "}\n",
    "\n",
    "Electronic device = new Electronic(); //creates a \"Electronic\" class using a \"Electronic\" constructor\n",
    "\n",
    "Computer  computer = (Computer)device; //cannot cast the \"Electronic\" to a \"Computer\""
   ]
  },
  {
   "cell_type": "markdown",
   "metadata": {},
   "source": [
    "4- Down-casting doesn't mean changing the reference to the obejct, so polymorphism will still apply"
   ]
  },
  {
   "cell_type": "code",
   "execution_count": null,
   "metadata": {},
   "outputs": [],
   "source": [
    "class Furniture{\n",
    "    String getName(){\n",
    "        return \"Furniture\";\n",
    "    }\n",
    "}\n",
    "\n",
    "class Table extends Furniture{\n",
    "    @Override\n",
    "    String getName(){\n",
    "        return \"Table\";\n",
    "    }\n",
    "}\n",
    "\n",
    "class CoffeeTable extends Table{\n",
    "    @Override\n",
    "    String getName(){\n",
    "        return super.getName() + \" Coffee\";\n",
    "    }\n",
    "}\n",
    "\n",
    "Furniture myTable = new CoffeeTable();\n",
    " //runs \"CoffeeTable\" method\n",
    "System.out.println(myTable.getName());\n",
    "\n",
    "Table myOtherTable = (Table)myTable;\n",
    "//method exectuted doesn't change despite casting-down\n",
    "System.out.println(myOtherTable.getName()); "
   ]
  },
  {
   "cell_type": "markdown",
   "metadata": {},
   "source": [
    "5- you can cast upward and polymorphic behaviour will apply."
   ]
  },
  {
   "cell_type": "code",
   "execution_count": null,
   "metadata": {},
   "outputs": [],
   "source": [
    "class Sport{\n",
    "    public int numberOfPlayers(){\n",
    "        return (int)Double.NaN; //ends up being 0 but whatever\n",
    "    }\n",
    "    public String name(){\n",
    "        return \"Sport\";\n",
    "    }\n",
    "}\n",
    "\n",
    "class Soccer extends Sport{\n",
    "    @Override\n",
    "    public int numberOfPlayers(){\n",
    "        return 11;\n",
    "    }\n",
    "    @Override\n",
    "    public String name(){\n",
    "        return \"Soccer\";\n",
    "    }\n",
    "}\n",
    "\n",
    "//creates a a soccer object\n",
    "Soccer mySoccer = new Soccer();\n",
    "\n",
    "Sport mySoccerSport = (Sport)mySoccer;\n",
    "System.out.println(mySoccerSport.numberOfPlayers());"
   ]
  },
  {
   "cell_type": "markdown",
   "metadata": {},
   "source": [
    "### Polymorphism with the Object class\n",
    "* see the lesson 9.7 about [Object Superclass](linkHere)\n",
    "\n",
    "Polymorphism also applies with the **Object Superclass**.\n",
    "Techically any class or object is an ```Object```."
   ]
  },
  {
   "cell_type": "code",
   "execution_count": null,
   "metadata": {},
   "outputs": [],
   "source": [
    "class Fruit{\n",
    "    @Override\n",
    "    public String toString(){\n",
    "        return \"I'm a Fruit!\";\n",
    "    }\n",
    "}\n",
    "class Banana extends Fruit{\n",
    "    @Override\n",
    "    public boolean equals(Object obj){ //overrides the equals\n",
    "        return true;\n",
    "    }\n",
    "}\n",
    "\n",
    "\n",
    "Object banana = new Banana();\n",
    "System.out.println(banana.toString());\n",
    "//if \".equals()\" was not overriden from the \"Object\" this should always return false\n",
    "System.out.println(banana.equals(null)); "
   ]
  }
 ],
 "metadata": {
  "kernelspec": {
   "display_name": "Java",
   "language": "java",
   "name": "java"
  },
  "language_info": {
   "codemirror_mode": "java",
   "file_extension": ".jshell",
   "mimetype": "text/x-java-source",
   "name": "java",
   "pygments_lexer": "java",
   "version": "17.0.12+7-Ubuntu-1ubuntu222.04"
  }
 },
 "nbformat": 4,
 "nbformat_minor": 2
}
