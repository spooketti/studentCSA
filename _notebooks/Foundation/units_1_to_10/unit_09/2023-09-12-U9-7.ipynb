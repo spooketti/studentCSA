{
 "cells": [
  {
   "cell_type": "markdown",
   "metadata": {},
   "source": [
    "---\n",
    "layout: post\n",
    "title:  9.7 Object Superclass\n",
    "courses: { csse: {week: 1}, csp: {week: 1}, csa: {week: 1} }\n",
    "categories: [DevOps]\n",
    "permalink: /inheritance/object-superclass\n",
    "comments: true\n",
    "sticky_rank: 1\n",
    "---"
   ]
  },
  {
   "cell_type": "markdown",
   "metadata": {},
   "source": [
    "<style>\n",
    "    .unitHold\n",
    "    {\n",
    "    position: fixed;\n",
    "    top: 64px;\n",
    "    width: 100%;\n",
    "    height: 43px;\n",
    "    background-color: #353543;\n",
    "    left: 0px;\n",
    "    display: flex;\n",
    "    flex-direction: row;\n",
    "    flex-wrap: nowrap;\n",
    "    justify-content: space-evenly;\n",
    "    align-items: center;\n",
    "    }\n",
    "\n",
    "    .unitHold a\n",
    "    {\n",
    "    text-decoration: none;\n",
    "    color: #fabe28;\n",
    "    border-left: #fabe28 6px double;\n",
    "    border-right: #fabe28 6px double;\n",
    "    height: 100%;\n",
    "    display: flex;\n",
    "    align-items: center;\n",
    "    justify-content: center;\n",
    "    transition:all 1s;\n",
    "    }\n",
    "\n",
    "    .unitHold a:hover\n",
    "    {\n",
    "        padding-left:5px;\n",
    "        padding-right:5px;\n",
    "    }\n",
    "\n",
    "\n",
    "</style>\n",
    "\n",
    "<div class=\"unitHold\">\n",
    "<a href=\"{{site.baseurl}}/inheritance\">Unit 9 Inheritance Intro</a>\n",
    "<a href=\"{{site.baseurl}}/inheritance/superclass\">Unit 9.1/9.2</a>\n",
    "<a href=\"{{site.baseurl}}/inheritance/override\">Unit 9.3/9.4</a>\n",
    "<a href=\"{{site.baseurl}}/inheritance/hierarchies\">Unit 9.5</a>\n",
    "<a href=\"{{site.baseurl}}/inheritance/poly-morphism\">Unit 9.6</a>\n",
    "<a href=\"{{site.baseurl}}/inheritance/object-superclass\">Unit 9.7</a>\n",
    "<a href=\"{{site.baseurl}}/inheritance-hacks\">Unit 9 Hacks</a>\n",
    "</div>"
   ]
  },
  {
   "cell_type": "markdown",
   "metadata": {},
   "source": [
    "## Object Superclass"
   ]
  },
  {
   "cell_type": "markdown",
   "metadata": {},
   "source": [
    "Learning Targets: \n",
    "   * What is the *Object* class\n",
    "   * Why is the *Object* class important to remember"
   ]
  },
  {
   "cell_type": "markdown",
   "metadata": {},
   "source": [
    "***"
   ]
  },
  {
   "cell_type": "markdown",
   "metadata": {},
   "source": [
    "Every class and object created **without** the ```extends``` keyword will be implicitly extended from the **[Object Superclass](https://docs.oracle.com/javase/8/docs/api/java/lang/Object.html)**. This means it will inherit some basic methods. Some notable methods are:\n",
    "1. ```getClass()```\n",
    "2. ```toString()```\n",
    "3. ```equals()```"
   ]
  },
  {
   "cell_type": "markdown",
   "metadata": {},
   "source": [
    "### So What?\n",
    "Well its important to keep in mind when writing out your class. If you are planning to have a **method** in your class/object that **matches** the basic **Object**, then it **must** be a ```public override``` because all of the Object methods are public.\n",
    "* are some methods from Object such as **getClass()** that you **cannot** override."
   ]
  },
  {
   "cell_type": "code",
   "execution_count": null,
   "metadata": {
    "vscode": {
     "languageId": "java"
    }
   },
   "outputs": [],
   "source": [
    "// this will return an error\n",
    "class Shape {\n",
    "    String toString(){\n",
    "        return \"Shape\";\n",
    "    }\n",
    "}"
   ]
  },
  {
   "cell_type": "code",
   "execution_count": 2,
   "metadata": {
    "vscode": {
     "languageId": "java"
    }
   },
   "outputs": [],
   "source": [
    "// this will be fine\n",
    "class Shape{\n",
    "    @Override\n",
    "    public String toString(){\n",
    "        return \"Shape\";\n",
    "    }\n",
    "}"
   ]
  },
  {
   "cell_type": "markdown",
   "metadata": {},
   "source": [
    "## Popcorn Hacks\n",
    "Create an example where you execute an unchanged method from *Object*, then execute a different method from *Object* that you changed."
   ]
  },
  {
   "cell_type": "code",
   "execution_count": 4,
   "metadata": {
    "vscode": {
     "languageId": "java"
    }
   },
   "outputs": [
    {
     "name": "stdout",
     "output_type": "stream",
     "text": [
      "somethin awesome\n",
      "Awesome Object\n"
     ]
    }
   ],
   "source": [
    "class Object\n",
    "{\n",
    "    public void saySomethin()\n",
    "    {\n",
    "        System.out.println(\"somethin awesome\");\n",
    "    }\n",
    "\n",
    "    @Override\n",
    "    public String toString()\n",
    "    {\n",
    "        return \"Awesome Object\";\n",
    "    }\n",
    "}\n",
    "\n",
    "Object object = new Object();\n",
    "object.saySomethin();\n",
    "System.out.println(object.toString());\n",
    "\n"
   ]
  }
 ],
 "metadata": {
  "kernelspec": {
   "display_name": "Java",
   "language": "java",
   "name": "java"
  },
  "language_info": {
   "codemirror_mode": "java",
   "file_extension": ".jshell",
   "mimetype": "text/x-java-source",
   "name": "Java",
   "pygments_lexer": "java",
   "version": "17.0.12+7-Ubuntu-1ubuntu222.04"
  }
 },
 "nbformat": 4,
 "nbformat_minor": 2
}
