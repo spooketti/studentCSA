{
    "cells": [
        {
            "cell_type": "markdown",
            "metadata": {
                "vscode": {
                    "languageId": "raw"
                }
            },
            "source": [
                "---\n",
                "layout: post\n",
                "title: Unit 2 — Methods\n",
                "description: A more in-depth explanation of methods.\n",
                "type: collab\n",
                "toc: true\n",
                "permalink: /csa/unit2/period3/part2\n",
                "comments: true\n",
                "author: Aadit Mathur, Eric Yu, Shuban Pal, Rahul Verma\n",
                "---"
            ]
        },
        {
            "cell_type": "markdown",
            "metadata": {},
            "source": [
                "<style>\n",
                "    .unitHold\n",
                "    {\n",
                "    position: fixed;\n",
                "    top: 64px;\n",
                "    width: 100%;\n",
                "    height: 43px;\n",
                "    background-color: #353543;\n",
                "    left: 0px;\n",
                "    display: flex;\n",
                "    flex-direction: row;\n",
                "    flex-wrap: nowrap;\n",
                "    justify-content: space-evenly;\n",
                "    align-items: center;\n",
                "    }\n",
                "\n",
                "    .unitHold a\n",
                "    {\n",
                "    text-decoration: none;\n",
                "    color: #fabe28;\n",
                "    border-left: #fabe28 6px double;\n",
                "    border-right: #fabe28 6px double;\n",
                "    height: 100%;\n",
                "    display: flex;\n",
                "    align-items: center;\n",
                "    justify-content: center;\n",
                "    transition:all 1s;\n",
                "    }\n",
                "\n",
                "    .unitHold a:hover\n",
                "    {\n",
                "        padding-left:5px;\n",
                "        padding-right:5px;\n",
                "    }\n",
                "\n",
                "\n",
                "</style>\n",
                "\n",
                "<div class=\"unitHold\">\n",
                "<a href=\"{{site.baseurl}}/csa/unit2/period3/home\">Using Objects Home</a>\n",
                "<a href=\"{{site.baseurl}}/csa/unit2/period3/part1\">Objects & Void Methods</a>\n",
                "<a href=\"{{site.baseurl}}/csa/unit2/period3/part2\">Methods</a>\n",
                "<a href=\"{{site.baseurl}}/csa/unit2/period3/part3\">String Objects</a>\n",
                "<a href=\"{{site.baseurl}}/csa/unit2/period3/part4\">Wrapper Classes & Math Module</a>\n",
                "<a href=\"{{site.baseurl}}/csa/unit2/period3/homework\">Review</a>\n",
                "</div>"
            ]
        },
        {
            "cell_type": "markdown",
            "metadata": {},
            "source": [
                "## Section 2.4: Calling a Void Method with Parameters\n",
                "\n",
                "### Small Recap: Methods in Python vs Java  \n"
            ]
        },
        {
            "cell_type": "code",
            "execution_count": null,
            "metadata": {
                "vscode": {
                    "languageId": "python"
                }
            },
            "outputs": [],
            "source": [
                "class Animal:\n",
                "    def __init__(self, group):\n",
                "        self.group = group\n",
                "\n",
                "    def getInfo(self):\n",
                "        if self.group == \"bird\":\n",
                "            print(\"Birds: Have feathers, lay eggs, (most) can fly.\")\n",
                "        elif self.group == \"mammal\":\n",
                "            print(\"Mammals: Mammals are known for their big brains.\")\n",
                "        elif self.group == \"fish\":\n",
                "            print(\"Fish: Fish have gills to breathe underwater.\")\n",
                "        elif self.group == \"reptile\":\n",
                "            print(\"Reptiles: Reptiles are cold-blooded.\")\n",
                "        elif self.group == \"amphibian\":\n",
                "            print(\"Amphibian: Amphibians are ectothermic.\")\n",
                "        else:\n",
                "            print(\"Unknown animal group.\")\n",
                "\n",
                "# Example usage:\n",
                "shark = Animal(group=\"fish\")\n",
                "shark.getInfo()"
            ]
        },
        {
            "cell_type": "code",
            "execution_count": null,
            "metadata": {
                "vscode": {
                    "languageId": "java"
                }
            },
            "outputs": [],
            "source": [
                "class Animal {\n",
                "    private String group;\n",
                "\n",
                "    // Constructor to initialize the group\n",
                "    public Animal(String group) {\n",
                "        this.group = group;\n",
                "    }\n",
                "\n",
                "    // Method to print group information\n",
                "    public void getInfo() {\n",
                "        if (group.equals(\"bird\")) {\n",
                "            System.out.println(\"Birds: Have feathers, lay eggs, (most) can fly.\");\n",
                "        } else if (group.equals(\"mammal\")) {\n",
                "            System.out.println(\"Mammals: Mammals are known for their big brains.\");\n",
                "        } else if (group.equals(\"fish\")) {\n",
                "            System.out.println(\"Fish: Fish have gills to breathe underwater.\");\n",
                "        } else if (group.equals(\"reptile\")) {\n",
                "            System.out.println(\"Reptiles: Reptiles are cold-blooded.\");\n",
                "        } else if (group.equals(\"amphibian\")) {\n",
                "            System.out.println(\"Amphibians: Amphibians are ectothermic.\");\n",
                "        } else {\n",
                "            System.out.println(\"Unknown group.\");\n",
                "        }\n",
                "    }\n",
                "\n",
                "    public static void main(String[] args) {\n",
                "        // Example usage\n",
                "        Animal shark = new Animal(\"fish\");\n",
                "        shark.getInfo();\n",
                "    }\n",
                "}\n"
            ]
        },
        {
            "cell_type": "markdown",
            "metadata": {},
            "source": [
                "- Python 🐍: Here, the method is `getInfo()` and it is provided by the `Animal` class. Whenever a new `Animal` class is declared, the `getInfo()` method can be used upon itself to get the info of the new class based on its group.\n",
                "\n",
                "- Java ☕: Here, the method is also `getInfo()` which is also provided by the animal class. This time, the Animal class can be initialized via `constructors`\n",
                "\n",
                "\n",
                "### Method Signatures\n",
                "\n",
                "A method signature is basically the piece of code which lists how the method should act before specific code is given to the method. \n",
                "\n",
                "For example, for the `main` function the signature states that the method is a `public` method, the method is a `static` method, the method returns a `void` type, and it takes in the argument `args[]` as a `String` type.\n"
            ]
        },
        {
            "cell_type": "code",
            "execution_count": null,
            "metadata": {
                "vscode": {
                    "languageId": "java"
                }
            },
            "outputs": [],
            "source": [
                "public class Main {\n",
                "    public static void main(String args[]) {\n",
                "        System.out.println(\"📝 Main method is executed, method has nothing to return.\");\n",
                "    }\n",
                "}\n",
                "\n",
                "Main.main(new String[]{});"
            ]
        },
        {
            "cell_type": "markdown",
            "metadata": {},
            "source": [
                "In the code above, the method signature is `public static void main(String args[])` which is the standard way to write main methods in java. Here is an anatomy of each piece:\n",
                "\n",
                "- `public` ➡️ Make sure the method can be used outside of the `Main` class\n",
                "- `static` ➡️ Make sure the method is a feature packaged into the class and does not work based off of an instance of that class\n",
                "- `void` ➡️ The return type. If the method is set to return nothing, void must be the return type.\n",
                "- `name(type arg1, type argn)` ➡️ The name of the method. **Methods can be named!** The elements listed inside the parentheses next to the name of the method are parameters. They are the values which the method takes in. If the method is set to take no parameters, the parenthesis can be left empty (e.g. `name()`).\n",
                "\n",
                "<img src=\"https://i.postimg.cc/kMYrzGW5/java-main-method.png\" alt=\"image\" />\n",
                "\n",
                "- 👁️ Visibility Modifiers: `public` or `private`\n",
                "- 🔀 Optional: `static` or blank\n",
                "- 📩 Return Type: `void`, `int`, `char`, `double`, `String`, or any other datatype\n",
                "- 🔤 Name: Anything!\n",
                "- 📃 Parameter(s): A list of values that will be passed into the method in `type name` format\n",
                "\n",
                "### Method Parameters\n",
                "\n",
                "The Methodical Methods of the Java Method Parameter:\n",
                "- 1️⃣ RULE 1 - Parameters MUST be passed in order\n",
                "- 2️⃣ RULE 2 - Parameters MUST be separated by comma\n",
                "- 3️⃣ RULE 3 - Parameters MUST include a datatype specification and a name\n",
                "- 3️⃣ RULE 4 - Parameters MUST be referenced by their names inside the method\n",
                "\n",
                "**🤮🤢🗑️😭1️⃣ BAD 1️⃣😭🗑️🤢🤮**\n",
                "\n",
                "```java\n",
                "public static void funny_method(int funny_number, String funny_string) {\n",
                "    System.out.println(funny_number);\n",
                "    System.out.println(funny_string);\n",
                "}\n",
                "\n",
                "funny_method(\"cat\", 1);\n",
                "```\n",
                "\n",
                "<br>\n",
                "<br>\n",
                "\n",
                "**🤑💸🪙😎5️⃣ GOOD 5️⃣😎🪙💸🤑**\n",
                "\n",
                "```java\n",
                "// Initiate method\n",
                "public static void funny_method(int funny_number, String funny_string) {\n",
                "    System.out.println(funny_number);\n",
                "    System.out.println(funny_string);\n",
                "}\n",
                "\n",
                "// Call method\n",
                "funny_method(1, \"cat\");\n",
                "```\n",
                "\n",
                "### Method Overload\n",
                "\n",
                "Method overload occurs when a method has the same name but different parameters. \n",
                "\n",
                "For method overloading purposes, the method signature does NOT include the return type.\n",
                "\n",
                "Imagine you have a method called `printTwoNumbers()` and you had 3 implementations of it as shown below."
            ]
        },
        {
            "cell_type": "code",
            "execution_count": null,
            "metadata": {
                "vscode": {
                    "languageId": "java"
                }
            },
            "outputs": [],
            "source": [
                "public void printTwoNumbers() {\n",
                "    System.out.println(1);\n",
                "    System.out.println(1);\n",
                "}\n",
                "\n",
                "public void printTwoNumbers(int number) {\n",
                "    System.out.println(number);\n",
                "    System.out.println(number);\n",
                "}\n",
                "\n",
                "public void printTwoNumbers(int number1, number2) {\n",
                "    System.out.println(number1);\n",
                "    System.out.println(number2);\n",
                "}"
            ]
        },
        {
            "cell_type": "markdown",
            "metadata": {},
            "source": [
                "For each of the 3 method calls below, what would happen?\n",
                "\n",
                "- Method call 1: `printTwoNumbers(2);`\n",
                "- Method call 2: `printTwoNumbers();`\n",
                "- Method call 3: `printTwoNumbers(5, 6);`\n"
            ]
        },
        {
            "cell_type": "code",
            "execution_count": null,
            "metadata": {
                "vscode": {
                    "languageId": "java"
                }
            },
            "outputs": [],
            "source": [
                "printTwoNumbers(2);\n",
                "printTwoNumbers();`\n",
                "printTwoNumbers(5, 6);"
            ]
        },
        {
            "cell_type": "markdown",
            "metadata": {},
            "source": [
                "When `printTwoNumbers(2)` was called, compiler started looking for a signature which had the name `printTwoNumbers` which took 1 parameter and as an int. \n",
                "\n",
                "When `printTwoNumbers()` was called, compiler started looking for a signature which had the name `printTwoNumbers` which took no parameters at all. \n",
                "\n",
                "When `printTwoNumbers(2)` was called, compiler started looking for a signature which had the name `printTwoNumbers` which took 2 parameter and both as an ints. "
            ]
        },
        {
            "cell_type": "markdown",
            "metadata": {},
            "source": [
                "## Section 2.5: Calling a Non-Void\n",
                "\n",
                "### What is a Non-Void Method?\n",
                "\n",
                "A non-void method is a method which has a defined return type. This return type is stated in the function's signature. As a recap from earlier, we made a bullet list of every component inside of a method's signature. Here is a recap of the return type segment of a method's signature.\n",
                "\n",
                "📩 Return Type: `void`, `int`, `char`, `double`, `String`, or any other datatype\n",
                "\n",
                "Here is a list of signatures. For each signature, you must be able to tell whether the method corresponding to that signature will be a non-void method or not.\n",
                "\n",
                "1. `public static int function_1(String string)`\n",
                "2. `private static void function_2(int number)`\n",
                "3. `public double function_3(int number)`\n",
                "4. `private void function_4(double funnyDouble)`\n",
                "5. `private int function_5(double notFunnyDouble)`\n",
                "6. `public void function_6(char funnyChar)`"
            ]
        },
        {
            "cell_type": "code",
            "execution_count": null,
            "metadata": {
                "vscode": {
                    "languageId": "java"
                }
            },
            "outputs": [],
            "source": [
                "public class MathMachine {\n",
                "    private static boolean isEven(int num) {\n",
                "        if (num%2 == 0) {\n",
                "            return true;\n",
                "        } else {\n",
                "            return false;\n",
                "        }\n",
                "    }\n",
                "\n",
                "    public static void getEvenOrOdd(int num) {\n",
                "        if (isEven(num) == true) {\n",
                "            System.out.println(\"Number is even\");\n",
                "        } else {\n",
                "            System.out.println(\"Number is odd\");\n",
                "        }\n",
                "    }\n",
                "}\n",
                "\n",
                "MathMachine.getEvenOrOdd(2);\n",
                "MathMachine.getEvenOrOdd(3);"
            ]
        },
        {
            "cell_type": "markdown",
            "metadata": {},
            "source": [
                "In the example above, the class `isEven` is a Non-Void method while `getEvenOrOdd` is not. \n",
                "\n",
                "In a Non-Void method, there is always a type to be returned. This value is essentually what calling the method will equal to based on the parameter it is called upon.\n",
                "\n",
                "In the case of `isEven`, the return type was a boolean or a datatype which stores either true or false. \n",
                "\n",
                "Accordingly, whenever `isEven` was called as a method, its assignment would be to whatever value was returned based on its parameter."
            ]
        },
        {
            "cell_type": "markdown",
            "metadata": {},
            "source": [
                "### Calling Non-Void Methods\n",
                "\n",
                "Calling a Non-Void method is the same as calling a void method, except a return value is produced and assigned to the call. \n",
                "\n",
                "Due to this sort of structure, non-void methods are classically used when comparing return values. For example, in the case of `isEven`:\n",
                "\n",
                "```java\n",
                "private static boolean isEven(int num) {\n",
                "    if (num%2 == 0) {\n",
                "        return true;\n",
                "    } else {\n",
                "        return false;\n",
                "    }\n",
                "}\n",
                "```\n",
                "\n",
                "The return type is a boolean. \n",
                "\n",
                "So whenever `isEven(n)` is referenced, where n is an integer, the value of `isEven(n)` gets assigned to either true or false based on the value of n or any underlying logic inside the method. \n",
                "\n",
                "That is why in the code below, `isEven(n)` can be compared directly to a tangiable boolean value.\n",
                "\n",
                "```java\n",
                "public static void getEvenOrOdd(int num) {\n",
                "    if (isEven(num) == true) {\n",
                "        System.out.println(\"Number is even\");\n",
                "    } else {\n",
                "        System.out.println(\"Number is odd\");\n",
                "    }\n",
                "}\n",
                "```\n",
                "\n",
                "## PRACTICE Calling Methods: Method Golf 😋\n",
                "\n",
                "⛳ Link to Method Golf: https://shuban-789.github.io/Shuban-CSA/2024/09/18/method-golf.html"
            ]
        }
    ],
    "metadata": {
        "kernelspec": {
            "display_name": "Java",
            "language": "java",
            "name": "java"
        },
        "language_info": {
            "codemirror_mode": "java",
            "file_extension": ".jshell",
            "mimetype": "text/x-java-source",
            "name": "Java",
            "pygments_lexer": "java",
            "version": "11.0.24+8-post-Ubuntu-1ubuntu322.04"
        }
    },
    "nbformat": 4,
    "nbformat_minor": 2
}
