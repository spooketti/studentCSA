{
 "cells": [
  {
   "cell_type": "markdown",
   "metadata": {
    "vscode": {
     "languageId": "raw"
    }
   },
   "source": [
    "---\n",
    "layout: post\n",
    "title: Unit 2 — Wrapper Classes & Math Module\n",
    "description: An introduction to what wrapper classes and the Math module are.\n",
    "type: collab\n",
    "toc: true\n",
    "permalink: /csa/unit2/period3/part4\n",
    "comments: true\n",
    "author: Aadit Mathur, Eric Yu, Shuban Pal, Rahul Verma\n",
    "---"
   ]
  },
  {
   "cell_type": "markdown",
   "metadata": {},
   "source": [
    "<style>\n",
    "    .unitHold\n",
    "    {\n",
    "    position: fixed;\n",
    "    top: 64px;\n",
    "    width: 100%;\n",
    "    height: 43px;\n",
    "    background-color: #353543;\n",
    "    left: 0px;\n",
    "    display: flex;\n",
    "    flex-direction: row;\n",
    "    flex-wrap: nowrap;\n",
    "    justify-content: space-evenly;\n",
    "    align-items: center;\n",
    "    }\n",
    "\n",
    "    .unitHold a\n",
    "    {\n",
    "    text-decoration: none;\n",
    "    color: #fabe28;\n",
    "    border-left: #fabe28 6px double;\n",
    "    border-right: #fabe28 6px double;\n",
    "    height: 100%;\n",
    "    display: flex;\n",
    "    align-items: center;\n",
    "    justify-content: center;\n",
    "    transition:all 1s;\n",
    "    }\n",
    "\n",
    "    .unitHold a:hover\n",
    "    {\n",
    "        padding-left:5px;\n",
    "        padding-right:5px;\n",
    "    }\n",
    "\n",
    "\n",
    "</style>\n",
    "\n",
    "<div class=\"unitHold\">\n",
    "<a href=\"{{site.baseurl}}/csa/unit2/period3/home\">Using Objects Home</a>\n",
    "<a href=\"{{site.baseurl}}/csa/unit2/period3/part1\">Objects & Void Methods</a>\n",
    "<a href=\"{{site.baseurl}}/csa/unit2/period3/part2\">Methods</a>\n",
    "<a href=\"{{site.baseurl}}/csa/unit2/period3/part3\">String Objects</a>\n",
    "<a href=\"{{site.baseurl}}/csa/unit2/period3/part4\">Wrapper Classes & Math Module</a>\n",
    "<a href=\"{{site.baseurl}}/csa/unit2/period3/homework\">Review</a>\n",
    "</div>"
   ]
  },
  {
   "cell_type": "markdown",
   "metadata": {},
   "source": [
    "# Lesson 2.8: Wrapper Classes! 🍫\n",
    "\n",
    "## Introduction\n",
    "\n",
    "By now, you should be used to working with different variables and data types in Java. Some of you may have asked a question regarding why the data type String has a capital S, while int is not capitalized.\n",
    "\n",
    "The answer is: String is a reference type, while int is a primitive type.\n",
    "\n",
    "Primitive types are the mosic basic data types in Java, and they always represent single values. On the other hand, Reference types are used to store objects and can have a variety of things stored.\n",
    "\n",
    "## Important Wrapper Classes 🔢🔠\n",
    "- `Integer` for `int`\n",
    "- `Double` for `double`\n",
    "\n",
    "These classes are part of the `java.lang` package, so you don't need to import them explicitly. Additionally, there are more wrapper classes, but these are the two that are required by College Board.\n",
    "\n",
    "But let's back off real quick. What is a Wrapper class?\n",
    "\n",
    "Answer: A wrapper class allows you to use primitive data types.\n",
    "\n",
    "### Integer Wrapper Class 🔢\n",
    "The `Integer` class wraps a value of the primitive type `int` in an object.\n",
    "\n",
    "<img src=\"https://i.postimg.cc/T2kXtVN1/Screenshot-2024-09-24-002821.png\" alt=\"intmeme\" width=\"50%\"/>\n",
    "\n",
    "#### Methods & Constants\n",
    "1. Constructor: `Integer (int value)`: Constructs a new `Integer` object representing the specified `int` value.\n",
    "2. `Integer.MIN_VALUE` and `Integer.MAX_VALUE` returns the minimum/maximum value  that an `int` can hold. Going beyound these borders will lead to overflow.\n",
    "3. `int intValue()`: Returns the value of the `Integer` as an `int`\n",
    "\n",
    "Let's take a look at an example:\n"
   ]
  },
  {
   "cell_type": "code",
   "execution_count": null,
   "metadata": {
    "vscode": {
     "languageId": "java"
    }
   },
   "outputs": [],
   "source": [
    "public class Main {\n",
    "    public static void main(String[] args){\n",
    "        Integer num1 = new Integer(5);  // Constructor usage \n",
    "\n",
    "        System.out.println(\"num1 = \" + num1);\n",
    "        System.out.println(\"num2 = \" + num2);\n",
    "        System.out.println(\"Maximum value of Integer: \" + Integer.MAX_VALUE);\n",
    "        System.out.println(\"Minimum value of Integer: \" + Integer.MIN_VALUE);\n",
    "        System.out.println(\"num1 as int: \" + num1.intValue());\n",
    "    }\n",
    "}"
   ]
  },
  {
   "cell_type": "markdown",
   "metadata": {},
   "source": [
    "### Double Wrapper Class 📦\n",
    "\n",
    "The `Double` class wraps a value of the primitive type `double` in an object.\n",
    "\n",
    "#### Important Methods\n",
    "1. Constructor: `Double(double value)`: Constructs a new `Double` object representing the specified `double` value.\n",
    "2. `double doubleValue()`: Returns the value of the `Double` as a `double`\n",
    "\n",
    "Let's take a look at another example."
   ]
  },
  {
   "cell_type": "code",
   "execution_count": null,
   "metadata": {
    "vscode": {
     "languageId": "java"
    }
   },
   "outputs": [],
   "source": [
    "public class Main {\n",
    "    public static void main(String[] args){\n",
    "        Double pi = new Double(3.14159); \n",
    "        Double e = Double.valueOf(2.71828);\n",
    "\n",
    "        System.out.println(\"pi = \" + pi);\n",
    "        System.out.println(\"e = \" + e);\n",
    "        System.out.println(\"pi as double: \" + pi.doubleValue());\n",
    "    }\n",
    "}"
   ]
  },
  {
   "cell_type": "markdown",
   "metadata": {},
   "source": [
    "## Autoboxing and Unboxing\n",
    "\n",
    "Java gives you automatic conversion between primitive types and their respective wrapper classes\n",
    "\n",
    "- Autoboxing: Primitive Value ➡️ Wrapper Object\n",
    "- Unboxing: Wrapper object ➡️ Primitive Value\n",
    "\n",
    "![model](https://i.postimg.cc/tgH0s2JS/Screenshot-2024-09-24-002832.png)\n",
    "\n",
    "Let's take a look at a short example."
   ]
  },
  {
   "cell_type": "code",
   "execution_count": 1,
   "metadata": {
    "vscode": {
     "languageId": "java"
    }
   },
   "outputs": [
    {
     "name": "stdout",
     "output_type": "stream",
     "text": [
      "📦wrapped = 100\n",
      "unwrapped = 100\n"
     ]
    }
   ],
   "source": [
    "public class BoxDemo {\n",
    "    public static void demo(String[] args) {\n",
    "        Integer wrapped = 100;  // Autoboxing\n",
    "        int unwrapped = wrapped;  // Unboxing\n",
    "\n",
    "        System.out.println(\"📦wrapped = \" + wrapped);\n",
    "        System.out.println(\"unwrapped = \" + unwrapped);\n",
    "    }\n",
    "}\n",
    "\n",
    "BoxDemo.demo(new String[]{});"
   ]
  },
  {
   "cell_type": "markdown",
   "metadata": {},
   "source": [
    "# Practice Exercises\n",
    "\n",
    "Fix the code below!"
   ]
  },
  {
   "cell_type": "code",
   "execution_count": 3,
   "metadata": {
    "vscode": {
     "languageId": "java"
    }
   },
   "outputs": [
    {
     "name": "stdout",
     "output_type": "stream",
     "text": [
      "Sum of integers: 125\n",
      "Product of doubles: 8.53452\n"
     ]
    }
   ],
   "source": [
    "public class Main {\n",
    "    public static void main(String[] args) {\n",
    "        int num1 = 50;\n",
    "        Integer num2 = new Integer(75);\n",
    "        \n",
    "        Double d1 = 3.14;\n",
    "        double d2 = new Double(2.718);\n",
    "        \n",
    "        System.out.println(\"Sum of integers: \" + (num1 + num2));\n",
    "        System.out.println(\"Product of doubles: \" + (d1 * d2));\n",
    "    }\n",
    "}\n",
    "\n",
    "Main.main(null);"
   ]
  },
  {
   "cell_type": "markdown",
   "metadata": {},
   "source": [
    "Now, complete the exercise below without any extra help."
   ]
  },
  {
   "cell_type": "code",
   "execution_count": 5,
   "metadata": {
    "vscode": {
     "languageId": "java"
    }
   },
   "outputs": [
    {
     "name": "stdout",
     "output_type": "stream",
     "text": [
      "50\n",
      "30.0\n"
     ]
    }
   ],
   "source": [
    "public class Main {\n",
    "    public static void main(String[] args) {\n",
    "        // TODO: Create an Integer object using autoboxing\n",
    "        Integer aadit = 50;\n",
    "\n",
    "        // TODO: Create a double primitive from a Double object (unboxing)\n",
    "        double gotit = new Double(30.0);\n",
    "        \n",
    "        // TODO: Print both values\n",
    "        System.out.println(aadit);\n",
    "        System.out.println(gotit);\n",
    "    }\n",
    "}\n",
    "Main.main(null);"
   ]
  },
  {
   "cell_type": "markdown",
   "metadata": {},
   "source": [
    "# 2.9: Using the Math Module 📝\n",
    "\n",
    "Have you ever been stuck in your Calculus or Physics class because your calculator died?\n",
    "\n",
    "<img src=\"https://i.postimg.cc/KzJCsbNw/Screenshot-2024-09-24-002841.png\" alt=\"mathmeme\" width=\"55%\"/>\n",
    "\n",
    "You can use the Java math module to help you 😁!\n",
    "\n",
    "## Introduction\n",
    "The Java math module is a package that comes with `java.lang.Math`. All it's methods are static.\n",
    "\n",
    "This is more straightforward than wrapper classes, but still important to know.\n",
    "\n",
    "## Useful Methods\n",
    "1. `static int abs(int x)`: Returns the absolute value of an `int`\n",
    "2. `static double abs(double x)`: Returns the absolute value of a `double`\n",
    "3. `static double pow(double base, double exponent)`: Returns the value of the first value raised to the power of the second value\n",
    "4. `static double sqrt(double x)`: Returns the (positive) square root of a double value\n",
    "5. `static double random()`: Returns a `double` greater than or equal to 0.0 and less than 1.0\n",
    "\n",
    "Let's take a look at a code example using all of these!"
   ]
  },
  {
   "cell_type": "code",
   "execution_count": 7,
   "metadata": {
    "vscode": {
     "languageId": "java"
    }
   },
   "outputs": [],
   "source": [
    "public class Main {\n",
    "    public static void main(String[] args) {\n",
    "        // abs() method for int and double\n",
    "        int intNumber = -5;\n",
    "        double doubleNumber = -10.5;\n",
    "        System.out.println(\"Absolute value of \" + intNumber + \" is: \" + Math.abs(intNumber));\n",
    "        System.out.println(\"Absolute value of \" + doubleNumber + \" is: \" + Math.abs(doubleNumber));\n",
    "\n",
    "        // pow() method\n",
    "        double base = 2.0;\n",
    "        double exponent = 3.0;\n",
    "        System.out.println(base + \" raised to the power of \" + exponent + \" is: \" + Math.pow(base, exponent));\n",
    "\n",
    "        // sqrt() method\n",
    "        double number = 16.0;\n",
    "        System.out.println(\"Square root of \" + number + \" is: \" + Math.sqrt(number));\n",
    "\n",
    "        // random() method\n",
    "        System.out.println(\"A random number between 0.0 and 1.0: \" + Math.random());\n",
    "    }\n",
    "}"
   ]
  },
  {
   "cell_type": "markdown",
   "metadata": {},
   "source": [
    "## PRACTICE\n",
    "\n",
    "Let's try a practice! Fill in the function below, `randomize`, following the steps below:\n",
    "\n",
    "1. Take the absolute value of both numbers\n",
    "2. Return a random number in between those two numbers, inclusive"
   ]
  },
  {
   "cell_type": "code",
   "execution_count": 10,
   "metadata": {
    "vscode": {
     "languageId": "java"
    }
   },
   "outputs": [
    {
     "name": "stdout",
     "output_type": "stream",
     "text": [
      "8.852660853595536\n"
     ]
    }
   ],
   "source": [
    "import java.util.*;\n",
    "public class Main {\n",
    "    public static double randomize(double a, double b){\n",
    "        // TODO: Enter code here! Don't forget a return statement\n",
    "        return Math.random() * (b-a+1) + a;\n",
    "    }\n",
    "    public static void main(String[] args) {\n",
    "       Scanner scan = new Scanner(System.in);\n",
    "       double a = scan.nextDouble();\n",
    "       double b = scan.nextDouble();\n",
    "       a = Math.abs(a);\n",
    "       b = Math.abs(b);\n",
    "\n",
    "       System.out.println(randomize(a, b));\n",
    "    }\n",
    "}\n",
    "Main.main(null);\n",
    "// The error will be returned below in the code cell"
   ]
  }
 ],
 "metadata": {
  "kernelspec": {
   "display_name": "Java",
   "language": "java",
   "name": "java"
  },
  "language_info": {
   "codemirror_mode": "java",
   "file_extension": ".jshell",
   "mimetype": "text/x-java-source",
   "name": "Java",
   "pygments_lexer": "java",
   "version": "17.0.12+7-Ubuntu-1ubuntu222.04"
  }
 },
 "nbformat": 4,
 "nbformat_minor": 2
}
