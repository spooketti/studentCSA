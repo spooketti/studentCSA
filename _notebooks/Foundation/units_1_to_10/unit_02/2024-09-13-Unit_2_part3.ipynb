{
 "cells": [
  {
   "cell_type": "markdown",
   "metadata": {
    "vscode": {
     "languageId": "raw"
    }
   },
   "source": [
    "---\n",
    "layout: post\n",
    "title: Unit 2 — String Objects\n",
    "description: An explanation of how String objects work.\n",
    "type: collab\n",
    "toc: true\n",
    "permalink: /csa/unit2/period3/part3\n",
    "comments: true\n",
    "author: Aadit Mathur, Eric Yu, Shuban Pal, Rahul Verma\n",
    "---"
   ]
  },
  {
   "cell_type": "markdown",
   "metadata": {},
   "source": [
    "<style>\n",
    "    .unitHold\n",
    "    {\n",
    "    position: fixed;\n",
    "    top: 64px;\n",
    "    width: 100%;\n",
    "    height: 43px;\n",
    "    background-color: #353543;\n",
    "    left: 0px;\n",
    "    display: flex;\n",
    "    flex-direction: row;\n",
    "    flex-wrap: nowrap;\n",
    "    justify-content: space-evenly;\n",
    "    align-items: center;\n",
    "    }\n",
    "\n",
    "    .unitHold a\n",
    "    {\n",
    "    text-decoration: none;\n",
    "    color: #fabe28;\n",
    "    border-left: #fabe28 6px double;\n",
    "    border-right: #fabe28 6px double;\n",
    "    height: 100%;\n",
    "    display: flex;\n",
    "    align-items: center;\n",
    "    justify-content: center;\n",
    "    transition:all 1s;\n",
    "    }\n",
    "\n",
    "    .unitHold a:hover\n",
    "    {\n",
    "        padding-left:5px;\n",
    "        padding-right:5px;\n",
    "    }\n",
    "\n",
    "\n",
    "</style>\n",
    "\n",
    "<div class=\"unitHold\">\n",
    "<a href=\"{{site.baseurl}}/csa/unit2/period3/home\">Using Objects Home</a>\n",
    "<a href=\"{{site.baseurl}}/csa/unit2/period3/part1\">Objects & Void Methods</a>\n",
    "<a href=\"{{site.baseurl}}/csa/unit2/period3/part2\">Methods</a>\n",
    "<a href=\"{{site.baseurl}}/csa/unit2/period3/part3\">String Objects</a>\n",
    "<a href=\"{{site.baseurl}}/csa/unit2/period3/part4\">Wrapper Classes & Math Module</a>\n",
    "<a href=\"{{site.baseurl}}/csa/unit2/period3/homework\">Review</a>\n",
    "</div>"
   ]
  },
  {
   "cell_type": "markdown",
   "metadata": {
    "vscode": {
     "languageId": "plaintext"
    }
   },
   "source": [
    "# String Objects - Concatenation, Literals, and More\n",
    "\n",
    "## Creating Strings:"
   ]
  },
  {
   "cell_type": "code",
   "execution_count": null,
   "metadata": {
    "vscode": {
     "languageId": "java"
    }
   },
   "outputs": [],
   "source": [
    "public class StringObjects\n",
    "{\n",
    "    public static void main(String[] args)\n",
    "    {\n",
    "        String name1 = \"Skibidi\";\n",
    "        String name2 = new String(\"Sigma\");\n",
    "        String name3 = new String(name1);\n",
    "\n",
    "        System.out.println(name1);\n",
    "        System.out.println(name2);\n",
    "        System.out.println(name3);\n",
    "    }\n",
    "}\n",
    "\n",
    "StringObjects.main(null);"
   ]
  },
  {
   "cell_type": "markdown",
   "metadata": {},
   "source": [
    "---\n",
    "\n",
    "## 📝 Three Ways to Create a String: Let's Break it Down!\n",
    "\n",
    "---\n",
    "\n",
    "#### **First Option:**\n"
   ]
  },
  {
   "cell_type": "code",
   "execution_count": null,
   "metadata": {
    "vscode": {
     "languageId": "java"
    }
   },
   "outputs": [],
   "source": [
    "String name1 = \"Skibidi\";"
   ]
  },
  {
   "cell_type": "markdown",
   "metadata": {},
   "source": [
    "This method of creating a string consists of the following three parts: \n",
    "\n",
    "1. <span style=\"color:orange;\">Class Name —</span> Defines the type of variable (String, Integer, Array, etc.)\n",
    "\n",
    "2. <span style=\"color:orange;\">Variable Name —</span> The name assigned to the variable. This is how the variable will be referenced in the rest of the program. \n",
    "\n",
    "3. <span style=\"color:orange;\">String Value —</span> The actual value you'd like to assign to the variable\n",
    "\n",
    "---"
   ]
  },
  {
   "cell_type": "markdown",
   "metadata": {},
   "source": [
    "### **Second Option:**"
   ]
  },
  {
   "cell_type": "code",
   "execution_count": null,
   "metadata": {
    "vscode": {
     "languageId": "java"
    }
   },
   "outputs": [],
   "source": [
    "String name2 = new String(\"Sigma\");"
   ]
  },
  {
   "cell_type": "markdown",
   "metadata": {},
   "source": [
    "\n",
    "This method is similar to option one but consists of a few extra components (indicated in pink coloring below):\n",
    "\n",
    "1. <span style=\"color:orange;\">Class Name —</span> Again, defines the type of the variable (String, Integers, Arrays, etc.)\n",
    "\n",
    "2. <span style=\"color:orange;\"> Variable Name —</span> How the variable will be referenced in the rest of the program\n",
    "\n",
    "3. <span style=\"color:pink;\">new — </span> A Java keyword which is used to explicitly instantiate a new object.\n",
    "\n",
    "4. <span style=\"color:pink;\">Class Name (Part 2) —</span> The 'new' key word must be followed with the class name of the object being created (in this case, String)\n",
    "\n",
    "5. <span style=\"color:orange;\">String Value —</span> The actual value you'd like to assign to this variable\n"
   ]
  },
  {
   "cell_type": "markdown",
   "metadata": {},
   "source": [
    "---\n",
    "\n",
    "### **Third Option:**"
   ]
  },
  {
   "cell_type": "code",
   "execution_count": null,
   "metadata": {
    "vscode": {
     "languageId": "java"
    }
   },
   "outputs": [],
   "source": [
    "String string1 = \"YIPEE\"\n",
    "String name2 = new String(string1);"
   ]
  },
  {
   "cell_type": "markdown",
   "metadata": {},
   "source": [
    "Finally, a string can be created using the value of another, existing string object. The components needed for this declaration are as follows:\n",
    "\n",
    "1. <span style=\"color:orange;\">Class Name —</span> Again, type of variable will it be? (String, Integers, Arrays, etc.)\n",
    "\n",
    "2. <span style=\"color:orange;\">Variable Name —</span> The name of the variable\n",
    "\n",
    "3. <span style=\"color:orange;\">Java Keyword 'new' —</span> The new keyword in Java is used to explicitly create a new object.\n",
    "\n",
    "4. <span style=\"color:orange;\">Class Name (Part 2) —</span> As indicated before, the new keyword has to be followed with the class name of the object being created.\n",
    "\n",
    "5. <span style=\"color:pink;\">Variable Name (Part 2) —</span> The name of the variable whose value you want the new variable to take on. \n"
   ]
  },
  {
   "cell_type": "markdown",
   "metadata": {},
   "source": [
    "**Importantly**, regardless of which creation method you choose, String objects are immutable. This means that every time you attempt to change the value of some string variable, under the hood, a *new* string object is created with the updated value, and your variable name is used to reference this new object."
   ]
  },
  {
   "cell_type": "markdown",
   "metadata": {},
   "source": [
    "## 📝 What is concatentation?\n",
    "\n",
    "Concatenation allows you to add strings together.\n",
    "\n",
    "There are two primary ways to combine strings. Assume `a`, `b`, and `c` are previously created string variables. \n",
    "\n",
    "- `a += b` : Appends the string value stored in `b` to the string value stored in `a`. In the processs, `a` is redefined to equal this newly appended string. \n",
    "- `c = a + b` : Joins the string values of `a` and `b` together, but doesn't redefine either `a` or `b`. Instead, the resultant value is assigned to `c`. "
   ]
  },
  {
   "cell_type": "code",
   "execution_count": null,
   "metadata": {
    "vscode": {
     "languageId": "java"
    }
   },
   "outputs": [],
   "source": [
    "public class Concatentations\n",
    "{\n",
    "    public static void main(String[] args)\n",
    "    {\n",
    "        String name1 = \"Skibidi\";\n",
    "        String name2 = new String(\"Sigma\");\n",
    "        String name3 = new String(name1);\n",
    "\n",
    "        int number1 = 1;\n",
    "        int number2 = 2;\n",
    "        String combine = name1 + \"\" + number1;\n",
    "        name1 += number2; \n",
    "\n",
    "        System.out.println(name1); \n",
    "        System.out.println(combine);\n",
    "    }\n",
    "}\n",
    "\n",
    "Concatentations.main(null);"
   ]
  },
  {
   "cell_type": "markdown",
   "metadata": {},
   "source": [
    "Let's do an exercise for practice! What will the following code segment print?"
   ]
  },
  {
   "cell_type": "code",
   "execution_count": null,
   "metadata": {
    "vscode": {
     "languageId": "java"
    }
   },
   "outputs": [],
   "source": [
    "public class Concatentations\n",
    "{\n",
    "    public static void main(String[] args)\n",
    "    {\n",
    "        String name1 = \"Skibidi\";\n",
    "        String name2 = new String(\"Sigma\");\n",
    "        String name3 = new String(name1);\n",
    "\n",
    "        name1 += \"!!\"\n",
    "        String mystery = name1 + name2 + name3\n",
    "\n",
    "        System.out.println(mystery);\n",
    "    }\n",
    "}\n",
    "\n",
    "// Uncomment the following method call to run the code and check your answer!\n",
    "// Concatentations.main(null);"
   ]
  },
  {
   "cell_type": "markdown",
   "metadata": {},
   "source": [
    "## 📝 Backwards and Forwards Slashes\n",
    "\n",
    "In Java, there are a few characters with pre-assigned purposes. Backwards and forwards slashes are such characters, and they can be easy to mix up, so it's important to pay close attention to them!\n",
    "\n",
    "`\\`: Starts escape sequences. In other words, it can allow you to add special characters to your string.\n",
    "`/`: Usually used as a division operator. Two forward slashes indicate the beginning of a comment.\n",
    "\n",
    "\n",
    "### Backslashes\n",
    "\n",
    "`\\\"` = \"Escapes\" the quote, allowing for you to have quotes within a string without ending the string\n",
    "\n",
    "`\\\\` = Indicates a literal backslash in the string.\n",
    "\n",
    "`\\n` = A newline character\n",
    "\n"
   ]
  },
  {
   "cell_type": "code",
   "execution_count": null,
   "metadata": {
    "vscode": {
     "languageId": "java"
    }
   },
   "outputs": [],
   "source": [
    "public class SlashDemo {\n",
    "    public static void main(String[] args) {\n",
    "        // Using backslashes for escape sequences:\n",
    "        System.out.println(\"This is a double quote: \\\"\");  // Prints a double quote\n",
    "        System.out.println(\"This is a backslash: \\\\\");     // Prints a backslash\n",
    "        System.out.println(\"This prints on a new line:\\nSecond line starts here\");\n",
    "\n",
    "        // Using forward slashes for division and comments:\n",
    "        int a = 10;\n",
    "        int b = 2;\n",
    "        int result = a / b; // Division operation\n",
    "\n",
    "        System.out.println(\"Result of 10 / 2 is: \" + result); // Prints the result of the division\n",
    "    }\n",
    "}\n",
    "\n",
    "SlashDemo.main(null)"
   ]
  },
  {
   "cell_type": "markdown",
   "metadata": {},
   "source": [
    "## 📝 String methods\n",
    "The following are some important methods that can be used on String objects. \n",
    "\n",
    "| Method                                  | Description                                                                                             |\n",
    "|-----------------------------------------|---------------------------------------------------------------------------------------------------------|\n",
    "| `String(String str)`                    | Creates a new `String` object with the same sequence of characters as the specified string `str`                |\n",
    "| `int length()`                          | The number of characters in the `String` object                                                    |\n",
    "| `String substring(int from, int to)`    | Returns the substring beginning at index from and ending at index to - 1. In other words, the start is inclusive and the end is exclusive. |\n",
    "| `String substring(int from)`            | Returns `substring(from, length())`                                                                      |\n",
    "| `int indexOf(String str)`               | Returns the index of the first occurrence of `str`; returns `-1` if not found                            |\n",
    "| `boolean equals(String other)`          | Returns `true` if the calling string is equal to `other`; returns `false` otherwise                                    |\n",
    "| `int compareTo(String other)`           | Returns a value < 0 if the calling string is alphanumerically less than other; returns 0 if it is equal to other; returns a value > 0 if it is alphanumerically greater than other. |\n",
    "\n"
   ]
  },
  {
   "cell_type": "code",
   "execution_count": null,
   "metadata": {
    "vscode": {
     "languageId": "java"
    }
   },
   "outputs": [],
   "source": [
    "public class StringMethodDemo {\n",
    "    public static void main(String[] args) {\n",
    "        String wordOfDay = new String(\"Skibidi\");\n",
    "\n",
    "        System.out.print(\"Characters in the word 'Skibidi' — \");\n",
    "        System.out.println(wordOfDay.length());\n",
    "\n",
    "        System.out.println(\"\\nThis should return -1, since there is no n in the string\");\n",
    "        System.out.println(wordOfDay.lastIndexOf(\"n\"));\n",
    "\n",
    "        System.out.println(\"\\nThis should display the index of d (5)\");\n",
    "        System.out.println(wordOfDay.lastIndexOf(\"d\"));\n",
    "        \n",
    "        // NOTE: Start is inclusive, end is exclusive\n",
    "        System.out.println(\"\\nThis should display the letters between the 2nd and 6th\");\n",
    "        System.out.println(word.substring(2,6));\n",
    "    }\n",
    "}\n",
    "\n",
    "StringMethodDemo.main(null)"
   ]
  },
  {
   "cell_type": "markdown",
   "metadata": {
    "vscode": {
     "languageId": "java"
    }
   },
   "source": [
    "**Brief Aside**: Substring, like python slicing has the first index be inclusive and the last one be exclusive.\n",
    "\n",
    "<img src=\"https://i.postimg.cc/ZRr8yZBG/substring.png\" alt=\"substring\" width=\"40%\"/>"
   ]
  },
  {
   "cell_type": "markdown",
   "metadata": {
    "vscode": {
     "languageId": "java"
    }
   },
   "source": [
    "Quick, let's do an exercise for practice! What will the following code segment return?"
   ]
  },
  {
   "cell_type": "code",
   "execution_count": null,
   "metadata": {
    "vscode": {
     "languageId": "java"
    }
   },
   "outputs": [],
   "source": [
    "public class SubstringOfDemo {\n",
    "    public static void main(String[] args) {\n",
    "        String word = new String(\"skibidi\");\n",
    "\n",
    "        System.out.println(\"\\nWhat is printed if we only pass one parameter into the substring method?\");\n",
    "        System.out.println(word.substring(2));\n",
    "    }\n",
    "}\n",
    "\n",
    "// Uncomment the following method call to run the code and check your answer!\n",
    "// SubstringOfDemo.main(null)"
   ]
  },
  {
   "cell_type": "code",
   "execution_count": null,
   "metadata": {
    "vscode": {
     "languageId": "java"
    }
   },
   "outputs": [],
   "source": [
    "public class CompareToDemo {\n",
    "    public static void main(String[] args) {\n",
    "        String word = new String(\"skibidi\");\n",
    "        String word2 = new String(\"skibidi1\");\n",
    "        String word3 = new String(\"skibidi\");\n",
    "\n",
    "        System.out.println(\"\\nIf word is < word2, a negative value will be printed. If they are equal, 0 will be printed, and if word > word2, a positive value is printed\");\n",
    "        System.out.println(word.compareTo(word2));\n",
    "\n",
    "        System.out.println(\"\\nComparison between word and word3\");\n",
    "        System.out.println(word.compareTo(word3));\n",
    "    }\n",
    "}\n",
    "\n",
    "CompareToDemo.main(null)"
   ]
  },
  {
   "cell_type": "code",
   "execution_count": null,
   "metadata": {
    "vscode": {
     "languageId": "java"
    }
   },
   "outputs": [],
   "source": [
    "public class EqualToDemo {\n",
    "    public static void main(String[] args) {\n",
    "        String word = new String(\"skibidi\");\n",
    "        String word2 = new String(\"skibidi1\");\n",
    "        String word3 = new String(\"skibidi\");\n",
    "\n",
    "        System.out.println(\"\\nThis displays if word1 = word2, if false it returns false, if true it returns true\");\n",
    "        System.out.println(word.equals((word2)));\n",
    "\n",
    "        System.out.println(\"\\nThis displays if word1 = word3, if false it returns false, if true it returns true\");\n",
    "        System.out.println(word.equals((word3)));\n",
    "    }\n",
    "}\n",
    "\n",
    "EqualToDemo.main(null)"
   ]
  }
 ],
 "metadata": {
  "kernelspec": {
   "display_name": "Java",
   "language": "java",
   "name": "java"
  },
  "language_info": {
   "codemirror_mode": "java",
   "file_extension": ".jshell",
   "mimetype": "text/x-java-source",
   "name": "Java",
   "pygments_lexer": "java",
   "version": "11.0.24+8-post-Ubuntu-1ubuntu322.04"
  }
 },
 "nbformat": 4,
 "nbformat_minor": 2
}
