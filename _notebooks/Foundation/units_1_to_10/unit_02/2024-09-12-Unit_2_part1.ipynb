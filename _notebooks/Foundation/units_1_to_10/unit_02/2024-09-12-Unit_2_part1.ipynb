{
 "cells": [
  {
   "cell_type": "markdown",
   "metadata": {
    "vscode": {
     "languageId": "raw"
    }
   },
   "source": [
    "---\n",
    "layout: post\n",
    "title: Unit 2 — Objects & Void Methods\n",
    "description: An introduction to objects and void methods.\n",
    "type: collab\n",
    "toc: true\n",
    "permalink: /csa/unit2/period3/part1\n",
    "comments: true\n",
    "author: Aadit Mathur, Eric Yu, Shuban Pal, Rahul Verma\n",
    "---"
   ]
  },
  {
   "cell_type": "markdown",
   "metadata": {},
   "source": [
    "# Objects"
   ]
  },
  {
   "cell_type": "markdown",
   "metadata": {},
   "source": [
    "## What are objects?\n",
    "\n",
    "Brief note: The text here is useful for following along and reviewing after the lesson. However, for the best experience, I'd recommend you simply pay attention to the presentation and run the code as you go.\n",
    "\n",
    "Let's say we have a book. This book has several properties, such as a title, author, and publisher. We can represent this with a few variables in our code.\n",
    "\n",
    "<img src=\"https://github.com/user-attachments/assets/68ca47b5-caa1-40c1-9e9b-394577621769\" alt=\"image\" width=\"70%\" />\n"
   ]
  },
  {
   "cell_type": "code",
   "execution_count": 1,
   "metadata": {
    "vscode": {
     "languageId": "java"
    }
   },
   "outputs": [
    {
     "name": "stdout",
     "output_type": "stream",
     "text": [
      "The title of the book is The Guide to Failure\n",
      "The author of the book is Aadit Mathur\n",
      "The publisher of the book is The Crusaders of FreeBSD\n"
     ]
    }
   ],
   "source": [
    "class Main {\n",
    "    public static void main(String[] args) {\n",
    "        String title = \"The Guide to Failure\";\n",
    "        String author = \"Aadit Mathur\";\n",
    "        String publisher = \"The Crusaders of FreeBSD\";\n",
    "        String content = \"...\";\n",
    "\n",
    "        System.out.println(\"The title of the book is \" + title);\n",
    "        System.out.println(\"The author of the book is \" + author);\n",
    "        System.out.println(\"The publisher of the book is \" + publisher);\n",
    "    }\n",
    "}\n",
    "\n",
    "Main.main(new String[]{});"
   ]
  },
  {
   "cell_type": "markdown",
   "metadata": {},
   "source": [
    "That's all well and dandy, until we want to add another book."
   ]
  },
  {
   "cell_type": "code",
   "execution_count": 2,
   "metadata": {
    "vscode": {
     "languageId": "java"
    }
   },
   "outputs": [
    {
     "name": "stdout",
     "output_type": "stream",
     "text": [
      "The title of the book is The Guide to Failure\n",
      "The author of The Guide to Failure is Aadit Mathur\n",
      "The publisher of The Guide to Failure is The Crusaders of FreeBSD\n",
      "The title of the book is The Tragedy of Mr. Mortensen, Teacher of A101\n",
      "The author of The Tragedy of Mr. Mortensen, Teacher of A101 is Shuban Pal\n",
      "The publisher of The Tragedy of Mr. Mortensen, Teacher of A101 is The Crusaders of FreeBSD\n"
     ]
    }
   ],
   "source": [
    "class Main {\n",
    "    public static void main(String[] args) {\n",
    "        String book1_title = \"The Guide to Failure\";\n",
    "        String book1_author = \"Aadit Mathur\";\n",
    "        String book1_publisher = \"The Crusaders of FreeBSD\";\n",
    "        String book1_content = \"...\"; // placeholder\n",
    "\n",
    "        System.out.println(\"The title of the book is \" + book1_title);\n",
    "        System.out.println(\"The author of \" + book1_title + \" is \" + book1_author);\n",
    "        System.out.println(\"The publisher of \" + book1_title + \" is \" + book1_publisher);\n",
    "\n",
    "        String book2_title = \"The Tragedy of Mr. Mortensen, Teacher of A101\";\n",
    "        String book2_author = \"Shuban Pal\";\n",
    "        String book2_publisher = \"The Crusaders of FreeBSD\";\n",
    "        String book2_content = \"...\";\n",
    "\n",
    "        System.out.println(\"The title of the book is \" + book2_title);\n",
    "        System.out.println(\"The author of \" + book2_title + \" is \" + book2_author);\n",
    "        System.out.println(\"The publisher of \" + book2_title + \" is \" + book2_publisher);\n",
    "    }\n",
    "}\n",
    "\n",
    "Main.main(new String[]{});"
   ]
  },
  {
   "cell_type": "markdown",
   "metadata": {},
   "source": [
    "Within a second, our simple program has turned into a mess. Also, although we named our variables in a wway that allows us to see that theyre related, it would be nice if we could group these attributes together.\n",
    "\n",
    "### Introducing... classes! ✨\n",
    "Classes are a way for us to logically group these attributes and behaviors together. 😋"
   ]
  },
  {
   "cell_type": "code",
   "execution_count": 3,
   "metadata": {
    "vscode": {
     "languageId": "java"
    }
   },
   "outputs": [
    {
     "name": "stdout",
     "output_type": "stream",
     "text": [
      "The title of the book is The Guide to Failure\n",
      "The author of The Guide to Failure is Aadit Mathur\n",
      "The publisher of The Guide to Failure is Crusaders of FreeBSD\n",
      "The title of the book is The Tragedy of Mr. Mortensen, Teacher of A101\n",
      "The author of The Tragedy of Mr. Mortensen, Teacher of A101 is Shuban Pal\n",
      "The publisher of The Tragedy of Mr. Mortensen, Teacher of A101 is Crusaders of FreeBSD\n"
     ]
    }
   ],
   "source": [
    "class Book {\n",
    "    public String title;\n",
    "    public String author;\n",
    "    public String publisher;\n",
    "    public String content;\n",
    "    public int pages;\n",
    "\n",
    "    public Book(String title, String author, String publisher, String content, int pages) {\n",
    "        this.title = title;\n",
    "        this.author = author;\n",
    "        this.publisher = publisher;\n",
    "        this.content = content;\n",
    "        this.pages = pages;\n",
    "    }\n",
    "\n",
    "    public Book(String title, String author, String publisher, String content) {\n",
    "        this.title = title;\n",
    "        this.author = author;\n",
    "        this.publisher = publisher;\n",
    "        this.content = content;\n",
    "        this.pages = 0;\n",
    "    }\n",
    "}\n",
    "\n",
    "class Main {\n",
    "    public static void main(String[] args) {\n",
    "        Book book1 = new Book(\"The Guide to Failure\", \"Aadit Mathur\", \"Crusaders of FreeBSD\", \"...\", 50);\n",
    "        \n",
    "        System.out.println(\"The title of the book is \" + book1.title);\n",
    "        System.out.println(\"The author of \" + book1.title + \" is \" + book1.author);\n",
    "        System.out.println(\"The publisher of \" + book1.title + \" is \" + book1.publisher);\n",
    "        \n",
    "        Book book2 = new Book(\n",
    "            \"The Tragedy of Mr. Mortensen, Teacher of A101\",\n",
    "            \"Shuban Pal\",\n",
    "            \"Crusaders of FreeBSD\",\n",
    "            \"...\"\n",
    "        );\n",
    "\n",
    "        System.out.println(\"The title of the book is \" + book2.title);\n",
    "        System.out.println(\"The author of \" + book2.title + \" is \" + book2.author);\n",
    "        System.out.println(\"The publisher of \" + book2.title + \" is \" + book2.publisher);\n",
    "    }\n",
    "}\n",
    "\n",
    "Main.main(new String[]{});"
   ]
  },
  {
   "cell_type": "markdown",
   "metadata": {},
   "source": [
    "There are a few things to note here:\n",
    "- **Classes as Blueprints**: The class, Book, acts as a blueprint for creating objects, such as our book, \"The Guide to Failure\"\n",
    "- **Objects**: These are different `Book`s made using our \"blueprint\"\n",
    "  - Each of these books (i.e. the things made using our class) are usually called \"instances\" of the class\n",
    "- **Types**: The `Book` class is a type that can be used like something such as a `String`\n",
    "- **The `new` Keyword**: This allows us to create an object of type `Book`\n",
    "- **Constructors**: When we make a `new Book()`, the arguments passed in are matched to the correct constructor, a special function which creates a new instance\n",
    "- **Class-wide variables**: These variables can be accessed with the dot operator\n",
    "- **Dot operator**: Allows us to access class variables\n",
    "- **The `this` Keyword**: Allows us to access class variables from inside the class\n",
    "\n",
    "As you can see, classes allows us to create repeated objects without wasting so many lines of code! In the grand scheme of software development, this greatly helps simplify our code. Even if right now it may seem useless, it is extremely important in the long run.\n",
    "\n",
    "![image](https://github.com/user-attachments/assets/c1b8a119-2ed3-408c-81ec-b4124c3e8cff)"
   ]
  },
  {
   "cell_type": "markdown",
   "metadata": {},
   "source": [
    "## PRACTICE: Objects\n",
    "Now, we'll see if you understand the concept of classes and objects.\n",
    "\n",
    "Try and create a class in the following code space to represent a dog."
   ]
  },
  {
   "cell_type": "code",
   "execution_count": 6,
   "metadata": {
    "vscode": {
     "languageId": "java"
    }
   },
   "outputs": [
    {
     "name": "stdout",
     "output_type": "stream",
     "text": [
      "Woof!😋\n"
     ]
    }
   ],
   "source": [
    "class Dog {\n",
    "    String name;\n",
    "    String breed;\n",
    "    int age;\n",
    "    public Dog(String name, String breed, int age)\n",
    "    {\n",
    "        this.name = name;\n",
    "        this.breed = breed;\n",
    "        this.age = age;\n",
    "    }\n",
    "\n",
    "    public void bark()\n",
    "    {\n",
    "        System.out.println(\"Woof!😋\");\n",
    "    }\n",
    "}\n",
    "\n",
    "public class Main {\n",
    "    public static void main(String[] args) {\n",
    "        Dog myDog = new Dog(\"Shelby\", \"Golden Retriever\", 5); // name, breed, age\n",
    "        myDog.bark(); // should print \"Woof!\"\n",
    "    }\n",
    "}\n",
    "\n",
    "Main.main(null);"
   ]
  },
  {
   "cell_type": "markdown",
   "metadata": {},
   "source": [
    "### Non-Void Methods\n",
    "Objects can group attributes together, but they can also group together behaviors. Let's see an example."
   ]
  },
  {
   "cell_type": "code",
   "execution_count": null,
   "metadata": {
    "vscode": {
     "languageId": "java"
    }
   },
   "outputs": [],
   "source": [
    "class Book {\n",
    "    public String title;\n",
    "    public String author;\n",
    "    public String publisher;\n",
    "    public String content;\n",
    "    public int pages;\n",
    "\n",
    "    public Book(String title, String author, String publisher, String content, int pages) {\n",
    "        this.title = title;\n",
    "        this.author = author;\n",
    "        this.publisher = publisher;\n",
    "        this.content = content;\n",
    "        this.pages = pages;\n",
    "    }\n",
    "\n",
    "    public Book(String title, String author, String publisher, String content) {\n",
    "        this.title = title;\n",
    "        this.author = author;\n",
    "        this.publisher = publisher;\n",
    "        this.content = content;\n",
    "        this.pages = 0;\n",
    "    }\n",
    "\n",
    "    public void printInformation() {\n",
    "        System.out.println(\"The book \\\"\" + this.title + \"\\\", written by \" + this.author + \" and published by \" + this.publisher + \" has \" + Integer.toString(this.pages) + \" pages.\");\n",
    "    }\n",
    "    \n",
    "    public void printPage(int page, int charactersPerPage) {\n",
    "        page -= 1;\n",
    "        String pageContent = this.content.substring(charactersPerPage * page, charactersPerPage * (page+1));\n",
    "        System.out.println(pageContent);\n",
    "    }\n",
    "}\n",
    "\n",
    "public class Main {\n",
    "    public static void main(String[] args) {\n",
    "        Book myFaveBook = new Book(\n",
    "            \"The Tragedy of Mr. Mortensen, Teacher of A101\",\n",
    "            \"Shuban Pal\",\n",
    "            \"Crusaders of FreeBSD\",\n",
    "            \"A child is a monkey in its mother's eye. Yet that child dreams of going on a wild journey, far beyond her reach.\"\n",
    "            5\n",
    "        );\n",
    "        \n",
    "        myFaveBook.printPage(1, 18);\n",
    "        myFaveBook.printInformation();\n",
    "    }\n",
    "}"
   ]
  },
  {
   "cell_type": "markdown",
   "metadata": {},
   "source": [
    "Here, we were able to make our code much more readable. In addition, if we have more books in the future, it's likely that we'll reuse these functions. 😮 💨 😮 💨 😮 💨\n",
    "\n",
    "\n",
    "**Void Methods** are functions in classes which have no return value.\n",
    "\n",
    "❓ What is a return value? That's a surprise tool we'll save for later! 🤫🤫🤫"
   ]
  },
  {
   "cell_type": "markdown",
   "metadata": {},
   "source": [
    "<style>\n",
    "    .unitHold\n",
    "    {\n",
    "    position: fixed;\n",
    "    top: 64px;\n",
    "    width: 100%;\n",
    "    height: 43px;\n",
    "    background-color: #353543;\n",
    "    left: 0px;\n",
    "    display: flex;\n",
    "    flex-direction: row;\n",
    "    flex-wrap: nowrap;\n",
    "    justify-content: space-evenly;\n",
    "    align-items: center;\n",
    "    }\n",
    "\n",
    "    .unitHold a\n",
    "    {\n",
    "    text-decoration: none;\n",
    "    color: #fabe28;\n",
    "    border-left: #fabe28 6px double;\n",
    "    border-right: #fabe28 6px double;\n",
    "    height: 100%;\n",
    "    display: flex;\n",
    "    align-items: center;\n",
    "    justify-content: center;\n",
    "    transition:all 1s;\n",
    "    }\n",
    "\n",
    "    .unitHold a:hover\n",
    "    {\n",
    "        padding-left:5px;\n",
    "        padding-right:5px;\n",
    "    }\n",
    "\n",
    "\n",
    "</style>\n",
    "\n",
    "<div class=\"unitHold\">\n",
    "<a href=\"{{site.baseurl}}/csa/unit2/period3/home\">Using Objects Home</a>\n",
    "<a href=\"{{site.baseurl}}/csa/unit2/period3/part1\">Objects & Void Methods</a>\n",
    "<a href=\"{{site.baseurl}}/csa/unit2/period3/part2\">Methods</a>\n",
    "<a href=\"{{site.baseurl}}/csa/unit2/period3/part3\">String Objects</a>\n",
    "<a href=\"{{site.baseurl}}/csa/unit2/period3/part4\">Wrapper Classes & Math Module</a>\n",
    "<a href=\"{{site.baseurl}}/csa/unit2/period3/homework\">Review</a>\n",
    "</div>"
   ]
  }
 ],
 "metadata": {
  "kernelspec": {
   "display_name": "Java",
   "language": "java",
   "name": "java"
  },
  "language_info": {
   "codemirror_mode": "java",
   "file_extension": ".jshell",
   "mimetype": "text/x-java-source",
   "name": "Java",
   "pygments_lexer": "java",
   "version": "17.0.12+7-Ubuntu-1ubuntu222.04"
  }
 },
 "nbformat": 4,
 "nbformat_minor": 2
}
