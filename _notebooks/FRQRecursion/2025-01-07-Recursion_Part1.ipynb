{
 "cells": [
  {
   "cell_type": "markdown",
   "metadata": {},
   "source": [
    "---\n",
    "layout: post\n",
    "title: Recursion (P3) - Part 1\n",
    "type: ccc\n",
    "menu: nav/recursion_p3.html\n",
    "permalink: /recursion/p3_recursion_part1\n",
    "courses: { csa: {week: 11} }\n",
    "toc: true\n",
    "comments: true\n",
    "---"
   ]
  },
  {
   "cell_type": "markdown",
   "metadata": {},
   "source": [
    "# Recursion"
   ]
  },
  {
   "cell_type": "markdown",
   "metadata": {},
   "source": [
    "## 10.1) Recursion\n",
    "\n",
    "\n",
    "### Skill 5.A (10.1.1)\n",
    "\n",
    "**What is recursion?**\n",
    "\n",
    "Recursion is when a function calls itself directly or indirectly over and over again in order to solve a problem. It is very much like a loop, with few differences.\n",
    "\n",
    "\n",
    "![image11](https://github.com/user-attachments/assets/3f7bc781-fb4c-4666-9ac3-ca2531f71cb7)\n",
    "\n",
    "**Void Recursive Method**\n",
    "\n",
    "Demonstration in code"
   ]
  },
  {
   "cell_type": "code",
   "execution_count": 1,
   "metadata": {
    "vscode": {
     "languageId": "java"
    }
   },
   "outputs": [],
   "source": [
    "public static void simpleRecur(int n) {\n",
    "    System.out.println(n);\n",
    "    \n",
    "    if (n > 2) {\n",
    "        simpleRecur (n-1);\n",
    "    }\n",
    "}"
   ]
  },
  {
   "cell_type": "markdown",
   "metadata": {},
   "source": [
    "A **void** recursive method simply means that the recursion will **not return any values.**\n",
    "\n",
    "You can see here that simpleRecur calls itself, and will continue to call itself until n is less than or equal to 2, this condition is called the **base case**.\n",
    "\n",
    "The College Board will require you to be able to trace out the steps that are taken in a recursive program, so let’s trace out what the program does in a table.\n",
    "\n",
    "**Demonstration**\n",
    "\n",
    "Before looking at the table, let’s do a small demonstration with 4 volunteers:\n",
    "\n",
    "\n",
    "\n",
    "* Person 1: Take in the number and give to the next person\n",
    "* Person 2: Write the number given to them on the whiteboard\n",
    "* Person 3: Check whether the number is greater than 2\n",
    "* Person 4: Subtract one from the number to give to person one\n",
    "\n",
    "| <br>Call Stack<br>    | Variable trace for call<br>                                                                                                                                                        |\n",
    "|-----------------------|------------------------------------------------------------------------------------------------------------------------------------------------------------------------------------|\n",
    "| simpleRecur(4)<br>    | n = 4<br><br>The function will first print out 4, because of the print statement.<br><br>Since 4>2, the function will call itself again with the parameter n-1 (which is 3)<br>    |\n",
    "| simpleRecur(3)<br>    | n = 3<br><br>The function will first print out 3, because of the print statement.<br><br>Since 3>2, the function will call itself again with the parameter n-1 (which is 2)<br>    |\n",
    "| simpleRecur(2)<br>    | n = 2<br><br>The function will first print out 2, because of the print statement.<br><br>Since 2=2, the function will NOT call itself again and stop here.<br>                     |\n",
    "\n",
    "\n",
    "\n",
    "\n",
    "### **Infinite Recursion**\n",
    "\n",
    "Infinite recursions are exactly what they sound like, recursions but they go on infinitely."
   ]
  },
  {
   "cell_type": "code",
   "execution_count": null,
   "metadata": {
    "vscode": {
     "languageId": "java"
    }
   },
   "outputs": [],
   "source": [
    "public static void infRecur(int n)\n",
    "{\n",
    "    System.out.println(n);\n",
    "    \n",
    "    if (n>2) {\n",
    "        simpleRecur2 (n+1); \n",
    "    }\n",
    "}"
   ]
  },
  {
   "cell_type": "markdown",
   "metadata": {},
   "source": [
    "| <br><br>Call Stack<br>    | Variable trace for call<br>                                                                                                                                           |\n",
    "|---------------------------|-----------------------------------------------------------------------------------------------------------------------------------------------------------------------|\n",
    "| infRecur(3)<br>           | n = 3<br><br>The function will print out 3 first<br><br>Since 3>2, the function will be called again with the parameter n+1 (4).<br>                                  |\n",
    "| infRecur(4)<br>           | n = 4<br><br>The function will print out 4 first<br><br>Since 3>2, the function will be called again with the parameter n+1 (5).<br>                                  |\n",
    "| infRecur(5)<br>           | n = 5<br><br>The function will first print out 5, because of the print statement.<br><br> \\<br>You can see the pattern, this recursion will continue forever. <br>    |\n",
    "\n",
    "\n",
    "\n",
    "### **Non Void Methods**\n",
    "\n",
    "Non Void Recursive Methods are recursions, but a value is returned."
   ]
  },
  {
   "cell_type": "code",
   "execution_count": null,
   "metadata": {
    "vscode": {
     "languageId": "java"
    }
   },
   "outputs": [],
   "source": [
    "public static int simpleRecur3 (int n)\n",
    "{\n",
    "    if (n==0) {\n",
    "        return 0;\n",
    "    }\n",
    "    \n",
    "    return n + simpleRecur3 (n/2);\n",
    "}"
   ]
  },
  {
   "cell_type": "markdown",
   "metadata": {},
   "source": [
    "| <br><br>Call Stack<br>    | Variable trace for call<br>                                                                                                                              |\n",
    "|---------------------------|----------------------------------------------------------------------------------------------------------------------------------------------------------|\n",
    "| simpleRecur3(4)<br>       | n = 4<br><br>n is not zero, therefore it moves onto the next line.<br><br>the function will return 4 + (the next steps).<br>                             |\n",
    "| simpleRecur3(2)<br>       | n = 2<br><br>n is not zero, therefore it moves onto the next line.<br><br>the function will return 2 + (the next steps).<br>                             |\n",
    "| simpleRecur3(1)<br>       | n = 2<br><br>n is not zero, therefore it moves onto the next line.<br><br>the function will return 2 + (the next steps).<br>                             |\n",
    "| simpleRecur3(0)<br>       | (note the numbers are int, java treats ½ as zero)<br><br>n = 0<br><br>n is zero, therefore the function will not be called again and return zero.<br>    |\n",
    "| Summing together:<br>     | 4 + simpleRecur3(2) + simpleRecur3(1) + simpleRecur3(0) <br><br>4 + 2 + 1 + 0 = 7<br>                                                                    |\n",
    "\n",
    "\n",
    "\n",
    "Knowing how to trace a recursion and its inner workings is one of the skills required for AP exams."
   ]
  },
  {
   "cell_type": "markdown",
   "metadata": {},
   "source": [
    "### Popcorn Hack 1 - Factorial\n",
    "\n",
    "<span style=\"text-decoration:underline;\">Introduction</span>\n",
    "\n",
    "Factorials are a common technique which may be easy to implement using recursion. This is due to their repetitive nature in terms of multiplication. Please complete the factorial method below. The comments in the code may help you out a bit.\n"
   ]
  },
  {
   "cell_type": "code",
   "execution_count": 3,
   "metadata": {
    "vscode": {
     "languageId": "java"
    }
   },
   "outputs": [
    {
     "name": "stdout",
     "output_type": "stream",
     "text": [
      "6\n"
     ]
    }
   ],
   "source": [
    "// 5! = 5 * 4! = 5 * (5 – 1)!\n",
    "// 4! = 4 * 3! = 4 * (4 – 1)!\n",
    "// ...\n",
    "// 1! = 1\n",
    "\n",
    "public static int factorial(int target) {\n",
    "\tif(target==1)\n",
    "\t{\n",
    "\t\treturn 1;\n",
    "\t}\n",
    "\treturn target*factorial(target-1);\n",
    "}\n",
    "\n",
    "System.out.println(factorial(3));"
   ]
  },
  {
   "cell_type": "markdown",
   "metadata": {},
   "source": [
    "### Skill 5.A (10.1.2)\n",
    "\n",
    "<span style=\"text-decoration:underline;\">Review from 10.1.1</span>\n",
    "\n",
    "\n",
    "\n",
    "* A recursive method is a method which calls itself\n",
    "\n",
    "<span style=\"text-decoration:underline;\">Anatomy of a Recursive Method (CON-2.0.2)</span>\n",
    "\n",
    "\n",
    "\n",
    "* A recursive method must have at least one base case and at least one recursive call\n",
    "    * What is a base case? A base case is a condition which breaks the recursive function\n",
    "    * It is ABSOLUTELY important to have a base case or else this happens\n",
    "    * [Recursion Moment](https://www.youtube.com/watch?v=3K3MMtoG8rY)\n",
    "    * ![image6](https://github.com/user-attachments/assets/44a9e7e2-cb15-428f-b2c9-c4d67450dbaa)\n",
    "    * Having two calls is also acceptable\n",
    "\n",
    "<span style=\"text-decoration:underline;\">Method Refresher (CON-2.0.3)</span>\n",
    "\n",
    "\n",
    "\n",
    "* Like every other method, recursive methods have their local variables and parameters. Local variables can be helpful when constructing a base method to exit out of the recursive method. Formal parameters are also needed.\n",
    "* A local variable is only accessible to the inside of a function\n",
    "* \n",
    "![image21](https://github.com/user-attachments/assets/1a954b43-0ff2-4e2b-a6cf-4c218564f877)\n",
    "\n",
    "<span style=\"text-decoration:underline;\">Parameters Capture the Progress of the Recursive Function (CON-2.0.4)</span>\n",
    "\n",
    "\n",
    "\n",
    "* Every parameter in a recursive system is sort of like a capture. It gives us the information we need to determine the next element in a sort of series of captures.\n",
    "* This stems from the definition of a method or function with its inputs and outputs.\n",
    "* Example: I want to make a program to reverse a string in Java. I can write down each call and slowly once the calls reach an end, I can start tracking the print statements BACKWARDS\n",
    "\n",
    "\n",
    "![image20](https://github.com/user-attachments/assets/32f52c25-73cb-4301-a48a-98587384b9a2)\n",
    "\n",
    "<span style=\"text-decoration:underline;\">Recursion and Iteration (CON-2.0.5)</span>\n",
    "\n",
    "\n",
    "\n",
    "* Every iterative approach has a recursive solution\n",
    "* Recursion is just another way of looping. In assembly, loops work through instructions such as `jmp `which in easy terms, jump to another line of code. This is how loops work. Just constant jumping. \n",
    "* There is another instruction called `ret `and another called `ret `which basically also jumps to other parts of the program. Because they are so similar to`jmp`, they can be used to solve the same problems."
   ]
  },
  {
   "cell_type": "markdown",
   "metadata": {},
   "source": [
    "### Popcorn Hack 2 - Recurse Through an Arrays\n",
    "\n",
    "<span style=\"text-decoration:underline;\">Introduction</span>\n",
    "\n",
    "Using your knowledge of local and global variables, create a recursive method which recurses through an array instead of iterating through it"
   ]
  },
  {
   "cell_type": "code",
   "execution_count": 8,
   "metadata": {
    "vscode": {
     "languageId": "java"
    }
   },
   "outputs": [
    {
     "name": "stdout",
     "output_type": "stream",
     "text": [
      "6\n"
     ]
    }
   ],
   "source": [
    "// Pro tip: Think of why the index is stored as a parameter\n",
    "// What are parameters usually used as?\n",
    "\n",
    "public static int sumArray(int[] arr, int index) { \n",
    "   if(index<=0)\n",
    "   {\n",
    "        return 0;\n",
    "   }\n",
    "   return sumArray(arr,index-1)+arr[index-1];\n",
    "} \n",
    "\n",
    "System.out.println(sumArray(new int[]{1,2,3},3));"
   ]
  }
 ],
 "metadata": {
  "kernelspec": {
   "display_name": "Java",
   "language": "java",
   "name": "java"
  },
  "language_info": {
   "codemirror_mode": "java",
   "file_extension": ".jshell",
   "mimetype": "text/x-java-source",
   "name": "Java",
   "pygments_lexer": "java",
   "version": "17.0.13+11-Ubuntu-2ubuntu122.04"
  }
 },
 "nbformat": 4,
 "nbformat_minor": 2
}
