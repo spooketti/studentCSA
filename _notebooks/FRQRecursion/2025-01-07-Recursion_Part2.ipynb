{
 "cells": [
  {
   "cell_type": "markdown",
   "metadata": {},
   "source": [
    "---\n",
    "layout: post\n",
    "title: Recursion (P3) - Part 2\n",
    "categories: [AP CSA]\n",
    "menu: nav/recursion_p3.html\n",
    "permalink: /recursion/p3_recursion_part2\n",
    "toc: false\n",
    "comments: true\n",
    "---"
   ]
  },
  {
   "cell_type": "markdown",
   "metadata": {},
   "source": [
    "# Recursion"
   ]
  },
  {
   "cell_type": "markdown",
   "metadata": {},
   "source": [
    "## 10.2) Recursive Searching and Sorting\n",
    "\n",
    "\n",
    "### Skill 2.D (10.2.1) - Binary Search\n",
    "\n",
    "<span style=\"text-decoration:underline;\">Learning Objective</span>\n",
    "\n",
    "\n",
    "\n",
    "* CON-2.P\n",
    "    * Apply recursive search algorithms to information in `String`, 1D array, or `ArrayList` objects.\n",
    "\n",
    "<span style=\"text-decoration:underline;\">Essential Knowledge</span>\n",
    "\n",
    "\n",
    "\n",
    "* CON-2.P.1\n",
    "    * Data must be sorted in sequential order so you can use binary search\n",
    "* CON-2.P.2\n",
    "    * The binary search algorithm starts at the middle of a sorted array (or `ArrayList`) and eliminates half of the array (or `ArrayList`) in each iteration until the desired value is found or all elements have been eliminated.\n",
    "* CON-2.P.3\n",
    "    * Binary search can be more efficient than sequential/linear search.\n",
    "        * **Important**: any search algorithms apart from linear and binary search will not be tested on the AP Exam and are out of the scope for AP CSA.\n",
    "* CON-2.P.4\n",
    "    * The binary search algorithm can be written iteratively or recursively.\n",
    "\n",
    "**Binary search w/recursion:**\n",
    "\n",
    "\n",
    "\n",
    "* Draft a binary search algorithm with recursion (**cannot use loops**)\n",
    "    * What do we do if `lowPosition` is greater than `highPosition`?\n",
    "    * What do we do if the middle value is less than `target`?\n",
    "    * What do we do if the middle value is greater than `target`?\n",
    "    * What do we do if the middle value is equal to `target`?\n"
   ]
  },
  {
   "cell_type": "code",
   "execution_count": null,
   "metadata": {
    "vscode": {
     "languageId": "java"
    }
   },
   "outputs": [],
   "source": [
    "// Binary search function to find the index of a target value in a sorted array using an iterative approach\n",
    "public static int binarySearch(int[] intArray, int lowPosition, int highPosition, int target) {\n",
    "    // Declare a variable to store the middle index of the current search range\n",
    "    int midPosition;\n",
    "\n",
    "    // Continue searching while the lower bound is less than or equal to the upper bound\n",
    "    while (lowPosition <= highPosition) {\n",
    "        // Calculate the middle index of the current search range\n",
    "        // (highPosition + lowPosition) / 2 could potentially overflow; a safer alternative is:\n",
    "        // midPosition = lowPosition + (highPosition - lowPosition) / 2;\n",
    "        midPosition = (highPosition + lowPosition) / 2;\n",
    "\n",
    "        // If the value at the middle index is less than the target, adjust the lower bound\n",
    "        if (intArray[midPosition] < target) {\n",
    "            lowPosition = midPosition + 1; // Narrow search to the upper half of the range\n",
    "        }\n",
    "        // If the value at the middle index is greater than the target, adjust the upper bound\n",
    "        else if (intArray[midPosition] > target) {\n",
    "            highPosition = midPosition - 1; // Narrow search to the lower half of the range\n",
    "        }\n",
    "        // If the value at the middle index matches the target, return the index\n",
    "        else {\n",
    "            return midPosition; // Target found\n",
    "        }\n",
    "    }\n",
    "\n",
    "    // If the loop ends without finding the target, return -1 to indicate it was not found\n",
    "    return -1;\n",
    "}"
   ]
  },
  {
   "cell_type": "code",
   "execution_count": null,
   "metadata": {
    "vscode": {
     "languageId": "java"
    }
   },
   "outputs": [],
   "source": [
    "public static int binarySearchRecursive(int[] intArray, int lowPosition, int highPosition, int target) {\n",
    "    int midPosition;\n",
    "\n",
    "    if (lowPosition > highPosition) {\n",
    "        // could not find the target\n",
    "        return -1;\n",
    "    }\n",
    "    else {\n",
    "        midPosition = (lowPosition + highPosition) / 2;\n",
    "\n",
    "        if (intArray[midPosition] < target) {\n",
    "            // if the mid value is less than the target, the target is in the upper half of the list\n",
    "           return binarySearchRecursive(int intArray, midPosition + 1, highPosition, target);\n",
    "        }\n",
    "\n",
    "        else if (intArray[midPosition] > target) {\n",
    "        // if the mid value is greater than the target, the target is in the lower half of the list\n",
    "           return binarySearchRecursive(int intArray, lowPosition, midPosition - 1, target);\n",
    "        }\n",
    "\n",
    "        else if (intArray[midPosition] == target) {\n",
    "            // target was found; return its location\n",
    "            return midPosition;\n",
    "        }\n",
    "    }\n",
    "}"
   ]
  },
  {
   "cell_type": "markdown",
   "metadata": {},
   "source": [
    "* `intArray = [0, 2, 4, 6, 8, 10, 12, 14, 16, 18, 20, 22, 24, 26, 28, 30, 32, 34, 36, 38, 40]`\n",
    "* Call 1: `binarySearchRecursive(intArray, 0, 20, 24)`\n",
    "    * `midPosition = (0 + 20) / 2 = 10`\n",
    "    * `intArray[midPosition] = intArray[10] = 20`\n",
    "        * `intArray[midPosition] &lt; 24 (intArray[midPosition] &lt; target)`\n",
    "    * Our middle value (20) was less than the target (24), so we can eliminate the bottom half of the list. We call the function again but this time, we only look at the top half (we set the lower bounds to the middlePosition + 1)\n",
    "* Call 2: `binarySearchRecursive(intArray, 11, 20, 24)`\n",
    "    * Now, we only look at the values [`24, 26, 28, 30, 32, 34, 36, 38, 40]`.\n",
    "    * `midPosition = (11 + 20) / 2 = 15`\n",
    "    * `intArray[midPosition] = intArray[15] = 30`\n",
    "        * `intArray[midPosition] > 30 (intArray[midPosition] > target)`\n",
    "    * The new middle value of 30 is greater than 24, so we can eliminate the top half of the list. When we call the function again, we only change the upper bound to ignore values greater than or equal to 30.\n",
    "* Call 3: `binarySearchRecursive(intArray, 11, 14, 24)`\n",
    "    * Now, we only look at the values [`24, 26, 28]`.\n",
    "    * `midPosition = (11 + 14) / 2 = 12`\n",
    "    * `intArray[midPosition] = intArray[12] = 24`\n",
    "        * `intArray[midPosition] = target`\n",
    "    * We found that the target value of 24 is located in the 12th position. We return the midPosition (12) as the final answer."
   ]
  },
  {
   "cell_type": "markdown",
   "metadata": {},
   "source": [
    "### Popcorn Hack 3 - Selection sort\n",
    "\n",
    "<span style=\"text-decoration:underline;\">Introduction</span>\n",
    "\n",
    "Using your knowledge of local variables, global variables, and parameters, please create a recursive method which sorts an array through selection."
   ]
  },
  {
   "cell_type": "code",
   "execution_count": 13,
   "metadata": {
    "vscode": {
     "languageId": "java"
    }
   },
   "outputs": [
    {
     "name": "stdout",
     "output_type": "stream",
     "text": [
      "1\n",
      "2\n",
      "2\n",
      "3\n",
      "3\n",
      "3\n",
      "5\n",
      "8\n"
     ]
    }
   ],
   "source": [
    "// Pro tip: Set max to the first element\n",
    "//no\n",
    "\n",
    "public static int[] selectionSort(int[] arr, int index) { \n",
    "     int n = arr.length;\n",
    "        if (index == n) {\n",
    "            return arr;\n",
    "        }\n",
    "\n",
    "        int minIndex = index;\n",
    "        for (int j = index + 1; j < n; j++) {\n",
    "            if (arr[j] < arr[minIndex]) {\n",
    "                minIndex = j;\n",
    "            }\n",
    "        }\n",
    "\n",
    "        int temp = arr[minIndex];\n",
    "        arr[minIndex] = arr[index];\n",
    "        arr[index] = temp;\n",
    "\n",
    "        return selectionSort(arr, index + 1);\n",
    "}\n",
    "int[] ss = selectionSort(new int[]{8,3,2,5,1,2,3,3},0);\n",
    "\n",
    "for(int i=0;i<ss.length;i++)\n",
    "{\n",
    "    System.out.println(ss[i]);\n",
    "}"
   ]
  },
  {
   "cell_type": "markdown",
   "metadata": {},
   "source": [
    "### Skill 2.C (10.2.2) - Merge Sort 😍\n",
    "\n",
    "<span style=\"text-decoration:underline;\">Learning Objective</span>\n",
    "\n",
    "\n",
    "\n",
    "* CON-2.Q\n",
    "    * Apply recursive algorithms to sort elements of array or `ArrayList` objects.\n",
    "\n",
    "<span style=\"text-decoration:underline;\">Essential Knowledge</span>\n",
    "\n",
    "\n",
    "\n",
    "* CON-2.Q.1\n",
    "    * Merge sort is a recursive sorting algorithm that can be used to sort elements in an array or `ArrayList`.\n",
    "\n",
    "**How it works:**\n"
   ]
  },
  {
   "cell_type": "markdown",
   "metadata": {},
   "source": [
    "| Image                                                                                                                                                                                                                                                                             | Description                                                                                                                                                                                                                                                                                                                                                                                                                                  |\n",
    "|-----------------------------------------------------------------------------------------------------------------------------------------------------------------------------------------------------------------------------------------------------------------------------------|----------------------------------------------------------------------------------------------------------------------------------------------------------------------------------------------------------------------------------------------------------------------------------------------------------------------------------------------------------------------------------------------------------------------------------------------|\n",
    "| ![Alt text](https://github.com/user-attachments/assets/7fea7706-a26b-4786-85c6-5fecc25f8c0d)                                                                                                                                                                                      | When you merge sort, you recursively call the sorting function. You first look at the left half of the list, then the right half, and then both. Remember: left, right, merge; left, right, merge…                                                                                                                                                                                                                                           |\n",
    "| ![Alt](https://github.com/user-attachments/assets/0003f629-0271-4802-a666-519566cd4891)                                                                                                                                                                                           | We first call the `mergeSort()` function on the entire list. Remember, we look at the left half first.  On the first call (at the bottom of the “tree”), the algorithm takes the left half of the list. It keeps going until there are no more halves left (it reached the end of the branch).                                                                                                                                               |\n",
    "| ![Alt](https://github.com/user-attachments/assets/c6079a93-9b97-4dd1-8643-a1b4129dfcfc) --- ![Alt](https://github.com/user-attachments/assets/66c061a1-4858-47bb-9a09-5d31869e1dd2)                                                                                              | When it reached the end of the branch (5), it would consider that call to be complete. It goes back and then considers the right branch (25). Again, it reached the end.   So to summarize what we did: if the array is the tree, we went to go find the end of the branches on the left side. In our case, we found the  ends to be 5 and 25. When we remerge, we will sort them. So in this case, 5 < 25 so that branch is already sorted. |\n",
    "| ![Alt](https://github.com/user-attachments/assets/2d58c5b6-5b3d-4f5a-bd41-78ed53e62d86) --- ![Alt](https://github.com/user-attachments/assets/86a26f47-3c7f-4cc2-9f84-349946940285) --- ![Alt](https://github.com/user-attachments/assets/9bb5b556-3297-47c5-bfc5-b49aea7dbae7) | We do the same thing but with the other branch. However, the numbers are out of order this time. When we merge the 8 branch and the -9 branch, we flip the numbers.                                                                                                                                                                                                                                                                          |\n",
    "| ![Alt](https://github.com/user-attachments/assets/ffe5bb7e-a62e-4e36-ba82-714d806a696d)                                                                                                                                                                                           | Now, we are back at the larger branch of the four numbers. When we merge, we are going to sort the numbers again.                                                                                                                                                                                                                                                                                                                            |\n",
    "| ![Alt](https://github.com/user-attachments/assets/cd91633e-b44b-4a62-91a0-3cd46eb0ce2c)                                                                                                                                                                                           | The numbers are sorted. You’ll see that on the parent branch (at the very bottom), the left half of the array is fully sorted. This whole process is repeated on the right half of the array. Eventually, the whole array will be sorted.                                                                                                                                                                                                    |"
   ]
  },
  {
   "cell_type": "markdown",
   "metadata": {},
   "source": [
    "### Skill 2.C (10.2.3) - Merge Sort: The Actual Code"
   ]
  },
  {
   "cell_type": "markdown",
   "metadata": {},
   "source": [
    "| Image                                                                                                                                                                                                                                                                                                                                                                  | Description                                                                                                                                                                                                                                                                                                                                                                                    |\n",
    "|------------------------------------------------------------------------------------------------------------------------------------------------------------------------------------------------------------------------------------------------------------------------------------------------------------------------------------------------------------------------|------------------------------------------------------------------------------------------------------------------------------------------------------------------------------------------------------------------------------------------------------------------------------------------------------------------------------------------------------------------------------------------------|\n",
    "| ![Alt](https://github.com/user-attachments/assets/fc2bea43-8a53-4ce0-a67e-ec1d328e0158)                                                                                                                                                                                                                                                                                | Variable to keep track of the left most value of the parent array  Variables to keep track of the left most value of the child arrays (the left and right halves)                                                                                                                                                                                                                              |\n",
    "| ![Alt](https://github.com/user-attachments/assets/fb497c34-69ae-4cf0-ab70-c397b0725200)                                                                                                                                                                                                                                                                                | We compare the value at index `0` and index `4`. Since 1 < 3, we replace the value at index `0` of the **parent array** with 1.                                                                                                                                                                                                                                                                |\n",
    "| ![Alt](https://github.com/user-attachments/assets/a855aa29-f0e4-4402-95cf-3cbe94d33ca9) --- ![Alt](https://github.com/user-attachments/assets/bee90e21-7da1-419e-9523-261d9e5dedde)                                                                                                                                                                                 | Increment the variable in the parent array and the **2nd** half (child array). Compare the values and then update the parent array.                                                                                                                                                                                                                                                            |\n",
    "| ![Alt](https://github.com/user-attachments/assets/92b026bf-b2cd-458e-a2c9-04210238ff00) ![Alt](https://github.com/user-attachments/assets/849d7f29-c9a1-43d2-be58-0ff870c5fa58) --- ![Alt](https://github.com/user-attachments/assets/d704e554-b7bc-4189-8020-4a3985b5e9b4) ![Alt](https://github.com/user-attachments/assets/10909ad2-171e-44f4-84a0-895a840f7cd4) | Everything done above is done again. Increment the variables, compare, and update.   However, this time, 3 < 5. Basically, a value from the left child array is less than the value from the right child array (the previous two iterations were the opposite). So, when we update the parent array, we will put 3 to replace 6. Then, we increment the variable for the **left** child array. |\n",
    "| ![Alt](https://github.com/user-attachments/assets/58089bff-381f-49e4-9c22-8803a22234dd)                                                                                                                                                                                                                                                                                | What happens when we reach the end? Here, you can see that the arrow is outside the array so we will get an out of bounds error. In this case, we would need to have a clause in the code that just tells us to copy over the 8 to the final element in the array.                                                                                                                             |"
   ]
  },
  {
   "cell_type": "code",
   "execution_count": 4,
   "metadata": {
    "vscode": {
     "languageId": "java"
    }
   },
   "outputs": [
    {
     "name": "stdout",
     "output_type": "stream",
     "text": [
      "Sorted Array:\n",
      "[-9, -2, 0, 2, 5, 8, 14, 25]\n"
     ]
    }
   ],
   "source": [
    "import java.util.Arrays;\n",
    "\n",
    "// Merge sort in Java\n",
    "\n",
    "class Main {\n",
    "\n",
    "    // Merge two sub arrays L and M into array\n",
    "    void merge(int array[], int p, int q, int r) {\n",
    "\n",
    "        int n1 = q - p + 1;\n",
    "        int n2 = r - q;\n",
    "\n",
    "        int L[] = new int[n1];\n",
    "        int M[] = new int[n2];\n",
    "\n",
    "        // fill the left and right array\n",
    "        for (int i = 0; i < n1; i++) {\n",
    "            L[i] = array[p + i];\n",
    "        }\n",
    "\n",
    "        for (int j = 0; j < n2; j++) {\n",
    "            M[j] = array[q + 1 + j];\n",
    "        }\n",
    "\n",
    "        // Maintain current index of sub-arrays and main array\n",
    "        int i, j, k;\n",
    "        i = 0;\n",
    "        j = 0;\n",
    "        k = p;\n",
    "\n",
    "        // Until we reach either end of either L or M, pick larger among\n",
    "        // elements L and M and place them in the correct position at A[p..r]\n",
    "        // for sorting in descending\n",
    "        // use if(L[i] >= <[j])\n",
    "        while (i < n1 && j < n2) {\n",
    "            if (L[i] <= M[j]) {\n",
    "                array[k] = L[i];\n",
    "                i++;\n",
    "            } \n",
    "            else {\n",
    "                array[k] = M[j];\n",
    "                j++;\n",
    "            }\n",
    "            \n",
    "            k++;\n",
    "        }\n",
    "\n",
    "        // When we run out of elements in either L or M,\n",
    "        // pick up the remaining elements and put in A[p..r]\n",
    "        while (i < n1) {\n",
    "            array[k] = L[i];\n",
    "            i++;\n",
    "            k++;\n",
    "        }\n",
    "\n",
    "        while (j < n2) {\n",
    "            array[k] = M[j];\n",
    "            j++;\n",
    "            k++;\n",
    "        }\n",
    "    }\n",
    "\n",
    "    // Divide the array into two sub arrays, sort them and merge them\n",
    "    void mergeSort(int array[], int left, int right) {\n",
    "        if (left < right) {\n",
    "\n",
    "            // m is the point where the array is divided into two sub arrays\n",
    "            int mid = (left + right) / 2;\n",
    "\n",
    "            // recursive call to each sub arrays\n",
    "            mergeSort(array, left, mid);\n",
    "            mergeSort(array, mid + 1, right);\n",
    "\n",
    "            // Merge the sorted sub arrays\n",
    "            merge(array, left, mid, right);\n",
    "        }\n",
    "    }\n",
    "\n",
    "    public static void main(String args[]) {\n",
    "\n",
    "        // created an unsorted array\n",
    "        int[] array = { 5, 25, 8, -9, 14, 0, -2, 2 };\n",
    "\n",
    "        Main ob = new Main();\n",
    "\n",
    "        // call the method mergeSort()\n",
    "        // pass argument: array, first index and last index\n",
    "        ob.mergeSort(array, 0, array.length - 1);\n",
    "\n",
    "        System.out.println(\"Sorted Array:\");\n",
    "        System.out.println(Arrays.toString(array));\n",
    "    }\n",
    "}\n",
    "\n",
    "Main.main(null);"
   ]
  },
  {
   "cell_type": "markdown",
   "metadata": {},
   "source": [
    "### Popcorn Hack 4 - 2D Array Recursion\n",
    "\n",
    "<span style=\"text-decoration:underline;\">Introduction</span>\n",
    "\n",
    "Using your knowledge of local variables, global variables, and parameters, please create a recursive method which sorts an array through selection. Remember you have your parameters to keep your indices, just keep track of your indices."
   ]
  },
  {
   "cell_type": "code",
   "execution_count": 15,
   "metadata": {
    "vscode": {
     "languageId": "java"
    }
   },
   "outputs": [
    {
     "name": "stdout",
     "output_type": "stream",
     "text": [
      "45\n"
     ]
    }
   ],
   "source": [
    "// Pro tip: Remember what we learned from the 1D Array Popcorn Hack\n",
    "\n",
    "public static int sumArray(int[][] arr, int x_index, int y_index) {\n",
    "    if (x_index >= arr.length) {\n",
    "        return 0;\n",
    "    }\n",
    "    if (y_index >= arr[x_index].length) {\n",
    "        return sumArray(arr, x_index + 1, 0);\n",
    "    }\n",
    "    return arr[x_index][y_index] + sumArray(arr, x_index, y_index + 1);\n",
    "}\n",
    "\n",
    "int[][] arr = {\n",
    "    {1, 2, 3},\n",
    "    {4, 5, 6},\n",
    "    {7, 8, 9}\n",
    "};\n",
    "\n",
    "int sum = sumArray(arr, 0, 0);\n",
    "\n",
    "System.out.println(sum);\n"
   ]
  },
  {
   "cell_type": "markdown",
   "metadata": {},
   "source": [
    "### Homework Hack - Recruiting Scrum Unpaid Interns for Mr. Mortensen!!!\n",
    "\n",
    "<span style=\"text-decoration:underline;\">Introduction</span>\n",
    "\n",
    "Mr. Mortensen needs help recruiting new Scrum Unpaid Interns to help integrate his project. However, he has a dilemna on who to recruit for this job!\n",
    "\n",
    "Luckily for you, you have three statistics for each student:\n",
    "\n",
    "\n",
    "\n",
    "* collab - How well they collaborate with fellow students!\n",
    "* iq - The intelligence level of the student (who wouldn’t want someone smart?)\n",
    "* efficiency - The efficiency at which they work at (time is of the essence to Mr. Mortensen!)\n",
    "\n",
    "Using these three statistics, please calculate a performance score for each student, and sort them into an array (using an algo of your choice!) in descending order. \n",
    "\n",
    "Here are the list of students with their statistics:\n",
    "\n",
    "\n",
    "| Student<br>    | collab<br>    | iq<br>    | efficiency <br>    |\n",
    "|----------------|---------------|-----------|--------------------|\n",
    "| srijus<br>     | 98<br>        | 95<br>    | 92<br>             |\n",
    "| aadit<br>      | 95<br>        | 97<br>    | 97<br>             |\n",
    "| erox<br>       | 90<br>        | 93<br>    | 89<br>             |\n",
    "| shubs<br>      | 92<br>        | 94<br>    | 90<br>             |\n",
    "| aashray<br>    | 50<br>        | 53<br>    | 59<br>             |\n"
   ]
  },
  {
   "cell_type": "code",
   "execution_count": 22,
   "metadata": {
    "vscode": {
     "languageId": "java"
    }
   },
   "outputs": [
    {
     "name": "stdout",
     "output_type": "stream",
     "text": [
      "student sort\n",
      "aadit - Performance Score: 578\n",
      "srijus - Performance Score: 573\n",
      "shubs - Performance Score: 556\n",
      "erox - Performance Score: 548\n",
      "aashray - Performance Score: 318\n",
      "total score: 2573\n"
     ]
    }
   ],
   "source": [
    "import java.util.Arrays;\n",
    "\n",
    "public class StudentRecruitment {\n",
    "    static class Student {\n",
    "        String name;\n",
    "        int efficiency, collab, iq;\n",
    "        int performanceScore;\n",
    "\n",
    "        public Student(String name, int efficiency, int collab, int iq) {\n",
    "            this.name = name;\n",
    "            this.efficiency = efficiency;\n",
    "            this.collab = collab;\n",
    "            this.iq = iq;\n",
    "            this.performanceScore = calculatePerformanceScore();\n",
    "        }\n",
    "\n",
    "        public int calculatePerformanceScore() {\n",
    "            return (collab * 2) + (iq * 3) + efficiency;\n",
    "        }\n",
    "\n",
    "        @Override\n",
    "        public String toString() {\n",
    "            return name + \" - Performance Score: \" + performanceScore;\n",
    "        }\n",
    "    }\n",
    "\n",
    "    void run()\n",
    "    {\n",
    "        Student[] students = {\n",
    "            new Student(\"srijus\", 92, 98, 95),\n",
    "            new Student(\"aadit\", 97, 95, 97),\n",
    "            new Student(\"erox\", 89, 90, 93),\n",
    "            new Student(\"shubs\", 90, 92, 94),\n",
    "            new Student(\"aashray\", 59, 50, 53)\n",
    "        };\n",
    "        Arrays.sort(students, (s1, s2) -> s2.performanceScore - s1.performanceScore);\n",
    "        System.out.println(\"student sort\");\n",
    "        for (Student student : students) {\n",
    "            System.out.println(student);\n",
    "        }\n",
    "        int[] performanceScores = Arrays.stream(students).mapToInt(s -> s.performanceScore).toArray();\n",
    "        int totalScore = sumArray(performanceScores, 0);\n",
    "        System.out.println(\"total score: \" + totalScore);\n",
    "    }\n",
    "\n",
    "    public static int sumArray(int[] arr, int index) {\n",
    "        if (index >= arr.length) {\n",
    "            return 0;\n",
    "        }\n",
    "        return arr[index] + sumArray(arr, index + 1);\n",
    "    }\n",
    "    \n",
    "}\n",
    "\n",
    "StudentRecruitment sr = new StudentRecruitment();\n",
    "sr.run();\n",
    "\n"
   ]
  }
 ],
 "metadata": {
  "kernelspec": {
   "display_name": "Java",
   "language": "java",
   "name": "java"
  },
  "language_info": {
   "codemirror_mode": "java",
   "file_extension": ".jshell",
   "mimetype": "text/x-java-source",
   "name": "Java",
   "pygments_lexer": "java",
   "version": "17.0.13+11-Ubuntu-2ubuntu122.04"
  }
 },
 "nbformat": 4,
 "nbformat_minor": 2
}
