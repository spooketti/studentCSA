{
 "cells": [
  {
   "cell_type": "raw",
   "metadata": {
    "vscode": {
     "languageId": "raw"
    }
   },
   "source": [
    "---\n",
    "layout: post\n",
    "toc: true\n",
    "title: JQuery/Thymeleaf Homework\n",
    "description: Homework for JQuery/Thymeleaf \n",
    "menu: nav/jquery-thymeleafp3.html\n",
    "author: Akhil, Tarun, Kayden\n",
    "permalink: /period3/jquery-thymeleaf-homework\n",
    "---"
   ]
  },
  {
   "cell_type": "markdown",
   "metadata": {},
   "source": [
    "# Question 1: jQuery - Dynamic Content Update\n",
    "\n",
    "Objective:\n",
    "Use jQuery to dynamically update a p element with user input from an input field when a button is clicked."
   ]
  },
  {
   "cell_type": "markdown",
   "metadata": {
    "vscode": {
     "languageId": "html"
    }
   },
   "source": [
    "<head>\n",
    "    <title>jQuery Dynamic Update</title>\n",
    "    <script src=\"https://code.jquery.com/jquery-3.6.0.min.js\"></script>\n",
    "</head>\n",
    "<body>\n",
    "<p id=\"skibidi\">output</p><span id=\"charcount\">0/24</span>\n",
    "<input type=\"search\" id=\"skib\" maxlength=\"24\"> \n",
    "<button id=\"skeeb\">update</button>\n",
    "<script>\n",
    "    $(document).ready(function() {\n",
    "            $(\"#skeeb\").click(function(){\n",
    "            console.log(\"what\")\n",
    "                $(\"#skibidi\").text($(\"#skib\").val()) \n",
    "            })\n",
    "\n",
    "            $(\"#skib\").on(\"propertychange change keyup paste input\", function() { \n",
    "            $(\"#skibidi\").text($(\"#skib\").val())  \n",
    "            $(\"#charcount\").text($(\"#skib\").val().length+\"/24\")  \n",
    "        }); \n",
    "        // TODO: Implement live text update\n",
    "        // TODO: Display character count\n",
    "        // TODO: Show warning if character limit is reached\n",
    "    });\n",
    "</script>"
   ]
  },
  {
   "cell_type": "markdown",
   "metadata": {},
   "source": [
    "# Question 2: Thymeleaf - Displaying a List of Items\n",
    "\n",
    "Objective:\n",
    "Use Thymeleaf to display a list of students stored in a backend Java controller.\n",
    "\n",
    "Info you may need:\n",
    "  - student.getStatus(): Returns True if the student passed, returns False if the student failed\n",
    "  - student.getName(): Returns student name\n",
    "  - student.getGrade(): Returns student grade"
   ]
  },
  {
   "cell_type": "markdown",
   "metadata": {
    "vscode": {
     "languageId": "html"
    }
   },
   "source": [
    "<title>Student List</title>\n",
    "<style>\n",
    "    .failed {\n",
    "        color: red;\n",
    "        font-weight: bold;\n",
    "    }\n",
    "</style>\n",
    "<h2>Student List</h2>\n",
    "<table border=\"1\">\n",
    "    <thead>\n",
    "        <tr>\n",
    "            <th>Name</th>\n",
    "            <th>Grade</th>\n",
    "            <th>Status</th>\n",
    "        </tr>\n",
    "    </thead>\n",
    "    <tbody>\n",
    "    <tr th:each=\"student : ${students}\">\n",
    "        <td th:text=\"${student.name}\"></td>\n",
    "        <td th:text=\"${student.grade}\"></td>\n",
    "        <td th:text=\"${student.status ? 'Passed' : 'Failed'}\" th:class=\"${!student.status} ? 'failed' : ''\"></td>\n",
    "    </tr>\n",
    "    </tbody>\n",
    "</table>"
   ]
  },
  {
   "cell_type": "markdown",
   "metadata": {},
   "source": [
    "# Bonus Question:\n",
    "\n",
    "Why is Thymeleaf better than creating a regular table? What are any potential pros and cons of Thymeleaf tables?\n",
    "\n",
    "Thymeleaf is better than regular tables for it's ability to dynamic data population and direct integration with Java.\n",
    "The positives Thymeleaf provides over a normal table would be it's power (logic with conditionals, etc,) but it's a negative as it's a lot more complex as not every table needs to have code logic and such. "
   ]
  }
 ],
 "metadata": {
  "kernelspec": {
   "display_name": "venv",
   "language": "python",
   "name": "python3"
  },
  "language_info": {
   "codemirror_mode": {
    "name": "ipython",
    "version": 3
   },
   "file_extension": ".py",
   "mimetype": "text/x-python",
   "name": "python",
   "nbconvert_exporter": "python",
   "pygments_lexer": "ipython3",
   "version": "3.12.5"
  },
  "orig_nbformat": 4
 },
 "nbformat": 4,
 "nbformat_minor": 2
}
